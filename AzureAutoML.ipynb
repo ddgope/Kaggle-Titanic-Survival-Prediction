{
 "cells": [
  {
   "cell_type": "markdown",
   "metadata": {},
   "source": [
    "# Titanic Survival Prediction Project using Azure AutoML"
   ]
  },
  {
   "cell_type": "code",
   "execution_count": 28,
   "metadata": {
    "gather": {
     "logged": 1612801499354
    },
    "jupyter": {
     "outputs_hidden": false,
     "source_hidden": false
    },
    "nteract": {
     "transient": {
      "deleting": false
     }
    }
   },
   "outputs": [
    {
     "name": "stdout",
     "output_type": "stream",
     "text": [
      "SDK version: 1.20.0\n"
     ]
    }
   ],
   "source": [
    "#Import libraries needed\n",
    "import logging\n",
    "import os\n",
    "import csv\n",
    "\n",
    "from matplotlib import pyplot as plt\n",
    "import numpy as np\n",
    "import pandas as pd\n",
    "from azureml.data.dataset_factory import TabularDatasetFactory\n",
    "import pkg_resources\n",
    "\n",
    "import azureml.core\n",
    "from azureml.core.experiment import Experiment\n",
    "from azureml.core.workspace import Workspace\n",
    "from azureml.train.automl import AutoMLConfig\n",
    "from azureml.core.dataset import Dataset\n",
    "\n",
    "from azureml.pipeline.steps import AutoMLStep\n",
    "\n",
    "# Check core SDK version number\n",
    "print(\"SDK version:\", azureml.core.VERSION)"
   ]
  },
  {
   "cell_type": "code",
   "execution_count": 29,
   "metadata": {
    "gather": {
     "logged": 1612801508011
    }
   },
   "outputs": [
    {
     "data": {
      "text/plain": [
       "Workspace.create(name='quick-starts-ws-139405', subscription_id='976ee174-3882-4721-b90a-b5fef6b72f24', resource_group='aml-quickstarts-139405')"
      ]
     },
     "execution_count": 29,
     "metadata": {},
     "output_type": "execute_result"
    }
   ],
   "source": [
    "#Testing the authentication using the Workspace method \"from_config\"\n",
    "Workspace.from_config()"
   ]
  },
  {
   "cell_type": "code",
   "execution_count": 30,
   "metadata": {
    "gather": {
     "logged": 1612801518339
    },
    "jupyter": {
     "outputs_hidden": false,
     "source_hidden": false
    },
    "nteract": {
     "transient": {
      "deleting": false
     }
    }
   },
   "outputs": [],
   "source": [
    "#create workspace\n",
    "ws = Workspace.from_config()"
   ]
  },
  {
   "cell_type": "code",
   "execution_count": 31,
   "metadata": {
    "gather": {
     "logged": 1612801525179
    }
   },
   "outputs": [
    {
     "data": {
      "text/html": [
       "<table style=\"width:100%\"><tr><th>Name</th><th>Workspace</th><th>Report Page</th><th>Docs Page</th></tr><tr><td>Titanic-AutoML-Experiment</td><td>quick-starts-ws-139405</td><td><a href=\"https://ml.azure.com/experiments/Titanic-AutoML-Experiment?wsid=/subscriptions/976ee174-3882-4721-b90a-b5fef6b72f24/resourcegroups/aml-quickstarts-139405/workspaces/quick-starts-ws-139405\" target=\"_blank\" rel=\"noopener\">Link to Azure Machine Learning studio</a></td><td><a href=\"https://docs.microsoft.com/en-us/python/api/azureml-core/azureml.core.experiment.Experiment?view=azure-ml-py\" target=\"_blank\" rel=\"noopener\">Link to Documentation</a></td></tr></table>"
      ],
      "text/plain": [
       "Experiment(Name: Titanic-AutoML-Experiment,\n",
       "Workspace: quick-starts-ws-139405)"
      ]
     },
     "execution_count": 31,
     "metadata": {},
     "output_type": "execute_result"
    }
   ],
   "source": [
    "# Create Experiment\n",
    "\n",
    "experiment_name = 'Titanic-AutoML-Experiment'\n",
    "project_folder = './Titanic-project'\n",
    "\n",
    "experiment = Experiment(ws, experiment_name)\n",
    "experiment"
   ]
  },
  {
   "cell_type": "markdown",
   "metadata": {},
   "source": [
    "## Dataset Overview:\n",
    "\n",
    "As you probably have guessed from the project title we will be working with the \"Titanic Dataset\" which is already a classical dataset to learn Machine Learning.\n",
    "\n",
    "The main task for this project will be to build a predictive model that answers the question: “what sorts of people were more likely to survive?” To answer the above stated question we are going to give the model different input variables such as age, type of cabin the passanger had, etc"
   ]
  },
  {
   "cell_type": "code",
   "execution_count": 32,
   "metadata": {
    "gather": {
     "logged": 1612801553547
    }
   },
   "outputs": [
    {
     "data": {
      "text/html": [
       "<div>\n",
       "<style scoped>\n",
       "    .dataframe tbody tr th:only-of-type {\n",
       "        vertical-align: middle;\n",
       "    }\n",
       "\n",
       "    .dataframe tbody tr th {\n",
       "        vertical-align: top;\n",
       "    }\n",
       "\n",
       "    .dataframe thead th {\n",
       "        text-align: right;\n",
       "    }\n",
       "</style>\n",
       "<table border=\"1\" class=\"dataframe\">\n",
       "  <thead>\n",
       "    <tr style=\"text-align: right;\">\n",
       "      <th></th>\n",
       "      <th>pclass</th>\n",
       "      <th>survived</th>\n",
       "      <th>sibsp</th>\n",
       "      <th>parch</th>\n",
       "      <th>fare</th>\n",
       "    </tr>\n",
       "  </thead>\n",
       "  <tbody>\n",
       "    <tr>\n",
       "      <th>count</th>\n",
       "      <td>1309.000000</td>\n",
       "      <td>1309.000000</td>\n",
       "      <td>1309.000000</td>\n",
       "      <td>1309.000000</td>\n",
       "      <td>1308.000000</td>\n",
       "    </tr>\n",
       "    <tr>\n",
       "      <th>mean</th>\n",
       "      <td>2.294882</td>\n",
       "      <td>0.381971</td>\n",
       "      <td>0.498854</td>\n",
       "      <td>0.385027</td>\n",
       "      <td>33.295479</td>\n",
       "    </tr>\n",
       "    <tr>\n",
       "      <th>std</th>\n",
       "      <td>0.837836</td>\n",
       "      <td>0.486055</td>\n",
       "      <td>1.041658</td>\n",
       "      <td>0.865560</td>\n",
       "      <td>51.758668</td>\n",
       "    </tr>\n",
       "    <tr>\n",
       "      <th>min</th>\n",
       "      <td>1.000000</td>\n",
       "      <td>0.000000</td>\n",
       "      <td>0.000000</td>\n",
       "      <td>0.000000</td>\n",
       "      <td>0.000000</td>\n",
       "    </tr>\n",
       "    <tr>\n",
       "      <th>25%</th>\n",
       "      <td>2.000000</td>\n",
       "      <td>0.000000</td>\n",
       "      <td>0.000000</td>\n",
       "      <td>0.000000</td>\n",
       "      <td>7.895800</td>\n",
       "    </tr>\n",
       "    <tr>\n",
       "      <th>50%</th>\n",
       "      <td>3.000000</td>\n",
       "      <td>0.000000</td>\n",
       "      <td>0.000000</td>\n",
       "      <td>0.000000</td>\n",
       "      <td>14.454200</td>\n",
       "    </tr>\n",
       "    <tr>\n",
       "      <th>75%</th>\n",
       "      <td>3.000000</td>\n",
       "      <td>1.000000</td>\n",
       "      <td>1.000000</td>\n",
       "      <td>0.000000</td>\n",
       "      <td>31.275000</td>\n",
       "    </tr>\n",
       "    <tr>\n",
       "      <th>max</th>\n",
       "      <td>3.000000</td>\n",
       "      <td>1.000000</td>\n",
       "      <td>8.000000</td>\n",
       "      <td>9.000000</td>\n",
       "      <td>512.329200</td>\n",
       "    </tr>\n",
       "  </tbody>\n",
       "</table>\n",
       "</div>"
      ],
      "text/plain": [
       "            pclass     survived        sibsp        parch         fare\n",
       "count  1309.000000  1309.000000  1309.000000  1309.000000  1308.000000\n",
       "mean      2.294882     0.381971     0.498854     0.385027    33.295479\n",
       "std       0.837836     0.486055     1.041658     0.865560    51.758668\n",
       "min       1.000000     0.000000     0.000000     0.000000     0.000000\n",
       "25%       2.000000     0.000000     0.000000     0.000000     7.895800\n",
       "50%       3.000000     0.000000     0.000000     0.000000    14.454200\n",
       "75%       3.000000     1.000000     1.000000     0.000000    31.275000\n",
       "max       3.000000     1.000000     8.000000     9.000000   512.329200"
      ]
     },
     "execution_count": 32,
     "metadata": {},
     "output_type": "execute_result"
    }
   ],
   "source": [
    "#Getting the dataset\n",
    "key = \"titanic_dataset\"\n",
    "description_text = \"Titanic Dataset for Model Deployment\"\n",
    "\n",
    "dataset = TabularDatasetFactory.from_delimited_files('https://www.openml.org/data/get_csv/16826755/phpMYEkMl')\n",
    "\n",
    "#Register Dataset and it will store into the Datasets->Registered Dataset\n",
    "dataset = dataset.register(workspace=ws,\n",
    "                           name=key,\n",
    "                           description=description_text)\n",
    "\n",
    "#Create a df out of the registered dataset\n",
    "dataset = dataset.to_pandas_dataframe()\n",
    "dataset.describe()"
   ]
  },
  {
   "cell_type": "code",
   "execution_count": 33,
   "metadata": {
    "gather": {
     "logged": 1612801571099
    }
   },
   "outputs": [
    {
     "name": "stdout",
     "output_type": "stream",
     "text": [
      "CreatingAmlCompute is getting created. Consider calling wait_for_completion() first\n",
      "\n",
      "AmlCompute is getting created. Consider calling wait_for_completion() first\n",
      "\n",
      "\n",
      "Succeeded\n",
      "AmlCompute wait for completion finished\n",
      "\n",
      "Minimum number of nodes requested have been provisioned\n"
     ]
    }
   ],
   "source": [
    "###Be sure to have the compute target setup\n",
    "from azureml.core.compute import AmlCompute\n",
    "from azureml.core.compute import ComputeTarget\n",
    "from azureml.core.compute_target import ComputeTargetException\n",
    "\n",
    "\n",
    "# Choose a name for your CPU cluster\n",
    "amlcompute_cluster_name = \"compute-cluster\"\n",
    "\n",
    "# Verify that cluster does not exist already\n",
    "try:\n",
    "    compute_target = ComputeTarget(workspace=ws, name=amlcompute_cluster_name)\n",
    "    print('Found existing cluster, use it.')\n",
    "except ComputeTargetException:\n",
    "    compute_config = AmlCompute.provisioning_configuration(vm_size='STANDARD_DS12_V2',# for GPU, use \"STANDARD_NC6\"\n",
    "                                                           #vm_priority = 'lowpriority', # optional\n",
    "                                                           #min_nodes=1,\n",
    "                                                           max_nodes=5)\n",
    "    compute_target = ComputeTarget.create(ws, amlcompute_cluster_name, compute_config)\n",
    "\n",
    "compute_target.wait_for_completion(show_output=True)\n"
   ]
  },
  {
   "cell_type": "markdown",
   "metadata": {},
   "source": [
    "### Clean Data:"
   ]
  },
  {
   "cell_type": "code",
   "execution_count": 34,
   "metadata": {
    "gather": {
     "logged": 1612801584314
    }
   },
   "outputs": [],
   "source": [
    "#Import your clean data function from the train.py file\n",
    "from train import clean_data"
   ]
  },
  {
   "cell_type": "code",
   "execution_count": 35,
   "metadata": {
    "gather": {
     "logged": 1612801590391
    }
   },
   "outputs": [],
   "source": [
    "#apply the function\n",
    "x, y = clean_data(dataset)"
   ]
  },
  {
   "cell_type": "code",
   "execution_count": 36,
   "metadata": {
    "gather": {
     "logged": 1612801597126
    }
   },
   "outputs": [],
   "source": [
    "#Scale the features\n",
    "from sklearn.preprocessing import StandardScaler"
   ]
  },
  {
   "cell_type": "code",
   "execution_count": 37,
   "metadata": {
    "gather": {
     "logged": 1612801601773
    }
   },
   "outputs": [],
   "source": [
    "# create scaler\n",
    "variables = x.columns.tolist()\n",
    "\n",
    "scaler = StandardScaler()\n",
    "scaler.fit(x[variables]) \n",
    "\n",
    "x = scaler.transform(x[variables])"
   ]
  },
  {
   "cell_type": "code",
   "execution_count": 38,
   "metadata": {
    "gather": {
     "logged": 1612801607638
    },
    "jupyter": {
     "outputs_hidden": false,
     "source_hidden": false
    },
    "nteract": {
     "transient": {
      "deleting": false
     }
    }
   },
   "outputs": [
    {
     "data": {
      "text/html": [
       "<div>\n",
       "<style scoped>\n",
       "    .dataframe tbody tr th:only-of-type {\n",
       "        vertical-align: middle;\n",
       "    }\n",
       "\n",
       "    .dataframe tbody tr th {\n",
       "        vertical-align: top;\n",
       "    }\n",
       "\n",
       "    .dataframe thead th {\n",
       "        text-align: right;\n",
       "    }\n",
       "</style>\n",
       "<table border=\"1\" class=\"dataframe\">\n",
       "  <thead>\n",
       "    <tr style=\"text-align: right;\">\n",
       "      <th></th>\n",
       "      <th>pclass</th>\n",
       "      <th>age</th>\n",
       "      <th>sibsp</th>\n",
       "      <th>parch</th>\n",
       "      <th>fare</th>\n",
       "      <th>age_NA</th>\n",
       "      <th>fare_NA</th>\n",
       "      <th>sex_male</th>\n",
       "      <th>cabin_Missing</th>\n",
       "      <th>cabin_Rare</th>\n",
       "      <th>embarked_Q</th>\n",
       "      <th>embarked_Rare</th>\n",
       "      <th>embarked_S</th>\n",
       "      <th>title_Mr</th>\n",
       "      <th>title_Mrs</th>\n",
       "      <th>title_Rare</th>\n",
       "    </tr>\n",
       "  </thead>\n",
       "  <tbody>\n",
       "    <tr>\n",
       "      <th>0</th>\n",
       "      <td>-1.546098</td>\n",
       "      <td>-0.039005</td>\n",
       "      <td>-0.479087</td>\n",
       "      <td>-0.445000</td>\n",
       "      <td>3.442584</td>\n",
       "      <td>-0.501432</td>\n",
       "      <td>-0.02765</td>\n",
       "      <td>-1.344995</td>\n",
       "      <td>-1.853992</td>\n",
       "      <td>2.347858</td>\n",
       "      <td>-0.32204</td>\n",
       "      <td>-0.039118</td>\n",
       "      <td>0.657394</td>\n",
       "      <td>-1.172894</td>\n",
       "      <td>-0.425920</td>\n",
       "      <td>-0.274947</td>\n",
       "    </tr>\n",
       "    <tr>\n",
       "      <th>1</th>\n",
       "      <td>-1.546098</td>\n",
       "      <td>-2.215952</td>\n",
       "      <td>0.481288</td>\n",
       "      <td>1.866526</td>\n",
       "      <td>2.286639</td>\n",
       "      <td>-0.501432</td>\n",
       "      <td>-0.02765</td>\n",
       "      <td>0.743497</td>\n",
       "      <td>-1.853992</td>\n",
       "      <td>-0.425920</td>\n",
       "      <td>-0.32204</td>\n",
       "      <td>-0.039118</td>\n",
       "      <td>0.657394</td>\n",
       "      <td>-1.172894</td>\n",
       "      <td>-0.425920</td>\n",
       "      <td>3.637068</td>\n",
       "    </tr>\n",
       "    <tr>\n",
       "      <th>2</th>\n",
       "      <td>-1.546098</td>\n",
       "      <td>-2.131977</td>\n",
       "      <td>0.481288</td>\n",
       "      <td>1.866526</td>\n",
       "      <td>2.286639</td>\n",
       "      <td>-0.501432</td>\n",
       "      <td>-0.02765</td>\n",
       "      <td>-1.344995</td>\n",
       "      <td>-1.853992</td>\n",
       "      <td>-0.425920</td>\n",
       "      <td>-0.32204</td>\n",
       "      <td>-0.039118</td>\n",
       "      <td>0.657394</td>\n",
       "      <td>-1.172894</td>\n",
       "      <td>-0.425920</td>\n",
       "      <td>-0.274947</td>\n",
       "    </tr>\n",
       "    <tr>\n",
       "      <th>3</th>\n",
       "      <td>-1.546098</td>\n",
       "      <td>0.038512</td>\n",
       "      <td>0.481288</td>\n",
       "      <td>1.866526</td>\n",
       "      <td>2.286639</td>\n",
       "      <td>-0.501432</td>\n",
       "      <td>-0.02765</td>\n",
       "      <td>0.743497</td>\n",
       "      <td>-1.853992</td>\n",
       "      <td>-0.425920</td>\n",
       "      <td>-0.32204</td>\n",
       "      <td>-0.039118</td>\n",
       "      <td>0.657394</td>\n",
       "      <td>0.852592</td>\n",
       "      <td>-0.425920</td>\n",
       "      <td>-0.274947</td>\n",
       "    </tr>\n",
       "    <tr>\n",
       "      <th>4</th>\n",
       "      <td>-1.546098</td>\n",
       "      <td>-0.349075</td>\n",
       "      <td>0.481288</td>\n",
       "      <td>1.866526</td>\n",
       "      <td>2.286639</td>\n",
       "      <td>-0.501432</td>\n",
       "      <td>-0.02765</td>\n",
       "      <td>-1.344995</td>\n",
       "      <td>-1.853992</td>\n",
       "      <td>-0.425920</td>\n",
       "      <td>-0.32204</td>\n",
       "      <td>-0.039118</td>\n",
       "      <td>0.657394</td>\n",
       "      <td>-1.172894</td>\n",
       "      <td>2.347858</td>\n",
       "      <td>-0.274947</td>\n",
       "    </tr>\n",
       "    <tr>\n",
       "      <th>...</th>\n",
       "      <td>...</td>\n",
       "      <td>...</td>\n",
       "      <td>...</td>\n",
       "      <td>...</td>\n",
       "      <td>...</td>\n",
       "      <td>...</td>\n",
       "      <td>...</td>\n",
       "      <td>...</td>\n",
       "      <td>...</td>\n",
       "      <td>...</td>\n",
       "      <td>...</td>\n",
       "      <td>...</td>\n",
       "      <td>...</td>\n",
       "      <td>...</td>\n",
       "      <td>...</td>\n",
       "      <td>...</td>\n",
       "    </tr>\n",
       "    <tr>\n",
       "      <th>1304</th>\n",
       "      <td>0.841916</td>\n",
       "      <td>-1.163009</td>\n",
       "      <td>0.481288</td>\n",
       "      <td>-0.445000</td>\n",
       "      <td>-0.364003</td>\n",
       "      <td>-0.501432</td>\n",
       "      <td>-0.02765</td>\n",
       "      <td>-1.344995</td>\n",
       "      <td>0.539377</td>\n",
       "      <td>-0.425920</td>\n",
       "      <td>-0.32204</td>\n",
       "      <td>-0.039118</td>\n",
       "      <td>-1.521159</td>\n",
       "      <td>-1.172894</td>\n",
       "      <td>-0.425920</td>\n",
       "      <td>-0.274947</td>\n",
       "    </tr>\n",
       "    <tr>\n",
       "      <th>1305</th>\n",
       "      <td>0.841916</td>\n",
       "      <td>-0.116523</td>\n",
       "      <td>0.481288</td>\n",
       "      <td>-0.445000</td>\n",
       "      <td>-0.364003</td>\n",
       "      <td>1.994288</td>\n",
       "      <td>-0.02765</td>\n",
       "      <td>-1.344995</td>\n",
       "      <td>0.539377</td>\n",
       "      <td>-0.425920</td>\n",
       "      <td>-0.32204</td>\n",
       "      <td>-0.039118</td>\n",
       "      <td>-1.521159</td>\n",
       "      <td>-1.172894</td>\n",
       "      <td>-0.425920</td>\n",
       "      <td>-0.274947</td>\n",
       "    </tr>\n",
       "    <tr>\n",
       "      <th>1306</th>\n",
       "      <td>0.841916</td>\n",
       "      <td>-0.232799</td>\n",
       "      <td>-0.479087</td>\n",
       "      <td>-0.445000</td>\n",
       "      <td>-0.503774</td>\n",
       "      <td>-0.501432</td>\n",
       "      <td>-0.02765</td>\n",
       "      <td>0.743497</td>\n",
       "      <td>0.539377</td>\n",
       "      <td>-0.425920</td>\n",
       "      <td>-0.32204</td>\n",
       "      <td>-0.039118</td>\n",
       "      <td>-1.521159</td>\n",
       "      <td>0.852592</td>\n",
       "      <td>-0.425920</td>\n",
       "      <td>-0.274947</td>\n",
       "    </tr>\n",
       "    <tr>\n",
       "      <th>1307</th>\n",
       "      <td>0.841916</td>\n",
       "      <td>-0.194040</td>\n",
       "      <td>-0.479087</td>\n",
       "      <td>-0.445000</td>\n",
       "      <td>-0.503774</td>\n",
       "      <td>-0.501432</td>\n",
       "      <td>-0.02765</td>\n",
       "      <td>0.743497</td>\n",
       "      <td>0.539377</td>\n",
       "      <td>-0.425920</td>\n",
       "      <td>-0.32204</td>\n",
       "      <td>-0.039118</td>\n",
       "      <td>-1.521159</td>\n",
       "      <td>0.852592</td>\n",
       "      <td>-0.425920</td>\n",
       "      <td>-0.274947</td>\n",
       "    </tr>\n",
       "    <tr>\n",
       "      <th>1308</th>\n",
       "      <td>0.841916</td>\n",
       "      <td>-0.039005</td>\n",
       "      <td>-0.479087</td>\n",
       "      <td>-0.445000</td>\n",
       "      <td>-0.491207</td>\n",
       "      <td>-0.501432</td>\n",
       "      <td>-0.02765</td>\n",
       "      <td>0.743497</td>\n",
       "      <td>0.539377</td>\n",
       "      <td>-0.425920</td>\n",
       "      <td>-0.32204</td>\n",
       "      <td>-0.039118</td>\n",
       "      <td>0.657394</td>\n",
       "      <td>0.852592</td>\n",
       "      <td>-0.425920</td>\n",
       "      <td>-0.274947</td>\n",
       "    </tr>\n",
       "  </tbody>\n",
       "</table>\n",
       "<p>1309 rows × 16 columns</p>\n",
       "</div>"
      ],
      "text/plain": [
       "        pclass       age     sibsp     parch      fare    age_NA  fare_NA  \\\n",
       "0    -1.546098 -0.039005 -0.479087 -0.445000  3.442584 -0.501432 -0.02765   \n",
       "1    -1.546098 -2.215952  0.481288  1.866526  2.286639 -0.501432 -0.02765   \n",
       "2    -1.546098 -2.131977  0.481288  1.866526  2.286639 -0.501432 -0.02765   \n",
       "3    -1.546098  0.038512  0.481288  1.866526  2.286639 -0.501432 -0.02765   \n",
       "4    -1.546098 -0.349075  0.481288  1.866526  2.286639 -0.501432 -0.02765   \n",
       "...        ...       ...       ...       ...       ...       ...      ...   \n",
       "1304  0.841916 -1.163009  0.481288 -0.445000 -0.364003 -0.501432 -0.02765   \n",
       "1305  0.841916 -0.116523  0.481288 -0.445000 -0.364003  1.994288 -0.02765   \n",
       "1306  0.841916 -0.232799 -0.479087 -0.445000 -0.503774 -0.501432 -0.02765   \n",
       "1307  0.841916 -0.194040 -0.479087 -0.445000 -0.503774 -0.501432 -0.02765   \n",
       "1308  0.841916 -0.039005 -0.479087 -0.445000 -0.491207 -0.501432 -0.02765   \n",
       "\n",
       "      sex_male  cabin_Missing  cabin_Rare  embarked_Q  embarked_Rare  \\\n",
       "0    -1.344995      -1.853992    2.347858    -0.32204      -0.039118   \n",
       "1     0.743497      -1.853992   -0.425920    -0.32204      -0.039118   \n",
       "2    -1.344995      -1.853992   -0.425920    -0.32204      -0.039118   \n",
       "3     0.743497      -1.853992   -0.425920    -0.32204      -0.039118   \n",
       "4    -1.344995      -1.853992   -0.425920    -0.32204      -0.039118   \n",
       "...        ...            ...         ...         ...            ...   \n",
       "1304 -1.344995       0.539377   -0.425920    -0.32204      -0.039118   \n",
       "1305 -1.344995       0.539377   -0.425920    -0.32204      -0.039118   \n",
       "1306  0.743497       0.539377   -0.425920    -0.32204      -0.039118   \n",
       "1307  0.743497       0.539377   -0.425920    -0.32204      -0.039118   \n",
       "1308  0.743497       0.539377   -0.425920    -0.32204      -0.039118   \n",
       "\n",
       "      embarked_S  title_Mr  title_Mrs  title_Rare  \n",
       "0       0.657394 -1.172894  -0.425920   -0.274947  \n",
       "1       0.657394 -1.172894  -0.425920    3.637068  \n",
       "2       0.657394 -1.172894  -0.425920   -0.274947  \n",
       "3       0.657394  0.852592  -0.425920   -0.274947  \n",
       "4       0.657394 -1.172894   2.347858   -0.274947  \n",
       "...          ...       ...        ...         ...  \n",
       "1304   -1.521159 -1.172894  -0.425920   -0.274947  \n",
       "1305   -1.521159 -1.172894  -0.425920   -0.274947  \n",
       "1306   -1.521159  0.852592  -0.425920   -0.274947  \n",
       "1307   -1.521159  0.852592  -0.425920   -0.274947  \n",
       "1308    0.657394  0.852592  -0.425920   -0.274947  \n",
       "\n",
       "[1309 rows x 16 columns]"
      ]
     },
     "execution_count": 38,
     "metadata": {},
     "output_type": "execute_result"
    }
   ],
   "source": [
    "x = pd.DataFrame(x,columns=variables)\n",
    "x"
   ]
  },
  {
   "cell_type": "code",
   "execution_count": 39,
   "metadata": {
    "gather": {
     "logged": 1612801614270
    }
   },
   "outputs": [],
   "source": [
    "#Split the data\n",
    "from sklearn.model_selection import train_test_split\n",
    "\n",
    "x_train, x_test, y_train, y_test = train_test_split(x,y,test_size = 0.3,random_state=0)"
   ]
  },
  {
   "cell_type": "code",
   "execution_count": 40,
   "metadata": {
    "gather": {
     "logged": 1612801620929
    }
   },
   "outputs": [],
   "source": [
    "#bring them together them again\n",
    "dataset = pd.concat([x_train,y_train],axis=1)"
   ]
  },
  {
   "cell_type": "code",
   "execution_count": 41,
   "metadata": {
    "gather": {
     "logged": 1612801626363
    }
   },
   "outputs": [
    {
     "data": {
      "text/html": [
       "<div>\n",
       "<style scoped>\n",
       "    .dataframe tbody tr th:only-of-type {\n",
       "        vertical-align: middle;\n",
       "    }\n",
       "\n",
       "    .dataframe tbody tr th {\n",
       "        vertical-align: top;\n",
       "    }\n",
       "\n",
       "    .dataframe thead th {\n",
       "        text-align: right;\n",
       "    }\n",
       "</style>\n",
       "<table border=\"1\" class=\"dataframe\">\n",
       "  <thead>\n",
       "    <tr style=\"text-align: right;\">\n",
       "      <th></th>\n",
       "      <th>pclass</th>\n",
       "      <th>age</th>\n",
       "      <th>sibsp</th>\n",
       "      <th>parch</th>\n",
       "      <th>fare</th>\n",
       "      <th>age_NA</th>\n",
       "      <th>fare_NA</th>\n",
       "      <th>sex_male</th>\n",
       "      <th>cabin_Missing</th>\n",
       "      <th>cabin_Rare</th>\n",
       "      <th>embarked_Q</th>\n",
       "      <th>embarked_Rare</th>\n",
       "      <th>embarked_S</th>\n",
       "      <th>title_Mr</th>\n",
       "      <th>title_Mrs</th>\n",
       "      <th>title_Rare</th>\n",
       "      <th>survived</th>\n",
       "    </tr>\n",
       "  </thead>\n",
       "  <tbody>\n",
       "    <tr>\n",
       "      <th>501</th>\n",
       "      <td>-0.352091</td>\n",
       "      <td>-1.279285</td>\n",
       "      <td>-0.479087</td>\n",
       "      <td>0.710763</td>\n",
       "      <td>-0.266447</td>\n",
       "      <td>-0.501432</td>\n",
       "      <td>-0.02765</td>\n",
       "      <td>-1.344995</td>\n",
       "      <td>0.539377</td>\n",
       "      <td>-0.425920</td>\n",
       "      <td>-0.322040</td>\n",
       "      <td>-0.039118</td>\n",
       "      <td>0.657394</td>\n",
       "      <td>-1.172894</td>\n",
       "      <td>-0.42592</td>\n",
       "      <td>-0.274947</td>\n",
       "      <td>1</td>\n",
       "    </tr>\n",
       "    <tr>\n",
       "      <th>588</th>\n",
       "      <td>-0.352091</td>\n",
       "      <td>-1.976943</td>\n",
       "      <td>0.481288</td>\n",
       "      <td>0.710763</td>\n",
       "      <td>-0.198777</td>\n",
       "      <td>-0.501432</td>\n",
       "      <td>-0.02765</td>\n",
       "      <td>-1.344995</td>\n",
       "      <td>0.539377</td>\n",
       "      <td>-0.425920</td>\n",
       "      <td>-0.322040</td>\n",
       "      <td>-0.039118</td>\n",
       "      <td>0.657394</td>\n",
       "      <td>-1.172894</td>\n",
       "      <td>-0.42592</td>\n",
       "      <td>-0.274947</td>\n",
       "      <td>1</td>\n",
       "    </tr>\n",
       "    <tr>\n",
       "      <th>402</th>\n",
       "      <td>-0.352091</td>\n",
       "      <td>0.038512</td>\n",
       "      <td>0.481288</td>\n",
       "      <td>-0.445000</td>\n",
       "      <td>-0.375525</td>\n",
       "      <td>-0.501432</td>\n",
       "      <td>-0.02765</td>\n",
       "      <td>-1.344995</td>\n",
       "      <td>0.539377</td>\n",
       "      <td>-0.425920</td>\n",
       "      <td>-0.322040</td>\n",
       "      <td>-0.039118</td>\n",
       "      <td>-1.521159</td>\n",
       "      <td>-1.172894</td>\n",
       "      <td>-0.42592</td>\n",
       "      <td>-0.274947</td>\n",
       "      <td>1</td>\n",
       "    </tr>\n",
       "    <tr>\n",
       "      <th>1193</th>\n",
       "      <td>0.841916</td>\n",
       "      <td>-0.116523</td>\n",
       "      <td>-0.479087</td>\n",
       "      <td>-0.445000</td>\n",
       "      <td>-0.494107</td>\n",
       "      <td>1.994288</td>\n",
       "      <td>-0.02765</td>\n",
       "      <td>0.743497</td>\n",
       "      <td>0.539377</td>\n",
       "      <td>-0.425920</td>\n",
       "      <td>3.105202</td>\n",
       "      <td>-0.039118</td>\n",
       "      <td>-1.521159</td>\n",
       "      <td>0.852592</td>\n",
       "      <td>-0.42592</td>\n",
       "      <td>-0.274947</td>\n",
       "      <td>0</td>\n",
       "    </tr>\n",
       "    <tr>\n",
       "      <th>686</th>\n",
       "      <td>0.841916</td>\n",
       "      <td>-0.581628</td>\n",
       "      <td>-0.479087</td>\n",
       "      <td>-0.445000</td>\n",
       "      <td>-0.494107</td>\n",
       "      <td>-0.501432</td>\n",
       "      <td>-0.02765</td>\n",
       "      <td>-1.344995</td>\n",
       "      <td>0.539377</td>\n",
       "      <td>-0.425920</td>\n",
       "      <td>3.105202</td>\n",
       "      <td>-0.039118</td>\n",
       "      <td>-1.521159</td>\n",
       "      <td>-1.172894</td>\n",
       "      <td>-0.42592</td>\n",
       "      <td>-0.274947</td>\n",
       "      <td>1</td>\n",
       "    </tr>\n",
       "    <tr>\n",
       "      <th>971</th>\n",
       "      <td>0.841916</td>\n",
       "      <td>-0.116523</td>\n",
       "      <td>-0.479087</td>\n",
       "      <td>-0.445000</td>\n",
       "      <td>-0.491126</td>\n",
       "      <td>1.994288</td>\n",
       "      <td>-0.02765</td>\n",
       "      <td>0.743497</td>\n",
       "      <td>0.539377</td>\n",
       "      <td>-0.425920</td>\n",
       "      <td>3.105202</td>\n",
       "      <td>-0.039118</td>\n",
       "      <td>-1.521159</td>\n",
       "      <td>0.852592</td>\n",
       "      <td>-0.42592</td>\n",
       "      <td>-0.274947</td>\n",
       "      <td>0</td>\n",
       "    </tr>\n",
       "    <tr>\n",
       "      <th>117</th>\n",
       "      <td>-1.546098</td>\n",
       "      <td>0.038512</td>\n",
       "      <td>-0.479087</td>\n",
       "      <td>-0.445000</td>\n",
       "      <td>0.457218</td>\n",
       "      <td>-0.501432</td>\n",
       "      <td>-0.02765</td>\n",
       "      <td>-1.344995</td>\n",
       "      <td>-1.853992</td>\n",
       "      <td>2.347858</td>\n",
       "      <td>-0.322040</td>\n",
       "      <td>-0.039118</td>\n",
       "      <td>-1.521159</td>\n",
       "      <td>-1.172894</td>\n",
       "      <td>-0.42592</td>\n",
       "      <td>-0.274947</td>\n",
       "      <td>1</td>\n",
       "    </tr>\n",
       "    <tr>\n",
       "      <th>540</th>\n",
       "      <td>-0.352091</td>\n",
       "      <td>-2.131977</td>\n",
       "      <td>0.481288</td>\n",
       "      <td>0.710763</td>\n",
       "      <td>-0.140774</td>\n",
       "      <td>-0.501432</td>\n",
       "      <td>-0.02765</td>\n",
       "      <td>-1.344995</td>\n",
       "      <td>0.539377</td>\n",
       "      <td>-0.425920</td>\n",
       "      <td>-0.322040</td>\n",
       "      <td>-0.039118</td>\n",
       "      <td>0.657394</td>\n",
       "      <td>-1.172894</td>\n",
       "      <td>-0.42592</td>\n",
       "      <td>-0.274947</td>\n",
       "      <td>1</td>\n",
       "    </tr>\n",
       "    <tr>\n",
       "      <th>294</th>\n",
       "      <td>-1.546098</td>\n",
       "      <td>1.511344</td>\n",
       "      <td>0.481288</td>\n",
       "      <td>0.710763</td>\n",
       "      <td>1.500379</td>\n",
       "      <td>-0.501432</td>\n",
       "      <td>-0.02765</td>\n",
       "      <td>0.743497</td>\n",
       "      <td>-1.853992</td>\n",
       "      <td>-0.425920</td>\n",
       "      <td>-0.322040</td>\n",
       "      <td>-0.039118</td>\n",
       "      <td>-1.521159</td>\n",
       "      <td>0.852592</td>\n",
       "      <td>-0.42592</td>\n",
       "      <td>-0.274947</td>\n",
       "      <td>0</td>\n",
       "    </tr>\n",
       "    <tr>\n",
       "      <th>261</th>\n",
       "      <td>-1.546098</td>\n",
       "      <td>0.426099</td>\n",
       "      <td>-0.479087</td>\n",
       "      <td>-0.445000</td>\n",
       "      <td>-0.135216</td>\n",
       "      <td>-0.501432</td>\n",
       "      <td>-0.02765</td>\n",
       "      <td>0.743497</td>\n",
       "      <td>-1.853992</td>\n",
       "      <td>2.347858</td>\n",
       "      <td>-0.322040</td>\n",
       "      <td>-0.039118</td>\n",
       "      <td>0.657394</td>\n",
       "      <td>0.852592</td>\n",
       "      <td>-0.42592</td>\n",
       "      <td>-0.274947</td>\n",
       "      <td>1</td>\n",
       "    </tr>\n",
       "  </tbody>\n",
       "</table>\n",
       "</div>"
      ],
      "text/plain": [
       "        pclass       age     sibsp     parch      fare    age_NA  fare_NA  \\\n",
       "501  -0.352091 -1.279285 -0.479087  0.710763 -0.266447 -0.501432 -0.02765   \n",
       "588  -0.352091 -1.976943  0.481288  0.710763 -0.198777 -0.501432 -0.02765   \n",
       "402  -0.352091  0.038512  0.481288 -0.445000 -0.375525 -0.501432 -0.02765   \n",
       "1193  0.841916 -0.116523 -0.479087 -0.445000 -0.494107  1.994288 -0.02765   \n",
       "686   0.841916 -0.581628 -0.479087 -0.445000 -0.494107 -0.501432 -0.02765   \n",
       "971   0.841916 -0.116523 -0.479087 -0.445000 -0.491126  1.994288 -0.02765   \n",
       "117  -1.546098  0.038512 -0.479087 -0.445000  0.457218 -0.501432 -0.02765   \n",
       "540  -0.352091 -2.131977  0.481288  0.710763 -0.140774 -0.501432 -0.02765   \n",
       "294  -1.546098  1.511344  0.481288  0.710763  1.500379 -0.501432 -0.02765   \n",
       "261  -1.546098  0.426099 -0.479087 -0.445000 -0.135216 -0.501432 -0.02765   \n",
       "\n",
       "      sex_male  cabin_Missing  cabin_Rare  embarked_Q  embarked_Rare  \\\n",
       "501  -1.344995       0.539377   -0.425920   -0.322040      -0.039118   \n",
       "588  -1.344995       0.539377   -0.425920   -0.322040      -0.039118   \n",
       "402  -1.344995       0.539377   -0.425920   -0.322040      -0.039118   \n",
       "1193  0.743497       0.539377   -0.425920    3.105202      -0.039118   \n",
       "686  -1.344995       0.539377   -0.425920    3.105202      -0.039118   \n",
       "971   0.743497       0.539377   -0.425920    3.105202      -0.039118   \n",
       "117  -1.344995      -1.853992    2.347858   -0.322040      -0.039118   \n",
       "540  -1.344995       0.539377   -0.425920   -0.322040      -0.039118   \n",
       "294   0.743497      -1.853992   -0.425920   -0.322040      -0.039118   \n",
       "261   0.743497      -1.853992    2.347858   -0.322040      -0.039118   \n",
       "\n",
       "      embarked_S  title_Mr  title_Mrs  title_Rare  survived  \n",
       "501     0.657394 -1.172894   -0.42592   -0.274947         1  \n",
       "588     0.657394 -1.172894   -0.42592   -0.274947         1  \n",
       "402    -1.521159 -1.172894   -0.42592   -0.274947         1  \n",
       "1193   -1.521159  0.852592   -0.42592   -0.274947         0  \n",
       "686    -1.521159 -1.172894   -0.42592   -0.274947         1  \n",
       "971    -1.521159  0.852592   -0.42592   -0.274947         0  \n",
       "117    -1.521159 -1.172894   -0.42592   -0.274947         1  \n",
       "540     0.657394 -1.172894   -0.42592   -0.274947         1  \n",
       "294    -1.521159  0.852592   -0.42592   -0.274947         0  \n",
       "261     0.657394  0.852592   -0.42592   -0.274947         1  "
      ]
     },
     "execution_count": 41,
     "metadata": {},
     "output_type": "execute_result"
    }
   ],
   "source": [
    "dataset.head(10)"
   ]
  },
  {
   "cell_type": "code",
   "execution_count": 42,
   "metadata": {
    "gather": {
     "logged": 1612801633010
    }
   },
   "outputs": [],
   "source": [
    "#To train the model we need a TabularDataset and not a dataframe, therefore the current df will be converterd \n",
    "#into a TabularDataset:\n",
    "\n",
    "#Convert the dataframe into a csv\n",
    "local_path = 'prepared.csv'\n",
    "\n",
    "#Save it locally\n",
    "dataset.to_csv(local_path,index=None)\n",
    "\n",
    "#Generate the a datastore object which is the the default datastore\n",
    "datastore = ws.get_default_datastore()"
   ]
  },
  {
   "cell_type": "code",
   "execution_count": 43,
   "metadata": {
    "gather": {
     "logged": 1612801636555
    }
   },
   "outputs": [
    {
     "name": "stdout",
     "output_type": "stream",
     "text": [
      "Uploading an estimated of 13 files\n",
      "Target already exists. Skipping upload for data/.amlignore\n",
      "Target already exists. Skipping upload for data/.amlignore.amltmp\n",
      "Target already exists. Skipping upload for data/AzureAutoML.ipynb\n",
      "Target already exists. Skipping upload for data/prepared.csv\n",
      "Target already exists. Skipping upload for data/pre_preprocess.py\n",
      "Target already exists. Skipping upload for data/score.py\n",
      "Target already exists. Skipping upload for data/train.py\n",
      "Target already exists. Skipping upload for data/.ipynb_checkpoints/AzureAutoML-checkpoint.ipynb\n",
      "Target already exists. Skipping upload for data/__pycache__/pre_preprocess.cpython-36.pyc\n",
      "Target already exists. Skipping upload for data/__pycache__/train.cpython-36.pyc\n",
      "Uploading ./azureml_automl.log\n",
      "Uploaded ./azureml_automl.log, 1 files out of an estimated total of 10\n",
      "Uploading ./automl.log\n",
      "Uploaded ./automl.log, 2 files out of an estimated total of 11\n",
      "Uploading ./automl_errors.log\n",
      "Uploaded ./automl_errors.log, 3 files out of an estimated total of 11\n",
      "Uploaded 3 files\n"
     ]
    },
    {
     "data": {
      "text/plain": [
       "$AZUREML_DATAREFERENCE_5510bbb0779349feab64b05b1f556fb8"
      ]
     },
     "execution_count": 43,
     "metadata": {},
     "output_type": "execute_result"
    }
   ],
   "source": [
    "#Upload the dataframe which was previosly converted into a csv\n",
    "datastore.upload(src_dir='.', target_path='data')"
   ]
  },
  {
   "cell_type": "code",
   "execution_count": 44,
   "metadata": {
    "gather": {
     "logged": 1612801641127
    }
   },
   "outputs": [
    {
     "data": {
      "text/plain": [
       "$AZUREML_DATAREFERENCE_workspaceblobstore"
      ]
     },
     "execution_count": 44,
     "metadata": {},
     "output_type": "execute_result"
    }
   ],
   "source": [
    "#For the sake of checking; check the path\n",
    "datastore.path()"
   ]
  },
  {
   "cell_type": "code",
   "execution_count": 45,
   "metadata": {
    "gather": {
     "logged": 1612801648178
    }
   },
   "outputs": [],
   "source": [
    "#Now the uploaded file will be transformed into a Tabular dataset and store in a varible named 'training_dataset'\n",
    "training_dataset = Dataset.Tabular.from_delimited_files(\"https://raw.githubusercontent.com/ddgope/Titanic-Survival-Prediction/master/prepared.csv\")"
   ]
  },
  {
   "cell_type": "code",
   "execution_count": 46,
   "metadata": {
    "gather": {
     "logged": 1612801654940
    }
   },
   "outputs": [
    {
     "data": {
      "text/html": [
       "<div>\n",
       "<style scoped>\n",
       "    .dataframe tbody tr th:only-of-type {\n",
       "        vertical-align: middle;\n",
       "    }\n",
       "\n",
       "    .dataframe tbody tr th {\n",
       "        vertical-align: top;\n",
       "    }\n",
       "\n",
       "    .dataframe thead th {\n",
       "        text-align: right;\n",
       "    }\n",
       "</style>\n",
       "<table border=\"1\" class=\"dataframe\">\n",
       "  <thead>\n",
       "    <tr style=\"text-align: right;\">\n",
       "      <th></th>\n",
       "      <th>pclass</th>\n",
       "      <th>age</th>\n",
       "      <th>sibsp</th>\n",
       "      <th>parch</th>\n",
       "      <th>fare</th>\n",
       "      <th>age_NA</th>\n",
       "      <th>fare_NA</th>\n",
       "      <th>sex_male</th>\n",
       "      <th>cabin_Missing</th>\n",
       "      <th>cabin_Rare</th>\n",
       "      <th>embarked_Q</th>\n",
       "      <th>embarked_Rare</th>\n",
       "      <th>embarked_S</th>\n",
       "      <th>title_Mr</th>\n",
       "      <th>title_Mrs</th>\n",
       "      <th>title_Rare</th>\n",
       "      <th>survived</th>\n",
       "    </tr>\n",
       "  </thead>\n",
       "  <tbody>\n",
       "    <tr>\n",
       "      <th>0</th>\n",
       "      <td>-0.352091</td>\n",
       "      <td>-0.116523</td>\n",
       "      <td>-0.479087</td>\n",
       "      <td>0.710763</td>\n",
       "      <td>-0.005435</td>\n",
       "      <td>-0.501432</td>\n",
       "      <td>-0.02765</td>\n",
       "      <td>0.743497</td>\n",
       "      <td>0.539377</td>\n",
       "      <td>-0.42592</td>\n",
       "      <td>-0.322040</td>\n",
       "      <td>-0.039118</td>\n",
       "      <td>0.657394</td>\n",
       "      <td>-1.172894</td>\n",
       "      <td>-0.42592</td>\n",
       "      <td>3.637068</td>\n",
       "      <td>0</td>\n",
       "    </tr>\n",
       "    <tr>\n",
       "      <th>1</th>\n",
       "      <td>-0.352091</td>\n",
       "      <td>0.038512</td>\n",
       "      <td>-0.479087</td>\n",
       "      <td>-0.445000</td>\n",
       "      <td>-0.404686</td>\n",
       "      <td>-0.501432</td>\n",
       "      <td>-0.02765</td>\n",
       "      <td>-1.344995</td>\n",
       "      <td>0.539377</td>\n",
       "      <td>-0.42592</td>\n",
       "      <td>3.105202</td>\n",
       "      <td>-0.039118</td>\n",
       "      <td>-1.521159</td>\n",
       "      <td>-1.172894</td>\n",
       "      <td>-0.42592</td>\n",
       "      <td>-0.274947</td>\n",
       "      <td>1</td>\n",
       "    </tr>\n",
       "    <tr>\n",
       "      <th>2</th>\n",
       "      <td>-1.546098</td>\n",
       "      <td>0.581134</td>\n",
       "      <td>0.481288</td>\n",
       "      <td>-0.445000</td>\n",
       "      <td>0.383183</td>\n",
       "      <td>-0.501432</td>\n",
       "      <td>-0.02765</td>\n",
       "      <td>0.743497</td>\n",
       "      <td>-1.853992</td>\n",
       "      <td>-0.42592</td>\n",
       "      <td>-0.322040</td>\n",
       "      <td>-0.039118</td>\n",
       "      <td>0.657394</td>\n",
       "      <td>0.852592</td>\n",
       "      <td>-0.42592</td>\n",
       "      <td>-0.274947</td>\n",
       "      <td>0</td>\n",
       "    </tr>\n",
       "    <tr>\n",
       "      <th>3</th>\n",
       "      <td>0.841916</td>\n",
       "      <td>-0.116523</td>\n",
       "      <td>-0.479087</td>\n",
       "      <td>-0.445000</td>\n",
       "      <td>-0.493624</td>\n",
       "      <td>1.994288</td>\n",
       "      <td>-0.02765</td>\n",
       "      <td>-1.344995</td>\n",
       "      <td>0.539377</td>\n",
       "      <td>-0.42592</td>\n",
       "      <td>3.105202</td>\n",
       "      <td>-0.039118</td>\n",
       "      <td>-1.521159</td>\n",
       "      <td>-1.172894</td>\n",
       "      <td>-0.42592</td>\n",
       "      <td>-0.274947</td>\n",
       "      <td>1</td>\n",
       "    </tr>\n",
       "    <tr>\n",
       "      <th>4</th>\n",
       "      <td>0.841916</td>\n",
       "      <td>-0.194040</td>\n",
       "      <td>-0.479087</td>\n",
       "      <td>-0.445000</td>\n",
       "      <td>-0.475981</td>\n",
       "      <td>-0.501432</td>\n",
       "      <td>-0.02765</td>\n",
       "      <td>0.743497</td>\n",
       "      <td>0.539377</td>\n",
       "      <td>-0.42592</td>\n",
       "      <td>-0.322040</td>\n",
       "      <td>-0.039118</td>\n",
       "      <td>0.657394</td>\n",
       "      <td>0.852592</td>\n",
       "      <td>-0.42592</td>\n",
       "      <td>-0.274947</td>\n",
       "      <td>0</td>\n",
       "    </tr>\n",
       "  </tbody>\n",
       "</table>\n",
       "</div>"
      ],
      "text/plain": [
       "     pclass       age     sibsp     parch      fare    age_NA  fare_NA  \\\n",
       "0 -0.352091 -0.116523 -0.479087  0.710763 -0.005435 -0.501432 -0.02765   \n",
       "1 -0.352091  0.038512 -0.479087 -0.445000 -0.404686 -0.501432 -0.02765   \n",
       "2 -1.546098  0.581134  0.481288 -0.445000  0.383183 -0.501432 -0.02765   \n",
       "3  0.841916 -0.116523 -0.479087 -0.445000 -0.493624  1.994288 -0.02765   \n",
       "4  0.841916 -0.194040 -0.479087 -0.445000 -0.475981 -0.501432 -0.02765   \n",
       "\n",
       "   sex_male  cabin_Missing  cabin_Rare  embarked_Q  embarked_Rare  embarked_S  \\\n",
       "0  0.743497       0.539377    -0.42592   -0.322040      -0.039118    0.657394   \n",
       "1 -1.344995       0.539377    -0.42592    3.105202      -0.039118   -1.521159   \n",
       "2  0.743497      -1.853992    -0.42592   -0.322040      -0.039118    0.657394   \n",
       "3 -1.344995       0.539377    -0.42592    3.105202      -0.039118   -1.521159   \n",
       "4  0.743497       0.539377    -0.42592   -0.322040      -0.039118    0.657394   \n",
       "\n",
       "   title_Mr  title_Mrs  title_Rare  survived  \n",
       "0 -1.172894   -0.42592    3.637068         0  \n",
       "1 -1.172894   -0.42592   -0.274947         1  \n",
       "2  0.852592   -0.42592   -0.274947         0  \n",
       "3 -1.172894   -0.42592   -0.274947         1  \n",
       "4  0.852592   -0.42592   -0.274947         0  "
      ]
     },
     "execution_count": 46,
     "metadata": {},
     "output_type": "execute_result"
    }
   ],
   "source": [
    "#let's visualize the data:\n",
    "training_dataset.to_pandas_dataframe().head()"
   ]
  },
  {
   "cell_type": "markdown",
   "metadata": {},
   "source": [
    "## AutoML Configuration\n",
    "\n",
    "Below we will chose the automl settings and cofiguration"
   ]
  },
  {
   "cell_type": "code",
   "execution_count": 47,
   "metadata": {
    "gather": {
     "logged": 1612801675790
    }
   },
   "outputs": [],
   "source": [
    "#Create the automl settings which will be used as argurments in the automl config\n",
    "automl_settings = {\n",
    "    \"experiment_timeout_minutes\": 60,\n",
    "    \"max_concurrent_iterations\": 4,\n",
    "    \"primary_metric\" : 'accuracy'\n",
    "}\n",
    "\n",
    "#Create the automl_config\n",
    "automl_config = AutoMLConfig(compute_target=compute_target,\n",
    "                             task = \"classification\",\n",
    "                             training_data=training_dataset,\n",
    "                             label_column_name=\"survived\",   \n",
    "                             path = project_folder,\n",
    "                             enable_early_stopping= True,\n",
    "                             featurization= 'auto',\n",
    "                             debug_log = \"automl_errors.log\",\n",
    "                             **automl_settings\n",
    "                            )"
   ]
  },
  {
   "cell_type": "code",
   "execution_count": 48,
   "metadata": {
    "gather": {
     "logged": 1612716689612
    },
    "jupyter": {
     "outputs_hidden": false,
     "source_hidden": false
    },
    "nteract": {
     "transient": {
      "deleting": false
     }
    }
   },
   "outputs": [
    {
     "name": "stdout",
     "output_type": "stream",
     "text": [
      "Running on remote.\n",
      "No run_configuration provided, running on compute-cluster with default configuration\n",
      "Running on remote compute: compute-cluster\n",
      "Parent Run ID: AutoML_2367dc6d-0c89-4491-80d3-45662e0cbc66\n",
      "\n",
      "Current status: FeaturesGeneration. Generating features for the dataset.\n",
      "Current status: ModelSelection. Beginning model selection.\n",
      "\n",
      "****************************************************************************************************\n",
      "DATA GUARDRAILS: \n",
      "\n",
      "TYPE:         Cross validation\n",
      "STATUS:       DONE\n",
      "DESCRIPTION:  Each iteration of the trained model was validated through cross-validation.\n",
      "              \n",
      "DETAILS:      \n",
      "+---------------------------------+\n",
      "|Number of folds                  |\n",
      "+=================================+\n",
      "|10                               |\n",
      "+---------------------------------+\n",
      "\n",
      "****************************************************************************************************\n",
      "\n",
      "TYPE:         Class balancing detection\n",
      "STATUS:       PASSED\n",
      "DESCRIPTION:  Your inputs were analyzed, and all classes are balanced in your training data.\n",
      "              Learn more about imbalanced data: https://aka.ms/AutomatedMLImbalancedData\n",
      "\n",
      "****************************************************************************************************\n",
      "\n",
      "TYPE:         Missing feature values imputation\n",
      "STATUS:       PASSED\n",
      "DESCRIPTION:  No feature missing values were detected in the training data.\n",
      "              Learn more about missing value imputation: https://aka.ms/AutomatedMLFeaturization\n",
      "\n",
      "****************************************************************************************************\n",
      "\n",
      "TYPE:         High cardinality feature detection\n",
      "STATUS:       PASSED\n",
      "DESCRIPTION:  Your inputs were analyzed, and no high cardinality features were detected.\n",
      "              Learn more about high cardinality feature handling: https://aka.ms/AutomatedMLFeaturization\n",
      "\n",
      "****************************************************************************************************\n",
      "\n",
      "****************************************************************************************************\n",
      "ITERATION: The iteration being evaluated.\n",
      "PIPELINE: A summary description of the pipeline being evaluated.\n",
      "DURATION: Time taken for the current iteration.\n",
      "METRIC: The result of computing score on the fitted pipeline.\n",
      "BEST: The best observed score thus far.\n",
      "****************************************************************************************************\n",
      "\n",
      " ITERATION   PIPELINE                                       DURATION      METRIC      BEST\n",
      "         1   MaxAbsScaler XGBoostClassifier                 0:00:58       0.7991    0.7991\n",
      "         0   MaxAbsScaler LightGBM                          0:00:57       0.7850    0.7991\n",
      "         2   MinMaxScaler RandomForest                      0:02:01       0.8023    0.8023\n",
      "         3   MinMaxScaler RandomForest                      0:01:54       0.7827    0.8023\n",
      "         5   StandardScalerWrapper XGBoostClassifier        0:01:29       0.7817    0.8023\n",
      "         4   MinMaxScaler RandomForest                      0:02:31       0.7937    0.8023\n",
      "         6   SparseNormalizer XGBoostClassifier             0:00:54       0.7991    0.8023\n",
      "         8   MaxAbsScaler SVM                               0:01:19       0.7424    0.8023\n",
      "         9   SparseNormalizer XGBoostClassifier             0:00:48       0.8100    0.8100\n",
      "        10   MaxAbsScaler GradientBoosting                  0:00:42       0.7947    0.8100\n",
      "         7   MaxAbsScaler SVM                               0:01:22       0.7195    0.8100\n",
      "        11   StandardScalerWrapper RandomForest             0:00:55       0.8034    0.8100\n",
      "        12   StandardScalerWrapper LightGBM                 0:00:47       0.7729    0.8100\n",
      "        13   MaxAbsScaler LightGBM                          0:01:01       0.7991    0.8100\n",
      "        14   MinMaxScaler LightGBM                          0:00:51       0.8023    0.8100\n",
      "        16   RobustScaler GradientBoosting                  0:00:49       0.7871    0.8100\n",
      "        15   SparseNormalizer LightGBM                      0:01:04       0.8079    0.8100\n",
      "        17   SparseNormalizer XGBoostClassifier             0:00:47       0.7904    0.8100\n",
      "        18   MinMaxScaler LightGBM                          0:00:48       0.8001    0.8100\n",
      "        19   SparseNormalizer XGBoostClassifier             0:00:48       0.8067    0.8100\n",
      "        20   StandardScalerWrapper ExtremeRandomTrees       0:00:53       0.7926    0.8100\n",
      "        21   SparseNormalizer XGBoostClassifier             0:00:53       0.8002    0.8100\n",
      "        22   StandardScalerWrapper ExtremeRandomTrees       0:00:58       0.8002    0.8100\n",
      "        23   MinMaxScaler LightGBM                          0:00:59       0.7936    0.8100\n",
      "        24   StandardScalerWrapper LightGBM                 0:00:52       0.8078    0.8100\n",
      "        25   TruncatedSVDWrapper XGBoostClassifier          0:00:51       0.6277    0.8100\n",
      "        26   MaxAbsScaler ExtremeRandomTrees                0:00:55       0.8046    0.8100\n",
      "        27   MaxAbsScaler ExtremeRandomTrees                0:00:56       0.8035    0.8100\n",
      "        28   TruncatedSVDWrapper XGBoostClassifier          0:00:53       0.8002    0.8100\n",
      "        29   MaxAbsScaler LightGBM                          0:01:00       0.8089    0.8100\n",
      "        30   StandardScalerWrapper XGBoostClassifier        0:00:46       0.7860    0.8100\n",
      "        31   MaxAbsScaler LightGBM                          0:00:52       0.7958    0.8100\n",
      "        32   MaxAbsScaler LightGBM                          0:00:56       0.7892    0.8100\n",
      "        33   MinMaxScaler LightGBM                          0:00:47       0.8013    0.8100\n",
      "        34   StandardScalerWrapper LightGBM                 0:00:52       0.8023    0.8100\n",
      "        35                                                  0:00:17          nan    0.8100\n",
      "        36    VotingEnsemble                                0:01:18       0.8286    0.8286\n",
      "        37    StackEnsemble                                 0:01:25       0.8199    0.8286\n"
     ]
    }
   ],
   "source": [
    "#Submitt the experiment\n",
    "automl_run = experiment.submit(automl_config,show_output=True)"
   ]
  },
  {
   "cell_type": "code",
   "execution_count": 49,
   "metadata": {
    "gather": {
     "logged": 1612802994779
    },
    "jupyter": {
     "outputs_hidden": false,
     "source_hidden": false
    },
    "nteract": {
     "transient": {
      "deleting": false
     }
    }
   },
   "outputs": [
    {
     "data": {
      "application/vnd.jupyter.widget-view+json": {
       "model_id": "43fd294308dd4e5ba21d673c306ad13d",
       "version_major": 2,
       "version_minor": 0
      },
      "text/plain": [
       "_AutoMLWidget(widget_settings={'childWidgetDisplay': 'popup', 'send_telemetry': False, 'log_level': 'INFO', 's…"
      ]
     },
     "metadata": {},
     "output_type": "display_data"
    },
    {
     "data": {
      "application/aml.mini.widget.v1": "{\"status\": \"Completed\", \"workbench_run_details_uri\": \"https://ml.azure.com/experiments/Titanic-AutoML-Experiment/runs/AutoML_2367dc6d-0c89-4491-80d3-45662e0cbc66?wsid=/subscriptions/976ee174-3882-4721-b90a-b5fef6b72f24/resourcegroups/aml-quickstarts-139405/workspaces/quick-starts-ws-139405\", \"run_id\": \"AutoML_2367dc6d-0c89-4491-80d3-45662e0cbc66\", \"run_properties\": {\"run_id\": \"AutoML_2367dc6d-0c89-4491-80d3-45662e0cbc66\", \"created_utc\": \"2021-02-24T02:35:50.58413Z\", \"properties\": {\"num_iterations\": \"1000\", \"training_type\": \"TrainFull\", \"acquisition_function\": \"EI\", \"primary_metric\": \"accuracy\", \"train_split\": \"0\", \"acquisition_parameter\": \"0\", \"num_cross_validation\": null, \"target\": \"compute-cluster\", \"AMLSettingsJsonString\": \"{\\\"path\\\":null,\\\"name\\\":\\\"Titanic-AutoML-Experiment\\\",\\\"subscription_id\\\":\\\"976ee174-3882-4721-b90a-b5fef6b72f24\\\",\\\"resource_group\\\":\\\"aml-quickstarts-139405\\\",\\\"workspace_name\\\":\\\"quick-starts-ws-139405\\\",\\\"region\\\":\\\"southcentralus\\\",\\\"compute_target\\\":\\\"compute-cluster\\\",\\\"spark_service\\\":null,\\\"azure_service\\\":\\\"remote\\\",\\\"many_models\\\":false,\\\"pipeline_fetch_max_batch_size\\\":1,\\\"iterations\\\":1000,\\\"primary_metric\\\":\\\"accuracy\\\",\\\"task_type\\\":\\\"classification\\\",\\\"data_script\\\":null,\\\"validation_size\\\":0.0,\\\"n_cross_validations\\\":null,\\\"y_min\\\":null,\\\"y_max\\\":null,\\\"num_classes\\\":null,\\\"featurization\\\":\\\"auto\\\",\\\"_ignore_package_version_incompatibilities\\\":false,\\\"is_timeseries\\\":false,\\\"max_cores_per_iteration\\\":1,\\\"max_concurrent_iterations\\\":4,\\\"iteration_timeout_minutes\\\":null,\\\"mem_in_mb\\\":null,\\\"enforce_time_on_windows\\\":false,\\\"experiment_timeout_minutes\\\":60,\\\"experiment_exit_score\\\":null,\\\"whitelist_models\\\":null,\\\"blacklist_algos\\\":[\\\"TensorFlowLinearClassifier\\\",\\\"TensorFlowDNN\\\"],\\\"supported_models\\\":[\\\"LinearSVM\\\",\\\"KNN\\\",\\\"SGD\\\",\\\"SVM\\\",\\\"ExtremeRandomTrees\\\",\\\"LightGBM\\\",\\\"AveragedPerceptronClassifier\\\",\\\"TensorFlowDNN\\\",\\\"MultinomialNaiveBayes\\\",\\\"LogisticRegression\\\",\\\"BernoulliNaiveBayes\\\",\\\"XGBoostClassifier\\\",\\\"RandomForest\\\",\\\"TensorFlowLinearClassifier\\\",\\\"GradientBoosting\\\",\\\"DecisionTree\\\"],\\\"auto_blacklist\\\":true,\\\"blacklist_samples_reached\\\":false,\\\"exclude_nan_labels\\\":true,\\\"verbosity\\\":20,\\\"_debug_log\\\":\\\"azureml_automl.log\\\",\\\"show_warnings\\\":false,\\\"model_explainability\\\":true,\\\"service_url\\\":null,\\\"sdk_url\\\":null,\\\"sdk_packages\\\":null,\\\"enable_onnx_compatible_models\\\":false,\\\"enable_split_onnx_featurizer_estimator_models\\\":false,\\\"vm_type\\\":\\\"STANDARD_DS12_V2\\\",\\\"telemetry_verbosity\\\":20,\\\"send_telemetry\\\":true,\\\"enable_dnn\\\":false,\\\"scenario\\\":\\\"SDK-1.13.0\\\",\\\"environment_label\\\":null,\\\"force_text_dnn\\\":false,\\\"enable_feature_sweeping\\\":true,\\\"enable_early_stopping\\\":true,\\\"early_stopping_n_iters\\\":10,\\\"metrics\\\":null,\\\"enable_ensembling\\\":true,\\\"enable_stack_ensembling\\\":true,\\\"ensemble_iterations\\\":15,\\\"enable_tf\\\":false,\\\"enable_subsampling\\\":null,\\\"subsample_seed\\\":null,\\\"enable_nimbusml\\\":false,\\\"enable_streaming\\\":false,\\\"force_streaming\\\":false,\\\"track_child_runs\\\":true,\\\"allowed_private_models\\\":[],\\\"label_column_name\\\":\\\"survived\\\",\\\"weight_column_name\\\":null,\\\"cv_split_column_names\\\":null,\\\"enable_local_managed\\\":false,\\\"_local_managed_run_id\\\":null,\\\"cost_mode\\\":1,\\\"lag_length\\\":0,\\\"metric_operation\\\":\\\"maximize\\\",\\\"preprocess\\\":true}\", \"DataPrepJsonString\": \"{\\\\\\\"training_data\\\\\\\": \\\\\\\"{\\\\\\\\\\\\\\\"blocks\\\\\\\\\\\\\\\": [{\\\\\\\\\\\\\\\"id\\\\\\\\\\\\\\\": \\\\\\\\\\\\\\\"2e0b6cb7-2f40-4d67-814f-e25b228af6cb\\\\\\\\\\\\\\\", \\\\\\\\\\\\\\\"type\\\\\\\\\\\\\\\": \\\\\\\\\\\\\\\"Microsoft.DPrep.GetFilesBlock\\\\\\\\\\\\\\\", \\\\\\\\\\\\\\\"arguments\\\\\\\\\\\\\\\": {\\\\\\\\\\\\\\\"isArchive\\\\\\\\\\\\\\\": false, \\\\\\\\\\\\\\\"path\\\\\\\\\\\\\\\": {\\\\\\\\\\\\\\\"target\\\\\\\\\\\\\\\": 4, \\\\\\\\\\\\\\\"resourceDetails\\\\\\\\\\\\\\\": [{\\\\\\\\\\\\\\\"path\\\\\\\\\\\\\\\": \\\\\\\\\\\\\\\"https://raw.githubusercontent.com/ddgope/Titanic-Survival-Prediction/master/prepared.csv\\\\\\\\\\\\\\\"}]}}, \\\\\\\\\\\\\\\"localData\\\\\\\\\\\\\\\": {}, \\\\\\\\\\\\\\\"isEnabled\\\\\\\\\\\\\\\": true, \\\\\\\\\\\\\\\"name\\\\\\\\\\\\\\\": null, \\\\\\\\\\\\\\\"annotation\\\\\\\\\\\\\\\": null}, {\\\\\\\\\\\\\\\"id\\\\\\\\\\\\\\\": \\\\\\\\\\\\\\\"b1b69aef-3870-4c96-88d0-1c2984f1912f\\\\\\\\\\\\\\\", \\\\\\\\\\\\\\\"type\\\\\\\\\\\\\\\": \\\\\\\\\\\\\\\"Microsoft.DPrep.ParseDelimitedBlock\\\\\\\\\\\\\\\", \\\\\\\\\\\\\\\"arguments\\\\\\\\\\\\\\\": {\\\\\\\\\\\\\\\"columnHeadersMode\\\\\\\\\\\\\\\": 3, \\\\\\\\\\\\\\\"fileEncoding\\\\\\\\\\\\\\\": 0, \\\\\\\\\\\\\\\"handleQuotedLineBreaks\\\\\\\\\\\\\\\": false, \\\\\\\\\\\\\\\"preview\\\\\\\\\\\\\\\": false, \\\\\\\\\\\\\\\"separator\\\\\\\\\\\\\\\": \\\\\\\\\\\\\\\",\\\\\\\\\\\\\\\", \\\\\\\\\\\\\\\"skipRows\\\\\\\\\\\\\\\": 0, \\\\\\\\\\\\\\\"skipRowsMode\\\\\\\\\\\\\\\": 0}, \\\\\\\\\\\\\\\"localData\\\\\\\\\\\\\\\": {}, \\\\\\\\\\\\\\\"isEnabled\\\\\\\\\\\\\\\": true, \\\\\\\\\\\\\\\"name\\\\\\\\\\\\\\\": null, \\\\\\\\\\\\\\\"annotation\\\\\\\\\\\\\\\": null}, {\\\\\\\\\\\\\\\"id\\\\\\\\\\\\\\\": \\\\\\\\\\\\\\\"33785aaa-a1ef-4668-bcce-45482d53aa77\\\\\\\\\\\\\\\", \\\\\\\\\\\\\\\"type\\\\\\\\\\\\\\\": \\\\\\\\\\\\\\\"Microsoft.DPrep.DropColumnsBlock\\\\\\\\\\\\\\\", \\\\\\\\\\\\\\\"arguments\\\\\\\\\\\\\\\": {\\\\\\\\\\\\\\\"columns\\\\\\\\\\\\\\\": {\\\\\\\\\\\\\\\"type\\\\\\\\\\\\\\\": 0, \\\\\\\\\\\\\\\"details\\\\\\\\\\\\\\\": {\\\\\\\\\\\\\\\"selectedColumns\\\\\\\\\\\\\\\": [\\\\\\\\\\\\\\\"Path\\\\\\\\\\\\\\\"]}}}, \\\\\\\\\\\\\\\"localData\\\\\\\\\\\\\\\": {}, \\\\\\\\\\\\\\\"isEnabled\\\\\\\\\\\\\\\": true, \\\\\\\\\\\\\\\"name\\\\\\\\\\\\\\\": null, \\\\\\\\\\\\\\\"annotation\\\\\\\\\\\\\\\": null}, {\\\\\\\\\\\\\\\"id\\\\\\\\\\\\\\\": \\\\\\\\\\\\\\\"1c5ee82a-f56a-4102-bc4d-12e72dbdae55\\\\\\\\\\\\\\\", \\\\\\\\\\\\\\\"type\\\\\\\\\\\\\\\": \\\\\\\\\\\\\\\"Microsoft.DPrep.SetColumnTypesBlock\\\\\\\\\\\\\\\", \\\\\\\\\\\\\\\"arguments\\\\\\\\\\\\\\\": {\\\\\\\\\\\\\\\"columnConversion\\\\\\\\\\\\\\\": [{\\\\\\\\\\\\\\\"column\\\\\\\\\\\\\\\": {\\\\\\\\\\\\\\\"type\\\\\\\\\\\\\\\": 2, \\\\\\\\\\\\\\\"details\\\\\\\\\\\\\\\": {\\\\\\\\\\\\\\\"selectedColumn\\\\\\\\\\\\\\\": \\\\\\\\\\\\\\\"pclass\\\\\\\\\\\\\\\"}}, \\\\\\\\\\\\\\\"typeProperty\\\\\\\\\\\\\\\": 3}, {\\\\\\\\\\\\\\\"column\\\\\\\\\\\\\\\": {\\\\\\\\\\\\\\\"type\\\\\\\\\\\\\\\": 2, \\\\\\\\\\\\\\\"details\\\\\\\\\\\\\\\": {\\\\\\\\\\\\\\\"selectedColumn\\\\\\\\\\\\\\\": \\\\\\\\\\\\\\\"age\\\\\\\\\\\\\\\"}}, \\\\\\\\\\\\\\\"typeProperty\\\\\\\\\\\\\\\": 3}, {\\\\\\\\\\\\\\\"column\\\\\\\\\\\\\\\": {\\\\\\\\\\\\\\\"type\\\\\\\\\\\\\\\": 2, \\\\\\\\\\\\\\\"details\\\\\\\\\\\\\\\": {\\\\\\\\\\\\\\\"selectedColumn\\\\\\\\\\\\\\\": \\\\\\\\\\\\\\\"sibsp\\\\\\\\\\\\\\\"}}, \\\\\\\\\\\\\\\"typeProperty\\\\\\\\\\\\\\\": 3}, {\\\\\\\\\\\\\\\"column\\\\\\\\\\\\\\\": {\\\\\\\\\\\\\\\"type\\\\\\\\\\\\\\\": 2, \\\\\\\\\\\\\\\"details\\\\\\\\\\\\\\\": {\\\\\\\\\\\\\\\"selectedColumn\\\\\\\\\\\\\\\": \\\\\\\\\\\\\\\"parch\\\\\\\\\\\\\\\"}}, \\\\\\\\\\\\\\\"typeProperty\\\\\\\\\\\\\\\": 3}, {\\\\\\\\\\\\\\\"column\\\\\\\\\\\\\\\": {\\\\\\\\\\\\\\\"type\\\\\\\\\\\\\\\": 2, \\\\\\\\\\\\\\\"details\\\\\\\\\\\\\\\": {\\\\\\\\\\\\\\\"selectedColumn\\\\\\\\\\\\\\\": \\\\\\\\\\\\\\\"fare\\\\\\\\\\\\\\\"}}, \\\\\\\\\\\\\\\"typeProperty\\\\\\\\\\\\\\\": 3}, {\\\\\\\\\\\\\\\"column\\\\\\\\\\\\\\\": {\\\\\\\\\\\\\\\"type\\\\\\\\\\\\\\\": 2, \\\\\\\\\\\\\\\"details\\\\\\\\\\\\\\\": {\\\\\\\\\\\\\\\"selectedColumn\\\\\\\\\\\\\\\": \\\\\\\\\\\\\\\"age_NA\\\\\\\\\\\\\\\"}}, \\\\\\\\\\\\\\\"typeProperty\\\\\\\\\\\\\\\": 3}, {\\\\\\\\\\\\\\\"column\\\\\\\\\\\\\\\": {\\\\\\\\\\\\\\\"type\\\\\\\\\\\\\\\": 2, \\\\\\\\\\\\\\\"details\\\\\\\\\\\\\\\": {\\\\\\\\\\\\\\\"selectedColumn\\\\\\\\\\\\\\\": \\\\\\\\\\\\\\\"fare_NA\\\\\\\\\\\\\\\"}}, \\\\\\\\\\\\\\\"typeProperty\\\\\\\\\\\\\\\": 3}, {\\\\\\\\\\\\\\\"column\\\\\\\\\\\\\\\": {\\\\\\\\\\\\\\\"type\\\\\\\\\\\\\\\": 2, \\\\\\\\\\\\\\\"details\\\\\\\\\\\\\\\": {\\\\\\\\\\\\\\\"selectedColumn\\\\\\\\\\\\\\\": \\\\\\\\\\\\\\\"sex_male\\\\\\\\\\\\\\\"}}, \\\\\\\\\\\\\\\"typeProperty\\\\\\\\\\\\\\\": 3}, {\\\\\\\\\\\\\\\"column\\\\\\\\\\\\\\\": {\\\\\\\\\\\\\\\"type\\\\\\\\\\\\\\\": 2, \\\\\\\\\\\\\\\"details\\\\\\\\\\\\\\\": {\\\\\\\\\\\\\\\"selectedColumn\\\\\\\\\\\\\\\": \\\\\\\\\\\\\\\"cabin_Missing\\\\\\\\\\\\\\\"}}, \\\\\\\\\\\\\\\"typeProperty\\\\\\\\\\\\\\\": 3}, {\\\\\\\\\\\\\\\"column\\\\\\\\\\\\\\\": {\\\\\\\\\\\\\\\"type\\\\\\\\\\\\\\\": 2, \\\\\\\\\\\\\\\"details\\\\\\\\\\\\\\\": {\\\\\\\\\\\\\\\"selectedColumn\\\\\\\\\\\\\\\": \\\\\\\\\\\\\\\"cabin_Rare\\\\\\\\\\\\\\\"}}, \\\\\\\\\\\\\\\"typeProperty\\\\\\\\\\\\\\\": 3}, {\\\\\\\\\\\\\\\"column\\\\\\\\\\\\\\\": {\\\\\\\\\\\\\\\"type\\\\\\\\\\\\\\\": 2, \\\\\\\\\\\\\\\"details\\\\\\\\\\\\\\\": {\\\\\\\\\\\\\\\"selectedColumn\\\\\\\\\\\\\\\": \\\\\\\\\\\\\\\"embarked_Q\\\\\\\\\\\\\\\"}}, \\\\\\\\\\\\\\\"typeProperty\\\\\\\\\\\\\\\": 3}, {\\\\\\\\\\\\\\\"column\\\\\\\\\\\\\\\": {\\\\\\\\\\\\\\\"type\\\\\\\\\\\\\\\": 2, \\\\\\\\\\\\\\\"details\\\\\\\\\\\\\\\": {\\\\\\\\\\\\\\\"selectedColumn\\\\\\\\\\\\\\\": \\\\\\\\\\\\\\\"embarked_Rare\\\\\\\\\\\\\\\"}}, \\\\\\\\\\\\\\\"typeProperty\\\\\\\\\\\\\\\": 3}, {\\\\\\\\\\\\\\\"column\\\\\\\\\\\\\\\": {\\\\\\\\\\\\\\\"type\\\\\\\\\\\\\\\": 2, \\\\\\\\\\\\\\\"details\\\\\\\\\\\\\\\": {\\\\\\\\\\\\\\\"selectedColumn\\\\\\\\\\\\\\\": \\\\\\\\\\\\\\\"embarked_S\\\\\\\\\\\\\\\"}}, \\\\\\\\\\\\\\\"typeProperty\\\\\\\\\\\\\\\": 3}, {\\\\\\\\\\\\\\\"column\\\\\\\\\\\\\\\": {\\\\\\\\\\\\\\\"type\\\\\\\\\\\\\\\": 2, \\\\\\\\\\\\\\\"details\\\\\\\\\\\\\\\": {\\\\\\\\\\\\\\\"selectedColumn\\\\\\\\\\\\\\\": \\\\\\\\\\\\\\\"title_Mr\\\\\\\\\\\\\\\"}}, \\\\\\\\\\\\\\\"typeProperty\\\\\\\\\\\\\\\": 3}, {\\\\\\\\\\\\\\\"column\\\\\\\\\\\\\\\": {\\\\\\\\\\\\\\\"type\\\\\\\\\\\\\\\": 2, \\\\\\\\\\\\\\\"details\\\\\\\\\\\\\\\": {\\\\\\\\\\\\\\\"selectedColumn\\\\\\\\\\\\\\\": \\\\\\\\\\\\\\\"title_Mrs\\\\\\\\\\\\\\\"}}, \\\\\\\\\\\\\\\"typeProperty\\\\\\\\\\\\\\\": 3}, {\\\\\\\\\\\\\\\"column\\\\\\\\\\\\\\\": {\\\\\\\\\\\\\\\"type\\\\\\\\\\\\\\\": 2, \\\\\\\\\\\\\\\"details\\\\\\\\\\\\\\\": {\\\\\\\\\\\\\\\"selectedColumn\\\\\\\\\\\\\\\": \\\\\\\\\\\\\\\"title_Rare\\\\\\\\\\\\\\\"}}, \\\\\\\\\\\\\\\"typeProperty\\\\\\\\\\\\\\\": 3}, {\\\\\\\\\\\\\\\"column\\\\\\\\\\\\\\\": {\\\\\\\\\\\\\\\"type\\\\\\\\\\\\\\\": 2, \\\\\\\\\\\\\\\"details\\\\\\\\\\\\\\\": {\\\\\\\\\\\\\\\"selectedColumn\\\\\\\\\\\\\\\": \\\\\\\\\\\\\\\"survived\\\\\\\\\\\\\\\"}}, \\\\\\\\\\\\\\\"typeProperty\\\\\\\\\\\\\\\": 2}]}, \\\\\\\\\\\\\\\"localData\\\\\\\\\\\\\\\": {}, \\\\\\\\\\\\\\\"isEnabled\\\\\\\\\\\\\\\": true, \\\\\\\\\\\\\\\"name\\\\\\\\\\\\\\\": null, \\\\\\\\\\\\\\\"annotation\\\\\\\\\\\\\\\": null}], \\\\\\\\\\\\\\\"inspectors\\\\\\\\\\\\\\\": [], \\\\\\\\\\\\\\\"meta\\\\\\\\\\\\\\\": {\\\\\\\\\\\\\\\"savedDatasetId\\\\\\\\\\\\\\\": \\\\\\\\\\\\\\\"7c53599c-2604-4c50-9e54-673bc9b96b7c\\\\\\\\\\\\\\\", \\\\\\\\\\\\\\\"datasetType\\\\\\\\\\\\\\\": \\\\\\\\\\\\\\\"tabular\\\\\\\\\\\\\\\", \\\\\\\\\\\\\\\"subscriptionId\\\\\\\\\\\\\\\": \\\\\\\\\\\\\\\"976ee174-3882-4721-b90a-b5fef6b72f24\\\\\\\\\\\\\\\", \\\\\\\\\\\\\\\"workspaceId\\\\\\\\\\\\\\\": \\\\\\\\\\\\\\\"36a1c2ed-1845-4d60-a78b-e1cf81f4229c\\\\\\\\\\\\\\\", \\\\\\\\\\\\\\\"workspaceLocation\\\\\\\\\\\\\\\": \\\\\\\\\\\\\\\"southcentralus\\\\\\\\\\\\\\\"}}\\\\\\\", \\\\\\\"activities\\\\\\\": 0}\", \"EnableSubsampling\": null, \"runTemplate\": \"AutoML\", \"azureml.runsource\": \"automl\", \"display_task_type\": \"classification\", \"dependencies_versions\": \"{\\\"azureml-widgets\\\": \\\"1.20.0\\\", \\\"azureml-train\\\": \\\"1.20.0\\\", \\\"azureml-train-restclients-hyperdrive\\\": \\\"1.20.0\\\", \\\"azureml-train-core\\\": \\\"1.20.0\\\", \\\"azureml-train-automl\\\": \\\"1.20.0\\\", \\\"azureml-train-automl-runtime\\\": \\\"1.20.0\\\", \\\"azureml-train-automl-client\\\": \\\"1.20.0\\\", \\\"azureml-tensorboard\\\": \\\"1.20.0\\\", \\\"azureml-telemetry\\\": \\\"1.20.0\\\", \\\"azureml-sdk\\\": \\\"1.20.0\\\", \\\"azureml-samples\\\": \\\"0+unknown\\\", \\\"azureml-pipeline\\\": \\\"1.20.0\\\", \\\"azureml-pipeline-steps\\\": \\\"1.20.0\\\", \\\"azureml-pipeline-core\\\": \\\"1.20.0\\\", \\\"azureml-opendatasets\\\": \\\"1.20.0\\\", \\\"azureml-model-management-sdk\\\": \\\"1.0.1b6.post1\\\", \\\"azureml-mlflow\\\": \\\"1.20.0.post1\\\", \\\"azureml-interpret\\\": \\\"1.20.0\\\", \\\"azureml-explain-model\\\": \\\"1.20.0\\\", \\\"azureml-defaults\\\": \\\"1.20.0\\\", \\\"azureml-dataset-runtime\\\": \\\"1.20.0\\\", \\\"azureml-dataprep\\\": \\\"2.7.3\\\", \\\"azureml-dataprep-rslex\\\": \\\"1.5.0\\\", \\\"azureml-dataprep-native\\\": \\\"27.0.0\\\", \\\"azureml-datadrift\\\": \\\"1.20.0\\\", \\\"azureml-core\\\": \\\"1.20.0\\\", \\\"azureml-contrib-services\\\": \\\"1.20.0\\\", \\\"azureml-contrib-server\\\": \\\"1.20.0\\\", \\\"azureml-contrib-reinforcementlearning\\\": \\\"1.20.0\\\", \\\"azureml-contrib-pipeline-steps\\\": \\\"1.20.0\\\", \\\"azureml-contrib-notebook\\\": \\\"1.20.0\\\", \\\"azureml-contrib-interpret\\\": \\\"1.20.0\\\", \\\"azureml-contrib-gbdt\\\": \\\"1.20.0\\\", \\\"azureml-contrib-fairness\\\": \\\"1.20.0\\\", \\\"azureml-contrib-dataset\\\": \\\"1.20.0\\\", \\\"azureml-cli-common\\\": \\\"1.20.0\\\", \\\"azureml-automl-runtime\\\": \\\"1.20.0\\\", \\\"azureml-automl-core\\\": \\\"1.20.0\\\", \\\"azureml-accel-models\\\": \\\"1.20.0\\\"}\", \"_aml_system_scenario_identification\": \"Remote.Parent\", \"ClientType\": \"SDK\", \"environment_cpu_name\": \"AzureML-AutoML\", \"environment_cpu_label\": \"prod\", \"environment_gpu_name\": \"AzureML-AutoML-GPU\", \"environment_gpu_label\": \"prod\", \"root_attribution\": \"automl\", \"attribution\": \"AutoML\", \"Orchestrator\": \"AutoML\", \"CancelUri\": \"https://southcentralus.experiments.azureml.net/jasmine/v1.0/subscriptions/976ee174-3882-4721-b90a-b5fef6b72f24/resourceGroups/aml-quickstarts-139405/providers/Microsoft.MachineLearningServices/workspaces/quick-starts-ws-139405/experimentids/3c423f3f-cdaa-4726-af42-e7a42f52f517/cancel/AutoML_2367dc6d-0c89-4491-80d3-45662e0cbc66\", \"ClientSdkVersion\": \"1.22.0\", \"snapshotId\": \"00000000-0000-0000-0000-000000000000\", \"SetupRunId\": \"AutoML_2367dc6d-0c89-4491-80d3-45662e0cbc66_setup\", \"SetupRunContainerId\": \"dcid.AutoML_2367dc6d-0c89-4491-80d3-45662e0cbc66_setup\", \"FeaturizationRunJsonPath\": \"featurizer_container.json\", \"FeaturizationRunId\": \"AutoML_2367dc6d-0c89-4491-80d3-45662e0cbc66_featurize\", \"ProblemInfoJsonString\": \"{\\\"dataset_num_categorical\\\": 0, \\\"is_sparse\\\": false, \\\"subsampling\\\": false, \\\"dataset_classes\\\": 2, \\\"dataset_features\\\": 15, \\\"dataset_samples\\\": 916, \\\"single_frequency_class_detected\\\": false}\", \"ModelExplainRunId\": \"AutoML_2367dc6d-0c89-4491-80d3-45662e0cbc66_ModelExplain\"}, \"tags\": {\"model_explain_run\": \"best_run\", \"_aml_system_azureml.automlComponent\": \"AutoML\", \"pipeline_id\": \"\", \"score\": \"\", \"predicted_cost\": \"\", \"fit_time\": \"\", \"training_percent\": \"\", \"iteration\": \"\", \"run_preprocessor\": \"\", \"run_algorithm\": \"\", \"dynamic_whitelisting_iterations\": \"<25>;<30>;<35>;\", \"automl_best_child_run_id\": \"AutoML_2367dc6d-0c89-4491-80d3-45662e0cbc66_36\"}, \"end_time_utc\": \"2021-02-24T03:35:27.114463Z\", \"status\": \"Completed\", \"log_files\": {}, \"log_groups\": [], \"run_duration\": \"0:59:36\"}, \"child_runs\": [{\"run_id\": \"AutoML_2367dc6d-0c89-4491-80d3-45662e0cbc66_0\", \"run_number\": 11, \"metric\": null, \"status\": \"Completed\", \"run_type\": \"azureml.scriptrun\", \"training_percent\": \"100\", \"start_time\": \"2021-02-24T03:22:30.502766Z\", \"end_time\": \"2021-02-24T03:23:27.118075Z\", \"created_time\": \"2021-02-24T03:21:18.600135Z\", \"created_time_dt\": \"2021-02-24T03:21:18.600135Z\", \"duration\": \"0:02:08\", \"iteration\": \"0\", \"goal\": \"accuracy_max\", \"run_name\": \"MaxAbsScaler, LightGBM\", \"run_properties\": \"copy=True\", \"primary_metric\": 0.78496178, \"best_metric\": 0.78496178}, {\"run_id\": \"AutoML_2367dc6d-0c89-4491-80d3-45662e0cbc66_2\", \"run_number\": 12, \"metric\": null, \"status\": \"Completed\", \"run_type\": \"azureml.scriptrun\", \"training_percent\": \"100\", \"start_time\": \"2021-02-24T03:23:12.607302Z\", \"end_time\": \"2021-02-24T03:25:13.287437Z\", \"created_time\": \"2021-02-24T03:21:18.723463Z\", \"created_time_dt\": \"2021-02-24T03:21:18.723463Z\", \"duration\": \"0:03:54\", \"iteration\": \"2\", \"goal\": \"accuracy_max\", \"run_name\": \"MinMaxScaler, RandomForest\", \"run_properties\": \"copy=True, feature_range=(0, 1\", \"primary_metric\": 0.8023053, \"best_metric\": 0.8023053}, {\"run_id\": \"AutoML_2367dc6d-0c89-4491-80d3-45662e0cbc66_3\", \"run_number\": 13, \"metric\": null, \"status\": \"Completed\", \"run_type\": \"azureml.scriptrun\", \"training_percent\": \"100\", \"start_time\": \"2021-02-24T03:23:13.944423Z\", \"end_time\": \"2021-02-24T03:25:07.83673Z\", \"created_time\": \"2021-02-24T03:21:18.76398Z\", \"created_time_dt\": \"2021-02-24T03:21:18.76398Z\", \"duration\": \"0:03:49\", \"iteration\": \"3\", \"goal\": \"accuracy_max\", \"run_name\": \"MinMaxScaler, RandomForest\", \"run_properties\": \"copy=True, feature_range=(0, 1\", \"primary_metric\": 0.78272814, \"best_metric\": 0.8023053}, {\"run_id\": \"AutoML_2367dc6d-0c89-4491-80d3-45662e0cbc66_1\", \"run_number\": 14, \"metric\": null, \"status\": \"Completed\", \"run_type\": \"azureml.scriptrun\", \"training_percent\": \"100\", \"start_time\": \"2021-02-24T03:21:27.623953Z\", \"end_time\": \"2021-02-24T03:22:25.449216Z\", \"created_time\": \"2021-02-24T03:21:18.816996Z\", \"created_time_dt\": \"2021-02-24T03:21:18.816996Z\", \"duration\": \"0:01:06\", \"iteration\": \"1\", \"goal\": \"accuracy_max\", \"run_name\": \"MaxAbsScaler, XGBoostClassifier\", \"run_properties\": \"copy=True\", \"primary_metric\": 0.79909221, \"best_metric\": 0.79909221}, {\"run_id\": \"AutoML_2367dc6d-0c89-4491-80d3-45662e0cbc66_4\", \"run_number\": 15, \"metric\": null, \"status\": \"Completed\", \"run_type\": \"azureml.scriptrun\", \"training_percent\": \"100\", \"start_time\": \"2021-02-24T03:23:14.475697Z\", \"end_time\": \"2021-02-24T03:25:45.261962Z\", \"created_time\": \"2021-02-24T03:22:26.809686Z\", \"created_time_dt\": \"2021-02-24T03:22:26.809686Z\", \"duration\": \"0:03:18\", \"iteration\": \"4\", \"goal\": \"accuracy_max\", \"run_name\": \"MinMaxScaler, RandomForest\", \"run_properties\": \"copy=True, feature_range=(0, 1\", \"primary_metric\": 0.79365743, \"best_metric\": 0.8023053}, {\"run_id\": \"AutoML_2367dc6d-0c89-4491-80d3-45662e0cbc66_5\", \"run_number\": 16, \"metric\": null, \"status\": \"Completed\", \"run_type\": \"azureml.scriptrun\", \"training_percent\": \"100\", \"start_time\": \"2021-02-24T03:23:39.3183Z\", \"end_time\": \"2021-02-24T03:25:08.797912Z\", \"created_time\": \"2021-02-24T03:23:29.139873Z\", \"created_time_dt\": \"2021-02-24T03:23:29.139873Z\", \"duration\": \"0:01:39\", \"iteration\": \"5\", \"goal\": \"accuracy_max\", \"run_name\": \"StandardScalerWrapper, XGBoostClassifier\", \"run_properties\": \"<azureml.automl.runtime.shared.model_wrappers.StandardScalerWrapper object at 0x7f1bbd3da4a8\", \"primary_metric\": 0.78165313, \"best_metric\": 0.8023053}, {\"run_id\": \"AutoML_2367dc6d-0c89-4491-80d3-45662e0cbc66_6\", \"run_number\": 17, \"metric\": null, \"status\": \"Completed\", \"run_type\": \"azureml.scriptrun\", \"training_percent\": \"100\", \"start_time\": \"2021-02-24T03:25:20.945449Z\", \"end_time\": \"2021-02-24T03:26:14.793437Z\", \"created_time\": \"2021-02-24T03:25:11.146135Z\", \"created_time_dt\": \"2021-02-24T03:25:11.146135Z\", \"duration\": \"0:01:03\", \"iteration\": \"6\", \"goal\": \"accuracy_max\", \"run_name\": \"SparseNormalizer, XGBoostClassifier\", \"run_properties\": \"<azureml.automl.runtime.shared.model_wrappers.SparseNormalizer object at 0x7f98f41661d0\", \"primary_metric\": 0.79909221, \"best_metric\": 0.8023053}, {\"run_id\": \"AutoML_2367dc6d-0c89-4491-80d3-45662e0cbc66_7\", \"run_number\": 18, \"metric\": null, \"status\": \"Completed\", \"run_type\": \"azureml.scriptrun\", \"training_percent\": \"100\", \"start_time\": \"2021-02-24T03:25:25.080858Z\", \"end_time\": \"2021-02-24T03:26:46.651653Z\", \"created_time\": \"2021-02-24T03:25:15.268407Z\", \"created_time_dt\": \"2021-02-24T03:25:15.268407Z\", \"duration\": \"0:01:31\", \"iteration\": \"7\", \"goal\": \"accuracy_max\", \"run_name\": \"MaxAbsScaler, SVM\", \"run_properties\": \"copy=True\", \"primary_metric\": 0.71948161, \"best_metric\": 0.8023053}, {\"run_id\": \"AutoML_2367dc6d-0c89-4491-80d3-45662e0cbc66_8\", \"run_number\": 19, \"metric\": null, \"status\": \"Completed\", \"run_type\": \"azureml.scriptrun\", \"training_percent\": \"100\", \"start_time\": \"2021-02-24T03:25:25.474672Z\", \"end_time\": \"2021-02-24T03:26:44.553312Z\", \"created_time\": \"2021-02-24T03:25:15.270925Z\", \"created_time_dt\": \"2021-02-24T03:25:15.270925Z\", \"duration\": \"0:01:29\", \"iteration\": \"8\", \"goal\": \"accuracy_max\", \"run_name\": \"MaxAbsScaler, SVM\", \"run_properties\": \"copy=True\", \"primary_metric\": 0.74240325, \"best_metric\": 0.8023053}, {\"run_id\": \"AutoML_2367dc6d-0c89-4491-80d3-45662e0cbc66_9\", \"run_number\": 20, \"metric\": null, \"status\": \"Completed\", \"run_type\": \"azureml.scriptrun\", \"training_percent\": \"100\", \"start_time\": \"2021-02-24T03:25:56.805752Z\", \"end_time\": \"2021-02-24T03:26:44.393732Z\", \"created_time\": \"2021-02-24T03:25:47.148995Z\", \"created_time_dt\": \"2021-02-24T03:25:47.148995Z\", \"duration\": \"0:00:57\", \"iteration\": \"9\", \"goal\": \"accuracy_max\", \"run_name\": \"SparseNormalizer, XGBoostClassifier\", \"run_properties\": \"<azureml.automl.runtime.shared.model_wrappers.SparseNormalizer object at 0x7fe54111e898\", \"primary_metric\": 0.80999761, \"best_metric\": 0.80999761}, {\"run_id\": \"AutoML_2367dc6d-0c89-4491-80d3-45662e0cbc66_10\", \"run_number\": 21, \"metric\": null, \"status\": \"Completed\", \"run_type\": \"azureml.scriptrun\", \"training_percent\": \"100\", \"start_time\": \"2021-02-24T03:26:24.399488Z\", \"end_time\": \"2021-02-24T03:27:06.344808Z\", \"created_time\": \"2021-02-24T03:26:16.632706Z\", \"created_time_dt\": \"2021-02-24T03:26:16.632706Z\", \"duration\": \"0:00:49\", \"iteration\": \"10\", \"goal\": \"accuracy_max\", \"run_name\": \"MaxAbsScaler, GradientBoosting\", \"run_properties\": \"copy=True\", \"primary_metric\": 0.79473244, \"best_metric\": 0.80999761}, {\"run_id\": \"AutoML_2367dc6d-0c89-4491-80d3-45662e0cbc66_12\", \"run_number\": 22, \"metric\": null, \"status\": \"Completed\", \"run_type\": \"azureml.scriptrun\", \"training_percent\": \"100\", \"start_time\": \"2021-02-24T03:27:03.106951Z\", \"end_time\": \"2021-02-24T03:27:50.266629Z\", \"created_time\": \"2021-02-24T03:26:46.151302Z\", \"created_time_dt\": \"2021-02-24T03:26:46.151302Z\", \"duration\": \"0:01:04\", \"iteration\": \"12\", \"goal\": \"accuracy_max\", \"run_name\": \"StandardScalerWrapper, LightGBM\", \"run_properties\": \"<azureml.automl.runtime.shared.model_wrappers.StandardScalerWrapper object at 0x7feea9e1d550\", \"primary_metric\": 0.77288581, \"best_metric\": 0.80999761}, {\"run_id\": \"AutoML_2367dc6d-0c89-4491-80d3-45662e0cbc66_11\", \"run_number\": 23, \"metric\": null, \"status\": \"Completed\", \"run_type\": \"azureml.scriptrun\", \"training_percent\": \"100\", \"start_time\": \"2021-02-24T03:26:55.294115Z\", \"end_time\": \"2021-02-24T03:27:50.110881Z\", \"created_time\": \"2021-02-24T03:26:46.152446Z\", \"created_time_dt\": \"2021-02-24T03:26:46.152446Z\", \"duration\": \"0:01:03\", \"iteration\": \"11\", \"goal\": \"accuracy_max\", \"run_name\": \"StandardScalerWrapper, RandomForest\", \"run_properties\": \"<azureml.automl.runtime.shared.model_wrappers.StandardScalerWrapper object at 0x7f522007e278\", \"primary_metric\": 0.80344004, \"best_metric\": 0.80999761}, {\"run_id\": \"AutoML_2367dc6d-0c89-4491-80d3-45662e0cbc66_13\", \"run_number\": 24, \"metric\": null, \"status\": \"Completed\", \"run_type\": \"azureml.scriptrun\", \"training_percent\": \"100\", \"start_time\": \"2021-02-24T03:27:03.449251Z\", \"end_time\": \"2021-02-24T03:28:04.320975Z\", \"created_time\": \"2021-02-24T03:26:54.855504Z\", \"created_time_dt\": \"2021-02-24T03:26:54.855504Z\", \"duration\": \"0:01:09\", \"iteration\": \"13\", \"goal\": \"accuracy_max\", \"run_name\": \"MaxAbsScaler, LightGBM\", \"run_properties\": \"copy=True\", \"primary_metric\": 0.79905638, \"best_metric\": 0.80999761}, {\"run_id\": \"AutoML_2367dc6d-0c89-4491-80d3-45662e0cbc66_14\", \"run_number\": 25, \"metric\": null, \"status\": \"Completed\", \"run_type\": \"azureml.scriptrun\", \"training_percent\": \"100\", \"start_time\": \"2021-02-24T03:27:17.076503Z\", \"end_time\": \"2021-02-24T03:28:07.831081Z\", \"created_time\": \"2021-02-24T03:27:08.241483Z\", \"created_time_dt\": \"2021-02-24T03:27:08.241483Z\", \"duration\": \"0:00:59\", \"iteration\": \"14\", \"goal\": \"accuracy_max\", \"run_name\": \"MinMaxScaler, LightGBM\", \"run_properties\": \"copy=True, feature_range=(0, 1\", \"primary_metric\": 0.80232919, \"best_metric\": 0.80999761}, {\"run_id\": \"AutoML_2367dc6d-0c89-4491-80d3-45662e0cbc66_15\", \"run_number\": 26, \"metric\": null, \"status\": \"Completed\", \"run_type\": \"azureml.scriptrun\", \"training_percent\": \"100\", \"start_time\": \"2021-02-24T03:28:01.390996Z\", \"end_time\": \"2021-02-24T03:29:04.989249Z\", \"created_time\": \"2021-02-24T03:27:51.939348Z\", \"created_time_dt\": \"2021-02-24T03:27:51.939348Z\", \"duration\": \"0:01:13\", \"iteration\": \"15\", \"goal\": \"accuracy_max\", \"run_name\": \"SparseNormalizer, LightGBM\", \"run_properties\": \"<azureml.automl.runtime.shared.model_wrappers.SparseNormalizer object at 0x7f76053eb080\", \"primary_metric\": 0.80788342, \"best_metric\": 0.80999761}, {\"run_id\": \"AutoML_2367dc6d-0c89-4491-80d3-45662e0cbc66_16\", \"run_number\": 27, \"metric\": null, \"status\": \"Completed\", \"run_type\": \"azureml.scriptrun\", \"training_percent\": \"100\", \"start_time\": \"2021-02-24T03:28:01.160961Z\", \"end_time\": \"2021-02-24T03:28:49.927249Z\", \"created_time\": \"2021-02-24T03:27:51.980811Z\", \"created_time_dt\": \"2021-02-24T03:27:51.980811Z\", \"duration\": \"0:00:57\", \"iteration\": \"16\", \"goal\": \"accuracy_max\", \"run_name\": \"RobustScaler, GradientBoosting\", \"run_properties\": \"copy=True, quantile_range=[25, 75], with_centering=False,\\n             with_scaling=False\", \"primary_metric\": 0.78706402, \"best_metric\": 0.80999761}, {\"run_id\": \"AutoML_2367dc6d-0c89-4491-80d3-45662e0cbc66_17\", \"run_number\": 28, \"metric\": null, \"status\": \"Completed\", \"run_type\": \"azureml.scriptrun\", \"training_percent\": \"100\", \"start_time\": \"2021-02-24T03:28:15.60695Z\", \"end_time\": \"2021-02-24T03:29:03.068536Z\", \"created_time\": \"2021-02-24T03:28:05.928647Z\", \"created_time_dt\": \"2021-02-24T03:28:05.928647Z\", \"duration\": \"0:00:57\", \"iteration\": \"17\", \"goal\": \"accuracy_max\", \"run_name\": \"SparseNormalizer, XGBoostClassifier\", \"run_properties\": \"<azureml.automl.runtime.shared.model_wrappers.SparseNormalizer object at 0x7f1a0feb50b8\", \"primary_metric\": 0.79043239, \"best_metric\": 0.80999761}, {\"run_id\": \"AutoML_2367dc6d-0c89-4491-80d3-45662e0cbc66_18\", \"run_number\": 29, \"metric\": null, \"status\": \"Completed\", \"run_type\": \"azureml.scriptrun\", \"training_percent\": \"100\", \"start_time\": \"2021-02-24T03:28:20.193189Z\", \"end_time\": \"2021-02-24T03:29:08.243828Z\", \"created_time\": \"2021-02-24T03:28:09.720871Z\", \"created_time_dt\": \"2021-02-24T03:28:09.720871Z\", \"duration\": \"0:00:58\", \"iteration\": \"18\", \"goal\": \"accuracy_max\", \"run_name\": \"MinMaxScaler, LightGBM\", \"run_properties\": \"copy=True, feature_range=(0, 1\", \"primary_metric\": 0.8001075, \"best_metric\": 0.80999761}, {\"run_id\": \"AutoML_2367dc6d-0c89-4491-80d3-45662e0cbc66_19\", \"run_number\": 30, \"metric\": null, \"status\": \"Completed\", \"run_type\": \"azureml.scriptrun\", \"training_percent\": \"100\", \"start_time\": \"2021-02-24T03:29:05.720247Z\", \"end_time\": \"2021-02-24T03:29:54.1991Z\", \"created_time\": \"2021-02-24T03:28:51.476311Z\", \"created_time_dt\": \"2021-02-24T03:28:51.476311Z\", \"duration\": \"0:01:02\", \"iteration\": \"19\", \"goal\": \"accuracy_max\", \"run_name\": \"SparseNormalizer, XGBoostClassifier\", \"run_properties\": \"<azureml.automl.runtime.shared.model_wrappers.SparseNormalizer object at 0x7f6088cd9908\", \"primary_metric\": 0.8067248, \"best_metric\": 0.80999761}, {\"run_id\": \"AutoML_2367dc6d-0c89-4491-80d3-45662e0cbc66_20\", \"run_number\": 31, \"metric\": null, \"status\": \"Completed\", \"run_type\": \"azureml.scriptrun\", \"training_percent\": \"100\", \"start_time\": \"2021-02-24T03:29:21.024593Z\", \"end_time\": \"2021-02-24T03:30:13.974916Z\", \"created_time\": \"2021-02-24T03:29:06.221295Z\", \"created_time_dt\": \"2021-02-24T03:29:06.221295Z\", \"duration\": \"0:01:07\", \"iteration\": \"20\", \"goal\": \"accuracy_max\", \"run_name\": \"StandardScalerWrapper, ExtremeRandomTrees\", \"run_properties\": \"<azureml.automl.runtime.shared.model_wrappers.StandardScalerWrapper object at 0x7f2902af1a90\", \"primary_metric\": 0.79260631, \"best_metric\": 0.80999761}, {\"run_id\": \"AutoML_2367dc6d-0c89-4491-80d3-45662e0cbc66_21\", \"run_number\": 32, \"metric\": null, \"status\": \"Completed\", \"run_type\": \"azureml.scriptrun\", \"training_percent\": \"100\", \"start_time\": \"2021-02-24T03:29:20.007299Z\", \"end_time\": \"2021-02-24T03:30:13.245553Z\", \"created_time\": \"2021-02-24T03:29:10.847058Z\", \"created_time_dt\": \"2021-02-24T03:29:10.847058Z\", \"duration\": \"0:01:02\", \"iteration\": \"21\", \"goal\": \"accuracy_max\", \"run_name\": \"SparseNormalizer, XGBoostClassifier\", \"run_properties\": \"<azureml.automl.runtime.shared.model_wrappers.SparseNormalizer object at 0x7fbc6cb5c0b8\", \"primary_metric\": 0.80016722, \"best_metric\": 0.80999761}, {\"run_id\": \"AutoML_2367dc6d-0c89-4491-80d3-45662e0cbc66_22\", \"run_number\": 33, \"metric\": null, \"status\": \"Completed\", \"run_type\": \"azureml.scriptrun\", \"training_percent\": \"100\", \"start_time\": \"2021-02-24T03:29:18.858568Z\", \"end_time\": \"2021-02-24T03:30:17.230868Z\", \"created_time\": \"2021-02-24T03:29:11.134274Z\", \"created_time_dt\": \"2021-02-24T03:29:11.134274Z\", \"duration\": \"0:01:06\", \"iteration\": \"22\", \"goal\": \"accuracy_max\", \"run_name\": \"StandardScalerWrapper, ExtremeRandomTrees\", \"run_properties\": \"<azureml.automl.runtime.shared.model_wrappers.StandardScalerWrapper object at 0x7f34a8312358\", \"primary_metric\": 0.80020306, \"best_metric\": 0.80999761}, {\"run_id\": \"AutoML_2367dc6d-0c89-4491-80d3-45662e0cbc66_23\", \"run_number\": 34, \"metric\": null, \"status\": \"Completed\", \"run_type\": \"azureml.scriptrun\", \"training_percent\": \"100\", \"start_time\": \"2021-02-24T03:30:05.969184Z\", \"end_time\": \"2021-02-24T03:31:05.266233Z\", \"created_time\": \"2021-02-24T03:29:56.239507Z\", \"created_time_dt\": \"2021-02-24T03:29:56.239507Z\", \"duration\": \"0:01:09\", \"iteration\": \"23\", \"goal\": \"accuracy_max\", \"run_name\": \"MinMaxScaler, LightGBM\", \"run_properties\": \"copy=True, feature_range=(0, 1\", \"primary_metric\": 0.79363354, \"best_metric\": 0.80999761}, {\"run_id\": \"AutoML_2367dc6d-0c89-4491-80d3-45662e0cbc66_24\", \"run_number\": 35, \"metric\": null, \"status\": \"Completed\", \"run_type\": \"azureml.scriptrun\", \"training_percent\": \"100\", \"start_time\": \"2021-02-24T03:30:22.525737Z\", \"end_time\": \"2021-02-24T03:31:14.857356Z\", \"created_time\": \"2021-02-24T03:30:14.95541Z\", \"created_time_dt\": \"2021-02-24T03:30:14.95541Z\", \"duration\": \"0:00:59\", \"iteration\": \"24\", \"goal\": \"accuracy_max\", \"run_name\": \"StandardScalerWrapper, LightGBM\", \"run_properties\": \"<azureml.automl.runtime.shared.model_wrappers.StandardScalerWrapper object at 0x7f5eae0aa828\", \"primary_metric\": 0.8078237, \"best_metric\": 0.80999761}, {\"run_id\": \"AutoML_2367dc6d-0c89-4491-80d3-45662e0cbc66_25\", \"run_number\": 36, \"metric\": null, \"status\": \"Completed\", \"run_type\": \"azureml.scriptrun\", \"training_percent\": \"100\", \"start_time\": \"2021-02-24T03:30:29.348627Z\", \"end_time\": \"2021-02-24T03:31:20.177364Z\", \"created_time\": \"2021-02-24T03:30:19.367193Z\", \"created_time_dt\": \"2021-02-24T03:30:19.367193Z\", \"duration\": \"0:01:00\", \"iteration\": \"25\", \"goal\": \"accuracy_max\", \"run_name\": \"TruncatedSVDWrapper, XGBoostClassifier\", \"run_properties\": \"n_components=0.45526315789473687, random_state=None\", \"primary_metric\": 0.62767559, \"best_metric\": 0.80999761}, {\"run_id\": \"AutoML_2367dc6d-0c89-4491-80d3-45662e0cbc66_26\", \"run_number\": 37, \"metric\": null, \"status\": \"Completed\", \"run_type\": \"azureml.scriptrun\", \"training_percent\": \"100\", \"start_time\": \"2021-02-24T03:30:31.276156Z\", \"end_time\": \"2021-02-24T03:31:26.096578Z\", \"created_time\": \"2021-02-24T03:30:22.949338Z\", \"created_time_dt\": \"2021-02-24T03:30:22.949338Z\", \"duration\": \"0:01:03\", \"iteration\": \"26\", \"goal\": \"accuracy_max\", \"run_name\": \"MaxAbsScaler, ExtremeRandomTrees\", \"run_properties\": \"copy=True\", \"primary_metric\": 0.80459866, \"best_metric\": 0.80999761}, {\"run_id\": \"AutoML_2367dc6d-0c89-4491-80d3-45662e0cbc66_27\", \"run_number\": 38, \"metric\": null, \"status\": \"Completed\", \"run_type\": \"azureml.scriptrun\", \"training_percent\": \"100\", \"start_time\": \"2021-02-24T03:31:17.658648Z\", \"end_time\": \"2021-02-24T03:32:14.051257Z\", \"created_time\": \"2021-02-24T03:31:07.097588Z\", \"created_time_dt\": \"2021-02-24T03:31:07.097588Z\", \"duration\": \"0:01:06\", \"iteration\": \"27\", \"goal\": \"accuracy_max\", \"run_name\": \"MaxAbsScaler, ExtremeRandomTrees\", \"run_properties\": \"copy=True\", \"primary_metric\": 0.80348782, \"best_metric\": 0.80999761}, {\"run_id\": \"AutoML_2367dc6d-0c89-4491-80d3-45662e0cbc66_28\", \"run_number\": 39, \"metric\": null, \"status\": \"Completed\", \"run_type\": \"azureml.scriptrun\", \"training_percent\": \"100\", \"start_time\": \"2021-02-24T03:31:24.369226Z\", \"end_time\": \"2021-02-24T03:32:17.049535Z\", \"created_time\": \"2021-02-24T03:31:16.582053Z\", \"created_time_dt\": \"2021-02-24T03:31:16.582053Z\", \"duration\": \"0:01:00\", \"iteration\": \"28\", \"goal\": \"accuracy_max\", \"run_name\": \"TruncatedSVDWrapper, XGBoostClassifier\", \"run_properties\": \"n_components=0.6036842105263158, random_state=None\", \"primary_metric\": 0.800215, \"best_metric\": 0.80999761}, {\"run_id\": \"AutoML_2367dc6d-0c89-4491-80d3-45662e0cbc66_29\", \"run_number\": 40, \"metric\": null, \"status\": \"Completed\", \"run_type\": \"azureml.scriptrun\", \"training_percent\": \"100\", \"start_time\": \"2021-02-24T03:31:30.917856Z\", \"end_time\": \"2021-02-24T03:32:30.749833Z\", \"created_time\": \"2021-02-24T03:31:21.895926Z\", \"created_time_dt\": \"2021-02-24T03:31:21.895926Z\", \"duration\": \"0:01:08\", \"iteration\": \"29\", \"goal\": \"accuracy_max\", \"run_name\": \"MaxAbsScaler, LightGBM\", \"run_properties\": \"copy=True\", \"primary_metric\": 0.8089226, \"best_metric\": 0.80999761}, {\"run_id\": \"AutoML_2367dc6d-0c89-4491-80d3-45662e0cbc66_30\", \"run_number\": 41, \"metric\": null, \"status\": \"Completed\", \"run_type\": \"azureml.scriptrun\", \"training_percent\": \"100\", \"start_time\": \"2021-02-24T03:31:40.915929Z\", \"end_time\": \"2021-02-24T03:32:26.458207Z\", \"created_time\": \"2021-02-24T03:31:28.753655Z\", \"created_time_dt\": \"2021-02-24T03:31:28.753655Z\", \"duration\": \"0:00:57\", \"iteration\": \"30\", \"goal\": \"accuracy_max\", \"run_name\": \"StandardScalerWrapper, XGBoostClassifier\", \"run_properties\": \"<azureml.automl.runtime.shared.model_wrappers.StandardScalerWrapper object at 0x7f67c23e5240\", \"primary_metric\": 0.78596512, \"best_metric\": 0.80999761}, {\"run_id\": \"AutoML_2367dc6d-0c89-4491-80d3-45662e0cbc66_31\", \"run_number\": 42, \"metric\": null, \"status\": \"Completed\", \"run_type\": \"azureml.scriptrun\", \"training_percent\": \"100\", \"start_time\": \"2021-02-24T03:32:28.867085Z\", \"end_time\": \"2021-02-24T03:33:20.502526Z\", \"created_time\": \"2021-02-24T03:32:16.022391Z\", \"created_time_dt\": \"2021-02-24T03:32:16.022391Z\", \"duration\": \"0:01:04\", \"iteration\": \"31\", \"goal\": \"accuracy_max\", \"run_name\": \"MaxAbsScaler, LightGBM\", \"run_properties\": \"copy=True\", \"primary_metric\": 0.79584329, \"best_metric\": 0.80999761}, {\"run_id\": \"AutoML_2367dc6d-0c89-4491-80d3-45662e0cbc66_32\", \"run_number\": 43, \"metric\": null, \"status\": \"Completed\", \"run_type\": \"azureml.scriptrun\", \"training_percent\": \"100\", \"start_time\": \"2021-02-24T03:32:30.913875Z\", \"end_time\": \"2021-02-24T03:33:27.207766Z\", \"created_time\": \"2021-02-24T03:32:20.583435Z\", \"created_time_dt\": \"2021-02-24T03:32:20.583435Z\", \"duration\": \"0:01:06\", \"iteration\": \"32\", \"goal\": \"accuracy_max\", \"run_name\": \"MaxAbsScaler, LightGBM\", \"run_properties\": \"copy=True\", \"primary_metric\": 0.78923794, \"best_metric\": 0.80999761}, {\"run_id\": \"AutoML_2367dc6d-0c89-4491-80d3-45662e0cbc66_33\", \"run_number\": 44, \"metric\": null, \"status\": \"Completed\", \"run_type\": \"azureml.scriptrun\", \"training_percent\": \"100\", \"start_time\": \"2021-02-24T03:32:38.345927Z\", \"end_time\": \"2021-02-24T03:33:25.578942Z\", \"created_time\": \"2021-02-24T03:32:29.146026Z\", \"created_time_dt\": \"2021-02-24T03:32:29.146026Z\", \"duration\": \"0:00:56\", \"iteration\": \"33\", \"goal\": \"accuracy_max\", \"run_name\": \"MinMaxScaler, LightGBM\", \"run_properties\": \"copy=True, feature_range=(0, 1\", \"primary_metric\": 0.80129001, \"best_metric\": 0.80999761}, {\"run_id\": \"AutoML_2367dc6d-0c89-4491-80d3-45662e0cbc66_34\", \"run_number\": 45, \"metric\": null, \"status\": \"Canceled\", \"run_type\": \"azureml.scriptrun\", \"training_percent\": \"100\", \"start_time\": \"2021-02-24T03:32:43.078279Z\", \"end_time\": \"2021-02-24T03:33:34.766862Z\", \"created_time\": \"2021-02-24T03:32:34.58572Z\", \"created_time_dt\": \"2021-02-24T03:32:34.58572Z\", \"duration\": \"0:01:00\", \"iteration\": \"34\", \"goal\": \"accuracy_max\", \"run_name\": \"StandardScalerWrapper, LightGBM\", \"run_properties\": \"<azureml.automl.runtime.shared.model_wrappers.StandardScalerWrapper object at 0x7f329d90a4e0\", \"primary_metric\": 0.80234114, \"best_metric\": 0.80999761}, {\"run_id\": \"AutoML_2367dc6d-0c89-4491-80d3-45662e0cbc66_35\", \"run_number\": 46, \"metric\": null, \"status\": \"Canceled\", \"run_type\": \"azureml.scriptrun\", \"training_percent\": \"100\", \"start_time\": \"2021-02-24T03:33:23.905044Z\", \"end_time\": \"2021-02-24T03:33:41.196926Z\", \"created_time\": \"2021-02-24T03:33:23.905044Z\", \"created_time_dt\": \"2021-02-24T03:33:23.905044Z\", \"duration\": \"0:00:17\", \"iteration\": \"35\", \"goal\": null, \"run_name\": \"Canceled\", \"run_properties\": null}, {\"run_id\": \"AutoML_2367dc6d-0c89-4491-80d3-45662e0cbc66_36\", \"run_number\": 47, \"metric\": null, \"status\": \"Completed\", \"run_type\": \"azureml.scriptrun\", \"training_percent\": \"100\", \"start_time\": \"2021-02-24T03:33:54.242242Z\", \"end_time\": \"2021-02-24T03:35:12.739078Z\", \"created_time\": \"2021-02-24T03:33:43.116348Z\", \"created_time_dt\": \"2021-02-24T03:33:43.116348Z\", \"duration\": \"0:01:29\", \"iteration\": \"36\", \"goal\": \"accuracy_max\", \"run_name\": \"VotingEnsemble\", \"run_properties\": \"classification_labels=None,\\n                              estimators=[('9',\\n                                           Pipeline(memory=None,\\n                                                    steps=[('sparsenormalizer',\\n                                                            <azureml.automl.runtime.shared.model_wrappers.SparseNormalizer object at 0x7f900806acc0>\", \"primary_metric\": 0.82860726, \"best_metric\": 0.82860726}, {\"run_id\": \"AutoML_2367dc6d-0c89-4491-80d3-45662e0cbc66_37\", \"run_number\": 48, \"metric\": null, \"status\": \"Completed\", \"run_type\": \"azureml.scriptrun\", \"training_percent\": \"100\", \"start_time\": \"2021-02-24T03:33:52.603546Z\", \"end_time\": \"2021-02-24T03:35:18.012047Z\", \"created_time\": \"2021-02-24T03:33:43.148374Z\", \"created_time_dt\": \"2021-02-24T03:33:43.148374Z\", \"duration\": \"0:01:34\", \"iteration\": \"37\", \"goal\": \"accuracy_max\", \"run_name\": \"StackEnsemble\", \"run_properties\": \"base_learners=[('9',\\n                                        Pipeline(memory=None,\\n                                                 steps=[('sparsenormalizer',\\n                                                         <azureml.automl.runtime.shared.model_wrappers.SparseNormalizer object at 0x7fdaa2a75400>\", \"primary_metric\": 0.81986383, \"best_metric\": 0.82860726}], \"children_metrics\": {\"categories\": [0], \"series\": {\"f1_score_weighted\": [{\"categories\": [\"0\", \"1\", \"2\", \"3\", \"4\", \"5\", \"6\", \"7\", \"8\", \"9\", \"10\", \"11\", \"12\", \"13\", \"14\", \"15\", \"16\", \"17\", \"18\", \"19\", \"20\", \"21\", \"22\", \"23\", \"24\", \"25\", \"26\", \"27\", \"28\", \"29\", \"30\", \"31\", \"32\", \"33\", \"34\", \"36\", \"37\"], \"mode\": \"markers\", \"name\": \"f1_score_weighted\", \"stepped\": false, \"type\": \"scatter\", \"data\": [0.783595189750882, 0.7960487030900558, 0.7997251443934384, 0.776347892716329, 0.7953989547012392, 0.7804278291258249, 0.795900234366768, 0.6835416518407943, 0.716853244442856, 0.8078106858442677, 0.7942909024303748, 0.8013874451903893, 0.74678478568591, 0.7917292626438555, 0.7947063722923613, 0.8052611974706767, 0.7870924396137222, 0.7872164639777495, 0.7940179130880085, 0.8034959780129901, 0.7908504802479026, 0.7972347837582039, 0.7946535510637671, 0.7888252404013272, 0.8029890933446572, 0.485565480313246, 0.8016429178823534, 0.7986087504421951, 0.7980063274786291, 0.8037477431773338, 0.7734259210840968, 0.7790705782126921, 0.7865900135533168, 0.7959263807208435, 0.8000985317916989, 0.8251951590305799, 0.8166785593158865]}, {\"categories\": [\"0\", \"1\", \"2\", \"3\", \"4\", \"5\", \"6\", \"7\", \"8\", \"9\", \"10\", \"11\", \"12\", \"13\", \"14\", \"15\", \"16\", \"17\", \"18\", \"19\", \"20\", \"21\", \"22\", \"23\", \"24\", \"25\", \"26\", \"27\", \"28\", \"29\", \"30\", \"31\", \"32\", \"33\", \"34\", \"36\", \"37\"], \"mode\": \"lines\", \"name\": \"f1_score_weighted_max\", \"stepped\": true, \"type\": \"scatter\", \"data\": [0.783595189750882, 0.7960487030900558, 0.7997251443934384, 0.7997251443934384, 0.7997251443934384, 0.7997251443934384, 0.7997251443934384, 0.7997251443934384, 0.7997251443934384, 0.8078106858442677, 0.8078106858442677, 0.8078106858442677, 0.8078106858442677, 0.8078106858442677, 0.8078106858442677, 0.8078106858442677, 0.8078106858442677, 0.8078106858442677, 0.8078106858442677, 0.8078106858442677, 0.8078106858442677, 0.8078106858442677, 0.8078106858442677, 0.8078106858442677, 0.8078106858442677, 0.8078106858442677, 0.8078106858442677, 0.8078106858442677, 0.8078106858442677, 0.8078106858442677, 0.8078106858442677, 0.8078106858442677, 0.8078106858442677, 0.8078106858442677, 0.8078106858442677, 0.8251951590305799, 0.8251951590305799]}], \"norm_macro_recall\": [{\"categories\": [\"0\", \"1\", \"2\", \"3\", \"4\", \"5\", \"6\", \"7\", \"8\", \"9\", \"10\", \"11\", \"12\", \"13\", \"14\", \"15\", \"16\", \"17\", \"18\", \"19\", \"20\", \"21\", \"22\", \"23\", \"24\", \"25\", \"26\", \"27\", \"28\", \"29\", \"30\", \"31\", \"32\", \"33\", \"34\", \"36\", \"37\"], \"mode\": \"markers\", \"name\": \"norm_macro_recall\", \"stepped\": false, \"type\": \"scatter\", \"data\": [0.5258935070451376, 0.5509160977752395, 0.5569203422238374, 0.49578171946844735, 0.5738066349173426, 0.5239892519570525, 0.5428687359609438, 0.2877811601245241, 0.35431780025152776, 0.5725903412954523, 0.555880039069782, 0.566132455344738, 0.4061676064442882, 0.5214577231586774, 0.5324511100628424, 0.5674306461284975, 0.542831861240151, 0.5246955408731065, 0.5349030574697105, 0.5600094046992355, 0.5401943739856041, 0.5479625612580357, 0.5329100856571731, 0.5273874088972736, 0.5554640251916758, 0.0, 0.5537471864522974, 0.5411509817287582, 0.5528560130949921, 0.5550825548483179, 0.469222995890931, 0.474944973049241, 0.5301602202379089, 0.5386588158002594, 0.5610627177986818, 0.6016335875645049, 0.5864945532149444]}, {\"categories\": [\"0\", \"1\", \"2\", \"3\", \"4\", \"5\", \"6\", \"7\", \"8\", \"9\", \"10\", \"11\", \"12\", \"13\", \"14\", \"15\", \"16\", \"17\", \"18\", \"19\", \"20\", \"21\", \"22\", \"23\", \"24\", \"25\", \"26\", \"27\", \"28\", \"29\", \"30\", \"31\", \"32\", \"33\", \"34\", \"36\", \"37\"], \"mode\": \"lines\", \"name\": \"norm_macro_recall_max\", \"stepped\": true, \"type\": \"scatter\", \"data\": [0.5258935070451376, 0.5509160977752395, 0.5569203422238374, 0.5569203422238374, 0.5738066349173426, 0.5738066349173426, 0.5738066349173426, 0.5738066349173426, 0.5738066349173426, 0.5738066349173426, 0.5738066349173426, 0.5738066349173426, 0.5738066349173426, 0.5738066349173426, 0.5738066349173426, 0.5738066349173426, 0.5738066349173426, 0.5738066349173426, 0.5738066349173426, 0.5738066349173426, 0.5738066349173426, 0.5738066349173426, 0.5738066349173426, 0.5738066349173426, 0.5738066349173426, 0.5738066349173426, 0.5738066349173426, 0.5738066349173426, 0.5738066349173426, 0.5738066349173426, 0.5738066349173426, 0.5738066349173426, 0.5738066349173426, 0.5738066349173426, 0.5738066349173426, 0.6016335875645049, 0.6016335875645049]}], \"weighted_accuracy\": [{\"categories\": [\"0\", \"1\", \"2\", \"3\", \"4\", \"5\", \"6\", \"7\", \"8\", \"9\", \"10\", \"11\", \"12\", \"13\", \"14\", \"15\", \"16\", \"17\", \"18\", \"19\", \"20\", \"21\", \"22\", \"23\", \"24\", \"25\", \"26\", \"27\", \"28\", \"29\", \"30\", \"31\", \"32\", \"33\", \"34\", \"36\", \"37\"], \"mode\": \"markers\", \"name\": \"weighted_accuracy\", \"stepped\": false, \"type\": \"scatter\", \"data\": [0.8032127489355959, 0.8192385272102019, 0.8220921250689441, 0.8113395591719561, 0.7994585867655629, 0.797927015026092, 0.8219845883732294, 0.7815594059867715, 0.7962453415019353, 0.8295640710597707, 0.8086783614661183, 0.8204987798999017, 0.8300400717475143, 0.8306076393713282, 0.8327819479168207, 0.8281214219591526, 0.8001156022274657, 0.8134232356006953, 0.8275424052472641, 0.8290349200007683, 0.8111363532196274, 0.8215716419110348, 0.8280743238638368, 0.8186610651454236, 0.8329871749786488, 0.7319461423841612, 0.8273722689376269, 0.8307043080172105, 0.8200476082178115, 0.8350266237573628, 0.8278450677156522, 0.8437625050126524, 0.809450654786381, 0.8280215420788869, 0.82065049007328, 0.8514679402201558, 0.8418563243392793]}, {\"categories\": [\"0\", \"1\", \"2\", \"3\", \"4\", \"5\", \"6\", \"7\", \"8\", \"9\", \"10\", \"11\", \"12\", \"13\", \"14\", \"15\", \"16\", \"17\", \"18\", \"19\", \"20\", \"21\", \"22\", \"23\", \"24\", \"25\", \"26\", \"27\", \"28\", \"29\", \"30\", \"31\", \"32\", \"33\", \"34\", \"36\", \"37\"], \"mode\": \"lines\", \"name\": \"weighted_accuracy_max\", \"stepped\": true, \"type\": \"scatter\", \"data\": [0.8032127489355959, 0.8192385272102019, 0.8220921250689441, 0.8220921250689441, 0.8220921250689441, 0.8220921250689441, 0.8220921250689441, 0.8220921250689441, 0.8220921250689441, 0.8295640710597707, 0.8295640710597707, 0.8295640710597707, 0.8300400717475143, 0.8306076393713282, 0.8327819479168207, 0.8327819479168207, 0.8327819479168207, 0.8327819479168207, 0.8327819479168207, 0.8327819479168207, 0.8327819479168207, 0.8327819479168207, 0.8327819479168207, 0.8327819479168207, 0.8329871749786488, 0.8329871749786488, 0.8329871749786488, 0.8329871749786488, 0.8329871749786488, 0.8350266237573628, 0.8350266237573628, 0.8437625050126524, 0.8437625050126524, 0.8437625050126524, 0.8437625050126524, 0.8514679402201558, 0.8514679402201558]}], \"log_loss\": [{\"categories\": [\"0\", \"1\", \"2\", \"3\", \"4\", \"5\", \"6\", \"7\", \"8\", \"9\", \"10\", \"11\", \"12\", \"13\", \"14\", \"15\", \"16\", \"17\", \"18\", \"19\", \"20\", \"21\", \"22\", \"23\", \"24\", \"25\", \"26\", \"27\", \"28\", \"29\", \"30\", \"31\", \"32\", \"33\", \"34\", \"36\", \"37\"], \"mode\": \"markers\", \"name\": \"log_loss\", \"stepped\": false, \"type\": \"scatter\", \"data\": [0.5301259950667835, 0.43493122403279394, 0.45815395506578743, 0.4819640040559464, 0.4620238511823661, 0.6827711796361016, 0.44397989465672766, 0.6032850506548265, 0.5903484151584774, 0.4836174917830746, 0.4670906744189097, 0.45468816545500773, 0.5417925809170786, 0.48439110479755304, 0.465121937794388, 0.4581568486013164, 0.47175893713641665, 0.4558954251901012, 0.4687629486367597, 0.48427985580252486, 0.4584994168173761, 0.4999751458423711, 0.4490219617905469, 0.4413292290425037, 0.43733721126799024, 0.6617513713771774, 0.45460101949029824, 0.45287260637113363, 0.46645019124675685, 0.4481154851501099, 0.5061998679824194, 0.4933513156898095, 0.4589851213223305, 0.44584915804520764, 0.4561541114768012, 0.45701815720862865, 0.4420288130167407]}, {\"categories\": [\"0\", \"1\", \"2\", \"3\", \"4\", \"5\", \"6\", \"7\", \"8\", \"9\", \"10\", \"11\", \"12\", \"13\", \"14\", \"15\", \"16\", \"17\", \"18\", \"19\", \"20\", \"21\", \"22\", \"23\", \"24\", \"25\", \"26\", \"27\", \"28\", \"29\", \"30\", \"31\", \"32\", \"33\", \"34\", \"36\", \"37\"], \"mode\": \"lines\", \"name\": \"log_loss_min\", \"stepped\": true, \"type\": \"scatter\", \"data\": [0.5301259950667835, 0.43493122403279394, 0.43493122403279394, 0.43493122403279394, 0.43493122403279394, 0.43493122403279394, 0.43493122403279394, 0.43493122403279394, 0.43493122403279394, 0.43493122403279394, 0.43493122403279394, 0.43493122403279394, 0.43493122403279394, 0.43493122403279394, 0.43493122403279394, 0.43493122403279394, 0.43493122403279394, 0.43493122403279394, 0.43493122403279394, 0.43493122403279394, 0.43493122403279394, 0.43493122403279394, 0.43493122403279394, 0.43493122403279394, 0.43493122403279394, 0.43493122403279394, 0.43493122403279394, 0.43493122403279394, 0.43493122403279394, 0.43493122403279394, 0.43493122403279394, 0.43493122403279394, 0.43493122403279394, 0.43493122403279394, 0.43493122403279394, 0.43493122403279394, 0.43493122403279394]}], \"balanced_accuracy\": [{\"categories\": [\"0\", \"1\", \"2\", \"3\", \"4\", \"5\", \"6\", \"7\", \"8\", \"9\", \"10\", \"11\", \"12\", \"13\", \"14\", \"15\", \"16\", \"17\", \"18\", \"19\", \"20\", \"21\", \"22\", \"23\", \"24\", \"25\", \"26\", \"27\", \"28\", \"29\", \"30\", \"31\", \"32\", \"33\", \"34\", \"36\", \"37\"], \"mode\": \"markers\", \"name\": \"balanced_accuracy\", \"stepped\": false, \"type\": \"scatter\", \"data\": [0.7629467535225688, 0.7754580488876197, 0.7784601711119187, 0.7478908597342236, 0.7869033174586713, 0.7619946259785262, 0.7714343679804718, 0.6438905800622621, 0.6771589001257639, 0.7862951706477262, 0.7779400195348911, 0.783066227672369, 0.703083803222144, 0.7607288615793387, 0.7662255550314212, 0.7837153230642487, 0.7714159306200756, 0.7623477704365533, 0.7674515287348553, 0.7800047023496178, 0.770097186992802, 0.7739812806290178, 0.7664550428285866, 0.7636937044486368, 0.7777320125958379, 0.5, 0.7768735932261487, 0.770575490864379, 0.7764280065474962, 0.7775412774241591, 0.7346114979454655, 0.7374724865246205, 0.7650801101189544, 0.7693294079001297, 0.780531358899341, 0.8008167937822523, 0.7932472766074721]}, {\"categories\": [\"0\", \"1\", \"2\", \"3\", \"4\", \"5\", \"6\", \"7\", \"8\", \"9\", \"10\", \"11\", \"12\", \"13\", \"14\", \"15\", \"16\", \"17\", \"18\", \"19\", \"20\", \"21\", \"22\", \"23\", \"24\", \"25\", \"26\", \"27\", \"28\", \"29\", \"30\", \"31\", \"32\", \"33\", \"34\", \"36\", \"37\"], \"mode\": \"lines\", \"name\": \"balanced_accuracy_max\", \"stepped\": true, \"type\": \"scatter\", \"data\": [0.7629467535225688, 0.7754580488876197, 0.7784601711119187, 0.7784601711119187, 0.7869033174586713, 0.7869033174586713, 0.7869033174586713, 0.7869033174586713, 0.7869033174586713, 0.7869033174586713, 0.7869033174586713, 0.7869033174586713, 0.7869033174586713, 0.7869033174586713, 0.7869033174586713, 0.7869033174586713, 0.7869033174586713, 0.7869033174586713, 0.7869033174586713, 0.7869033174586713, 0.7869033174586713, 0.7869033174586713, 0.7869033174586713, 0.7869033174586713, 0.7869033174586713, 0.7869033174586713, 0.7869033174586713, 0.7869033174586713, 0.7869033174586713, 0.7869033174586713, 0.7869033174586713, 0.7869033174586713, 0.7869033174586713, 0.7869033174586713, 0.7869033174586713, 0.8008167937822523, 0.8008167937822523]}], \"f1_score_micro\": [{\"categories\": [\"0\", \"1\", \"2\", \"3\", \"4\", \"5\", \"6\", \"7\", \"8\", \"9\", \"10\", \"11\", \"12\", \"13\", \"14\", \"15\", \"16\", \"17\", \"18\", \"19\", \"20\", \"21\", \"22\", \"23\", \"24\", \"25\", \"26\", \"27\", \"28\", \"29\", \"30\", \"31\", \"32\", \"33\", \"34\", \"36\", \"37\"], \"mode\": \"markers\", \"name\": \"f1_score_micro\", \"stepped\": false, \"type\": \"scatter\", \"data\": [0.7849617773530817, 0.7990922121356905, 0.8023053033922599, 0.7827281414237935, 0.7936574295269949, 0.7816531294792164, 0.7990922121356904, 0.7194816053511707, 0.7424032489249881, 0.8099976110845676, 0.7947324414715718, 0.8034400382226469, 0.7728858098423317, 0.7990563784042045, 0.8023291925465837, 0.8078834209268994, 0.7870640229335881, 0.7904323936932631, 0.8001075011944577, 0.8067247969421883, 0.7926063067367416, 0.8001672240802676, 0.8002030578117534, 0.7936335403726709, 0.8078236980410894, 0.6276755852842809, 0.8045986622073578, 0.8034878165312949, 0.8002150023889156, 0.8089225991399903, 0.785965121834687, 0.7958432871476349, 0.7892379359770663, 0.8012900143334927, 0.8023411371237458, 0.8286072623029146, 0.8198638318203535]}, {\"categories\": [\"0\", \"1\", \"2\", \"3\", \"4\", \"5\", \"6\", \"7\", \"8\", \"9\", \"10\", \"11\", \"12\", \"13\", \"14\", \"15\", \"16\", \"17\", \"18\", \"19\", \"20\", \"21\", \"22\", \"23\", \"24\", \"25\", \"26\", \"27\", \"28\", \"29\", \"30\", \"31\", \"32\", \"33\", \"34\", \"36\", \"37\"], \"mode\": \"lines\", \"name\": \"f1_score_micro_max\", \"stepped\": true, \"type\": \"scatter\", \"data\": [0.7849617773530817, 0.7990922121356905, 0.8023053033922599, 0.8023053033922599, 0.8023053033922599, 0.8023053033922599, 0.8023053033922599, 0.8023053033922599, 0.8023053033922599, 0.8099976110845676, 0.8099976110845676, 0.8099976110845676, 0.8099976110845676, 0.8099976110845676, 0.8099976110845676, 0.8099976110845676, 0.8099976110845676, 0.8099976110845676, 0.8099976110845676, 0.8099976110845676, 0.8099976110845676, 0.8099976110845676, 0.8099976110845676, 0.8099976110845676, 0.8099976110845676, 0.8099976110845676, 0.8099976110845676, 0.8099976110845676, 0.8099976110845676, 0.8099976110845676, 0.8099976110845676, 0.8099976110845676, 0.8099976110845676, 0.8099976110845676, 0.8099976110845676, 0.8286072623029146, 0.8286072623029146]}], \"AUC_weighted\": [{\"categories\": [\"0\", \"1\", \"2\", \"3\", \"4\", \"5\", \"6\", \"7\", \"8\", \"9\", \"10\", \"11\", \"12\", \"13\", \"14\", \"15\", \"16\", \"17\", \"18\", \"19\", \"20\", \"21\", \"22\", \"23\", \"24\", \"25\", \"26\", \"27\", \"28\", \"29\", \"30\", \"31\", \"32\", \"33\", \"34\", \"36\", \"37\"], \"mode\": \"markers\", \"name\": \"AUC_weighted\", \"stepped\": false, \"type\": \"scatter\", \"data\": [0.8289862554503001, 0.8590847729713227, 0.8529348358843232, 0.8392112396883669, 0.8542388584847839, 0.8110574368808574, 0.8587719748726874, 0.771167472344876, 0.7658535373229298, 0.850255959640789, 0.8441356292894711, 0.8531027798455755, 0.8506831411926165, 0.8455760020692379, 0.8526558170209686, 0.8441141739082502, 0.8412089084259602, 0.8487840011974971, 0.8452132063843323, 0.8598832214845554, 0.8453684313074525, 0.8485460303132324, 0.8450371057529663, 0.8540796800608804, 0.8602231279550253, 0.5, 0.8448832856056964, 0.8451593219216736, 0.8310842861135066, 0.8586064019642556, 0.8199221134073827, 0.8470431150804304, 0.845186656660046, 0.853726269034925, 0.844741104578479, 0.8556514615477588, 0.8569617399147669]}, {\"categories\": [\"0\", \"1\", \"2\", \"3\", \"4\", \"5\", \"6\", \"7\", \"8\", \"9\", \"10\", \"11\", \"12\", \"13\", \"14\", \"15\", \"16\", \"17\", \"18\", \"19\", \"20\", \"21\", \"22\", \"23\", \"24\", \"25\", \"26\", \"27\", \"28\", \"29\", \"30\", \"31\", \"32\", \"33\", \"34\", \"36\", \"37\"], \"mode\": \"lines\", \"name\": \"AUC_weighted_max\", \"stepped\": true, \"type\": \"scatter\", \"data\": [0.8289862554503001, 0.8590847729713227, 0.8590847729713227, 0.8590847729713227, 0.8590847729713227, 0.8590847729713227, 0.8590847729713227, 0.8590847729713227, 0.8590847729713227, 0.8590847729713227, 0.8590847729713227, 0.8590847729713227, 0.8590847729713227, 0.8590847729713227, 0.8590847729713227, 0.8590847729713227, 0.8590847729713227, 0.8590847729713227, 0.8590847729713227, 0.8598832214845554, 0.8598832214845554, 0.8598832214845554, 0.8598832214845554, 0.8598832214845554, 0.8602231279550253, 0.8602231279550253, 0.8602231279550253, 0.8602231279550253, 0.8602231279550253, 0.8602231279550253, 0.8602231279550253, 0.8602231279550253, 0.8602231279550253, 0.8602231279550253, 0.8602231279550253, 0.8602231279550253, 0.8602231279550253]}], \"f1_score_macro\": [{\"categories\": [\"0\", \"1\", \"2\", \"3\", \"4\", \"5\", \"6\", \"7\", \"8\", \"9\", \"10\", \"11\", \"12\", \"13\", \"14\", \"15\", \"16\", \"17\", \"18\", \"19\", \"20\", \"21\", \"22\", \"23\", \"24\", \"25\", \"26\", \"27\", \"28\", \"29\", \"30\", \"31\", \"32\", \"33\", \"34\", \"36\", \"37\"], \"mode\": \"markers\", \"name\": \"f1_score_macro\", \"stepped\": false, \"type\": \"scatter\", \"data\": [0.7628385683234151, 0.7767693015215791, 0.7813192527379929, 0.7546356578496969, 0.7801590875775448, 0.7608472090553069, 0.7756120287497196, 0.6383421671557723, 0.6789957058454423, 0.7887644636709248, 0.7769958168324882, 0.7839731249085646, 0.7114128143030697, 0.7694974173879988, 0.7738740283603972, 0.7865049383646154, 0.7700857735145291, 0.7662899438202149, 0.7734951355259209, 0.783728817421993, 0.77214178433185, 0.7774075341232531, 0.7738535953838621, 0.7686098793309487, 0.783477729314364, 0.384892845127658, 0.7821304538124615, 0.778112332837262, 0.7787296132739852, 0.7844201250863588, 0.7468676685121495, 0.7505898857041239, 0.7675719531751539, 0.7759243567267463, 0.7826275089335125, 0.8073476439463002, 0.798356036238487]}, {\"categories\": [\"0\", \"1\", \"2\", \"3\", \"4\", \"5\", \"6\", \"7\", \"8\", \"9\", \"10\", \"11\", \"12\", \"13\", \"14\", \"15\", \"16\", \"17\", \"18\", \"19\", \"20\", \"21\", \"22\", \"23\", \"24\", \"25\", \"26\", \"27\", \"28\", \"29\", \"30\", \"31\", \"32\", \"33\", \"34\", \"36\", \"37\"], \"mode\": \"lines\", \"name\": \"f1_score_macro_max\", \"stepped\": true, \"type\": \"scatter\", \"data\": [0.7628385683234151, 0.7767693015215791, 0.7813192527379929, 0.7813192527379929, 0.7813192527379929, 0.7813192527379929, 0.7813192527379929, 0.7813192527379929, 0.7813192527379929, 0.7887644636709248, 0.7887644636709248, 0.7887644636709248, 0.7887644636709248, 0.7887644636709248, 0.7887644636709248, 0.7887644636709248, 0.7887644636709248, 0.7887644636709248, 0.7887644636709248, 0.7887644636709248, 0.7887644636709248, 0.7887644636709248, 0.7887644636709248, 0.7887644636709248, 0.7887644636709248, 0.7887644636709248, 0.7887644636709248, 0.7887644636709248, 0.7887644636709248, 0.7887644636709248, 0.7887644636709248, 0.7887644636709248, 0.7887644636709248, 0.7887644636709248, 0.7887644636709248, 0.8073476439463002, 0.8073476439463002]}], \"matthews_correlation\": [{\"categories\": [\"0\", \"1\", \"2\", \"3\", \"4\", \"5\", \"6\", \"7\", \"8\", \"9\", \"10\", \"11\", \"12\", \"13\", \"14\", \"15\", \"16\", \"17\", \"18\", \"19\", \"20\", \"21\", \"22\", \"23\", \"24\", \"25\", \"26\", \"27\", \"28\", \"29\", \"30\", \"31\", \"32\", \"33\", \"34\", \"36\", \"37\"], \"mode\": \"markers\", \"name\": \"matthews_correlation\", \"stepped\": false, \"type\": \"scatter\", \"data\": [0.5337293354607953, 0.5673590287775448, 0.5697012378700516, 0.5323162336483811, 0.5652700111425882, 0.5293247625746229, 0.5598864324251056, 0.37560224156744093, 0.4337786712988924, 0.5849468313004363, 0.5578065580667936, 0.577668089643254, 0.5165578250327834, 0.562601138569543, 0.5739445851042922, 0.5807692499494904, 0.5420950553021765, 0.5418238150762136, 0.5687011740526273, 0.5784641865004787, 0.5515229921341042, 0.5640681540417593, 0.5633783021786668, 0.5502667074169405, 0.5829368056799673, 0.0, 0.5727914473008975, 0.5706526711540318, 0.5653583191510162, 0.585559593978277, 0.5388085561326635, 0.5640456000852393, 0.5418649063505419, 0.5686822663278096, 0.5724386410395574, 0.6249780884821602, 0.60610183385773]}, {\"categories\": [\"0\", \"1\", \"2\", \"3\", \"4\", \"5\", \"6\", \"7\", \"8\", \"9\", \"10\", \"11\", \"12\", \"13\", \"14\", \"15\", \"16\", \"17\", \"18\", \"19\", \"20\", \"21\", \"22\", \"23\", \"24\", \"25\", \"26\", \"27\", \"28\", \"29\", \"30\", \"31\", \"32\", \"33\", \"34\", \"36\", \"37\"], \"mode\": \"lines\", \"name\": \"matthews_correlation_max\", \"stepped\": true, \"type\": \"scatter\", \"data\": [0.5337293354607953, 0.5673590287775448, 0.5697012378700516, 0.5697012378700516, 0.5697012378700516, 0.5697012378700516, 0.5697012378700516, 0.5697012378700516, 0.5697012378700516, 0.5849468313004363, 0.5849468313004363, 0.5849468313004363, 0.5849468313004363, 0.5849468313004363, 0.5849468313004363, 0.5849468313004363, 0.5849468313004363, 0.5849468313004363, 0.5849468313004363, 0.5849468313004363, 0.5849468313004363, 0.5849468313004363, 0.5849468313004363, 0.5849468313004363, 0.5849468313004363, 0.5849468313004363, 0.5849468313004363, 0.5849468313004363, 0.5849468313004363, 0.585559593978277, 0.585559593978277, 0.585559593978277, 0.585559593978277, 0.585559593978277, 0.585559593978277, 0.6249780884821602, 0.6249780884821602]}], \"precision_score_macro\": [{\"categories\": [\"0\", \"1\", \"2\", \"3\", \"4\", \"5\", \"6\", \"7\", \"8\", \"9\", \"10\", \"11\", \"12\", \"13\", \"14\", \"15\", \"16\", \"17\", \"18\", \"19\", \"20\", \"21\", \"22\", \"23\", \"24\", \"25\", \"26\", \"27\", \"28\", \"29\", \"30\", \"31\", \"32\", \"33\", \"34\", \"36\", \"37\"], \"mode\": \"markers\", \"name\": \"precision_score_macro\", \"stepped\": false, \"type\": \"scatter\", \"data\": [0.7711785484882366, 0.7928154900368082, 0.7915698902035693, 0.7866533437511931, 0.7786147983714804, 0.7676741814073063, 0.7889946374607033, 0.7479074293311021, 0.767529597752354, 0.7991485268879699, 0.7800572201132513, 0.795225728668631, 0.8289237512871448, 0.8041750712599504, 0.8099758913918812, 0.7974762313180705, 0.7707721496149291, 0.7801129249749642, 0.8030347996143592, 0.7991028873209689, 0.7818166135242987, 0.7906607690307639, 0.7980147583227575, 0.7873479645363043, 0.8063929354798436, 0.31383779264214046, 0.7964118907039005, 0.8010330258222288, 0.7893147439954273, 0.8093557202579857, 0.8098156207529079, 0.835326629597281, 0.7770689214504369, 0.8005356277971364, 0.7922674010546578, 0.8248581308169373, 0.8133775793078268]}, {\"categories\": [\"0\", \"1\", \"2\", \"3\", \"4\", \"5\", \"6\", \"7\", \"8\", \"9\", \"10\", \"11\", \"12\", \"13\", \"14\", \"15\", \"16\", \"17\", \"18\", \"19\", \"20\", \"21\", \"22\", \"23\", \"24\", \"25\", \"26\", \"27\", \"28\", \"29\", \"30\", \"31\", \"32\", \"33\", \"34\", \"36\", \"37\"], \"mode\": \"lines\", \"name\": \"precision_score_macro_max\", \"stepped\": true, \"type\": \"scatter\", \"data\": [0.7711785484882366, 0.7928154900368082, 0.7928154900368082, 0.7928154900368082, 0.7928154900368082, 0.7928154900368082, 0.7928154900368082, 0.7928154900368082, 0.7928154900368082, 0.7991485268879699, 0.7991485268879699, 0.7991485268879699, 0.8289237512871448, 0.8289237512871448, 0.8289237512871448, 0.8289237512871448, 0.8289237512871448, 0.8289237512871448, 0.8289237512871448, 0.8289237512871448, 0.8289237512871448, 0.8289237512871448, 0.8289237512871448, 0.8289237512871448, 0.8289237512871448, 0.8289237512871448, 0.8289237512871448, 0.8289237512871448, 0.8289237512871448, 0.8289237512871448, 0.8289237512871448, 0.835326629597281, 0.835326629597281, 0.835326629597281, 0.835326629597281, 0.835326629597281, 0.835326629597281]}], \"accuracy\": [{\"categories\": [\"0\", \"1\", \"2\", \"3\", \"4\", \"5\", \"6\", \"7\", \"8\", \"9\", \"10\", \"11\", \"12\", \"13\", \"14\", \"15\", \"16\", \"17\", \"18\", \"19\", \"20\", \"21\", \"22\", \"23\", \"24\", \"25\", \"26\", \"27\", \"28\", \"29\", \"30\", \"31\", \"32\", \"33\", \"34\", \"36\", \"37\"], \"mode\": \"markers\", \"name\": \"accuracy\", \"stepped\": false, \"type\": \"scatter\", \"data\": [0.7849617773530817, 0.7990922121356905, 0.8023053033922599, 0.7827281414237935, 0.7936574295269947, 0.7816531294792164, 0.7990922121356904, 0.7194816053511707, 0.7424032489249881, 0.8099976110845676, 0.7947324414715718, 0.8034400382226469, 0.7728858098423316, 0.7990563784042045, 0.8023291925465837, 0.8078834209268992, 0.7870640229335881, 0.7904323936932631, 0.8001075011944577, 0.8067247969421883, 0.7926063067367416, 0.8001672240802675, 0.8002030578117534, 0.7936335403726709, 0.8078236980410892, 0.6276755852842809, 0.8045986622073578, 0.8034878165312946, 0.8002150023889154, 0.8089225991399903, 0.785965121834687, 0.7958432871476349, 0.7892379359770663, 0.8012900143334927, 0.8023411371237458, 0.8286072623029144, 0.8198638318203535]}, {\"categories\": [\"0\", \"1\", \"2\", \"3\", \"4\", \"5\", \"6\", \"7\", \"8\", \"9\", \"10\", \"11\", \"12\", \"13\", \"14\", \"15\", \"16\", \"17\", \"18\", \"19\", \"20\", \"21\", \"22\", \"23\", \"24\", \"25\", \"26\", \"27\", \"28\", \"29\", \"30\", \"31\", \"32\", \"33\", \"34\", \"36\", \"37\"], \"mode\": \"lines\", \"name\": \"accuracy_max\", \"stepped\": true, \"type\": \"scatter\", \"data\": [0.7849617773530817, 0.7990922121356905, 0.8023053033922599, 0.8023053033922599, 0.8023053033922599, 0.8023053033922599, 0.8023053033922599, 0.8023053033922599, 0.8023053033922599, 0.8099976110845676, 0.8099976110845676, 0.8099976110845676, 0.8099976110845676, 0.8099976110845676, 0.8099976110845676, 0.8099976110845676, 0.8099976110845676, 0.8099976110845676, 0.8099976110845676, 0.8099976110845676, 0.8099976110845676, 0.8099976110845676, 0.8099976110845676, 0.8099976110845676, 0.8099976110845676, 0.8099976110845676, 0.8099976110845676, 0.8099976110845676, 0.8099976110845676, 0.8099976110845676, 0.8099976110845676, 0.8099976110845676, 0.8099976110845676, 0.8099976110845676, 0.8099976110845676, 0.8286072623029144, 0.8286072623029144]}], \"average_precision_score_micro\": [{\"categories\": [\"0\", \"1\", \"2\", \"3\", \"4\", \"5\", \"6\", \"7\", \"8\", \"9\", \"10\", \"11\", \"12\", \"13\", \"14\", \"15\", \"16\", \"17\", \"18\", \"19\", \"20\", \"21\", \"22\", \"23\", \"24\", \"25\", \"26\", \"27\", \"28\", \"29\", \"30\", \"31\", \"32\", \"33\", \"34\", \"36\", \"37\"], \"mode\": \"markers\", \"name\": \"average_precision_score_micro\", \"stepped\": false, \"type\": \"scatter\", \"data\": [0.8418637177566707, 0.8717257729329588, 0.8563608364648554, 0.8462771885683269, 0.8620566155217994, 0.8274021768058644, 0.8697107560670773, 0.7585260948833238, 0.7594520185221152, 0.8607096016513589, 0.8495153497022214, 0.8600071645673524, 0.8271570893819213, 0.8444667831280521, 0.861558891194861, 0.8469885864119835, 0.8439919450669897, 0.8657699236569639, 0.8552735360496208, 0.8682735806458419, 0.8567442880763423, 0.8541846638908378, 0.8573329534784992, 0.8669634525060665, 0.8702856596413306, 0.5833173649041502, 0.8575606404978133, 0.8588669588438146, 0.8350756776472743, 0.8663145765238349, 0.8277989404288298, 0.8421406307200181, 0.8587794075077309, 0.8648502860294085, 0.8527726359114991, 0.8627756301671216, 0.8666947902302542]}, {\"categories\": [\"0\", \"1\", \"2\", \"3\", \"4\", \"5\", \"6\", \"7\", \"8\", \"9\", \"10\", \"11\", \"12\", \"13\", \"14\", \"15\", \"16\", \"17\", \"18\", \"19\", \"20\", \"21\", \"22\", \"23\", \"24\", \"25\", \"26\", \"27\", \"28\", \"29\", \"30\", \"31\", \"32\", \"33\", \"34\", \"36\", \"37\"], \"mode\": \"lines\", \"name\": \"average_precision_score_micro_max\", \"stepped\": true, \"type\": \"scatter\", \"data\": [0.8418637177566707, 0.8717257729329588, 0.8717257729329588, 0.8717257729329588, 0.8717257729329588, 0.8717257729329588, 0.8717257729329588, 0.8717257729329588, 0.8717257729329588, 0.8717257729329588, 0.8717257729329588, 0.8717257729329588, 0.8717257729329588, 0.8717257729329588, 0.8717257729329588, 0.8717257729329588, 0.8717257729329588, 0.8717257729329588, 0.8717257729329588, 0.8717257729329588, 0.8717257729329588, 0.8717257729329588, 0.8717257729329588, 0.8717257729329588, 0.8717257729329588, 0.8717257729329588, 0.8717257729329588, 0.8717257729329588, 0.8717257729329588, 0.8717257729329588, 0.8717257729329588, 0.8717257729329588, 0.8717257729329588, 0.8717257729329588, 0.8717257729329588, 0.8717257729329588, 0.8717257729329588]}], \"AUC_micro\": [{\"categories\": [\"0\", \"1\", \"2\", \"3\", \"4\", \"5\", \"6\", \"7\", \"8\", \"9\", \"10\", \"11\", \"12\", \"13\", \"14\", \"15\", \"16\", \"17\", \"18\", \"19\", \"20\", \"21\", \"22\", \"23\", \"24\", \"25\", \"26\", \"27\", \"28\", \"29\", \"30\", \"31\", \"32\", \"33\", \"34\", \"36\", \"37\"], \"mode\": \"markers\", \"name\": \"AUC_micro\", \"stepped\": false, \"type\": \"scatter\", \"data\": [0.8541913980668161, 0.8793697249539966, 0.8698276585273096, 0.8560449447673164, 0.8677605318869419, 0.8384267448156655, 0.8780390331432624, 0.7887643303537901, 0.7923049016253072, 0.8709376552994772, 0.8603878743195358, 0.8709044966853083, 0.8385003825917119, 0.8614648451633536, 0.8700134942904579, 0.8648326980203163, 0.8599410683782243, 0.8708042318615347, 0.8630824850381759, 0.8776286515993407, 0.86709727685327, 0.8693563085629549, 0.8731764517084113, 0.875402321950469, 0.8791834954135791, 0.6276755852842808, 0.8689938365867705, 0.8699155165136491, 0.8549720229810698, 0.8755333285090862, 0.8582223176291915, 0.8599342814272497, 0.8652285897021195, 0.8742955866813343, 0.8673404913860938, 0.8744845583953428, 0.8765612113068177]}, {\"categories\": [\"0\", \"1\", \"2\", \"3\", \"4\", \"5\", \"6\", \"7\", \"8\", \"9\", \"10\", \"11\", \"12\", \"13\", \"14\", \"15\", \"16\", \"17\", \"18\", \"19\", \"20\", \"21\", \"22\", \"23\", \"24\", \"25\", \"26\", \"27\", \"28\", \"29\", \"30\", \"31\", \"32\", \"33\", \"34\", \"36\", \"37\"], \"mode\": \"lines\", \"name\": \"AUC_micro_max\", \"stepped\": true, \"type\": \"scatter\", \"data\": [0.8541913980668161, 0.8793697249539966, 0.8793697249539966, 0.8793697249539966, 0.8793697249539966, 0.8793697249539966, 0.8793697249539966, 0.8793697249539966, 0.8793697249539966, 0.8793697249539966, 0.8793697249539966, 0.8793697249539966, 0.8793697249539966, 0.8793697249539966, 0.8793697249539966, 0.8793697249539966, 0.8793697249539966, 0.8793697249539966, 0.8793697249539966, 0.8793697249539966, 0.8793697249539966, 0.8793697249539966, 0.8793697249539966, 0.8793697249539966, 0.8793697249539966, 0.8793697249539966, 0.8793697249539966, 0.8793697249539966, 0.8793697249539966, 0.8793697249539966, 0.8793697249539966, 0.8793697249539966, 0.8793697249539966, 0.8793697249539966, 0.8793697249539966, 0.8793697249539966, 0.8793697249539966]}], \"recall_score_macro\": [{\"categories\": [\"0\", \"1\", \"2\", \"3\", \"4\", \"5\", \"6\", \"7\", \"8\", \"9\", \"10\", \"11\", \"12\", \"13\", \"14\", \"15\", \"16\", \"17\", \"18\", \"19\", \"20\", \"21\", \"22\", \"23\", \"24\", \"25\", \"26\", \"27\", \"28\", \"29\", \"30\", \"31\", \"32\", \"33\", \"34\", \"36\", \"37\"], \"mode\": \"markers\", \"name\": \"recall_score_macro\", \"stepped\": false, \"type\": \"scatter\", \"data\": [0.7629467535225688, 0.7754580488876197, 0.7784601711119187, 0.7478908597342236, 0.7869033174586713, 0.7619946259785262, 0.7714343679804718, 0.6438905800622621, 0.6771589001257639, 0.7862951706477262, 0.7779400195348911, 0.783066227672369, 0.703083803222144, 0.7607288615793387, 0.7662255550314212, 0.7837153230642487, 0.7714159306200756, 0.7623477704365533, 0.7674515287348553, 0.7800047023496178, 0.770097186992802, 0.7739812806290178, 0.7664550428285866, 0.7636937044486368, 0.7777320125958379, 0.5, 0.7768735932261487, 0.770575490864379, 0.7764280065474962, 0.7775412774241591, 0.7346114979454655, 0.7374724865246205, 0.7650801101189544, 0.7693294079001297, 0.780531358899341, 0.8008167937822523, 0.7932472766074721]}, {\"categories\": [\"0\", \"1\", \"2\", \"3\", \"4\", \"5\", \"6\", \"7\", \"8\", \"9\", \"10\", \"11\", \"12\", \"13\", \"14\", \"15\", \"16\", \"17\", \"18\", \"19\", \"20\", \"21\", \"22\", \"23\", \"24\", \"25\", \"26\", \"27\", \"28\", \"29\", \"30\", \"31\", \"32\", \"33\", \"34\", \"36\", \"37\"], \"mode\": \"lines\", \"name\": \"recall_score_macro_max\", \"stepped\": true, \"type\": \"scatter\", \"data\": [0.7629467535225688, 0.7754580488876197, 0.7784601711119187, 0.7784601711119187, 0.7869033174586713, 0.7869033174586713, 0.7869033174586713, 0.7869033174586713, 0.7869033174586713, 0.7869033174586713, 0.7869033174586713, 0.7869033174586713, 0.7869033174586713, 0.7869033174586713, 0.7869033174586713, 0.7869033174586713, 0.7869033174586713, 0.7869033174586713, 0.7869033174586713, 0.7869033174586713, 0.7869033174586713, 0.7869033174586713, 0.7869033174586713, 0.7869033174586713, 0.7869033174586713, 0.7869033174586713, 0.7869033174586713, 0.7869033174586713, 0.7869033174586713, 0.7869033174586713, 0.7869033174586713, 0.7869033174586713, 0.7869033174586713, 0.7869033174586713, 0.7869033174586713, 0.8008167937822523, 0.8008167937822523]}], \"recall_score_weighted\": [{\"categories\": [\"0\", \"1\", \"2\", \"3\", \"4\", \"5\", \"6\", \"7\", \"8\", \"9\", \"10\", \"11\", \"12\", \"13\", \"14\", \"15\", \"16\", \"17\", \"18\", \"19\", \"20\", \"21\", \"22\", \"23\", \"24\", \"25\", \"26\", \"27\", \"28\", \"29\", \"30\", \"31\", \"32\", \"33\", \"34\", \"36\", \"37\"], \"mode\": \"markers\", \"name\": \"recall_score_weighted\", \"stepped\": false, \"type\": \"scatter\", \"data\": [0.7849617773530817, 0.7990922121356905, 0.8023053033922599, 0.7827281414237935, 0.7936574295269947, 0.7816531294792164, 0.7990922121356904, 0.7194816053511707, 0.7424032489249881, 0.8099976110845676, 0.7947324414715718, 0.8034400382226469, 0.7728858098423316, 0.7990563784042045, 0.8023291925465837, 0.8078834209268992, 0.7870640229335881, 0.7904323936932631, 0.8001075011944577, 0.8067247969421883, 0.7926063067367416, 0.8001672240802675, 0.8002030578117534, 0.7936335403726709, 0.8078236980410892, 0.6276755852842809, 0.8045986622073578, 0.8034878165312946, 0.8002150023889154, 0.8089225991399903, 0.785965121834687, 0.7958432871476349, 0.7892379359770663, 0.8012900143334927, 0.8023411371237458, 0.8286072623029144, 0.8198638318203535]}, {\"categories\": [\"0\", \"1\", \"2\", \"3\", \"4\", \"5\", \"6\", \"7\", \"8\", \"9\", \"10\", \"11\", \"12\", \"13\", \"14\", \"15\", \"16\", \"17\", \"18\", \"19\", \"20\", \"21\", \"22\", \"23\", \"24\", \"25\", \"26\", \"27\", \"28\", \"29\", \"30\", \"31\", \"32\", \"33\", \"34\", \"36\", \"37\"], \"mode\": \"lines\", \"name\": \"recall_score_weighted_max\", \"stepped\": true, \"type\": \"scatter\", \"data\": [0.7849617773530817, 0.7990922121356905, 0.8023053033922599, 0.8023053033922599, 0.8023053033922599, 0.8023053033922599, 0.8023053033922599, 0.8023053033922599, 0.8023053033922599, 0.8099976110845676, 0.8099976110845676, 0.8099976110845676, 0.8099976110845676, 0.8099976110845676, 0.8099976110845676, 0.8099976110845676, 0.8099976110845676, 0.8099976110845676, 0.8099976110845676, 0.8099976110845676, 0.8099976110845676, 0.8099976110845676, 0.8099976110845676, 0.8099976110845676, 0.8099976110845676, 0.8099976110845676, 0.8099976110845676, 0.8099976110845676, 0.8099976110845676, 0.8099976110845676, 0.8099976110845676, 0.8099976110845676, 0.8099976110845676, 0.8099976110845676, 0.8099976110845676, 0.8286072623029144, 0.8286072623029144]}], \"precision_score_micro\": [{\"categories\": [\"0\", \"1\", \"2\", \"3\", \"4\", \"5\", \"6\", \"7\", \"8\", \"9\", \"10\", \"11\", \"12\", \"13\", \"14\", \"15\", \"16\", \"17\", \"18\", \"19\", \"20\", \"21\", \"22\", \"23\", \"24\", \"25\", \"26\", \"27\", \"28\", \"29\", \"30\", \"31\", \"32\", \"33\", \"34\", \"36\", \"37\"], \"mode\": \"markers\", \"name\": \"precision_score_micro\", \"stepped\": false, \"type\": \"scatter\", \"data\": [0.7849617773530817, 0.7990922121356905, 0.8023053033922599, 0.7827281414237935, 0.7936574295269947, 0.7816531294792164, 0.7990922121356904, 0.7194816053511707, 0.7424032489249881, 0.8099976110845676, 0.7947324414715718, 0.8034400382226469, 0.7728858098423316, 0.7990563784042045, 0.8023291925465837, 0.8078834209268992, 0.7870640229335881, 0.7904323936932631, 0.8001075011944577, 0.8067247969421883, 0.7926063067367416, 0.8001672240802675, 0.8002030578117534, 0.7936335403726709, 0.8078236980410892, 0.6276755852842809, 0.8045986622073578, 0.8034878165312946, 0.8002150023889154, 0.8089225991399903, 0.785965121834687, 0.7958432871476349, 0.7892379359770663, 0.8012900143334927, 0.8023411371237458, 0.8286072623029144, 0.8198638318203535]}, {\"categories\": [\"0\", \"1\", \"2\", \"3\", \"4\", \"5\", \"6\", \"7\", \"8\", \"9\", \"10\", \"11\", \"12\", \"13\", \"14\", \"15\", \"16\", \"17\", \"18\", \"19\", \"20\", \"21\", \"22\", \"23\", \"24\", \"25\", \"26\", \"27\", \"28\", \"29\", \"30\", \"31\", \"32\", \"33\", \"34\", \"36\", \"37\"], \"mode\": \"lines\", \"name\": \"precision_score_micro_max\", \"stepped\": true, \"type\": \"scatter\", \"data\": [0.7849617773530817, 0.7990922121356905, 0.8023053033922599, 0.8023053033922599, 0.8023053033922599, 0.8023053033922599, 0.8023053033922599, 0.8023053033922599, 0.8023053033922599, 0.8099976110845676, 0.8099976110845676, 0.8099976110845676, 0.8099976110845676, 0.8099976110845676, 0.8099976110845676, 0.8099976110845676, 0.8099976110845676, 0.8099976110845676, 0.8099976110845676, 0.8099976110845676, 0.8099976110845676, 0.8099976110845676, 0.8099976110845676, 0.8099976110845676, 0.8099976110845676, 0.8099976110845676, 0.8099976110845676, 0.8099976110845676, 0.8099976110845676, 0.8099976110845676, 0.8099976110845676, 0.8099976110845676, 0.8099976110845676, 0.8099976110845676, 0.8099976110845676, 0.8286072623029144, 0.8286072623029144]}], \"AUC_macro\": [{\"categories\": [\"0\", \"1\", \"2\", \"3\", \"4\", \"5\", \"6\", \"7\", \"8\", \"9\", \"10\", \"11\", \"12\", \"13\", \"14\", \"15\", \"16\", \"17\", \"18\", \"19\", \"20\", \"21\", \"22\", \"23\", \"24\", \"25\", \"26\", \"27\", \"28\", \"29\", \"30\", \"31\", \"32\", \"33\", \"34\", \"36\", \"37\"], \"mode\": \"markers\", \"name\": \"AUC_macro\", \"stepped\": false, \"type\": \"scatter\", \"data\": [0.8289862554503001, 0.8590847729713227, 0.8529348358843232, 0.8392112396883669, 0.854238858484784, 0.8110574368808574, 0.8587719748726874, 0.771167472344876, 0.7658535373229298, 0.850255959640789, 0.8441356292894711, 0.8531027798455757, 0.8506831411926165, 0.8455760020692379, 0.8526558170209686, 0.8441141739082502, 0.8412089084259602, 0.8487840011974971, 0.8452132063843323, 0.8598832214845554, 0.8453684313074525, 0.8485460303132323, 0.8450371057529663, 0.8540796800608804, 0.8602231279550253, 0.5, 0.8448832856056965, 0.8451593219216738, 0.8310842861135066, 0.8586064019642556, 0.8199221134073827, 0.8470431150804305, 0.845186656660046, 0.853726269034925, 0.844741104578479, 0.8556514615477588, 0.8569617399147669]}, {\"categories\": [\"0\", \"1\", \"2\", \"3\", \"4\", \"5\", \"6\", \"7\", \"8\", \"9\", \"10\", \"11\", \"12\", \"13\", \"14\", \"15\", \"16\", \"17\", \"18\", \"19\", \"20\", \"21\", \"22\", \"23\", \"24\", \"25\", \"26\", \"27\", \"28\", \"29\", \"30\", \"31\", \"32\", \"33\", \"34\", \"36\", \"37\"], \"mode\": \"lines\", \"name\": \"AUC_macro_max\", \"stepped\": true, \"type\": \"scatter\", \"data\": [0.8289862554503001, 0.8590847729713227, 0.8590847729713227, 0.8590847729713227, 0.8590847729713227, 0.8590847729713227, 0.8590847729713227, 0.8590847729713227, 0.8590847729713227, 0.8590847729713227, 0.8590847729713227, 0.8590847729713227, 0.8590847729713227, 0.8590847729713227, 0.8590847729713227, 0.8590847729713227, 0.8590847729713227, 0.8590847729713227, 0.8590847729713227, 0.8598832214845554, 0.8598832214845554, 0.8598832214845554, 0.8598832214845554, 0.8598832214845554, 0.8602231279550253, 0.8602231279550253, 0.8602231279550253, 0.8602231279550253, 0.8602231279550253, 0.8602231279550253, 0.8602231279550253, 0.8602231279550253, 0.8602231279550253, 0.8602231279550253, 0.8602231279550253, 0.8602231279550253, 0.8602231279550253]}], \"recall_score_micro\": [{\"categories\": [\"0\", \"1\", \"2\", \"3\", \"4\", \"5\", \"6\", \"7\", \"8\", \"9\", \"10\", \"11\", \"12\", \"13\", \"14\", \"15\", \"16\", \"17\", \"18\", \"19\", \"20\", \"21\", \"22\", \"23\", \"24\", \"25\", \"26\", \"27\", \"28\", \"29\", \"30\", \"31\", \"32\", \"33\", \"34\", \"36\", \"37\"], \"mode\": \"markers\", \"name\": \"recall_score_micro\", \"stepped\": false, \"type\": \"scatter\", \"data\": [0.7849617773530817, 0.7990922121356905, 0.8023053033922599, 0.7827281414237935, 0.7936574295269947, 0.7816531294792164, 0.7990922121356904, 0.7194816053511707, 0.7424032489249881, 0.8099976110845676, 0.7947324414715718, 0.8034400382226469, 0.7728858098423316, 0.7990563784042045, 0.8023291925465837, 0.8078834209268992, 0.7870640229335881, 0.7904323936932631, 0.8001075011944577, 0.8067247969421883, 0.7926063067367416, 0.8001672240802675, 0.8002030578117534, 0.7936335403726709, 0.8078236980410892, 0.6276755852842809, 0.8045986622073578, 0.8034878165312946, 0.8002150023889154, 0.8089225991399903, 0.785965121834687, 0.7958432871476349, 0.7892379359770663, 0.8012900143334927, 0.8023411371237458, 0.8286072623029144, 0.8198638318203535]}, {\"categories\": [\"0\", \"1\", \"2\", \"3\", \"4\", \"5\", \"6\", \"7\", \"8\", \"9\", \"10\", \"11\", \"12\", \"13\", \"14\", \"15\", \"16\", \"17\", \"18\", \"19\", \"20\", \"21\", \"22\", \"23\", \"24\", \"25\", \"26\", \"27\", \"28\", \"29\", \"30\", \"31\", \"32\", \"33\", \"34\", \"36\", \"37\"], \"mode\": \"lines\", \"name\": \"recall_score_micro_max\", \"stepped\": true, \"type\": \"scatter\", \"data\": [0.7849617773530817, 0.7990922121356905, 0.8023053033922599, 0.8023053033922599, 0.8023053033922599, 0.8023053033922599, 0.8023053033922599, 0.8023053033922599, 0.8023053033922599, 0.8099976110845676, 0.8099976110845676, 0.8099976110845676, 0.8099976110845676, 0.8099976110845676, 0.8099976110845676, 0.8099976110845676, 0.8099976110845676, 0.8099976110845676, 0.8099976110845676, 0.8099976110845676, 0.8099976110845676, 0.8099976110845676, 0.8099976110845676, 0.8099976110845676, 0.8099976110845676, 0.8099976110845676, 0.8099976110845676, 0.8099976110845676, 0.8099976110845676, 0.8099976110845676, 0.8099976110845676, 0.8099976110845676, 0.8099976110845676, 0.8099976110845676, 0.8099976110845676, 0.8286072623029144, 0.8286072623029144]}], \"average_precision_score_weighted\": [{\"categories\": [\"0\", \"1\", \"2\", \"3\", \"4\", \"5\", \"6\", \"7\", \"8\", \"9\", \"10\", \"11\", \"12\", \"13\", \"14\", \"15\", \"16\", \"17\", \"18\", \"19\", \"20\", \"21\", \"22\", \"23\", \"24\", \"25\", \"26\", \"27\", \"28\", \"29\", \"30\", \"31\", \"32\", \"33\", \"34\", \"36\", \"37\"], \"mode\": \"markers\", \"name\": \"average_precision_score_weighted\", \"stepped\": false, \"type\": \"scatter\", \"data\": [0.8380716945561284, 0.8672878628014382, 0.859903561177098, 0.8508770364162116, 0.8623622365733447, 0.8230751494838915, 0.8635912545303643, 0.7685826630168454, 0.7674311764961301, 0.853407323335985, 0.8574789791665183, 0.8617471455368907, 0.8588075735238009, 0.8546431697974592, 0.8644892702917509, 0.8496516956117942, 0.8498667227308557, 0.8594960106952838, 0.8566685174466067, 0.8660859231413036, 0.8513946276967003, 0.8502745938089225, 0.8420180798438575, 0.8635932443009118, 0.8670057998924573, 0.538959144524019, 0.8488039422907742, 0.8488988287892679, 0.8327030275296096, 0.8671788589756961, 0.8037903348913462, 0.8506370774793514, 0.8594794091249769, 0.8625741797563944, 0.8538042444512227, 0.8644122303402291, 0.8657847608665937]}, {\"categories\": [\"0\", \"1\", \"2\", \"3\", \"4\", \"5\", \"6\", \"7\", \"8\", \"9\", \"10\", \"11\", \"12\", \"13\", \"14\", \"15\", \"16\", \"17\", \"18\", \"19\", \"20\", \"21\", \"22\", \"23\", \"24\", \"25\", \"26\", \"27\", \"28\", \"29\", \"30\", \"31\", \"32\", \"33\", \"34\", \"36\", \"37\"], \"mode\": \"lines\", \"name\": \"average_precision_score_weighted_max\", \"stepped\": true, \"type\": \"scatter\", \"data\": [0.8380716945561284, 0.8672878628014382, 0.8672878628014382, 0.8672878628014382, 0.8672878628014382, 0.8672878628014382, 0.8672878628014382, 0.8672878628014382, 0.8672878628014382, 0.8672878628014382, 0.8672878628014382, 0.8672878628014382, 0.8672878628014382, 0.8672878628014382, 0.8672878628014382, 0.8672878628014382, 0.8672878628014382, 0.8672878628014382, 0.8672878628014382, 0.8672878628014382, 0.8672878628014382, 0.8672878628014382, 0.8672878628014382, 0.8672878628014382, 0.8672878628014382, 0.8672878628014382, 0.8672878628014382, 0.8672878628014382, 0.8672878628014382, 0.8672878628014382, 0.8672878628014382, 0.8672878628014382, 0.8672878628014382, 0.8672878628014382, 0.8672878628014382, 0.8672878628014382, 0.8672878628014382]}], \"average_precision_score_macro\": [{\"categories\": [\"0\", \"1\", \"2\", \"3\", \"4\", \"5\", \"6\", \"7\", \"8\", \"9\", \"10\", \"11\", \"12\", \"13\", \"14\", \"15\", \"16\", \"17\", \"18\", \"19\", \"20\", \"21\", \"22\", \"23\", \"24\", \"25\", \"26\", \"27\", \"28\", \"29\", \"30\", \"31\", \"32\", \"33\", \"34\", \"36\", \"37\"], \"mode\": \"markers\", \"name\": \"average_precision_score_macro\", \"stepped\": false, \"type\": \"scatter\", \"data\": [0.8249078663550717, 0.8565777288323039, 0.8484626406815622, 0.8372375769698499, 0.8520087947927278, 0.8088792529732138, 0.8516115157645402, 0.7498300033918635, 0.7492371090130387, 0.8427426802056791, 0.8448934043215106, 0.850277203080872, 0.8475877321294408, 0.8443093238503483, 0.8526506098042367, 0.8390498161032717, 0.83875629754896, 0.8477129195981077, 0.8443529017021196, 0.8546713005686979, 0.8416456635963104, 0.8381160380162814, 0.8323321103449219, 0.8514031812273212, 0.8558792668860198, 0.5, 0.8388238701791171, 0.8384862084203648, 0.8216528678351199, 0.8564420136998254, 0.7889389359355194, 0.8382707585892059, 0.847041220788068, 0.850959481220509, 0.8444925563346863, 0.8541205646924862, 0.8553914798860746]}, {\"categories\": [\"0\", \"1\", \"2\", \"3\", \"4\", \"5\", \"6\", \"7\", \"8\", \"9\", \"10\", \"11\", \"12\", \"13\", \"14\", \"15\", \"16\", \"17\", \"18\", \"19\", \"20\", \"21\", \"22\", \"23\", \"24\", \"25\", \"26\", \"27\", \"28\", \"29\", \"30\", \"31\", \"32\", \"33\", \"34\", \"36\", \"37\"], \"mode\": \"lines\", \"name\": \"average_precision_score_macro_max\", \"stepped\": true, \"type\": \"scatter\", \"data\": [0.8249078663550717, 0.8565777288323039, 0.8565777288323039, 0.8565777288323039, 0.8565777288323039, 0.8565777288323039, 0.8565777288323039, 0.8565777288323039, 0.8565777288323039, 0.8565777288323039, 0.8565777288323039, 0.8565777288323039, 0.8565777288323039, 0.8565777288323039, 0.8565777288323039, 0.8565777288323039, 0.8565777288323039, 0.8565777288323039, 0.8565777288323039, 0.8565777288323039, 0.8565777288323039, 0.8565777288323039, 0.8565777288323039, 0.8565777288323039, 0.8565777288323039, 0.8565777288323039, 0.8565777288323039, 0.8565777288323039, 0.8565777288323039, 0.8565777288323039, 0.8565777288323039, 0.8565777288323039, 0.8565777288323039, 0.8565777288323039, 0.8565777288323039, 0.8565777288323039, 0.8565777288323039]}], \"precision_score_weighted\": [{\"categories\": [\"0\", \"1\", \"2\", \"3\", \"4\", \"5\", \"6\", \"7\", \"8\", \"9\", \"10\", \"11\", \"12\", \"13\", \"14\", \"15\", \"16\", \"17\", \"18\", \"19\", \"20\", \"21\", \"22\", \"23\", \"24\", \"25\", \"26\", \"27\", \"28\", \"29\", \"30\", \"31\", \"32\", \"33\", \"34\", \"36\", \"37\"], \"mode\": \"markers\", \"name\": \"precision_score_weighted\", \"stepped\": false, \"type\": \"scatter\", \"data\": [0.7899843083427454, 0.8065514138687027, 0.8040449825472253, 0.7921661952559826, 0.8015745270602957, 0.786606500409609, 0.8010283041164497, 0.7466012259921422, 0.766878854493686, 0.8127574582696449, 0.7974306211711075, 0.8088109341526319, 0.8122312976246236, 0.8071301103537245, 0.8128546224389567, 0.8101002489205099, 0.7889177271616725, 0.7927429853808602, 0.8093576381042441, 0.8109582379508268, 0.7961408193365747, 0.8032048190082917, 0.8043482277846244, 0.7967758039044452, 0.8138013583782365, 0.3971551575462905, 0.8070134517949865, 0.807788230804437, 0.8034977097130606, 0.8148675748708089, 0.804377123051051, 0.8232272582584601, 0.7905161739989163, 0.8070386508856326, 0.8048652634262222, 0.8316708935638493, 0.8226377067385278]}, {\"categories\": [\"0\", \"1\", \"2\", \"3\", \"4\", \"5\", \"6\", \"7\", \"8\", \"9\", \"10\", \"11\", \"12\", \"13\", \"14\", \"15\", \"16\", \"17\", \"18\", \"19\", \"20\", \"21\", \"22\", \"23\", \"24\", \"25\", \"26\", \"27\", \"28\", \"29\", \"30\", \"31\", \"32\", \"33\", \"34\", \"36\", \"37\"], \"mode\": \"lines\", \"name\": \"precision_score_weighted_max\", \"stepped\": true, \"type\": \"scatter\", \"data\": [0.7899843083427454, 0.8065514138687027, 0.8065514138687027, 0.8065514138687027, 0.8065514138687027, 0.8065514138687027, 0.8065514138687027, 0.8065514138687027, 0.8065514138687027, 0.8127574582696449, 0.8127574582696449, 0.8127574582696449, 0.8127574582696449, 0.8127574582696449, 0.8128546224389567, 0.8128546224389567, 0.8128546224389567, 0.8128546224389567, 0.8128546224389567, 0.8128546224389567, 0.8128546224389567, 0.8128546224389567, 0.8128546224389567, 0.8128546224389567, 0.8138013583782365, 0.8138013583782365, 0.8138013583782365, 0.8138013583782365, 0.8138013583782365, 0.8148675748708089, 0.8148675748708089, 0.8232272582584601, 0.8232272582584601, 0.8232272582584601, 0.8232272582584601, 0.8316708935638493, 0.8316708935638493]}]}, \"metricName\": null, \"primaryMetricName\": \"accuracy\", \"showLegend\": false}, \"run_metrics\": [{\"name\": \"experiment_status\", \"run_id\": \"AutoML_2367dc6d-0c89-4491-80d3-45662e0cbc66\", \"categories\": [0, 1, 2, 3, 4, 5], \"series\": [{\"data\": [\"DatasetEvaluation\", \"FeaturesGeneration\", \"DatasetFeaturization\", \"DatasetFeaturizationCompleted\", \"DatasetCrossValidationSplit\", \"ModelSelection\"]}]}, {\"name\": \"experiment_status_description\", \"run_id\": \"AutoML_2367dc6d-0c89-4491-80d3-45662e0cbc66\", \"categories\": [0, 1, 2, 3, 4, 5], \"series\": [{\"data\": [\"Gathering dataset statistics.\", \"Generating features for the dataset.\", \"Beginning to fit featurizers and featurize the dataset.\", \"Completed fit featurizers and featurizing the dataset.\", \"Generating individually featurized CV splits.\", \"Beginning model selection.\"]}]}, {\"name\": \"precision_score_weighted\", \"run_id\": \"AutoML_2367dc6d-0c89-4491-80d3-45662e0cbc66\", \"categories\": [0], \"series\": [{\"data\": [0.8316708935638493]}]}, {\"name\": \"recall_score_micro\", \"run_id\": \"AutoML_2367dc6d-0c89-4491-80d3-45662e0cbc66\", \"categories\": [0], \"series\": [{\"data\": [0.8286072623029144]}]}, {\"name\": \"precision_score_micro\", \"run_id\": \"AutoML_2367dc6d-0c89-4491-80d3-45662e0cbc66\", \"categories\": [0], \"series\": [{\"data\": [0.8286072623029144]}]}, {\"name\": \"f1_score_macro\", \"run_id\": \"AutoML_2367dc6d-0c89-4491-80d3-45662e0cbc66\", \"categories\": [0], \"series\": [{\"data\": [0.8073476439463002]}]}, {\"name\": \"average_precision_score_micro\", \"run_id\": \"AutoML_2367dc6d-0c89-4491-80d3-45662e0cbc66\", \"categories\": [0], \"series\": [{\"data\": [0.8627756301671216]}]}, {\"name\": \"matthews_correlation\", \"run_id\": \"AutoML_2367dc6d-0c89-4491-80d3-45662e0cbc66\", \"categories\": [0], \"series\": [{\"data\": [0.6249780884821602]}]}, {\"name\": \"balanced_accuracy\", \"run_id\": \"AutoML_2367dc6d-0c89-4491-80d3-45662e0cbc66\", \"categories\": [0], \"series\": [{\"data\": [0.8008167937822523]}]}, {\"name\": \"f1_score_micro\", \"run_id\": \"AutoML_2367dc6d-0c89-4491-80d3-45662e0cbc66\", \"categories\": [0], \"series\": [{\"data\": [0.8286072623029146]}]}, {\"name\": \"average_precision_score_weighted\", \"run_id\": \"AutoML_2367dc6d-0c89-4491-80d3-45662e0cbc66\", \"categories\": [0], \"series\": [{\"data\": [0.8644122303402291]}]}, {\"name\": \"recall_score_macro\", \"run_id\": \"AutoML_2367dc6d-0c89-4491-80d3-45662e0cbc66\", \"categories\": [0], \"series\": [{\"data\": [0.8008167937822523]}]}, {\"name\": \"AUC_micro\", \"run_id\": \"AutoML_2367dc6d-0c89-4491-80d3-45662e0cbc66\", \"categories\": [0], \"series\": [{\"data\": [0.8744845583953428]}]}, {\"name\": \"recall_score_weighted\", \"run_id\": \"AutoML_2367dc6d-0c89-4491-80d3-45662e0cbc66\", \"categories\": [0], \"series\": [{\"data\": [0.8286072623029144]}]}, {\"name\": \"norm_macro_recall\", \"run_id\": \"AutoML_2367dc6d-0c89-4491-80d3-45662e0cbc66\", \"categories\": [0], \"series\": [{\"data\": [0.6016335875645049]}]}, {\"name\": \"precision_score_macro\", \"run_id\": \"AutoML_2367dc6d-0c89-4491-80d3-45662e0cbc66\", \"categories\": [0], \"series\": [{\"data\": [0.8248581308169373]}]}, {\"name\": \"f1_score_weighted\", \"run_id\": \"AutoML_2367dc6d-0c89-4491-80d3-45662e0cbc66\", \"categories\": [0], \"series\": [{\"data\": [0.8251951590305799]}]}, {\"name\": \"AUC_macro\", \"run_id\": \"AutoML_2367dc6d-0c89-4491-80d3-45662e0cbc66\", \"categories\": [0], \"series\": [{\"data\": [0.8556514615477588]}]}, {\"name\": \"weighted_accuracy\", \"run_id\": \"AutoML_2367dc6d-0c89-4491-80d3-45662e0cbc66\", \"categories\": [0], \"series\": [{\"data\": [0.8514679402201558]}]}, {\"name\": \"log_loss\", \"run_id\": \"AutoML_2367dc6d-0c89-4491-80d3-45662e0cbc66\", \"categories\": [0], \"series\": [{\"data\": [0.45701815720862865]}]}, {\"name\": \"AUC_weighted\", \"run_id\": \"AutoML_2367dc6d-0c89-4491-80d3-45662e0cbc66\", \"categories\": [0], \"series\": [{\"data\": [0.8556514615477588]}]}, {\"name\": \"average_precision_score_macro\", \"run_id\": \"AutoML_2367dc6d-0c89-4491-80d3-45662e0cbc66\", \"categories\": [0], \"series\": [{\"data\": [0.8541205646924862]}]}, {\"name\": \"accuracy\", \"run_id\": \"AutoML_2367dc6d-0c89-4491-80d3-45662e0cbc66\", \"categories\": [0], \"series\": [{\"data\": [0.8286072623029144]}]}], \"run_logs\": \"\\nRun is completed.\", \"graph\": {}, \"widget_settings\": {\"childWidgetDisplay\": \"popup\", \"send_telemetry\": false, \"log_level\": \"INFO\", \"sdk_version\": \"1.20.0\"}, \"loading\": false}"
     },
     "metadata": {},
     "output_type": "display_data"
    },
    {
     "data": {
      "text/plain": [
       "{'runId': 'AutoML_2367dc6d-0c89-4491-80d3-45662e0cbc66',\n",
       " 'target': 'compute-cluster',\n",
       " 'status': 'Completed',\n",
       " 'startTimeUtc': '2021-02-24T02:36:07.753471Z',\n",
       " 'endTimeUtc': '2021-02-24T03:35:27.114463Z',\n",
       " 'properties': {'num_iterations': '1000',\n",
       "  'training_type': 'TrainFull',\n",
       "  'acquisition_function': 'EI',\n",
       "  'primary_metric': 'accuracy',\n",
       "  'train_split': '0',\n",
       "  'acquisition_parameter': '0',\n",
       "  'num_cross_validation': None,\n",
       "  'target': 'compute-cluster',\n",
       "  'AMLSettingsJsonString': '{\"path\":null,\"name\":\"Titanic-AutoML-Experiment\",\"subscription_id\":\"976ee174-3882-4721-b90a-b5fef6b72f24\",\"resource_group\":\"aml-quickstarts-139405\",\"workspace_name\":\"quick-starts-ws-139405\",\"region\":\"southcentralus\",\"compute_target\":\"compute-cluster\",\"spark_service\":null,\"azure_service\":\"remote\",\"many_models\":false,\"pipeline_fetch_max_batch_size\":1,\"iterations\":1000,\"primary_metric\":\"accuracy\",\"task_type\":\"classification\",\"data_script\":null,\"validation_size\":0.0,\"n_cross_validations\":null,\"y_min\":null,\"y_max\":null,\"num_classes\":null,\"featurization\":\"auto\",\"_ignore_package_version_incompatibilities\":false,\"is_timeseries\":false,\"max_cores_per_iteration\":1,\"max_concurrent_iterations\":4,\"iteration_timeout_minutes\":null,\"mem_in_mb\":null,\"enforce_time_on_windows\":false,\"experiment_timeout_minutes\":60,\"experiment_exit_score\":null,\"whitelist_models\":null,\"blacklist_algos\":[\"TensorFlowLinearClassifier\",\"TensorFlowDNN\"],\"supported_models\":[\"LinearSVM\",\"KNN\",\"SGD\",\"SVM\",\"ExtremeRandomTrees\",\"LightGBM\",\"AveragedPerceptronClassifier\",\"TensorFlowDNN\",\"MultinomialNaiveBayes\",\"LogisticRegression\",\"BernoulliNaiveBayes\",\"XGBoostClassifier\",\"RandomForest\",\"TensorFlowLinearClassifier\",\"GradientBoosting\",\"DecisionTree\"],\"auto_blacklist\":true,\"blacklist_samples_reached\":false,\"exclude_nan_labels\":true,\"verbosity\":20,\"_debug_log\":\"azureml_automl.log\",\"show_warnings\":false,\"model_explainability\":true,\"service_url\":null,\"sdk_url\":null,\"sdk_packages\":null,\"enable_onnx_compatible_models\":false,\"enable_split_onnx_featurizer_estimator_models\":false,\"vm_type\":\"STANDARD_DS12_V2\",\"telemetry_verbosity\":20,\"send_telemetry\":true,\"enable_dnn\":false,\"scenario\":\"SDK-1.13.0\",\"environment_label\":null,\"force_text_dnn\":false,\"enable_feature_sweeping\":true,\"enable_early_stopping\":true,\"early_stopping_n_iters\":10,\"metrics\":null,\"enable_ensembling\":true,\"enable_stack_ensembling\":true,\"ensemble_iterations\":15,\"enable_tf\":false,\"enable_subsampling\":null,\"subsample_seed\":null,\"enable_nimbusml\":false,\"enable_streaming\":false,\"force_streaming\":false,\"track_child_runs\":true,\"allowed_private_models\":[],\"label_column_name\":\"survived\",\"weight_column_name\":null,\"cv_split_column_names\":null,\"enable_local_managed\":false,\"_local_managed_run_id\":null,\"cost_mode\":1,\"lag_length\":0,\"metric_operation\":\"maximize\",\"preprocess\":true}',\n",
       "  'DataPrepJsonString': '{\\\\\"training_data\\\\\": \\\\\"{\\\\\\\\\\\\\"blocks\\\\\\\\\\\\\": [{\\\\\\\\\\\\\"id\\\\\\\\\\\\\": \\\\\\\\\\\\\"2e0b6cb7-2f40-4d67-814f-e25b228af6cb\\\\\\\\\\\\\", \\\\\\\\\\\\\"type\\\\\\\\\\\\\": \\\\\\\\\\\\\"Microsoft.DPrep.GetFilesBlock\\\\\\\\\\\\\", \\\\\\\\\\\\\"arguments\\\\\\\\\\\\\": {\\\\\\\\\\\\\"isArchive\\\\\\\\\\\\\": false, \\\\\\\\\\\\\"path\\\\\\\\\\\\\": {\\\\\\\\\\\\\"target\\\\\\\\\\\\\": 4, \\\\\\\\\\\\\"resourceDetails\\\\\\\\\\\\\": [{\\\\\\\\\\\\\"path\\\\\\\\\\\\\": \\\\\\\\\\\\\"https://raw.githubusercontent.com/ddgope/Titanic-Survival-Prediction/master/prepared.csv\\\\\\\\\\\\\"}]}}, \\\\\\\\\\\\\"localData\\\\\\\\\\\\\": {}, \\\\\\\\\\\\\"isEnabled\\\\\\\\\\\\\": true, \\\\\\\\\\\\\"name\\\\\\\\\\\\\": null, \\\\\\\\\\\\\"annotation\\\\\\\\\\\\\": null}, {\\\\\\\\\\\\\"id\\\\\\\\\\\\\": \\\\\\\\\\\\\"b1b69aef-3870-4c96-88d0-1c2984f1912f\\\\\\\\\\\\\", \\\\\\\\\\\\\"type\\\\\\\\\\\\\": \\\\\\\\\\\\\"Microsoft.DPrep.ParseDelimitedBlock\\\\\\\\\\\\\", \\\\\\\\\\\\\"arguments\\\\\\\\\\\\\": {\\\\\\\\\\\\\"columnHeadersMode\\\\\\\\\\\\\": 3, \\\\\\\\\\\\\"fileEncoding\\\\\\\\\\\\\": 0, \\\\\\\\\\\\\"handleQuotedLineBreaks\\\\\\\\\\\\\": false, \\\\\\\\\\\\\"preview\\\\\\\\\\\\\": false, \\\\\\\\\\\\\"separator\\\\\\\\\\\\\": \\\\\\\\\\\\\",\\\\\\\\\\\\\", \\\\\\\\\\\\\"skipRows\\\\\\\\\\\\\": 0, \\\\\\\\\\\\\"skipRowsMode\\\\\\\\\\\\\": 0}, \\\\\\\\\\\\\"localData\\\\\\\\\\\\\": {}, \\\\\\\\\\\\\"isEnabled\\\\\\\\\\\\\": true, \\\\\\\\\\\\\"name\\\\\\\\\\\\\": null, \\\\\\\\\\\\\"annotation\\\\\\\\\\\\\": null}, {\\\\\\\\\\\\\"id\\\\\\\\\\\\\": \\\\\\\\\\\\\"33785aaa-a1ef-4668-bcce-45482d53aa77\\\\\\\\\\\\\", \\\\\\\\\\\\\"type\\\\\\\\\\\\\": \\\\\\\\\\\\\"Microsoft.DPrep.DropColumnsBlock\\\\\\\\\\\\\", \\\\\\\\\\\\\"arguments\\\\\\\\\\\\\": {\\\\\\\\\\\\\"columns\\\\\\\\\\\\\": {\\\\\\\\\\\\\"type\\\\\\\\\\\\\": 0, \\\\\\\\\\\\\"details\\\\\\\\\\\\\": {\\\\\\\\\\\\\"selectedColumns\\\\\\\\\\\\\": [\\\\\\\\\\\\\"Path\\\\\\\\\\\\\"]}}}, \\\\\\\\\\\\\"localData\\\\\\\\\\\\\": {}, \\\\\\\\\\\\\"isEnabled\\\\\\\\\\\\\": true, \\\\\\\\\\\\\"name\\\\\\\\\\\\\": null, \\\\\\\\\\\\\"annotation\\\\\\\\\\\\\": null}, {\\\\\\\\\\\\\"id\\\\\\\\\\\\\": \\\\\\\\\\\\\"1c5ee82a-f56a-4102-bc4d-12e72dbdae55\\\\\\\\\\\\\", \\\\\\\\\\\\\"type\\\\\\\\\\\\\": \\\\\\\\\\\\\"Microsoft.DPrep.SetColumnTypesBlock\\\\\\\\\\\\\", \\\\\\\\\\\\\"arguments\\\\\\\\\\\\\": {\\\\\\\\\\\\\"columnConversion\\\\\\\\\\\\\": [{\\\\\\\\\\\\\"column\\\\\\\\\\\\\": {\\\\\\\\\\\\\"type\\\\\\\\\\\\\": 2, \\\\\\\\\\\\\"details\\\\\\\\\\\\\": {\\\\\\\\\\\\\"selectedColumn\\\\\\\\\\\\\": \\\\\\\\\\\\\"pclass\\\\\\\\\\\\\"}}, \\\\\\\\\\\\\"typeProperty\\\\\\\\\\\\\": 3}, {\\\\\\\\\\\\\"column\\\\\\\\\\\\\": {\\\\\\\\\\\\\"type\\\\\\\\\\\\\": 2, \\\\\\\\\\\\\"details\\\\\\\\\\\\\": {\\\\\\\\\\\\\"selectedColumn\\\\\\\\\\\\\": \\\\\\\\\\\\\"age\\\\\\\\\\\\\"}}, \\\\\\\\\\\\\"typeProperty\\\\\\\\\\\\\": 3}, {\\\\\\\\\\\\\"column\\\\\\\\\\\\\": {\\\\\\\\\\\\\"type\\\\\\\\\\\\\": 2, \\\\\\\\\\\\\"details\\\\\\\\\\\\\": {\\\\\\\\\\\\\"selectedColumn\\\\\\\\\\\\\": \\\\\\\\\\\\\"sibsp\\\\\\\\\\\\\"}}, \\\\\\\\\\\\\"typeProperty\\\\\\\\\\\\\": 3}, {\\\\\\\\\\\\\"column\\\\\\\\\\\\\": {\\\\\\\\\\\\\"type\\\\\\\\\\\\\": 2, \\\\\\\\\\\\\"details\\\\\\\\\\\\\": {\\\\\\\\\\\\\"selectedColumn\\\\\\\\\\\\\": \\\\\\\\\\\\\"parch\\\\\\\\\\\\\"}}, \\\\\\\\\\\\\"typeProperty\\\\\\\\\\\\\": 3}, {\\\\\\\\\\\\\"column\\\\\\\\\\\\\": {\\\\\\\\\\\\\"type\\\\\\\\\\\\\": 2, \\\\\\\\\\\\\"details\\\\\\\\\\\\\": {\\\\\\\\\\\\\"selectedColumn\\\\\\\\\\\\\": \\\\\\\\\\\\\"fare\\\\\\\\\\\\\"}}, \\\\\\\\\\\\\"typeProperty\\\\\\\\\\\\\": 3}, {\\\\\\\\\\\\\"column\\\\\\\\\\\\\": {\\\\\\\\\\\\\"type\\\\\\\\\\\\\": 2, \\\\\\\\\\\\\"details\\\\\\\\\\\\\": {\\\\\\\\\\\\\"selectedColumn\\\\\\\\\\\\\": \\\\\\\\\\\\\"age_NA\\\\\\\\\\\\\"}}, \\\\\\\\\\\\\"typeProperty\\\\\\\\\\\\\": 3}, {\\\\\\\\\\\\\"column\\\\\\\\\\\\\": {\\\\\\\\\\\\\"type\\\\\\\\\\\\\": 2, \\\\\\\\\\\\\"details\\\\\\\\\\\\\": {\\\\\\\\\\\\\"selectedColumn\\\\\\\\\\\\\": \\\\\\\\\\\\\"fare_NA\\\\\\\\\\\\\"}}, \\\\\\\\\\\\\"typeProperty\\\\\\\\\\\\\": 3}, {\\\\\\\\\\\\\"column\\\\\\\\\\\\\": {\\\\\\\\\\\\\"type\\\\\\\\\\\\\": 2, \\\\\\\\\\\\\"details\\\\\\\\\\\\\": {\\\\\\\\\\\\\"selectedColumn\\\\\\\\\\\\\": \\\\\\\\\\\\\"sex_male\\\\\\\\\\\\\"}}, \\\\\\\\\\\\\"typeProperty\\\\\\\\\\\\\": 3}, {\\\\\\\\\\\\\"column\\\\\\\\\\\\\": {\\\\\\\\\\\\\"type\\\\\\\\\\\\\": 2, \\\\\\\\\\\\\"details\\\\\\\\\\\\\": {\\\\\\\\\\\\\"selectedColumn\\\\\\\\\\\\\": \\\\\\\\\\\\\"cabin_Missing\\\\\\\\\\\\\"}}, \\\\\\\\\\\\\"typeProperty\\\\\\\\\\\\\": 3}, {\\\\\\\\\\\\\"column\\\\\\\\\\\\\": {\\\\\\\\\\\\\"type\\\\\\\\\\\\\": 2, \\\\\\\\\\\\\"details\\\\\\\\\\\\\": {\\\\\\\\\\\\\"selectedColumn\\\\\\\\\\\\\": \\\\\\\\\\\\\"cabin_Rare\\\\\\\\\\\\\"}}, \\\\\\\\\\\\\"typeProperty\\\\\\\\\\\\\": 3}, {\\\\\\\\\\\\\"column\\\\\\\\\\\\\": {\\\\\\\\\\\\\"type\\\\\\\\\\\\\": 2, \\\\\\\\\\\\\"details\\\\\\\\\\\\\": {\\\\\\\\\\\\\"selectedColumn\\\\\\\\\\\\\": \\\\\\\\\\\\\"embarked_Q\\\\\\\\\\\\\"}}, \\\\\\\\\\\\\"typeProperty\\\\\\\\\\\\\": 3}, {\\\\\\\\\\\\\"column\\\\\\\\\\\\\": {\\\\\\\\\\\\\"type\\\\\\\\\\\\\": 2, \\\\\\\\\\\\\"details\\\\\\\\\\\\\": {\\\\\\\\\\\\\"selectedColumn\\\\\\\\\\\\\": \\\\\\\\\\\\\"embarked_Rare\\\\\\\\\\\\\"}}, \\\\\\\\\\\\\"typeProperty\\\\\\\\\\\\\": 3}, {\\\\\\\\\\\\\"column\\\\\\\\\\\\\": {\\\\\\\\\\\\\"type\\\\\\\\\\\\\": 2, \\\\\\\\\\\\\"details\\\\\\\\\\\\\": {\\\\\\\\\\\\\"selectedColumn\\\\\\\\\\\\\": \\\\\\\\\\\\\"embarked_S\\\\\\\\\\\\\"}}, \\\\\\\\\\\\\"typeProperty\\\\\\\\\\\\\": 3}, {\\\\\\\\\\\\\"column\\\\\\\\\\\\\": {\\\\\\\\\\\\\"type\\\\\\\\\\\\\": 2, \\\\\\\\\\\\\"details\\\\\\\\\\\\\": {\\\\\\\\\\\\\"selectedColumn\\\\\\\\\\\\\": \\\\\\\\\\\\\"title_Mr\\\\\\\\\\\\\"}}, \\\\\\\\\\\\\"typeProperty\\\\\\\\\\\\\": 3}, {\\\\\\\\\\\\\"column\\\\\\\\\\\\\": {\\\\\\\\\\\\\"type\\\\\\\\\\\\\": 2, \\\\\\\\\\\\\"details\\\\\\\\\\\\\": {\\\\\\\\\\\\\"selectedColumn\\\\\\\\\\\\\": \\\\\\\\\\\\\"title_Mrs\\\\\\\\\\\\\"}}, \\\\\\\\\\\\\"typeProperty\\\\\\\\\\\\\": 3}, {\\\\\\\\\\\\\"column\\\\\\\\\\\\\": {\\\\\\\\\\\\\"type\\\\\\\\\\\\\": 2, \\\\\\\\\\\\\"details\\\\\\\\\\\\\": {\\\\\\\\\\\\\"selectedColumn\\\\\\\\\\\\\": \\\\\\\\\\\\\"title_Rare\\\\\\\\\\\\\"}}, \\\\\\\\\\\\\"typeProperty\\\\\\\\\\\\\": 3}, {\\\\\\\\\\\\\"column\\\\\\\\\\\\\": {\\\\\\\\\\\\\"type\\\\\\\\\\\\\": 2, \\\\\\\\\\\\\"details\\\\\\\\\\\\\": {\\\\\\\\\\\\\"selectedColumn\\\\\\\\\\\\\": \\\\\\\\\\\\\"survived\\\\\\\\\\\\\"}}, \\\\\\\\\\\\\"typeProperty\\\\\\\\\\\\\": 2}]}, \\\\\\\\\\\\\"localData\\\\\\\\\\\\\": {}, \\\\\\\\\\\\\"isEnabled\\\\\\\\\\\\\": true, \\\\\\\\\\\\\"name\\\\\\\\\\\\\": null, \\\\\\\\\\\\\"annotation\\\\\\\\\\\\\": null}], \\\\\\\\\\\\\"inspectors\\\\\\\\\\\\\": [], \\\\\\\\\\\\\"meta\\\\\\\\\\\\\": {\\\\\\\\\\\\\"savedDatasetId\\\\\\\\\\\\\": \\\\\\\\\\\\\"7c53599c-2604-4c50-9e54-673bc9b96b7c\\\\\\\\\\\\\", \\\\\\\\\\\\\"datasetType\\\\\\\\\\\\\": \\\\\\\\\\\\\"tabular\\\\\\\\\\\\\", \\\\\\\\\\\\\"subscriptionId\\\\\\\\\\\\\": \\\\\\\\\\\\\"976ee174-3882-4721-b90a-b5fef6b72f24\\\\\\\\\\\\\", \\\\\\\\\\\\\"workspaceId\\\\\\\\\\\\\": \\\\\\\\\\\\\"36a1c2ed-1845-4d60-a78b-e1cf81f4229c\\\\\\\\\\\\\", \\\\\\\\\\\\\"workspaceLocation\\\\\\\\\\\\\": \\\\\\\\\\\\\"southcentralus\\\\\\\\\\\\\"}}\\\\\", \\\\\"activities\\\\\": 0}',\n",
       "  'EnableSubsampling': None,\n",
       "  'runTemplate': 'AutoML',\n",
       "  'azureml.runsource': 'automl',\n",
       "  'display_task_type': 'classification',\n",
       "  'dependencies_versions': '{\"azureml-widgets\": \"1.20.0\", \"azureml-train\": \"1.20.0\", \"azureml-train-restclients-hyperdrive\": \"1.20.0\", \"azureml-train-core\": \"1.20.0\", \"azureml-train-automl\": \"1.20.0\", \"azureml-train-automl-runtime\": \"1.20.0\", \"azureml-train-automl-client\": \"1.20.0\", \"azureml-tensorboard\": \"1.20.0\", \"azureml-telemetry\": \"1.20.0\", \"azureml-sdk\": \"1.20.0\", \"azureml-samples\": \"0+unknown\", \"azureml-pipeline\": \"1.20.0\", \"azureml-pipeline-steps\": \"1.20.0\", \"azureml-pipeline-core\": \"1.20.0\", \"azureml-opendatasets\": \"1.20.0\", \"azureml-model-management-sdk\": \"1.0.1b6.post1\", \"azureml-mlflow\": \"1.20.0.post1\", \"azureml-interpret\": \"1.20.0\", \"azureml-explain-model\": \"1.20.0\", \"azureml-defaults\": \"1.20.0\", \"azureml-dataset-runtime\": \"1.20.0\", \"azureml-dataprep\": \"2.7.3\", \"azureml-dataprep-rslex\": \"1.5.0\", \"azureml-dataprep-native\": \"27.0.0\", \"azureml-datadrift\": \"1.20.0\", \"azureml-core\": \"1.20.0\", \"azureml-contrib-services\": \"1.20.0\", \"azureml-contrib-server\": \"1.20.0\", \"azureml-contrib-reinforcementlearning\": \"1.20.0\", \"azureml-contrib-pipeline-steps\": \"1.20.0\", \"azureml-contrib-notebook\": \"1.20.0\", \"azureml-contrib-interpret\": \"1.20.0\", \"azureml-contrib-gbdt\": \"1.20.0\", \"azureml-contrib-fairness\": \"1.20.0\", \"azureml-contrib-dataset\": \"1.20.0\", \"azureml-cli-common\": \"1.20.0\", \"azureml-automl-runtime\": \"1.20.0\", \"azureml-automl-core\": \"1.20.0\", \"azureml-accel-models\": \"1.20.0\"}',\n",
       "  '_aml_system_scenario_identification': 'Remote.Parent',\n",
       "  'ClientType': 'SDK',\n",
       "  'environment_cpu_name': 'AzureML-AutoML',\n",
       "  'environment_cpu_label': 'prod',\n",
       "  'environment_gpu_name': 'AzureML-AutoML-GPU',\n",
       "  'environment_gpu_label': 'prod',\n",
       "  'root_attribution': 'automl',\n",
       "  'attribution': 'AutoML',\n",
       "  'Orchestrator': 'AutoML',\n",
       "  'CancelUri': 'https://southcentralus.experiments.azureml.net/jasmine/v1.0/subscriptions/976ee174-3882-4721-b90a-b5fef6b72f24/resourceGroups/aml-quickstarts-139405/providers/Microsoft.MachineLearningServices/workspaces/quick-starts-ws-139405/experimentids/3c423f3f-cdaa-4726-af42-e7a42f52f517/cancel/AutoML_2367dc6d-0c89-4491-80d3-45662e0cbc66',\n",
       "  'ClientSdkVersion': '1.22.0',\n",
       "  'snapshotId': '00000000-0000-0000-0000-000000000000',\n",
       "  'SetupRunId': 'AutoML_2367dc6d-0c89-4491-80d3-45662e0cbc66_setup',\n",
       "  'SetupRunContainerId': 'dcid.AutoML_2367dc6d-0c89-4491-80d3-45662e0cbc66_setup',\n",
       "  'FeaturizationRunJsonPath': 'featurizer_container.json',\n",
       "  'FeaturizationRunId': 'AutoML_2367dc6d-0c89-4491-80d3-45662e0cbc66_featurize',\n",
       "  'ProblemInfoJsonString': '{\"dataset_num_categorical\": 0, \"is_sparse\": false, \"subsampling\": false, \"dataset_classes\": 2, \"dataset_features\": 15, \"dataset_samples\": 916, \"single_frequency_class_detected\": false}',\n",
       "  'ModelExplainRunId': 'AutoML_2367dc6d-0c89-4491-80d3-45662e0cbc66_ModelExplain'},\n",
       " 'inputDatasets': [{'dataset': {'id': '7c53599c-2604-4c50-9e54-673bc9b96b7c'}, 'consumptionDetails': {'type': 'RunInput', 'inputName': 'training_data', 'mechanism': 'Direct'}}],\n",
       " 'outputDatasets': [],\n",
       " 'logFiles': {},\n",
       " 'submittedBy': 'ODL_User 139405'}"
      ]
     },
     "execution_count": 49,
     "metadata": {},
     "output_type": "execute_result"
    }
   ],
   "source": [
    "#Additional Run Details\n",
    "from azureml.widgets import RunDetails\n",
    "\n",
    "RunDetails(automl_run).show()\n",
    "\n",
    "# wait for completion\n",
    "automl_run.wait_for_completion()"
   ]
  },
  {
   "cell_type": "code",
   "execution_count": 50,
   "metadata": {
    "gather": {
     "logged": 1612803039483
    },
    "jupyter": {
     "outputs_hidden": false,
     "source_hidden": false
    },
    "nteract": {
     "transient": {
      "deleting": false
     }
    }
   },
   "outputs": [
    {
     "name": "stderr",
     "output_type": "stream",
     "text": [
      "WARNING:root:The version of the SDK does not match the version the model was trained on.\n",
      "WARNING:root:The consistency in the result may not be guaranteed.\n",
      "WARNING:root:Package:azureml-automl-core, training version:1.22.0, current version:1.20.0\n",
      "Package:azureml-automl-runtime, training version:1.22.0, current version:1.20.0\n",
      "Package:azureml-core, training version:1.22.0, current version:1.20.0\n",
      "Package:azureml-dataprep, training version:2.9.1, current version:2.7.3\n",
      "Package:azureml-dataprep-native, training version:29.0.0, current version:27.0.0\n",
      "Package:azureml-dataprep-rslex, training version:1.7.0, current version:1.5.0\n",
      "Package:azureml-dataset-runtime, training version:1.22.0, current version:1.20.0\n",
      "Package:azureml-defaults, training version:1.22.0, current version:1.20.0\n",
      "Package:azureml-interpret, training version:1.22.0, current version:1.20.0\n",
      "Package:azureml-pipeline-core, training version:1.22.0, current version:1.20.0\n",
      "Package:azureml-telemetry, training version:1.22.0, current version:1.20.0\n",
      "Package:azureml-train-automl-client, training version:1.22.0, current version:1.20.0\n",
      "Package:azureml-train-automl-runtime, training version:1.22.0, current version:1.20.0\n",
      "WARNING:root:Please ensure the version of your local conda dependencies match the version on which your model was trained in order to properly retrieve your model.\n"
     ]
    },
    {
     "data": {
      "text/plain": [
       "(Run(Experiment: Titanic-AutoML-Experiment,\n",
       " Id: AutoML_2367dc6d-0c89-4491-80d3-45662e0cbc66_36,\n",
       " Type: azureml.scriptrun,\n",
       " Status: Completed),\n",
       " Pipeline(memory=None,\n",
       "          steps=[('datatransformer',\n",
       "                  DataTransformer(enable_dnn=None, enable_feature_sweeping=None,\n",
       "                                  feature_sweeping_config=None,\n",
       "                                  feature_sweeping_timeout=None,\n",
       "                                  featurization_config=None, force_text_dnn=None,\n",
       "                                  is_cross_validation=None,\n",
       "                                  is_onnx_compatible=None, logger=None,\n",
       "                                  observer=None, task=None, working_dir=None)),\n",
       "                 ('prefittedsoftvotingclassifier',...\n",
       "                                                                                                 min_child_samples=29,\n",
       "                                                                                                 min_child_weight=4,\n",
       "                                                                                                 min_split_gain=0,\n",
       "                                                                                                 n_estimators=25,\n",
       "                                                                                                 n_jobs=1,\n",
       "                                                                                                 num_leaves=5,\n",
       "                                                                                                 objective=None,\n",
       "                                                                                                 random_state=None,\n",
       "                                                                                                 reg_alpha=0.47368421052631576,\n",
       "                                                                                                 reg_lambda=0,\n",
       "                                                                                                 silent=True,\n",
       "                                                                                                 subsample=1,\n",
       "                                                                                                 subsample_for_bin=200000,\n",
       "                                                                                                 subsample_freq=0,\n",
       "                                                                                                 verbose=-10))],\n",
       "                                                                      verbose=False))],\n",
       "                                                flatten_transform=None,\n",
       "                                                weights=[0.1, 0.2, 0.1, 0.1, 0.1,\n",
       "                                                         0.1, 0.1, 0.2]))],\n",
       "          verbose=False))"
      ]
     },
     "execution_count": 50,
     "metadata": {},
     "output_type": "execute_result"
    }
   ],
   "source": [
    "#Get generic outputs from the automl_run\n",
    "automl_run.get_output()"
   ]
  },
  {
   "cell_type": "code",
   "execution_count": 51,
   "metadata": {
    "gather": {
     "logged": 1612803063173
    },
    "jupyter": {
     "outputs_hidden": false,
     "source_hidden": false
    },
    "nteract": {
     "transient": {
      "deleting": false
     }
    }
   },
   "outputs": [
    {
     "name": "stderr",
     "output_type": "stream",
     "text": [
      "WARNING:root:The version of the SDK does not match the version the model was trained on.\n",
      "WARNING:root:The consistency in the result may not be guaranteed.\n",
      "WARNING:root:Package:azureml-automl-core, training version:1.22.0, current version:1.20.0\n",
      "Package:azureml-automl-runtime, training version:1.22.0, current version:1.20.0\n",
      "Package:azureml-core, training version:1.22.0, current version:1.20.0\n",
      "Package:azureml-dataprep, training version:2.9.1, current version:2.7.3\n",
      "Package:azureml-dataprep-native, training version:29.0.0, current version:27.0.0\n",
      "Package:azureml-dataprep-rslex, training version:1.7.0, current version:1.5.0\n",
      "Package:azureml-dataset-runtime, training version:1.22.0, current version:1.20.0\n",
      "Package:azureml-defaults, training version:1.22.0, current version:1.20.0\n",
      "Package:azureml-interpret, training version:1.22.0, current version:1.20.0\n",
      "Package:azureml-pipeline-core, training version:1.22.0, current version:1.20.0\n",
      "Package:azureml-telemetry, training version:1.22.0, current version:1.20.0\n",
      "Package:azureml-train-automl-client, training version:1.22.0, current version:1.20.0\n",
      "Package:azureml-train-automl-runtime, training version:1.22.0, current version:1.20.0\n",
      "WARNING:root:Please ensure the version of your local conda dependencies match the version on which your model was trained in order to properly retrieve your model.\n"
     ]
    },
    {
     "name": "stdout",
     "output_type": "stream",
     "text": [
      "Best AutoML run:  Run(Experiment: Titanic-AutoML-Experiment,\n",
      "Id: AutoML_2367dc6d-0c89-4491-80d3-45662e0cbc66_36,\n",
      "Type: azureml.scriptrun,\n",
      "Status: Completed)\n",
      "Best AutoML model : Pipeline(memory=None,\n",
      "         steps=[('datatransformer',\n",
      "                 DataTransformer(enable_dnn=None, enable_feature_sweeping=None,\n",
      "                                 feature_sweeping_config=None,\n",
      "                                 feature_sweeping_timeout=None,\n",
      "                                 featurization_config=None, force_text_dnn=None,\n",
      "                                 is_cross_validation=None,\n",
      "                                 is_onnx_compatible=None, logger=None,\n",
      "                                 observer=None, task=None, working_dir=None)),\n",
      "                ('prefittedsoftvotingclassifier',...\n",
      "                                                                                                min_child_samples=29,\n",
      "                                                                                                min_child_weight=4,\n",
      "                                                                                                min_split_gain=0,\n",
      "                                                                                                n_estimators=25,\n",
      "                                                                                                n_jobs=1,\n",
      "                                                                                                num_leaves=5,\n",
      "                                                                                                objective=None,\n",
      "                                                                                                random_state=None,\n",
      "                                                                                                reg_alpha=0.47368421052631576,\n",
      "                                                                                                reg_lambda=0,\n",
      "                                                                                                silent=True,\n",
      "                                                                                                subsample=1,\n",
      "                                                                                                subsample_for_bin=200000,\n",
      "                                                                                                subsample_freq=0,\n",
      "                                                                                                verbose=-10))],\n",
      "                                                                     verbose=False))],\n",
      "                                               flatten_transform=None,\n",
      "                                               weights=[0.1, 0.2, 0.1, 0.1, 0.1,\n",
      "                                                        0.1, 0.1, 0.2]))],\n",
      "         verbose=False)\n",
      "Best_model name:  AutoML2367dc6d036\n"
     ]
    },
    {
     "data": {
      "text/plain": [
       "{'runTemplate': 'automl_child',\n",
       " 'pipeline_id': '__AutoML_Ensemble__',\n",
       " 'pipeline_spec': '{\"pipeline_id\":\"__AutoML_Ensemble__\",\"objects\":[{\"module\":\"azureml.train.automl.ensemble\",\"class_name\":\"Ensemble\",\"spec_class\":\"sklearn\",\"param_args\":[],\"param_kwargs\":{\"automl_settings\":\"{\\'task_type\\':\\'classification\\',\\'primary_metric\\':\\'accuracy\\',\\'verbosity\\':20,\\'ensemble_iterations\\':15,\\'is_timeseries\\':False,\\'name\\':\\'Titanic-AutoML-Experiment\\',\\'compute_target\\':\\'compute-cluster\\',\\'subscription_id\\':\\'976ee174-3882-4721-b90a-b5fef6b72f24\\',\\'region\\':\\'southcentralus\\',\\'spark_service\\':None}\",\"ensemble_run_id\":\"AutoML_2367dc6d-0c89-4491-80d3-45662e0cbc66_36\",\"experiment_name\":\"Titanic-AutoML-Experiment\",\"workspace_name\":\"quick-starts-ws-139405\",\"subscription_id\":\"976ee174-3882-4721-b90a-b5fef6b72f24\",\"resource_group_name\":\"aml-quickstarts-139405\"}}]}',\n",
       " 'training_percent': '100',\n",
       " 'predicted_cost': None,\n",
       " 'iteration': '36',\n",
       " '_aml_system_scenario_identification': 'Remote.Child',\n",
       " '_azureml.ComputeTargetType': 'amlcompute',\n",
       " 'ContentSnapshotId': '31eaa961-2246-49aa-b676-020ddb457ac7',\n",
       " 'ProcessInfoFile': 'azureml-logs/process_info.json',\n",
       " 'ProcessStatusFile': 'azureml-logs/process_status.json',\n",
       " 'run_template': 'automl_child',\n",
       " 'run_preprocessor': '',\n",
       " 'run_algorithm': 'VotingEnsemble',\n",
       " 'conda_env_data_location': 'aml://artifact/ExperimentRun/dcid.AutoML_2367dc6d-0c89-4491-80d3-45662e0cbc66_36/outputs/conda_env_v_1_0_0.yml',\n",
       " 'model_data_location': 'aml://artifact/ExperimentRun/dcid.AutoML_2367dc6d-0c89-4491-80d3-45662e0cbc66_36/outputs/model.pkl',\n",
       " 'model_size_on_disk': '381486',\n",
       " 'scoring_data_location': 'aml://artifact/ExperimentRun/dcid.AutoML_2367dc6d-0c89-4491-80d3-45662e0cbc66_36/outputs/scoring_file_v_1_0_0.py',\n",
       " 'model_exp_support': 'True',\n",
       " 'pipeline_graph_version': '1.0.0',\n",
       " 'model_name': 'AutoML2367dc6d036',\n",
       " 'staticProperties': '{}',\n",
       " 'score': '0.8286072623029144',\n",
       " 'run_properties': \"classification_labels=None,\\n                              estimators=[('9',\\n                                           Pipeline(memory=None,\\n                                                    steps=[('sparsenormalizer',\\n                                                            <azureml.automl.runtime.shared.model_wrappers.SparseNormalizer object at 0x7f900806acc0>\",\n",
       " 'pipeline_script': '{\"pipeline_id\":\"__AutoML_Ensemble__\",\"objects\":[{\"module\":\"azureml.train.automl.ensemble\",\"class_name\":\"Ensemble\",\"spec_class\":\"sklearn\",\"param_args\":[],\"param_kwargs\":{\"automl_settings\":\"{\\'task_type\\':\\'classification\\',\\'primary_metric\\':\\'accuracy\\',\\'verbosity\\':20,\\'ensemble_iterations\\':15,\\'is_timeseries\\':False,\\'name\\':\\'Titanic-AutoML-Experiment\\',\\'compute_target\\':\\'compute-cluster\\',\\'subscription_id\\':\\'976ee174-3882-4721-b90a-b5fef6b72f24\\',\\'region\\':\\'southcentralus\\',\\'spark_service\\':None}\",\"ensemble_run_id\":\"AutoML_2367dc6d-0c89-4491-80d3-45662e0cbc66_36\",\"experiment_name\":\"Titanic-AutoML-Experiment\",\"workspace_name\":\"quick-starts-ws-139405\",\"subscription_id\":\"976ee174-3882-4721-b90a-b5fef6b72f24\",\"resource_group_name\":\"aml-quickstarts-139405\"}}]}',\n",
       " 'training_type': 'MeanCrossValidation',\n",
       " 'num_classes': '',\n",
       " 'framework': 'sklearn',\n",
       " 'fit_time': '20',\n",
       " 'goal': 'accuracy_max',\n",
       " 'class_labels': '',\n",
       " 'primary_metric': 'accuracy',\n",
       " 'errors': '{}',\n",
       " 'onnx_model_resource': '{}',\n",
       " 'error_code': '',\n",
       " 'failure_reason': '',\n",
       " 'feature_skus': 'automatedml_sdk_guardrails',\n",
       " 'dependencies_versions': '{\"azureml-train-automl-runtime\": \"1.22.0\", \"azureml-train-automl-client\": \"1.22.0\", \"azureml-telemetry\": \"1.22.0\", \"azureml-pipeline-core\": \"1.22.0\", \"azureml-model-management-sdk\": \"1.0.1b6.post1\", \"azureml-interpret\": \"1.22.0\", \"azureml-defaults\": \"1.22.0\", \"azureml-dataset-runtime\": \"1.22.0\", \"azureml-dataprep\": \"2.9.1\", \"azureml-dataprep-rslex\": \"1.7.0\", \"azureml-dataprep-native\": \"29.0.0\", \"azureml-core\": \"1.22.0\", \"azureml-automl-runtime\": \"1.22.0\", \"azureml-automl-core\": \"1.22.0\"}',\n",
       " 'num_cores': '4',\n",
       " 'num_logical_cores': '4',\n",
       " 'peak_memory_usage': '652088',\n",
       " 'vm_configuration': 'Intel(R) Xeon(R) Platinum 8171M CPU @ 2.60GHz',\n",
       " 'core_hours': '0.009048195555555555'}"
      ]
     },
     "execution_count": 51,
     "metadata": {},
     "output_type": "execute_result"
    }
   ],
   "source": [
    "#Get the best model outputs\n",
    "best_automl_run, best_model = automl_run.get_output()\n",
    "\n",
    "\n",
    "# Retrieve the best automl run model\n",
    "print('Best AutoML run: ', best_automl_run)\n",
    "print('Best AutoML model :', best_model)\n",
    "\n",
    "# get best model and display properties\n",
    "model_name = best_automl_run.properties['model_name']\n",
    "print('Best_model name: ', model_name)\n",
    "\n",
    "# display all the properties of the best model\n",
    "best_automl_run.get_properties()"
   ]
  },
  {
   "cell_type": "code",
   "execution_count": 53,
   "metadata": {
    "gather": {
     "logged": 1612803097305
    },
    "jupyter": {
     "outputs_hidden": false,
     "source_hidden": false
    },
    "nteract": {
     "transient": {
      "deleting": false
     }
    }
   },
   "outputs": [
    {
     "name": "stdout",
     "output_type": "stream",
     "text": [
      "AutoML_2367dc6d-0c89-4491-80d3-45662e0cbc66_36\n"
     ]
    }
   ],
   "source": [
    "#Get the best model id\n",
    "print(best_automl_run.id)"
   ]
  },
  {
   "cell_type": "markdown",
   "metadata": {},
   "source": [
    "# Save the best AutoML model"
   ]
  },
  {
   "cell_type": "code",
   "execution_count": 54,
   "metadata": {
    "gather": {
     "logged": 1612803119090
    },
    "jupyter": {
     "outputs_hidden": false,
     "source_hidden": false
    },
    "nteract": {
     "transient": {
      "deleting": false
     }
    }
   },
   "outputs": [
    {
     "data": {
      "text/plain": [
       "['best_automl_model.pkl']"
      ]
     },
     "execution_count": 54,
     "metadata": {},
     "output_type": "execute_result"
    }
   ],
   "source": [
    "import joblib\n",
    "\n",
    "joblib.dump(best_model, 'best_automl_model.pkl')"
   ]
  },
  {
   "cell_type": "markdown",
   "metadata": {},
   "source": [
    "# Azure ML Studio\n",
    "\n",
    "I will be using the azurenl sdk for Python for depoyment.\n",
    "Ref: https://docs.microsoft.com/en-us/python/api/overview/azure/ml/?view=azure-ml-py"
   ]
  },
  {
   "cell_type": "markdown",
   "metadata": {},
   "source": [
    "# Install Required Libraries"
   ]
  },
  {
   "cell_type": "code",
   "execution_count": null,
   "metadata": {},
   "outputs": [],
   "source": [
    "#pip install azureml , azureml-core"
   ]
  },
  {
   "cell_type": "markdown",
   "metadata": {},
   "source": [
    "# Import the libraries"
   ]
  },
  {
   "cell_type": "code",
   "execution_count": 55,
   "metadata": {},
   "outputs": [],
   "source": [
    "# #Prepare deploying of the model as a web service\n",
    "# from azureml.core import Workspace\n",
    "# from azureml.core import Workspace\n",
    "# from azureml.core.model import Model\n",
    "\n",
    "from azureml.core.webservice import AciWebservice\n",
    "from azureml.core.webservice import Webservice\n",
    "from azureml.core.model import InferenceConfig\n",
    "from azureml.core.environment import Environment\n",
    "#from azureml.core import Environment\n",
    "from azureml.core.conda_dependencies import CondaDependencies"
   ]
  },
  {
   "cell_type": "markdown",
   "metadata": {},
   "source": [
    "# Create Workspace"
   ]
  },
  {
   "cell_type": "code",
   "execution_count": null,
   "metadata": {},
   "outputs": [],
   "source": [
    "# In my case Workspace has alreday been created in top otherwise. \n",
    "# Need to create using below command\n",
    "\n",
    "# ws = Workspace.create(\n",
    "#                name='myworkspace',            \n",
    "#                subscription_id='<azure-subscription-id>',           \n",
    "#                resource_group='myresourcegroup',                 \n",
    "#                create_resource_group=True,                 \n",
    "#                location='eastus2'                \n",
    "#                )\n",
    "\n",
    "#Once it is created, save the details of the workspace in a config.json \n",
    "#file to use the workspace later.\n",
    "# ws.write_config()\n",
    "\n",
    "# Create a folder named ‘.azureml’ and save the json file inside it. \n",
    "# Make sure you name the folder and json file correctly.\n",
    "# Python will look for the config.json file inside this folder \n",
    "# while loading up your workspace\n",
    "\n",
    "# You won’t need to create a workspace every time, in the future, \n",
    "# you can use the following command to load the workspace\n",
    "# #ws = Workspace.from_config()"
   ]
  },
  {
   "cell_type": "markdown",
   "metadata": {},
   "source": [
    "# Register the Model\n",
    "1. workspace: The workspace object we created\n",
    "2. model_path: the path to the pickle file\n",
    "3. model_name: Name of the model on Azure MLS\n",
    "4. tags: Although not necessary, you can add tags to your model\n",
    "5. description: A description of your model"
   ]
  },
  {
   "cell_type": "code",
   "execution_count": 56,
   "metadata": {
    "gather": {
     "logged": 1612803144972
    }
   },
   "outputs": [
    {
     "name": "stdout",
     "output_type": "stream",
     "text": [
      "Registering model best-titanicMLmodel\n",
      "AutoML RunID: \tAutoML_2367dc6d-0c89-4491-80d3-45662e0cbc66\n"
     ]
    }
   ],
   "source": [
    "# register best AutoML model for future deployment\n",
    "from azureml.core.model import Model\n",
    "description = 'AutoML Model trained on the titanic dataset'\n",
    "tags = {'area': 'data science beginners', 'type': 'classification'}\n",
    "\n",
    "automl_model = Model.register(workspace =ws,\n",
    "                              model_name = 'best-titanicMLmodel',\n",
    "                              model_path = 'best_automl_model.pkl',\n",
    "                             description = description, tags = tags)\n",
    "\n",
    "print('AutoML RunID: ', automl_run.id, sep='\\t')"
   ]
  },
  {
   "cell_type": "markdown",
   "metadata": {},
   "source": [
    "# Create an Environment\n",
    "Environment was alreday created otherwise create using below command"
   ]
  },
  {
   "cell_type": "code",
   "execution_count": null,
   "metadata": {},
   "outputs": [],
   "source": [
    "## to install required packages\n",
    "# env = Environment('env')\n",
    "# cd = CondaDependencies.create(pip_packages=['pandas==1.1.5', 'azureml-defaults','joblib==0.17.0'], conda_packages = ['scikit-learn==0.23.2'])\n",
    "# env.python.conda_dependencies = cd\n",
    "## Register environment to re-use later\n",
    "# env.register(workspace = ws)\n",
    "# print(\"Registered Environment\")"
   ]
  },
  {
   "cell_type": "code",
   "execution_count": 57,
   "metadata": {
    "gather": {
     "logged": 1612806348039
    },
    "jupyter": {
     "outputs_hidden": false,
     "source_hidden": false
    },
    "nteract": {
     "transient": {
      "deleting": false
     }
    }
   },
   "outputs": [],
   "source": [
    "#get’s the environment whuich just created or previously created\n",
    "env = Environment.get(workspace=ws, name='AzureML-AutoML')"
   ]
  },
  {
   "cell_type": "code",
   "execution_count": null,
   "metadata": {},
   "outputs": [],
   "source": [
    "#Confirm that all the required libraries have been installed by creating a .yml \n",
    "#based on the created environment. Ensure all the libraries are mentioned inside the .yml file"
   ]
  },
  {
   "cell_type": "code",
   "execution_count": 58,
   "metadata": {},
   "outputs": [],
   "source": [
    "#This will create a new folder called environ with a .yml and a .json file inside it\n",
    "env.save_to_directory('./environ', overwrite=True)"
   ]
  },
  {
   "cell_type": "code",
   "execution_count": 68,
   "metadata": {
    "gather": {
     "logged": 1612806352240
    },
    "jupyter": {
     "outputs_hidden": false,
     "source_hidden": false
    },
    "nteract": {
     "transient": {
      "deleting": false
     }
    }
   },
   "outputs": [
    {
     "name": "stdout",
     "output_type": "stream",
     "text": [
      "packages channels:\n",
      "- anaconda\n",
      "- conda-forge\n",
      "- pytorch\n",
      "dependencies:\n",
      "- python=3.6.2\n",
      "- pip=20.2.4\n",
      "- pip:\n",
      "  - azureml-core==1.22.0\n",
      "  - azureml-pipeline-core==1.22.0\n",
      "  - azureml-telemetry==1.22.0\n",
      "  - azureml-defaults==1.22.0\n",
      "  - azureml-interpret==1.22.0\n",
      "  - azureml-automl-core==1.22.0\n",
      "  - azureml-automl-runtime==1.22.0\n",
      "  - azureml-train-automl-client==1.22.0\n",
      "  - azureml-train-automl-runtime==1.22.0\n",
      "  - azureml-dataset-runtime==1.22.0\n",
      "  - inference-schema\n",
      "  - py-cpuinfo==5.0.0\n",
      "  - boto3==1.15.18\n",
      "  - botocore==1.18.18\n",
      "- numpy~=1.18.0\n",
      "- scikit-learn==0.22.1\n",
      "- pandas~=0.25.0\n",
      "- py-xgboost<=0.90\n",
      "- fbprophet==0.5\n",
      "- holidays==0.9.11\n",
      "- setuptools-git\n",
      "- psutil>5.0.0,<6.0.0\n",
      "name: azureml_09ff55f546b313bb1ab136a466214499\n",
      "\n"
     ]
    }
   ],
   "source": [
    "#Chekc environment dependencies\n",
    "print(\"packages\", env.python.conda_dependencies.serialize_to_string())\n",
    "\n",
    "#get the environment Details and stored them into a file:\n",
    "f = open(\"env.yml\", \"w\")\n",
    "f.write(env.python.conda_dependencies.serialize_to_string())\n",
    "f.close()"
   ]
  },
  {
   "cell_type": "markdown",
   "metadata": {},
   "source": [
    "# Config Objects\n",
    "Create a container instance and set the number of cpu_cores and memory_gb based on your requirements."
   ]
  },
  {
   "cell_type": "code",
   "execution_count": 60,
   "metadata": {},
   "outputs": [],
   "source": [
    "aci_config = AciWebservice.deploy_configuration(\n",
    "            cpu_cores=1,\n",
    "            memory_gb=4, \n",
    "            enable_app_insights=True,\n",
    "            auth_enabled=True,\n",
    "            tags={\"data\":\"titanic classifier\"},\n",
    "            description='titanic classification Model',\n",
    "            )"
   ]
  },
  {
   "cell_type": "code",
   "execution_count": 61,
   "metadata": {
    "gather": {
     "logged": 1612806374855
    },
    "jupyter": {
     "outputs_hidden": false,
     "source_hidden": false
    },
    "nteract": {
     "transient": {
      "deleting": false
     }
    }
   },
   "outputs": [],
   "source": [
    "#Create and InferenceConfig instance to link the environment and entry script. \n",
    "inference_config = InferenceConfig(entry_script='score.py', environment=env)\n",
    "\n",
    "#In my case Entry Script is already create \n",
    "#and stored in the path otherwise you can create using below command\n",
    "#The entry script will two functions, an init function and a run function.\n",
    "#     Create a global variable called model\n",
    "#     Load the model using the name of the model you registered earlier\n",
    "#     Load the model from the path\n",
    "# def init():\n",
    "#     global modelmodel_path = Model.get_model_path(\"knn\")\n",
    "#     print(\"Model Path is  \", model_path)\n",
    "#     model = joblib.load(model_path)\n",
    "\n",
    "# #Save this file.\n",
    "# def run(data):\n",
    "#     try:\n",
    "#        print(data)\n",
    "#        result = model.predict(data['data']) \n",
    "#        return {'data' : result.tolist() , 'message' : \"Successfully  classified Titanic\"}\n",
    "#     except Exception as e:\n",
    "#            error = str(e)\n",
    "#            return {'data' : error , 'message' : 'Failed to classify Titanic'}"
   ]
  },
  {
   "cell_type": "markdown",
   "metadata": {},
   "source": [
    "# Deploy the Model"
   ]
  },
  {
   "cell_type": "code",
   "execution_count": 62,
   "metadata": {
    "gather": {
     "logged": 1612806525913
    },
    "jupyter": {
     "outputs_hidden": false,
     "source_hidden": false
    },
    "nteract": {
     "transient": {
      "deleting": false
     }
    }
   },
   "outputs": [
    {
     "name": "stdout",
     "output_type": "stream",
     "text": [
      "Tips: You can try get_logs(): https://aka.ms/debugimage#dockerlog or local deployment: https://aka.ms/debugimage#debug-locally to debug if deployment takes longer than 10 minutes.\n",
      "Running...........................................\n",
      "Succeeded\n",
      "ACI service creation operation finished, operation \"Succeeded\"\n"
     ]
    }
   ],
   "source": [
    "#deploy the model by combining our config objects, workspace and model together. \n",
    "service_name = 'titanic-ml-service'\n",
    "\n",
    "model = Model(ws,name='best-titanicMLmodel')\n",
    "service = Model.deploy(workspace=ws,\n",
    "                       name=service_name,\n",
    "                       models=[model],\n",
    "                       inference_config=inference_config,\n",
    "                       deployment_config=aci_config,\n",
    "                       overwrite=True)\n",
    "\n",
    "service.wait_for_deployment(show_output=True)"
   ]
  },
  {
   "cell_type": "code",
   "execution_count": 63,
   "metadata": {
    "gather": {
     "logged": 1612806543093
    },
    "jupyter": {
     "outputs_hidden": false,
     "source_hidden": false
    },
    "nteract": {
     "transient": {
      "deleting": false
     }
    }
   },
   "outputs": [
    {
     "data": {
      "text/plain": [
       "'2021-02-24T03:40:53,553384900+00:00 - gunicorn/run \\n2021-02-24T03:40:53,561901200+00:00 - iot-server/run \\n2021-02-24T03:40:53,564371500+00:00 - rsyslog/run \\n2021-02-24T03:40:53,605945100+00:00 - nginx/run \\n/usr/sbin/nginx: /azureml-envs/azureml_09ff55f546b313bb1ab136a466214499/lib/libcrypto.so.1.0.0: no version information available (required by /usr/sbin/nginx)\\n/usr/sbin/nginx: /azureml-envs/azureml_09ff55f546b313bb1ab136a466214499/lib/libcrypto.so.1.0.0: no version information available (required by /usr/sbin/nginx)\\n/usr/sbin/nginx: /azureml-envs/azureml_09ff55f546b313bb1ab136a466214499/lib/libssl.so.1.0.0: no version information available (required by /usr/sbin/nginx)\\n/usr/sbin/nginx: /azureml-envs/azureml_09ff55f546b313bb1ab136a466214499/lib/libssl.so.1.0.0: no version information available (required by /usr/sbin/nginx)\\n/usr/sbin/nginx: /azureml-envs/azureml_09ff55f546b313bb1ab136a466214499/lib/libssl.so.1.0.0: no version information available (required by /usr/sbin/nginx)\\nrsyslogd: /azureml-envs/azureml_09ff55f546b313bb1ab136a466214499/lib/libuuid.so.1: no version information available (required by rsyslogd)\\nEdgeHubConnectionString and IOTEDGE_IOTHUBHOSTNAME are not set. Exiting...\\n2021-02-24T03:40:55,601477600+00:00 - iot-server/finish 1 0\\n2021-02-24T03:40:55,610911400+00:00 - Exit code 1 is normal. Not restarting iot-server.\\nStarting gunicorn 19.9.0\\nListening at: http://127.0.0.1:31311 (58)\\nUsing worker: sync\\nworker timeout is set to 300\\nBooting worker with pid: 98\\nSPARK_HOME not set. Skipping PySpark Initialization.\\nGenerating new fontManager, this may take some time...\\nInitializing logger\\n2021-02-24 03:41:01,327 | root | INFO | Starting up app insights client\\n2021-02-24 03:41:01,329 | root | INFO | Starting up request id generator\\n2021-02-24 03:41:01,329 | root | INFO | Starting up app insight hooks\\n2021-02-24 03:41:01,330 | root | INFO | Invoking user\\'s init function\\nFound model:\\nTrue\\n2021-02-24 03:41:14,675 | root | INFO | Users\\'s init has completed successfully\\n2021-02-24 03:41:14,686 | root | INFO | Skipping middleware: dbg_model_info as it\\'s not enabled.\\n2021-02-24 03:41:14,686 | root | INFO | Skipping middleware: dbg_resource_usage as it\\'s not enabled.\\n2021-02-24 03:41:14,688 | root | INFO | Scoring timeout is found from os.environ: 60000 ms\\n2021-02-24 03:41:17,917 | root | INFO | Swagger file not present\\n2021-02-24 03:41:17,917 | root | INFO | 404\\n127.0.0.1 - - [24/Feb/2021:03:41:17 +0000] \"GET /swagger.json HTTP/1.0\" 404 19 \"-\" \"Go-http-client/1.1\"\\n2021-02-24 03:41:22,046 | root | INFO | Swagger file not present\\n2021-02-24 03:41:22,047 | root | INFO | 404\\n127.0.0.1 - - [24/Feb/2021:03:41:22 +0000] \"GET /swagger.json HTTP/1.0\" 404 19 \"-\" \"Go-http-client/1.1\"\\n'"
      ]
     },
     "execution_count": 63,
     "metadata": {},
     "output_type": "execute_result"
    }
   ],
   "source": [
    "#deployment is successful, the rest endpoint will be printed out.\n",
    "# If it is unsuccessful, see the deployment logs\n",
    "service.get_logs()"
   ]
  },
  {
   "cell_type": "code",
   "execution_count": 64,
   "metadata": {
    "gather": {
     "logged": 1612806554530
    }
   },
   "outputs": [
    {
     "name": "stdout",
     "output_type": "stream",
     "text": [
      "Healthy\n",
      "scoring URI: http://c21f86a8-ecdb-43a3-a25e-2887c610f5b2.southcentralus.azurecontainer.io/score\n",
      "Swagger URI: http://c21f86a8-ecdb-43a3-a25e-2887c610f5b2.southcentralus.azurecontainer.io/swagger.json\n",
      "Primary Authentication Key: ZwRGMEfMrOaSy8dMLO4uhGnLAfK5PVkC\n"
     ]
    }
   ],
   "source": [
    "# print service state\n",
    "print(service.state)\n",
    "# print scoring URI\n",
    "print('scoring URI: ' + service.scoring_uri)\n",
    "# print Swagger URI\n",
    "print('Swagger URI: ' + service.swagger_uri)\n",
    "# retrieve authentication keys\n",
    "primary, secondary = service.get_keys()\n",
    "# print primary authenticaton key\n",
    "print('Primary Authentication Key: ' + primary)"
   ]
  },
  {
   "cell_type": "code",
   "execution_count": 65,
   "metadata": {
    "gather": {
     "logged": 1612806747921
    },
    "jupyter": {
     "outputs_hidden": false,
     "source_hidden": false
    },
    "nteract": {
     "transient": {
      "deleting": false
     }
    }
   },
   "outputs": [],
   "source": [
    "#Store the uri's in variables:\n",
    "scoring_uri = 'http://c21f86a8-ecdb-43a3-a25e-2887c610f5b2.southcentralus.azurecontainer.io/score'\n",
    "\n",
    "key = 'ZwRGMEfMrOaSy8dMLO4uhGnLAfK5PVkC'"
   ]
  },
  {
   "cell_type": "markdown",
   "metadata": {},
   "source": [
    "# Consume the Endpoint"
   ]
  },
  {
   "cell_type": "code",
   "execution_count": 66,
   "metadata": {
    "gather": {
     "logged": 1612814619158
    }
   },
   "outputs": [
    {
     "name": "stdout",
     "output_type": "stream",
     "text": [
      "Classification Prediction: [0]\n",
      "Classification Prediction: [1]\n"
     ]
    }
   ],
   "source": [
    "#let's test requests:\n",
    "import json\n",
    "import requests\n",
    "\n",
    "scoring_uri = scoring_uri\n",
    "key = key\n",
    "\n",
    "headers = {'Content-Type':'application/json'}\n",
    "headers['Authorization'] = f'Bearer {key}'\n",
    "\n",
    "\n",
    "test_data = json.dumps({'data':[{\n",
    "    'pclass': 0.8419164182590155,\n",
    "    'age': -0.34907541344456255,\n",
    "    'sibsp': -0.47908676070718687,\n",
    "    'parch': -0.444999501816175,\n",
    "    'fare': -0.4902404567566683,\n",
    "    'age_NA': -0.5014319838391105,\n",
    "    'fare_NA': -0.027650063180466557,\n",
    "    'sex_male': 0.743496915331831,\n",
    "    'cabin_Missing': 0.5393765119990418,\n",
    "    'cabin_Rare': -0.42592011250734235,\n",
    "    'embarked_Q': -0.32204029159373954,\n",
    "    'embarked_Rare': -0.03911805059269843,\n",
    "    'embarked_S': 0.6573935670276714,\n",
    "    'title_Mr': 0.8525918887485938,\n",
    "    'title_Mrs': -0.42592011250734235,\n",
    "    'title_Rare': -0.27494677157229536\n",
    "    }\n",
    "    ]\n",
    "        })\n",
    "\n",
    "test_data2 = json.dumps({'data':[{\n",
    "    'pclass': -15460978645168200,\n",
    "    'age': 0.8912042887450313,\n",
    "    'sibsp': -0.47908676070718687,\n",
    "    'parch': -0.444999501816175,\n",
    "    'fare': 19569900306355100,\n",
    "    'age_NA': -0.5014319838391105,\n",
    "    'fare_NA': -0.027650063180466557,\n",
    "    'sex_male': -13449954927569300,\n",
    "    'cabin_Missing': -18539924853119600,\n",
    "    'cabin_Rare': 23478581326275300,\n",
    "    'embarked_Q': -0.32204029159373954,\n",
    "    'embarked_Rare': -0.03911805059269843,\n",
    "    'embarked_S': -15211587854766800,\n",
    "    'title_Mr': -11728941046668400,\n",
    "    'title_Mrs': -0.42592011250734235,\n",
    "    'title_Rare': -0.27494677157229536\n",
    "\n",
    "    }\n",
    "    ]\n",
    "        })\n",
    "\n",
    "\n",
    "response1 = requests.post(scoring_uri, data=test_data, headers=headers)\n",
    "response2 = requests.post(scoring_uri, data=test_data2, headers=headers)\n",
    "\n",
    "print(\"Classification Prediction:\",response1.text)\n",
    "print(\"Classification Prediction:\",response2.text)"
   ]
  },
  {
   "cell_type": "code",
   "execution_count": null,
   "metadata": {
    "jupyter": {
     "outputs_hidden": false,
     "source_hidden": false
    },
    "nteract": {
     "transient": {
      "deleting": false
     }
    }
   },
   "outputs": [],
   "source": [
    "#Delete Service:\n",
    "service.delete()"
   ]
  },
  {
   "cell_type": "markdown",
   "metadata": {},
   "source": [
    "\n",
    "\n"
   ]
  }
 ],
 "metadata": {
  "kernel_info": {
   "name": "python3"
  },
  "kernelspec": {
   "display_name": "Python 3",
   "language": "python",
   "name": "python3"
  },
  "language_info": {
   "codemirror_mode": {
    "name": "ipython",
    "version": 3
   },
   "file_extension": ".py",
   "mimetype": "text/x-python",
   "name": "python",
   "nbconvert_exporter": "python",
   "pygments_lexer": "ipython3",
   "version": "3.6.9"
  },
  "nteract": {
   "version": "nteract-front-end@1.0.0"
  }
 },
 "nbformat": 4,
 "nbformat_minor": 2
}
