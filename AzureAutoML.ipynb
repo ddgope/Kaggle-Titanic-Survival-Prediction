{
 "cells": [
  {
   "cell_type": "markdown",
   "metadata": {},
   "source": [
    "# Automated ML (Titanic Survival Prediction Project)\n",
    "\n",
    "Importing Dependencies needed to to complete the project:"
   ]
  },
  {
   "cell_type": "code",
   "execution_count": 2,
   "metadata": {
    "gather": {
     "logged": 1612801499354
    },
    "jupyter": {
     "outputs_hidden": false,
     "source_hidden": false
    },
    "nteract": {
     "transient": {
      "deleting": false
     }
    }
   },
   "outputs": [
    {
     "name": "stdout",
     "output_type": "stream",
     "text": [
      "SDK version: 1.20.0\n"
     ]
    }
   ],
   "source": [
    "#Import libraries needed\n",
    "import logging\n",
    "import os\n",
    "import csv\n",
    "\n",
    "from matplotlib import pyplot as plt\n",
    "import numpy as np\n",
    "import pandas as pd\n",
    "from azureml.data.dataset_factory import TabularDatasetFactory\n",
    "import pkg_resources\n",
    "\n",
    "import azureml.core\n",
    "from azureml.core.experiment import Experiment\n",
    "from azureml.core.workspace import Workspace\n",
    "from azureml.train.automl import AutoMLConfig\n",
    "from azureml.core.dataset import Dataset\n",
    "\n",
    "from azureml.pipeline.steps import AutoMLStep\n",
    "\n",
    "# Check core SDK version number\n",
    "print(\"SDK version:\", azureml.core.VERSION)"
   ]
  },
  {
   "cell_type": "code",
   "execution_count": 3,
   "metadata": {
    "gather": {
     "logged": 1612801508011
    }
   },
   "outputs": [
    {
     "data": {
      "text/plain": [
       "Workspace.create(name='quick-starts-ws-138164', subscription_id='1b944a9b-fdae-4f97-aeb1-b7eea0beac53', resource_group='aml-quickstarts-138164')"
      ]
     },
     "execution_count": 3,
     "metadata": {},
     "output_type": "execute_result"
    }
   ],
   "source": [
    "#Testing the authentication using the Workspace method \"from_config\"\n",
    "Workspace.from_config()"
   ]
  },
  {
   "cell_type": "code",
   "execution_count": 4,
   "metadata": {
    "collapsed": true,
    "gather": {
     "logged": 1612801518339
    },
    "jupyter": {
     "outputs_hidden": false,
     "source_hidden": false
    },
    "nteract": {
     "transient": {
      "deleting": false
     }
    }
   },
   "outputs": [],
   "source": [
    "#create workspace\n",
    "ws = Workspace.from_config()"
   ]
  },
  {
   "cell_type": "code",
   "execution_count": 5,
   "metadata": {
    "gather": {
     "logged": 1612801525179
    }
   },
   "outputs": [
    {
     "data": {
      "text/html": [
       "<table style=\"width:100%\"><tr><th>Name</th><th>Workspace</th><th>Report Page</th><th>Docs Page</th></tr><tr><td>automl-experiment-1</td><td>quick-starts-ws-138164</td><td><a href=\"https://ml.azure.com/experiments/automl-experiment-1?wsid=/subscriptions/1b944a9b-fdae-4f97-aeb1-b7eea0beac53/resourcegroups/aml-quickstarts-138164/workspaces/quick-starts-ws-138164\" target=\"_blank\" rel=\"noopener\">Link to Azure Machine Learning studio</a></td><td><a href=\"https://docs.microsoft.com/en-us/python/api/azureml-core/azureml.core.experiment.Experiment?view=azure-ml-py\" target=\"_blank\" rel=\"noopener\">Link to Documentation</a></td></tr></table>"
      ],
      "text/plain": [
       "Experiment(Name: automl-experiment-1,\n",
       "Workspace: quick-starts-ws-138164)"
      ]
     },
     "execution_count": 5,
     "metadata": {},
     "output_type": "execute_result"
    }
   ],
   "source": [
    "# Create Experiment\n",
    "\n",
    "experiment_name = 'automl-experiment-1'\n",
    "project_folder = './pipeline-project'\n",
    "\n",
    "experiment = Experiment(ws, experiment_name)\n",
    "experiment"
   ]
  },
  {
   "cell_type": "markdown",
   "metadata": {},
   "source": [
    "## Dataset Overview:\n",
    "\n",
    "As you probably have guessed from the project title we will be working with the \"Titanic Dataset\" which is already a classical dataset to learn Machine Learning.\n",
    "\n",
    "The main task for this project will be to build a predictive model that answers the question: “what sorts of people were more likely to survive?” To answer the above stated question we are going to give the model different input variables such as age, type of cabin the passanger had, etc"
   ]
  },
  {
   "cell_type": "code",
   "execution_count": 6,
   "metadata": {
    "gather": {
     "logged": 1612801553547
    }
   },
   "outputs": [
    {
     "data": {
      "text/html": [
       "<div>\n",
       "<style scoped>\n",
       "    .dataframe tbody tr th:only-of-type {\n",
       "        vertical-align: middle;\n",
       "    }\n",
       "\n",
       "    .dataframe tbody tr th {\n",
       "        vertical-align: top;\n",
       "    }\n",
       "\n",
       "    .dataframe thead th {\n",
       "        text-align: right;\n",
       "    }\n",
       "</style>\n",
       "<table border=\"1\" class=\"dataframe\">\n",
       "  <thead>\n",
       "    <tr style=\"text-align: right;\">\n",
       "      <th></th>\n",
       "      <th>pclass</th>\n",
       "      <th>survived</th>\n",
       "      <th>sibsp</th>\n",
       "      <th>parch</th>\n",
       "      <th>fare</th>\n",
       "    </tr>\n",
       "  </thead>\n",
       "  <tbody>\n",
       "    <tr>\n",
       "      <th>count</th>\n",
       "      <td>1309.000000</td>\n",
       "      <td>1309.000000</td>\n",
       "      <td>1309.000000</td>\n",
       "      <td>1309.000000</td>\n",
       "      <td>1308.000000</td>\n",
       "    </tr>\n",
       "    <tr>\n",
       "      <th>mean</th>\n",
       "      <td>2.294882</td>\n",
       "      <td>0.381971</td>\n",
       "      <td>0.498854</td>\n",
       "      <td>0.385027</td>\n",
       "      <td>33.295479</td>\n",
       "    </tr>\n",
       "    <tr>\n",
       "      <th>std</th>\n",
       "      <td>0.837836</td>\n",
       "      <td>0.486055</td>\n",
       "      <td>1.041658</td>\n",
       "      <td>0.865560</td>\n",
       "      <td>51.758668</td>\n",
       "    </tr>\n",
       "    <tr>\n",
       "      <th>min</th>\n",
       "      <td>1.000000</td>\n",
       "      <td>0.000000</td>\n",
       "      <td>0.000000</td>\n",
       "      <td>0.000000</td>\n",
       "      <td>0.000000</td>\n",
       "    </tr>\n",
       "    <tr>\n",
       "      <th>25%</th>\n",
       "      <td>2.000000</td>\n",
       "      <td>0.000000</td>\n",
       "      <td>0.000000</td>\n",
       "      <td>0.000000</td>\n",
       "      <td>7.895800</td>\n",
       "    </tr>\n",
       "    <tr>\n",
       "      <th>50%</th>\n",
       "      <td>3.000000</td>\n",
       "      <td>0.000000</td>\n",
       "      <td>0.000000</td>\n",
       "      <td>0.000000</td>\n",
       "      <td>14.454200</td>\n",
       "    </tr>\n",
       "    <tr>\n",
       "      <th>75%</th>\n",
       "      <td>3.000000</td>\n",
       "      <td>1.000000</td>\n",
       "      <td>1.000000</td>\n",
       "      <td>0.000000</td>\n",
       "      <td>31.275000</td>\n",
       "    </tr>\n",
       "    <tr>\n",
       "      <th>max</th>\n",
       "      <td>3.000000</td>\n",
       "      <td>1.000000</td>\n",
       "      <td>8.000000</td>\n",
       "      <td>9.000000</td>\n",
       "      <td>512.329200</td>\n",
       "    </tr>\n",
       "  </tbody>\n",
       "</table>\n",
       "</div>"
      ],
      "text/plain": [
       "            pclass     survived        sibsp        parch         fare\n",
       "count  1309.000000  1309.000000  1309.000000  1309.000000  1308.000000\n",
       "mean      2.294882     0.381971     0.498854     0.385027    33.295479\n",
       "std       0.837836     0.486055     1.041658     0.865560    51.758668\n",
       "min       1.000000     0.000000     0.000000     0.000000     0.000000\n",
       "25%       2.000000     0.000000     0.000000     0.000000     7.895800\n",
       "50%       3.000000     0.000000     0.000000     0.000000    14.454200\n",
       "75%       3.000000     1.000000     1.000000     0.000000    31.275000\n",
       "max       3.000000     1.000000     8.000000     9.000000   512.329200"
      ]
     },
     "execution_count": 6,
     "metadata": {},
     "output_type": "execute_result"
    }
   ],
   "source": [
    "#Getting the dataset\n",
    "key = \"titanic_dataset\"\n",
    "description_text = \"Titanic Dataset for Capstone Project\"\n",
    "\n",
    "dataset = TabularDatasetFactory.from_delimited_files('https://www.openml.org/data/get_csv/16826755/phpMYEkMl')\n",
    "\n",
    "#Register Dataset\n",
    "dataset = dataset.register(workspace=ws,\n",
    "                           name=key,\n",
    "                           description=description_text)\n",
    "\n",
    "#Create a df out of the registered dataset\n",
    "dataset = dataset.to_pandas_dataframe()\n",
    "dataset.describe()"
   ]
  },
  {
   "cell_type": "code",
   "execution_count": 7,
   "metadata": {
    "gather": {
     "logged": 1612801571099
    }
   },
   "outputs": [
    {
     "name": "stdout",
     "output_type": "stream",
     "text": [
      "Found existing cluster, use it.\n",
      "\n",
      "Running\n"
     ]
    }
   ],
   "source": [
    "###Be sure to have the compute target setup\n",
    "from azureml.core.compute import AmlCompute\n",
    "from azureml.core.compute import ComputeTarget\n",
    "from azureml.core.compute_target import ComputeTargetException\n",
    "\n",
    "\n",
    "# Choose a name for your CPU cluster\n",
    "amlcompute_cluster_name = \"notebook138164\"\n",
    "\n",
    "# Verify that cluster does not exist already\n",
    "try:\n",
    "    compute_target = ComputeTarget(workspace=ws, name=amlcompute_cluster_name)\n",
    "    print('Found existing cluster, use it.')\n",
    "except ComputeTargetException:\n",
    "    compute_config = AmlCompute.provisioning_configuration(vm_size='STANDARD_DS12_V2',# for GPU, use \"STANDARD_NC6\"\n",
    "                                                           #vm_priority = 'lowpriority', # optional\n",
    "                                                           min_nodes=1,\n",
    "                                                           max_nodes=6)\n",
    "    compute_target = ComputeTarget.create(ws, amlcompute_cluster_name, compute_config)\n",
    "\n",
    "compute_target.wait_for_completion(show_output=True)\n"
   ]
  },
  {
   "cell_type": "markdown",
   "metadata": {},
   "source": [
    "### Clean Data:"
   ]
  },
  {
   "cell_type": "code",
   "execution_count": 8,
   "metadata": {
    "gather": {
     "logged": 1612801584314
    }
   },
   "outputs": [],
   "source": [
    "#Import your clean data function from the train.py file\n",
    "from train import clean_data"
   ]
  },
  {
   "cell_type": "code",
   "execution_count": 9,
   "metadata": {
    "gather": {
     "logged": 1612801590391
    }
   },
   "outputs": [],
   "source": [
    "#apply the function\n",
    "x, y = clean_data(dataset)"
   ]
  },
  {
   "cell_type": "code",
   "execution_count": 10,
   "metadata": {
    "gather": {
     "logged": 1612801597126
    }
   },
   "outputs": [],
   "source": [
    "#Scale the features\n",
    "from sklearn.preprocessing import StandardScaler"
   ]
  },
  {
   "cell_type": "code",
   "execution_count": 11,
   "metadata": {
    "gather": {
     "logged": 1612801601773
    }
   },
   "outputs": [],
   "source": [
    "# create scaler\n",
    "variables = x.columns.tolist()\n",
    "\n",
    "scaler = StandardScaler()\n",
    "scaler.fit(x[variables]) \n",
    "\n",
    "x = scaler.transform(x[variables])"
   ]
  },
  {
   "cell_type": "code",
   "execution_count": 12,
   "metadata": {
    "collapsed": true,
    "gather": {
     "logged": 1612801607638
    },
    "jupyter": {
     "outputs_hidden": false,
     "source_hidden": false
    },
    "nteract": {
     "transient": {
      "deleting": false
     }
    }
   },
   "outputs": [],
   "source": [
    "x = pd.DataFrame(x,columns=variables)\n"
   ]
  },
  {
   "cell_type": "code",
   "execution_count": 13,
   "metadata": {
    "gather": {
     "logged": 1612801614270
    }
   },
   "outputs": [],
   "source": [
    "#Split the data\n",
    "from sklearn.model_selection import train_test_split\n",
    "\n",
    "x_train, x_test, y_train, y_test = train_test_split(x,y,\n",
    "                                                    test_size = 0.2,\n",
    "                                                    random_state=0)"
   ]
  },
  {
   "cell_type": "code",
   "execution_count": 14,
   "metadata": {
    "gather": {
     "logged": 1612801620929
    }
   },
   "outputs": [],
   "source": [
    "#bring them together them again\n",
    "dataset = pd.concat([x_train,y_train],axis=1)"
   ]
  },
  {
   "cell_type": "code",
   "execution_count": 15,
   "metadata": {
    "gather": {
     "logged": 1612801626363
    }
   },
   "outputs": [
    {
     "data": {
      "text/html": [
       "<div>\n",
       "<style scoped>\n",
       "    .dataframe tbody tr th:only-of-type {\n",
       "        vertical-align: middle;\n",
       "    }\n",
       "\n",
       "    .dataframe tbody tr th {\n",
       "        vertical-align: top;\n",
       "    }\n",
       "\n",
       "    .dataframe thead th {\n",
       "        text-align: right;\n",
       "    }\n",
       "</style>\n",
       "<table border=\"1\" class=\"dataframe\">\n",
       "  <thead>\n",
       "    <tr style=\"text-align: right;\">\n",
       "      <th></th>\n",
       "      <th>pclass</th>\n",
       "      <th>age</th>\n",
       "      <th>sibsp</th>\n",
       "      <th>parch</th>\n",
       "      <th>fare</th>\n",
       "      <th>age_NA</th>\n",
       "      <th>fare_NA</th>\n",
       "      <th>sex_male</th>\n",
       "      <th>cabin_Missing</th>\n",
       "      <th>cabin_Rare</th>\n",
       "      <th>embarked_Q</th>\n",
       "      <th>embarked_Rare</th>\n",
       "      <th>embarked_S</th>\n",
       "      <th>title_Mr</th>\n",
       "      <th>title_Mrs</th>\n",
       "      <th>title_Rare</th>\n",
       "      <th>survived</th>\n",
       "    </tr>\n",
       "  </thead>\n",
       "  <tbody>\n",
       "    <tr>\n",
       "      <th>1118</th>\n",
       "      <td>0.841916</td>\n",
       "      <td>-0.349075</td>\n",
       "      <td>-0.479087</td>\n",
       "      <td>-0.445</td>\n",
       "      <td>-0.490240</td>\n",
       "      <td>-0.501432</td>\n",
       "      <td>-0.02765</td>\n",
       "      <td>0.743497</td>\n",
       "      <td>0.539377</td>\n",
       "      <td>-0.425920</td>\n",
       "      <td>-0.322040</td>\n",
       "      <td>-0.039118</td>\n",
       "      <td>0.657394</td>\n",
       "      <td>0.852592</td>\n",
       "      <td>-0.42592</td>\n",
       "      <td>-0.274947</td>\n",
       "      <td>0</td>\n",
       "    </tr>\n",
       "    <tr>\n",
       "      <th>44</th>\n",
       "      <td>-1.546098</td>\n",
       "      <td>0.891204</td>\n",
       "      <td>-0.479087</td>\n",
       "      <td>-0.445</td>\n",
       "      <td>1.956990</td>\n",
       "      <td>-0.501432</td>\n",
       "      <td>-0.02765</td>\n",
       "      <td>-1.344995</td>\n",
       "      <td>-1.853992</td>\n",
       "      <td>2.347858</td>\n",
       "      <td>-0.322040</td>\n",
       "      <td>-0.039118</td>\n",
       "      <td>-1.521159</td>\n",
       "      <td>-1.172894</td>\n",
       "      <td>-0.42592</td>\n",
       "      <td>-0.274947</td>\n",
       "      <td>1</td>\n",
       "    </tr>\n",
       "    <tr>\n",
       "      <th>1072</th>\n",
       "      <td>0.841916</td>\n",
       "      <td>-0.116523</td>\n",
       "      <td>-0.479087</td>\n",
       "      <td>-0.445</td>\n",
       "      <td>-0.493947</td>\n",
       "      <td>1.994288</td>\n",
       "      <td>-0.02765</td>\n",
       "      <td>0.743497</td>\n",
       "      <td>0.539377</td>\n",
       "      <td>-0.425920</td>\n",
       "      <td>3.105202</td>\n",
       "      <td>-0.039118</td>\n",
       "      <td>-1.521159</td>\n",
       "      <td>0.852592</td>\n",
       "      <td>-0.42592</td>\n",
       "      <td>-0.274947</td>\n",
       "      <td>0</td>\n",
       "    </tr>\n",
       "    <tr>\n",
       "      <th>1130</th>\n",
       "      <td>0.841916</td>\n",
       "      <td>-0.891698</td>\n",
       "      <td>-0.479087</td>\n",
       "      <td>-0.445</td>\n",
       "      <td>-0.493141</td>\n",
       "      <td>-0.501432</td>\n",
       "      <td>-0.02765</td>\n",
       "      <td>-1.344995</td>\n",
       "      <td>0.539377</td>\n",
       "      <td>-0.425920</td>\n",
       "      <td>-0.322040</td>\n",
       "      <td>-0.039118</td>\n",
       "      <td>0.657394</td>\n",
       "      <td>-1.172894</td>\n",
       "      <td>-0.42592</td>\n",
       "      <td>-0.274947</td>\n",
       "      <td>0</td>\n",
       "    </tr>\n",
       "    <tr>\n",
       "      <th>574</th>\n",
       "      <td>-0.352091</td>\n",
       "      <td>-0.039005</td>\n",
       "      <td>0.481288</td>\n",
       "      <td>-0.445</td>\n",
       "      <td>-0.237445</td>\n",
       "      <td>-0.501432</td>\n",
       "      <td>-0.02765</td>\n",
       "      <td>0.743497</td>\n",
       "      <td>0.539377</td>\n",
       "      <td>-0.425920</td>\n",
       "      <td>-0.322040</td>\n",
       "      <td>-0.039118</td>\n",
       "      <td>0.657394</td>\n",
       "      <td>0.852592</td>\n",
       "      <td>-0.42592</td>\n",
       "      <td>-0.274947</td>\n",
       "      <td>0</td>\n",
       "    </tr>\n",
       "  </tbody>\n",
       "</table>\n",
       "</div>"
      ],
      "text/plain": [
       "        pclass       age     sibsp  parch      fare    age_NA  fare_NA  \\\n",
       "1118  0.841916 -0.349075 -0.479087 -0.445 -0.490240 -0.501432 -0.02765   \n",
       "44   -1.546098  0.891204 -0.479087 -0.445  1.956990 -0.501432 -0.02765   \n",
       "1072  0.841916 -0.116523 -0.479087 -0.445 -0.493947  1.994288 -0.02765   \n",
       "1130  0.841916 -0.891698 -0.479087 -0.445 -0.493141 -0.501432 -0.02765   \n",
       "574  -0.352091 -0.039005  0.481288 -0.445 -0.237445 -0.501432 -0.02765   \n",
       "\n",
       "      sex_male  cabin_Missing  cabin_Rare  embarked_Q  embarked_Rare  \\\n",
       "1118  0.743497       0.539377   -0.425920   -0.322040      -0.039118   \n",
       "44   -1.344995      -1.853992    2.347858   -0.322040      -0.039118   \n",
       "1072  0.743497       0.539377   -0.425920    3.105202      -0.039118   \n",
       "1130 -1.344995       0.539377   -0.425920   -0.322040      -0.039118   \n",
       "574   0.743497       0.539377   -0.425920   -0.322040      -0.039118   \n",
       "\n",
       "      embarked_S  title_Mr  title_Mrs  title_Rare  survived  \n",
       "1118    0.657394  0.852592   -0.42592   -0.274947         0  \n",
       "44     -1.521159 -1.172894   -0.42592   -0.274947         1  \n",
       "1072   -1.521159  0.852592   -0.42592   -0.274947         0  \n",
       "1130    0.657394 -1.172894   -0.42592   -0.274947         0  \n",
       "574     0.657394  0.852592   -0.42592   -0.274947         0  "
      ]
     },
     "execution_count": 15,
     "metadata": {},
     "output_type": "execute_result"
    }
   ],
   "source": [
    "dataset.head()"
   ]
  },
  {
   "cell_type": "code",
   "execution_count": 16,
   "metadata": {
    "gather": {
     "logged": 1612801633010
    }
   },
   "outputs": [],
   "source": [
    "#To train the model we need a TabularDataset and not a dataframe, therefore the current df will be converterd \n",
    "#into a TabularDataset:\n",
    "\n",
    "#Convert the dataframe into a csv\n",
    "local_path = 'prepared.csv'\n",
    "\n",
    "#Save it locally\n",
    "dataset.to_csv(local_path,index=None)\n",
    "\n",
    "#Generate the a datastore object which is the the default datastore\n",
    "datastore = ws.get_default_datastore()"
   ]
  },
  {
   "cell_type": "code",
   "execution_count": 17,
   "metadata": {
    "gather": {
     "logged": 1612801636555
    }
   },
   "outputs": [
    {
     "name": "stdout",
     "output_type": "stream",
     "text": [
      "Uploading an estimated of 12 files\n",
      "Uploading ./.amlignore\n",
      "Uploaded ./.amlignore, 1 files out of an estimated total of 12\n",
      "Uploading ./.amlignore.amltmp\n",
      "Uploaded ./.amlignore.amltmp, 2 files out of an estimated total of 12\n",
      "Uploading ./automl6.ipynb\n",
      "Uploaded ./automl6.ipynb, 3 files out of an estimated total of 12\n",
      "Uploading ./hyperparameter_tuning.ipynb\n",
      "Uploaded ./hyperparameter_tuning.ipynb, 4 files out of an estimated total of 12\n",
      "Uploading ./prepared.csv\n",
      "Uploaded ./prepared.csv, 5 files out of an estimated total of 12\n",
      "Uploading ./pre_preprocess.py\n",
      "Uploaded ./pre_preprocess.py, 6 files out of an estimated total of 12\n",
      "Uploading ./automl6.ipynb.amltmp\n",
      "Uploaded ./automl6.ipynb.amltmp, 7 files out of an estimated total of 12\n",
      "Uploading ./score.py\n",
      "Uploaded ./score.py, 8 files out of an estimated total of 12\n",
      "Uploading ./train.py\n",
      "Uploaded ./train.py, 9 files out of an estimated total of 12\n",
      "Uploading ./.ipynb_aml_checkpoints/automl6-checkpoint2021-1-8-16-20-12.ipynb\n",
      "Uploaded ./.ipynb_aml_checkpoints/automl6-checkpoint2021-1-8-16-20-12.ipynb, 10 files out of an estimated total of 12\n",
      "Uploading ./__pycache__/pre_preprocess.cpython-36.pyc\n",
      "Uploaded ./__pycache__/pre_preprocess.cpython-36.pyc, 11 files out of an estimated total of 12\n",
      "Uploading ./__pycache__/train.cpython-36.pyc\n",
      "Uploaded ./__pycache__/train.cpython-36.pyc, 12 files out of an estimated total of 12\n",
      "Uploaded 12 files\n"
     ]
    },
    {
     "data": {
      "text/plain": [
       "$AZUREML_DATAREFERENCE_b07a40ffff4d4a4f8031b2b7150e30bb"
      ]
     },
     "execution_count": 17,
     "metadata": {},
     "output_type": "execute_result"
    }
   ],
   "source": [
    "#Upload the dataframe which was previosly converted into a csv\n",
    "datastore.upload(src_dir='.', target_path='data')"
   ]
  },
  {
   "cell_type": "code",
   "execution_count": 18,
   "metadata": {
    "gather": {
     "logged": 1612801641127
    }
   },
   "outputs": [
    {
     "data": {
      "text/plain": [
       "$AZUREML_DATAREFERENCE_workspaceblobstore"
      ]
     },
     "execution_count": 18,
     "metadata": {},
     "output_type": "execute_result"
    }
   ],
   "source": [
    "#For the sake of checking; check the path\n",
    "datastore.path()"
   ]
  },
  {
   "cell_type": "code",
   "execution_count": 19,
   "metadata": {
    "gather": {
     "logged": 1612801648178
    }
   },
   "outputs": [],
   "source": [
    "#Now the uploaded file will be transformed into a Tabular dataset and store in a varible named 'training_dataset'\n",
    "training_dataset = Dataset.Tabular.from_delimited_files(path= [(datastore,('data/prepared.csv'))])"
   ]
  },
  {
   "cell_type": "code",
   "execution_count": 20,
   "metadata": {
    "gather": {
     "logged": 1612801654940
    }
   },
   "outputs": [
    {
     "data": {
      "text/html": [
       "<div>\n",
       "<style scoped>\n",
       "    .dataframe tbody tr th:only-of-type {\n",
       "        vertical-align: middle;\n",
       "    }\n",
       "\n",
       "    .dataframe tbody tr th {\n",
       "        vertical-align: top;\n",
       "    }\n",
       "\n",
       "    .dataframe thead th {\n",
       "        text-align: right;\n",
       "    }\n",
       "</style>\n",
       "<table border=\"1\" class=\"dataframe\">\n",
       "  <thead>\n",
       "    <tr style=\"text-align: right;\">\n",
       "      <th></th>\n",
       "      <th>pclass</th>\n",
       "      <th>age</th>\n",
       "      <th>sibsp</th>\n",
       "      <th>parch</th>\n",
       "      <th>fare</th>\n",
       "      <th>age_NA</th>\n",
       "      <th>fare_NA</th>\n",
       "      <th>sex_male</th>\n",
       "      <th>cabin_Missing</th>\n",
       "      <th>cabin_Rare</th>\n",
       "      <th>embarked_Q</th>\n",
       "      <th>embarked_Rare</th>\n",
       "      <th>embarked_S</th>\n",
       "      <th>title_Mr</th>\n",
       "      <th>title_Mrs</th>\n",
       "      <th>title_Rare</th>\n",
       "      <th>survived</th>\n",
       "    </tr>\n",
       "  </thead>\n",
       "  <tbody>\n",
       "    <tr>\n",
       "      <th>0</th>\n",
       "      <td>0.841916</td>\n",
       "      <td>-0.349075</td>\n",
       "      <td>-0.479087</td>\n",
       "      <td>-0.445</td>\n",
       "      <td>-0.490240</td>\n",
       "      <td>-0.501432</td>\n",
       "      <td>-0.02765</td>\n",
       "      <td>0.743497</td>\n",
       "      <td>0.539377</td>\n",
       "      <td>-0.425920</td>\n",
       "      <td>-0.322040</td>\n",
       "      <td>-0.039118</td>\n",
       "      <td>0.657394</td>\n",
       "      <td>0.852592</td>\n",
       "      <td>-0.42592</td>\n",
       "      <td>-0.274947</td>\n",
       "      <td>0</td>\n",
       "    </tr>\n",
       "    <tr>\n",
       "      <th>1</th>\n",
       "      <td>-1.546098</td>\n",
       "      <td>0.891204</td>\n",
       "      <td>-0.479087</td>\n",
       "      <td>-0.445</td>\n",
       "      <td>1.956990</td>\n",
       "      <td>-0.501432</td>\n",
       "      <td>-0.02765</td>\n",
       "      <td>-1.344995</td>\n",
       "      <td>-1.853992</td>\n",
       "      <td>2.347858</td>\n",
       "      <td>-0.322040</td>\n",
       "      <td>-0.039118</td>\n",
       "      <td>-1.521159</td>\n",
       "      <td>-1.172894</td>\n",
       "      <td>-0.42592</td>\n",
       "      <td>-0.274947</td>\n",
       "      <td>1</td>\n",
       "    </tr>\n",
       "    <tr>\n",
       "      <th>2</th>\n",
       "      <td>0.841916</td>\n",
       "      <td>-0.116523</td>\n",
       "      <td>-0.479087</td>\n",
       "      <td>-0.445</td>\n",
       "      <td>-0.493947</td>\n",
       "      <td>1.994288</td>\n",
       "      <td>-0.02765</td>\n",
       "      <td>0.743497</td>\n",
       "      <td>0.539377</td>\n",
       "      <td>-0.425920</td>\n",
       "      <td>3.105202</td>\n",
       "      <td>-0.039118</td>\n",
       "      <td>-1.521159</td>\n",
       "      <td>0.852592</td>\n",
       "      <td>-0.42592</td>\n",
       "      <td>-0.274947</td>\n",
       "      <td>0</td>\n",
       "    </tr>\n",
       "    <tr>\n",
       "      <th>3</th>\n",
       "      <td>0.841916</td>\n",
       "      <td>-0.891698</td>\n",
       "      <td>-0.479087</td>\n",
       "      <td>-0.445</td>\n",
       "      <td>-0.493141</td>\n",
       "      <td>-0.501432</td>\n",
       "      <td>-0.02765</td>\n",
       "      <td>-1.344995</td>\n",
       "      <td>0.539377</td>\n",
       "      <td>-0.425920</td>\n",
       "      <td>-0.322040</td>\n",
       "      <td>-0.039118</td>\n",
       "      <td>0.657394</td>\n",
       "      <td>-1.172894</td>\n",
       "      <td>-0.42592</td>\n",
       "      <td>-0.274947</td>\n",
       "      <td>0</td>\n",
       "    </tr>\n",
       "    <tr>\n",
       "      <th>4</th>\n",
       "      <td>-0.352091</td>\n",
       "      <td>-0.039005</td>\n",
       "      <td>0.481288</td>\n",
       "      <td>-0.445</td>\n",
       "      <td>-0.237445</td>\n",
       "      <td>-0.501432</td>\n",
       "      <td>-0.02765</td>\n",
       "      <td>0.743497</td>\n",
       "      <td>0.539377</td>\n",
       "      <td>-0.425920</td>\n",
       "      <td>-0.322040</td>\n",
       "      <td>-0.039118</td>\n",
       "      <td>0.657394</td>\n",
       "      <td>0.852592</td>\n",
       "      <td>-0.42592</td>\n",
       "      <td>-0.274947</td>\n",
       "      <td>0</td>\n",
       "    </tr>\n",
       "  </tbody>\n",
       "</table>\n",
       "</div>"
      ],
      "text/plain": [
       "     pclass       age     sibsp  parch      fare    age_NA  fare_NA  sex_male  \\\n",
       "0  0.841916 -0.349075 -0.479087 -0.445 -0.490240 -0.501432 -0.02765  0.743497   \n",
       "1 -1.546098  0.891204 -0.479087 -0.445  1.956990 -0.501432 -0.02765 -1.344995   \n",
       "2  0.841916 -0.116523 -0.479087 -0.445 -0.493947  1.994288 -0.02765  0.743497   \n",
       "3  0.841916 -0.891698 -0.479087 -0.445 -0.493141 -0.501432 -0.02765 -1.344995   \n",
       "4 -0.352091 -0.039005  0.481288 -0.445 -0.237445 -0.501432 -0.02765  0.743497   \n",
       "\n",
       "   cabin_Missing  cabin_Rare  embarked_Q  embarked_Rare  embarked_S  title_Mr  \\\n",
       "0       0.539377   -0.425920   -0.322040      -0.039118    0.657394  0.852592   \n",
       "1      -1.853992    2.347858   -0.322040      -0.039118   -1.521159 -1.172894   \n",
       "2       0.539377   -0.425920    3.105202      -0.039118   -1.521159  0.852592   \n",
       "3       0.539377   -0.425920   -0.322040      -0.039118    0.657394 -1.172894   \n",
       "4       0.539377   -0.425920   -0.322040      -0.039118    0.657394  0.852592   \n",
       "\n",
       "   title_Mrs  title_Rare  survived  \n",
       "0   -0.42592   -0.274947         0  \n",
       "1   -0.42592   -0.274947         1  \n",
       "2   -0.42592   -0.274947         0  \n",
       "3   -0.42592   -0.274947         0  \n",
       "4   -0.42592   -0.274947         0  "
      ]
     },
     "execution_count": 20,
     "metadata": {},
     "output_type": "execute_result"
    }
   ],
   "source": [
    "#let's visualize the data:\n",
    "training_dataset.to_pandas_dataframe().head()"
   ]
  },
  {
   "cell_type": "markdown",
   "metadata": {},
   "source": [
    "## AutoML Configuration\n",
    "\n",
    "Below we will chose the automl settings and cofiguration"
   ]
  },
  {
   "cell_type": "code",
   "execution_count": 22,
   "metadata": {
    "gather": {
     "logged": 1612801675790
    }
   },
   "outputs": [],
   "source": [
    "#Create the automl settings which will be used as argurments in the automl config\n",
    "automl_settings = {\n",
    "    \"experiment_timeout_minutes\": 20,\n",
    "    \"max_concurrent_iterations\": 5,\n",
    "    \"primary_metric\" : 'accuracy'\n",
    "}\n",
    "\n",
    "#Create the automl_config\n",
    "automl_config = AutoMLConfig(compute_target=compute_target,\n",
    "                             task = \"classification\",\n",
    "                             training_data=training_dataset,\n",
    "                             label_column_name=\"survived\",   \n",
    "                             path = project_folder,\n",
    "                             enable_early_stopping= True,\n",
    "                             featurization= 'auto',\n",
    "                             debug_log = \"automl_errors.log\",\n",
    "                             **automl_settings\n",
    "                            )"
   ]
  },
  {
   "cell_type": "code",
   "execution_count": null,
   "metadata": {
    "gather": {
     "logged": 1612716689612
    },
    "jupyter": {
     "outputs_hidden": false,
     "source_hidden": false
    },
    "nteract": {
     "transient": {
      "deleting": false
     }
    }
   },
   "outputs": [
    {
     "name": "stdout",
     "output_type": "stream",
     "text": [
      "Running on remote.\n",
      "No run_configuration provided, running on notebook138164 with default configuration\n",
      "Running on remote compute: notebook138164\n",
      "Parent Run ID: AutoML_4650437b-1121-4754-b1dc-0f194ec52deb\n",
      "\n",
      "Current status: FeaturesGeneration. Generating features for the dataset.\n",
      "Current status: ModelSelection. Beginning model selection.\n",
      "\n",
      "****************************************************************************************************\n",
      "DATA GUARDRAILS: \n",
      "\n",
      "TYPE:         Cross validation\n",
      "STATUS:       DONE\n",
      "DESCRIPTION:  Each iteration of the trained model was validated through cross-validation.\n",
      "              \n",
      "DETAILS:      \n",
      "+---------------------------------+\n",
      "|Number of folds                  |\n",
      "+=================================+\n",
      "|3                                |\n",
      "+---------------------------------+\n",
      "\n",
      "****************************************************************************************************\n",
      "\n",
      "TYPE:         Class balancing detection\n",
      "STATUS:       PASSED\n",
      "DESCRIPTION:  Your inputs were analyzed, and all classes are balanced in your training data.\n",
      "              Learn more about imbalanced data: https://aka.ms/AutomatedMLImbalancedData\n",
      "\n",
      "****************************************************************************************************\n",
      "\n",
      "TYPE:         Missing feature values imputation\n",
      "STATUS:       PASSED\n",
      "DESCRIPTION:  No feature missing values were detected in the training data.\n",
      "              Learn more about missing value imputation: https://aka.ms/AutomatedMLFeaturization\n",
      "\n",
      "****************************************************************************************************\n",
      "\n",
      "TYPE:         High cardinality feature detection\n",
      "STATUS:       PASSED\n",
      "DESCRIPTION:  Your inputs were analyzed, and no high cardinality features were detected.\n",
      "              Learn more about high cardinality feature handling: https://aka.ms/AutomatedMLFeaturization\n",
      "\n",
      "****************************************************************************************************\n",
      "\n",
      "****************************************************************************************************\n",
      "ITERATION: The iteration being evaluated.\n",
      "PIPELINE: A summary description of the pipeline being evaluated.\n",
      "DURATION: Time taken for the current iteration.\n",
      "METRIC: The result of computing score on the fitted pipeline.\n",
      "BEST: The best observed score thus far.\n",
      "****************************************************************************************************\n",
      "\n",
      " ITERATION   PIPELINE                                       DURATION      METRIC      BEST\n",
      "         1   MaxAbsScaler XGBoostClassifier                 0:01:05       0.8080    0.8080\n",
      "         2   MinMaxScaler RandomForest                      0:01:09       0.7927    0.8080\n",
      "         4   MinMaxScaler RandomForest                      0:01:09       0.7937    0.8080\n",
      "         0   MaxAbsScaler LightGBM                          0:01:12       0.7880    0.8080\n",
      "         3   MinMaxScaler RandomForest                      0:01:11       0.8013    0.8080\n",
      "         5   SparseNormalizer XGBoostClassifier             0:01:16       0.7813    0.8080\n",
      "         6   RobustScaler RandomForest                      0:01:06       0.7918    0.8080\n",
      "         8   SparseNormalizer XGBoostClassifier             0:01:01       0.7861    0.8080\n",
      "         7   MinMaxScaler SVM                               0:01:11       0.7975    0.8080\n",
      "         9   SparseNormalizer XGBoostClassifier             0:01:08       0.7851    0.8080\n",
      "        10   RobustScaler SVM                               0:01:10       0.6781    0.8080\n",
      "        11   StandardScalerWrapper RandomForest             0:01:09       0.7956    0.8080\n",
      "        12   SparseNormalizer LightGBM                      0:01:10       0.8032    0.8080\n",
      "        13   StandardScalerWrapper LightGBM                 0:01:02       0.7899    0.8080\n",
      "        14   StandardScalerWrapper XGBoostClassifier        0:01:02       0.7889    0.8080\n"
     ]
    }
   ],
   "source": [
    "#Submitt the experiment\n",
    "\n",
    "automl_run = experiment.submit(automl_config,show_output=True)"
   ]
  },
  {
   "cell_type": "code",
   "execution_count": 24,
   "metadata": {
    "collapsed": true,
    "gather": {
     "logged": 1612802994779
    },
    "jupyter": {
     "outputs_hidden": false,
     "source_hidden": false
    },
    "nteract": {
     "transient": {
      "deleting": false
     }
    }
   },
   "outputs": [
    {
     "data": {
      "application/vnd.jupyter.widget-view+json": {
       "model_id": "cd6fac20da4b44769693f6c70ece9162",
       "version_major": 2,
       "version_minor": 0
      },
      "text/plain": [
       "_AutoMLWidget(widget_settings={'childWidgetDisplay': 'popup', 'send_telemetry': False, 'log_level': 'INFO', 's…"
      ]
     },
     "metadata": {},
     "output_type": "display_data"
    },
    {
     "data": {
      "application/aml.mini.widget.v1": "{\"status\": \"Completed\", \"workbench_run_details_uri\": \"https://ml.azure.com/experiments/automl-experiment-1/runs/AutoML_4650437b-1121-4754-b1dc-0f194ec52deb?wsid=/subscriptions/1b944a9b-fdae-4f97-aeb1-b7eea0beac53/resourcegroups/aml-quickstarts-138164/workspaces/quick-starts-ws-138164\", \"run_id\": \"AutoML_4650437b-1121-4754-b1dc-0f194ec52deb\", \"run_properties\": {\"run_id\": \"AutoML_4650437b-1121-4754-b1dc-0f194ec52deb\", \"created_utc\": \"2021-02-08T16:28:04.317474Z\", \"properties\": {\"num_iterations\": \"1000\", \"training_type\": \"TrainFull\", \"acquisition_function\": \"EI\", \"primary_metric\": \"accuracy\", \"train_split\": \"0\", \"acquisition_parameter\": \"0\", \"num_cross_validation\": null, \"target\": \"notebook138164\", \"AMLSettingsJsonString\": \"{\\\"path\\\":null,\\\"name\\\":\\\"automl-experiment-1\\\",\\\"subscription_id\\\":\\\"1b944a9b-fdae-4f97-aeb1-b7eea0beac53\\\",\\\"resource_group\\\":\\\"aml-quickstarts-138164\\\",\\\"workspace_name\\\":\\\"quick-starts-ws-138164\\\",\\\"region\\\":\\\"southcentralus\\\",\\\"compute_target\\\":\\\"notebook138164\\\",\\\"spark_service\\\":null,\\\"azure_service\\\":\\\"remote\\\",\\\"many_models\\\":false,\\\"pipeline_fetch_max_batch_size\\\":1,\\\"iterations\\\":1000,\\\"primary_metric\\\":\\\"accuracy\\\",\\\"task_type\\\":\\\"classification\\\",\\\"data_script\\\":null,\\\"validation_size\\\":0.0,\\\"n_cross_validations\\\":null,\\\"y_min\\\":null,\\\"y_max\\\":null,\\\"num_classes\\\":null,\\\"featurization\\\":\\\"auto\\\",\\\"_ignore_package_version_incompatibilities\\\":false,\\\"is_timeseries\\\":false,\\\"max_cores_per_iteration\\\":1,\\\"max_concurrent_iterations\\\":5,\\\"iteration_timeout_minutes\\\":null,\\\"mem_in_mb\\\":null,\\\"enforce_time_on_windows\\\":false,\\\"experiment_timeout_minutes\\\":20,\\\"experiment_exit_score\\\":null,\\\"whitelist_models\\\":null,\\\"blacklist_algos\\\":[\\\"TensorFlowLinearClassifier\\\",\\\"TensorFlowDNN\\\"],\\\"supported_models\\\":[\\\"SVM\\\",\\\"KNN\\\",\\\"LightGBM\\\",\\\"AveragedPerceptronClassifier\\\",\\\"DecisionTree\\\",\\\"LogisticRegression\\\",\\\"LinearSVM\\\",\\\"XGBoostClassifier\\\",\\\"SGD\\\",\\\"BernoulliNaiveBayes\\\",\\\"ExtremeRandomTrees\\\",\\\"RandomForest\\\",\\\"TensorFlowLinearClassifier\\\",\\\"MultinomialNaiveBayes\\\",\\\"TensorFlowDNN\\\",\\\"GradientBoosting\\\"],\\\"auto_blacklist\\\":true,\\\"blacklist_samples_reached\\\":false,\\\"exclude_nan_labels\\\":true,\\\"verbosity\\\":20,\\\"_debug_log\\\":\\\"azureml_automl.log\\\",\\\"show_warnings\\\":false,\\\"model_explainability\\\":true,\\\"service_url\\\":null,\\\"sdk_url\\\":null,\\\"sdk_packages\\\":null,\\\"enable_onnx_compatible_models\\\":false,\\\"enable_split_onnx_featurizer_estimator_models\\\":false,\\\"vm_type\\\":\\\"STANDARD_DS3_V2\\\",\\\"telemetry_verbosity\\\":20,\\\"send_telemetry\\\":true,\\\"enable_dnn\\\":false,\\\"scenario\\\":\\\"SDK-1.13.0\\\",\\\"environment_label\\\":null,\\\"force_text_dnn\\\":false,\\\"enable_feature_sweeping\\\":true,\\\"enable_early_stopping\\\":true,\\\"early_stopping_n_iters\\\":10,\\\"metrics\\\":null,\\\"enable_ensembling\\\":true,\\\"enable_stack_ensembling\\\":true,\\\"ensemble_iterations\\\":15,\\\"enable_tf\\\":false,\\\"enable_subsampling\\\":null,\\\"subsample_seed\\\":null,\\\"enable_nimbusml\\\":false,\\\"enable_streaming\\\":false,\\\"force_streaming\\\":false,\\\"track_child_runs\\\":true,\\\"allowed_private_models\\\":[],\\\"label_column_name\\\":\\\"survived\\\",\\\"weight_column_name\\\":null,\\\"cv_split_column_names\\\":null,\\\"enable_local_managed\\\":false,\\\"_local_managed_run_id\\\":null,\\\"cost_mode\\\":1,\\\"lag_length\\\":0,\\\"metric_operation\\\":\\\"maximize\\\",\\\"preprocess\\\":true}\", \"DataPrepJsonString\": \"{\\\\\\\"training_data\\\\\\\": \\\\\\\"{\\\\\\\\\\\\\\\"blocks\\\\\\\\\\\\\\\": [{\\\\\\\\\\\\\\\"id\\\\\\\\\\\\\\\": \\\\\\\\\\\\\\\"4b3c0626-b94c-4925-9e04-cfbd0a6779ef\\\\\\\\\\\\\\\", \\\\\\\\\\\\\\\"type\\\\\\\\\\\\\\\": \\\\\\\\\\\\\\\"Microsoft.DPrep.GetDatastoreFilesBlock\\\\\\\\\\\\\\\", \\\\\\\\\\\\\\\"arguments\\\\\\\\\\\\\\\": {\\\\\\\\\\\\\\\"datastores\\\\\\\\\\\\\\\": [{\\\\\\\\\\\\\\\"datastoreName\\\\\\\\\\\\\\\": \\\\\\\\\\\\\\\"workspaceblobstore\\\\\\\\\\\\\\\", \\\\\\\\\\\\\\\"path\\\\\\\\\\\\\\\": \\\\\\\\\\\\\\\"data/prepared.csv\\\\\\\\\\\\\\\", \\\\\\\\\\\\\\\"resourceGroup\\\\\\\\\\\\\\\": \\\\\\\\\\\\\\\"aml-quickstarts-138164\\\\\\\\\\\\\\\", \\\\\\\\\\\\\\\"subscription\\\\\\\\\\\\\\\": \\\\\\\\\\\\\\\"1b944a9b-fdae-4f97-aeb1-b7eea0beac53\\\\\\\\\\\\\\\", \\\\\\\\\\\\\\\"workspaceName\\\\\\\\\\\\\\\": \\\\\\\\\\\\\\\"quick-starts-ws-138164\\\\\\\\\\\\\\\"}]}, \\\\\\\\\\\\\\\"localData\\\\\\\\\\\\\\\": {}, \\\\\\\\\\\\\\\"isEnabled\\\\\\\\\\\\\\\": true, \\\\\\\\\\\\\\\"name\\\\\\\\\\\\\\\": null, \\\\\\\\\\\\\\\"annotation\\\\\\\\\\\\\\\": null}, {\\\\\\\\\\\\\\\"id\\\\\\\\\\\\\\\": \\\\\\\\\\\\\\\"024fa740-9586-4270-b614-2b85fd90df9b\\\\\\\\\\\\\\\", \\\\\\\\\\\\\\\"type\\\\\\\\\\\\\\\": \\\\\\\\\\\\\\\"Microsoft.DPrep.ParseDelimitedBlock\\\\\\\\\\\\\\\", \\\\\\\\\\\\\\\"arguments\\\\\\\\\\\\\\\": {\\\\\\\\\\\\\\\"columnHeadersMode\\\\\\\\\\\\\\\": 3, \\\\\\\\\\\\\\\"fileEncoding\\\\\\\\\\\\\\\": 0, \\\\\\\\\\\\\\\"handleQuotedLineBreaks\\\\\\\\\\\\\\\": false, \\\\\\\\\\\\\\\"preview\\\\\\\\\\\\\\\": false, \\\\\\\\\\\\\\\"separator\\\\\\\\\\\\\\\": \\\\\\\\\\\\\\\",\\\\\\\\\\\\\\\", \\\\\\\\\\\\\\\"skipRows\\\\\\\\\\\\\\\": 0, \\\\\\\\\\\\\\\"skipRowsMode\\\\\\\\\\\\\\\": 0}, \\\\\\\\\\\\\\\"localData\\\\\\\\\\\\\\\": {}, \\\\\\\\\\\\\\\"isEnabled\\\\\\\\\\\\\\\": true, \\\\\\\\\\\\\\\"name\\\\\\\\\\\\\\\": null, \\\\\\\\\\\\\\\"annotation\\\\\\\\\\\\\\\": null}, {\\\\\\\\\\\\\\\"id\\\\\\\\\\\\\\\": \\\\\\\\\\\\\\\"6f8826a4-e07e-40d5-94ba-25d8affc9140\\\\\\\\\\\\\\\", \\\\\\\\\\\\\\\"type\\\\\\\\\\\\\\\": \\\\\\\\\\\\\\\"Microsoft.DPrep.DropColumnsBlock\\\\\\\\\\\\\\\", \\\\\\\\\\\\\\\"arguments\\\\\\\\\\\\\\\": {\\\\\\\\\\\\\\\"columns\\\\\\\\\\\\\\\": {\\\\\\\\\\\\\\\"type\\\\\\\\\\\\\\\": 0, \\\\\\\\\\\\\\\"details\\\\\\\\\\\\\\\": {\\\\\\\\\\\\\\\"selectedColumns\\\\\\\\\\\\\\\": [\\\\\\\\\\\\\\\"Path\\\\\\\\\\\\\\\"]}}}, \\\\\\\\\\\\\\\"localData\\\\\\\\\\\\\\\": {}, \\\\\\\\\\\\\\\"isEnabled\\\\\\\\\\\\\\\": true, \\\\\\\\\\\\\\\"name\\\\\\\\\\\\\\\": null, \\\\\\\\\\\\\\\"annotation\\\\\\\\\\\\\\\": null}, {\\\\\\\\\\\\\\\"id\\\\\\\\\\\\\\\": \\\\\\\\\\\\\\\"4acd413a-39ae-4038-bc38-7ae4bfc6ab37\\\\\\\\\\\\\\\", \\\\\\\\\\\\\\\"type\\\\\\\\\\\\\\\": \\\\\\\\\\\\\\\"Microsoft.DPrep.SetColumnTypesBlock\\\\\\\\\\\\\\\", \\\\\\\\\\\\\\\"arguments\\\\\\\\\\\\\\\": {\\\\\\\\\\\\\\\"columnConversion\\\\\\\\\\\\\\\": [{\\\\\\\\\\\\\\\"column\\\\\\\\\\\\\\\": {\\\\\\\\\\\\\\\"type\\\\\\\\\\\\\\\": 2, \\\\\\\\\\\\\\\"details\\\\\\\\\\\\\\\": {\\\\\\\\\\\\\\\"selectedColumn\\\\\\\\\\\\\\\": \\\\\\\\\\\\\\\"pclass\\\\\\\\\\\\\\\"}}, \\\\\\\\\\\\\\\"typeProperty\\\\\\\\\\\\\\\": 3}, {\\\\\\\\\\\\\\\"column\\\\\\\\\\\\\\\": {\\\\\\\\\\\\\\\"type\\\\\\\\\\\\\\\": 2, \\\\\\\\\\\\\\\"details\\\\\\\\\\\\\\\": {\\\\\\\\\\\\\\\"selectedColumn\\\\\\\\\\\\\\\": \\\\\\\\\\\\\\\"age\\\\\\\\\\\\\\\"}}, \\\\\\\\\\\\\\\"typeProperty\\\\\\\\\\\\\\\": 3}, {\\\\\\\\\\\\\\\"column\\\\\\\\\\\\\\\": {\\\\\\\\\\\\\\\"type\\\\\\\\\\\\\\\": 2, \\\\\\\\\\\\\\\"details\\\\\\\\\\\\\\\": {\\\\\\\\\\\\\\\"selectedColumn\\\\\\\\\\\\\\\": \\\\\\\\\\\\\\\"sibsp\\\\\\\\\\\\\\\"}}, \\\\\\\\\\\\\\\"typeProperty\\\\\\\\\\\\\\\": 3}, {\\\\\\\\\\\\\\\"column\\\\\\\\\\\\\\\": {\\\\\\\\\\\\\\\"type\\\\\\\\\\\\\\\": 2, \\\\\\\\\\\\\\\"details\\\\\\\\\\\\\\\": {\\\\\\\\\\\\\\\"selectedColumn\\\\\\\\\\\\\\\": \\\\\\\\\\\\\\\"parch\\\\\\\\\\\\\\\"}}, \\\\\\\\\\\\\\\"typeProperty\\\\\\\\\\\\\\\": 3}, {\\\\\\\\\\\\\\\"column\\\\\\\\\\\\\\\": {\\\\\\\\\\\\\\\"type\\\\\\\\\\\\\\\": 2, \\\\\\\\\\\\\\\"details\\\\\\\\\\\\\\\": {\\\\\\\\\\\\\\\"selectedColumn\\\\\\\\\\\\\\\": \\\\\\\\\\\\\\\"fare\\\\\\\\\\\\\\\"}}, \\\\\\\\\\\\\\\"typeProperty\\\\\\\\\\\\\\\": 3}, {\\\\\\\\\\\\\\\"column\\\\\\\\\\\\\\\": {\\\\\\\\\\\\\\\"type\\\\\\\\\\\\\\\": 2, \\\\\\\\\\\\\\\"details\\\\\\\\\\\\\\\": {\\\\\\\\\\\\\\\"selectedColumn\\\\\\\\\\\\\\\": \\\\\\\\\\\\\\\"age_NA\\\\\\\\\\\\\\\"}}, \\\\\\\\\\\\\\\"typeProperty\\\\\\\\\\\\\\\": 3}, {\\\\\\\\\\\\\\\"column\\\\\\\\\\\\\\\": {\\\\\\\\\\\\\\\"type\\\\\\\\\\\\\\\": 2, \\\\\\\\\\\\\\\"details\\\\\\\\\\\\\\\": {\\\\\\\\\\\\\\\"selectedColumn\\\\\\\\\\\\\\\": \\\\\\\\\\\\\\\"fare_NA\\\\\\\\\\\\\\\"}}, \\\\\\\\\\\\\\\"typeProperty\\\\\\\\\\\\\\\": 3}, {\\\\\\\\\\\\\\\"column\\\\\\\\\\\\\\\": {\\\\\\\\\\\\\\\"type\\\\\\\\\\\\\\\": 2, \\\\\\\\\\\\\\\"details\\\\\\\\\\\\\\\": {\\\\\\\\\\\\\\\"selectedColumn\\\\\\\\\\\\\\\": \\\\\\\\\\\\\\\"sex_male\\\\\\\\\\\\\\\"}}, \\\\\\\\\\\\\\\"typeProperty\\\\\\\\\\\\\\\": 3}, {\\\\\\\\\\\\\\\"column\\\\\\\\\\\\\\\": {\\\\\\\\\\\\\\\"type\\\\\\\\\\\\\\\": 2, \\\\\\\\\\\\\\\"details\\\\\\\\\\\\\\\": {\\\\\\\\\\\\\\\"selectedColumn\\\\\\\\\\\\\\\": \\\\\\\\\\\\\\\"cabin_Missing\\\\\\\\\\\\\\\"}}, \\\\\\\\\\\\\\\"typeProperty\\\\\\\\\\\\\\\": 3}, {\\\\\\\\\\\\\\\"column\\\\\\\\\\\\\\\": {\\\\\\\\\\\\\\\"type\\\\\\\\\\\\\\\": 2, \\\\\\\\\\\\\\\"details\\\\\\\\\\\\\\\": {\\\\\\\\\\\\\\\"selectedColumn\\\\\\\\\\\\\\\": \\\\\\\\\\\\\\\"cabin_Rare\\\\\\\\\\\\\\\"}}, \\\\\\\\\\\\\\\"typeProperty\\\\\\\\\\\\\\\": 3}, {\\\\\\\\\\\\\\\"column\\\\\\\\\\\\\\\": {\\\\\\\\\\\\\\\"type\\\\\\\\\\\\\\\": 2, \\\\\\\\\\\\\\\"details\\\\\\\\\\\\\\\": {\\\\\\\\\\\\\\\"selectedColumn\\\\\\\\\\\\\\\": \\\\\\\\\\\\\\\"embarked_Q\\\\\\\\\\\\\\\"}}, \\\\\\\\\\\\\\\"typeProperty\\\\\\\\\\\\\\\": 3}, {\\\\\\\\\\\\\\\"column\\\\\\\\\\\\\\\": {\\\\\\\\\\\\\\\"type\\\\\\\\\\\\\\\": 2, \\\\\\\\\\\\\\\"details\\\\\\\\\\\\\\\": {\\\\\\\\\\\\\\\"selectedColumn\\\\\\\\\\\\\\\": \\\\\\\\\\\\\\\"embarked_Rare\\\\\\\\\\\\\\\"}}, \\\\\\\\\\\\\\\"typeProperty\\\\\\\\\\\\\\\": 3}, {\\\\\\\\\\\\\\\"column\\\\\\\\\\\\\\\": {\\\\\\\\\\\\\\\"type\\\\\\\\\\\\\\\": 2, \\\\\\\\\\\\\\\"details\\\\\\\\\\\\\\\": {\\\\\\\\\\\\\\\"selectedColumn\\\\\\\\\\\\\\\": \\\\\\\\\\\\\\\"embarked_S\\\\\\\\\\\\\\\"}}, \\\\\\\\\\\\\\\"typeProperty\\\\\\\\\\\\\\\": 3}, {\\\\\\\\\\\\\\\"column\\\\\\\\\\\\\\\": {\\\\\\\\\\\\\\\"type\\\\\\\\\\\\\\\": 2, \\\\\\\\\\\\\\\"details\\\\\\\\\\\\\\\": {\\\\\\\\\\\\\\\"selectedColumn\\\\\\\\\\\\\\\": \\\\\\\\\\\\\\\"title_Mr\\\\\\\\\\\\\\\"}}, \\\\\\\\\\\\\\\"typeProperty\\\\\\\\\\\\\\\": 3}, {\\\\\\\\\\\\\\\"column\\\\\\\\\\\\\\\": {\\\\\\\\\\\\\\\"type\\\\\\\\\\\\\\\": 2, \\\\\\\\\\\\\\\"details\\\\\\\\\\\\\\\": {\\\\\\\\\\\\\\\"selectedColumn\\\\\\\\\\\\\\\": \\\\\\\\\\\\\\\"title_Mrs\\\\\\\\\\\\\\\"}}, \\\\\\\\\\\\\\\"typeProperty\\\\\\\\\\\\\\\": 3}, {\\\\\\\\\\\\\\\"column\\\\\\\\\\\\\\\": {\\\\\\\\\\\\\\\"type\\\\\\\\\\\\\\\": 2, \\\\\\\\\\\\\\\"details\\\\\\\\\\\\\\\": {\\\\\\\\\\\\\\\"selectedColumn\\\\\\\\\\\\\\\": \\\\\\\\\\\\\\\"title_Rare\\\\\\\\\\\\\\\"}}, \\\\\\\\\\\\\\\"typeProperty\\\\\\\\\\\\\\\": 3}, {\\\\\\\\\\\\\\\"column\\\\\\\\\\\\\\\": {\\\\\\\\\\\\\\\"type\\\\\\\\\\\\\\\": 2, \\\\\\\\\\\\\\\"details\\\\\\\\\\\\\\\": {\\\\\\\\\\\\\\\"selectedColumn\\\\\\\\\\\\\\\": \\\\\\\\\\\\\\\"survived\\\\\\\\\\\\\\\"}}, \\\\\\\\\\\\\\\"typeProperty\\\\\\\\\\\\\\\": 2}]}, \\\\\\\\\\\\\\\"localData\\\\\\\\\\\\\\\": {}, \\\\\\\\\\\\\\\"isEnabled\\\\\\\\\\\\\\\": true, \\\\\\\\\\\\\\\"name\\\\\\\\\\\\\\\": null, \\\\\\\\\\\\\\\"annotation\\\\\\\\\\\\\\\": null}], \\\\\\\\\\\\\\\"inspectors\\\\\\\\\\\\\\\": [], \\\\\\\\\\\\\\\"meta\\\\\\\\\\\\\\\": {\\\\\\\\\\\\\\\"savedDatasetId\\\\\\\\\\\\\\\": \\\\\\\\\\\\\\\"95ab181e-60b0-4faf-8909-700ecdced95e\\\\\\\\\\\\\\\", \\\\\\\\\\\\\\\"datasetType\\\\\\\\\\\\\\\": \\\\\\\\\\\\\\\"tabular\\\\\\\\\\\\\\\", \\\\\\\\\\\\\\\"subscriptionId\\\\\\\\\\\\\\\": \\\\\\\\\\\\\\\"1b944a9b-fdae-4f97-aeb1-b7eea0beac53\\\\\\\\\\\\\\\", \\\\\\\\\\\\\\\"workspaceId\\\\\\\\\\\\\\\": \\\\\\\\\\\\\\\"f5b1679e-ca5d-4ea5-a056-44d7c40d9a11\\\\\\\\\\\\\\\", \\\\\\\\\\\\\\\"workspaceLocation\\\\\\\\\\\\\\\": \\\\\\\\\\\\\\\"southcentralus\\\\\\\\\\\\\\\"}}\\\\\\\", \\\\\\\"activities\\\\\\\": 0}\", \"EnableSubsampling\": null, \"runTemplate\": \"AutoML\", \"azureml.runsource\": \"automl\", \"display_task_type\": \"classification\", \"dependencies_versions\": \"{\\\"azureml-widgets\\\": \\\"1.20.0\\\", \\\"azureml-train\\\": \\\"1.20.0\\\", \\\"azureml-train-restclients-hyperdrive\\\": \\\"1.20.0\\\", \\\"azureml-train-core\\\": \\\"1.20.0\\\", \\\"azureml-train-automl\\\": \\\"1.20.0\\\", \\\"azureml-train-automl-runtime\\\": \\\"1.20.0\\\", \\\"azureml-train-automl-client\\\": \\\"1.20.0\\\", \\\"azureml-tensorboard\\\": \\\"1.20.0\\\", \\\"azureml-telemetry\\\": \\\"1.20.0\\\", \\\"azureml-sdk\\\": \\\"1.20.0\\\", \\\"azureml-samples\\\": \\\"0+unknown\\\", \\\"azureml-pipeline\\\": \\\"1.20.0\\\", \\\"azureml-pipeline-steps\\\": \\\"1.20.0\\\", \\\"azureml-pipeline-core\\\": \\\"1.20.0\\\", \\\"azureml-opendatasets\\\": \\\"1.20.0\\\", \\\"azureml-model-management-sdk\\\": \\\"1.0.1b6.post1\\\", \\\"azureml-mlflow\\\": \\\"1.20.0.post1\\\", \\\"azureml-interpret\\\": \\\"1.20.0\\\", \\\"azureml-explain-model\\\": \\\"1.20.0\\\", \\\"azureml-defaults\\\": \\\"1.20.0\\\", \\\"azureml-dataset-runtime\\\": \\\"1.20.0\\\", \\\"azureml-dataprep\\\": \\\"2.7.3\\\", \\\"azureml-dataprep-rslex\\\": \\\"1.5.0\\\", \\\"azureml-dataprep-native\\\": \\\"27.0.0\\\", \\\"azureml-datadrift\\\": \\\"1.20.0\\\", \\\"azureml-core\\\": \\\"1.20.0\\\", \\\"azureml-contrib-services\\\": \\\"1.20.0\\\", \\\"azureml-contrib-server\\\": \\\"1.20.0\\\", \\\"azureml-contrib-reinforcementlearning\\\": \\\"1.20.0\\\", \\\"azureml-contrib-pipeline-steps\\\": \\\"1.20.0\\\", \\\"azureml-contrib-notebook\\\": \\\"1.20.0\\\", \\\"azureml-contrib-interpret\\\": \\\"1.20.0\\\", \\\"azureml-contrib-gbdt\\\": \\\"1.20.0\\\", \\\"azureml-contrib-fairness\\\": \\\"1.20.0\\\", \\\"azureml-contrib-dataset\\\": \\\"1.20.0\\\", \\\"azureml-cli-common\\\": \\\"1.20.0\\\", \\\"azureml-automl-runtime\\\": \\\"1.20.0\\\", \\\"azureml-automl-core\\\": \\\"1.20.0\\\", \\\"azureml-accel-models\\\": \\\"1.20.0\\\"}\", \"_aml_system_scenario_identification\": \"Remote.Parent\", \"ClientType\": \"SDK\", \"environment_cpu_name\": \"AzureML-AutoML\", \"environment_cpu_label\": \"prod\", \"environment_gpu_name\": \"AzureML-AutoML-GPU\", \"environment_gpu_label\": \"prod\", \"root_attribution\": \"automl\", \"attribution\": \"AutoML\", \"Orchestrator\": \"AutoML\", \"CancelUri\": \"https://southcentralus.experiments.azureml.net/jasmine/v1.0/subscriptions/1b944a9b-fdae-4f97-aeb1-b7eea0beac53/resourceGroups/aml-quickstarts-138164/providers/Microsoft.MachineLearningServices/workspaces/quick-starts-ws-138164/experimentids/82401cde-a352-4795-8ae0-6d884aa16305/cancel/AutoML_4650437b-1121-4754-b1dc-0f194ec52deb\", \"ClientSdkVersion\": \"1.21.0\", \"snapshotId\": \"00000000-0000-0000-0000-000000000000\", \"SetupRunId\": \"AutoML_4650437b-1121-4754-b1dc-0f194ec52deb_setup\", \"SetupRunContainerId\": \"dcid.AutoML_4650437b-1121-4754-b1dc-0f194ec52deb_setup\", \"FeaturizationRunJsonPath\": \"featurizer_container.json\", \"FeaturizationRunId\": \"AutoML_4650437b-1121-4754-b1dc-0f194ec52deb_featurize\", \"ProblemInfoJsonString\": \"{\\\"dataset_num_categorical\\\": 0, \\\"is_sparse\\\": false, \\\"subsampling\\\": false, \\\"dataset_classes\\\": 2, \\\"dataset_features\\\": 16, \\\"dataset_samples\\\": 1047, \\\"single_frequency_class_detected\\\": false}\", \"ModelExplainRunId\": \"AutoML_4650437b-1121-4754-b1dc-0f194ec52deb_ModelExplain\"}, \"tags\": {\"model_explain_run\": \"best_run\", \"_aml_system_azureml.automlComponent\": \"AutoML\", \"pipeline_id\": \"\", \"score\": \"\", \"predicted_cost\": \"\", \"fit_time\": \"\", \"training_percent\": \"\", \"iteration\": \"\", \"run_preprocessor\": \"\", \"run_algorithm\": \"\", \"dynamic_whitelisting_iterations\": \"<25>;<30>;<35>;<39>;<45>;\", \"automl_best_child_run_id\": \"AutoML_4650437b-1121-4754-b1dc-0f194ec52deb_46\", \"model_explain_best_run_child_id\": \"AutoML_4650437b-1121-4754-b1dc-0f194ec52deb_46\"}, \"end_time_utc\": \"2021-02-08T16:47:58.055551Z\", \"status\": \"Completed\", \"log_files\": {}, \"log_groups\": [], \"run_duration\": \"0:19:53\"}, \"child_runs\": [{\"run_id\": \"AutoML_4650437b-1121-4754-b1dc-0f194ec52deb_0\", \"run_number\": 5, \"metric\": null, \"status\": \"Completed\", \"run_type\": \"azureml.scriptrun\", \"training_percent\": \"100\", \"start_time\": \"2021-02-08T16:32:59.918025Z\", \"end_time\": \"2021-02-08T16:34:11.498996Z\", \"created_time\": \"2021-02-08T16:32:43.932166Z\", \"created_time_dt\": \"2021-02-08T16:32:43.932166Z\", \"duration\": \"0:01:27\", \"iteration\": \"0\", \"goal\": \"accuracy_max\", \"run_name\": \"MaxAbsScaler, LightGBM\", \"run_properties\": \"copy=True\", \"primary_metric\": 0.78796562, \"best_metric\": 0.78796562}, {\"run_id\": \"AutoML_4650437b-1121-4754-b1dc-0f194ec52deb_4\", \"run_number\": 6, \"metric\": null, \"status\": \"Completed\", \"run_type\": \"azureml.scriptrun\", \"training_percent\": \"100\", \"start_time\": \"2021-02-08T16:33:00.880051Z\", \"end_time\": \"2021-02-08T16:34:09.818219Z\", \"created_time\": \"2021-02-08T16:32:44.053698Z\", \"created_time_dt\": \"2021-02-08T16:32:44.053698Z\", \"duration\": \"0:01:25\", \"iteration\": \"4\", \"goal\": \"accuracy_max\", \"run_name\": \"MinMaxScaler, RandomForest\", \"run_properties\": \"copy=True, feature_range=(0, 1\", \"primary_metric\": 0.79369628, \"best_metric\": 0.80802292}, {\"run_id\": \"AutoML_4650437b-1121-4754-b1dc-0f194ec52deb_3\", \"run_number\": 7, \"metric\": null, \"status\": \"Completed\", \"run_type\": \"azureml.scriptrun\", \"training_percent\": \"100\", \"start_time\": \"2021-02-08T16:33:00.266819Z\", \"end_time\": \"2021-02-08T16:34:11.376966Z\", \"created_time\": \"2021-02-08T16:32:44.054985Z\", \"created_time_dt\": \"2021-02-08T16:32:44.054985Z\", \"duration\": \"0:01:27\", \"iteration\": \"3\", \"goal\": \"accuracy_max\", \"run_name\": \"MinMaxScaler, RandomForest\", \"run_properties\": \"copy=True, feature_range=(0, 1\", \"primary_metric\": 0.80133715, \"best_metric\": 0.80802292}, {\"run_id\": \"AutoML_4650437b-1121-4754-b1dc-0f194ec52deb_2\", \"run_number\": 8, \"metric\": null, \"status\": \"Completed\", \"run_type\": \"azureml.scriptrun\", \"training_percent\": \"100\", \"start_time\": \"2021-02-08T16:32:59.632435Z\", \"end_time\": \"2021-02-08T16:34:08.746379Z\", \"created_time\": \"2021-02-08T16:32:44.065017Z\", \"created_time_dt\": \"2021-02-08T16:32:44.065017Z\", \"duration\": \"0:01:24\", \"iteration\": \"2\", \"goal\": \"accuracy_max\", \"run_name\": \"MinMaxScaler, RandomForest\", \"run_properties\": \"copy=True, feature_range=(0, 1\", \"primary_metric\": 0.79274117, \"best_metric\": 0.80802292}, {\"run_id\": \"AutoML_4650437b-1121-4754-b1dc-0f194ec52deb_1\", \"run_number\": 9, \"metric\": null, \"status\": \"Completed\", \"run_type\": \"azureml.scriptrun\", \"training_percent\": \"100\", \"start_time\": \"2021-02-08T16:33:00.13035Z\", \"end_time\": \"2021-02-08T16:34:04.742143Z\", \"created_time\": \"2021-02-08T16:32:44.054655Z\", \"created_time_dt\": \"2021-02-08T16:32:44.054655Z\", \"duration\": \"0:01:20\", \"iteration\": \"1\", \"goal\": \"accuracy_max\", \"run_name\": \"MaxAbsScaler, XGBoostClassifier\", \"run_properties\": \"copy=True\", \"primary_metric\": 0.80802292, \"best_metric\": 0.80802292}, {\"run_id\": \"AutoML_4650437b-1121-4754-b1dc-0f194ec52deb_5\", \"run_number\": 10, \"metric\": null, \"status\": \"Completed\", \"run_type\": \"azureml.scriptrun\", \"training_percent\": \"100\", \"start_time\": \"2021-02-08T16:34:21.676012Z\", \"end_time\": \"2021-02-08T16:35:37.179775Z\", \"created_time\": \"2021-02-08T16:34:06.926354Z\", \"created_time_dt\": \"2021-02-08T16:34:06.926354Z\", \"duration\": \"0:01:30\", \"iteration\": \"5\", \"goal\": \"accuracy_max\", \"run_name\": \"SparseNormalizer, XGBoostClassifier\", \"run_properties\": \"<azureml.automl.runtime.shared.model_wrappers.SparseNormalizer object at 0x7f1ad2344978\", \"primary_metric\": 0.78127985, \"best_metric\": 0.80802292}, {\"run_id\": \"AutoML_4650437b-1121-4754-b1dc-0f194ec52deb_6\", \"run_number\": 11, \"metric\": null, \"status\": \"Completed\", \"run_type\": \"azureml.scriptrun\", \"training_percent\": \"100\", \"start_time\": \"2021-02-08T16:34:24.450259Z\", \"end_time\": \"2021-02-08T16:35:30.802197Z\", \"created_time\": \"2021-02-08T16:34:12.480797Z\", \"created_time_dt\": \"2021-02-08T16:34:12.480797Z\", \"duration\": \"0:01:18\", \"iteration\": \"6\", \"goal\": \"accuracy_max\", \"run_name\": \"RobustScaler, RandomForest\", \"run_properties\": \"copy=True, quantile_range=[25, 75], with_centering=True,\\n             with_scaling=True\", \"primary_metric\": 0.79178606, \"best_metric\": 0.80802292}, {\"run_id\": \"AutoML_4650437b-1121-4754-b1dc-0f194ec52deb_7\", \"run_number\": 12, \"metric\": null, \"status\": \"Completed\", \"run_type\": \"azureml.scriptrun\", \"training_percent\": \"100\", \"start_time\": \"2021-02-08T16:34:29.542042Z\", \"end_time\": \"2021-02-08T16:35:40.377162Z\", \"created_time\": \"2021-02-08T16:34:17.111414Z\", \"created_time_dt\": \"2021-02-08T16:34:17.111414Z\", \"duration\": \"0:01:23\", \"iteration\": \"7\", \"goal\": \"accuracy_max\", \"run_name\": \"MinMaxScaler, SVM\", \"run_properties\": \"copy=True, feature_range=(0, 1\", \"primary_metric\": 0.79751671, \"best_metric\": 0.80802292}, {\"run_id\": \"AutoML_4650437b-1121-4754-b1dc-0f194ec52deb_8\", \"run_number\": 13, \"metric\": null, \"status\": \"Completed\", \"run_type\": \"azureml.scriptrun\", \"training_percent\": \"100\", \"start_time\": \"2021-02-08T16:34:30.434903Z\", \"end_time\": \"2021-02-08T16:35:31.363412Z\", \"created_time\": \"2021-02-08T16:34:17.114105Z\", \"created_time_dt\": \"2021-02-08T16:34:17.114105Z\", \"duration\": \"0:01:14\", \"iteration\": \"8\", \"goal\": \"accuracy_max\", \"run_name\": \"SparseNormalizer, XGBoostClassifier\", \"run_properties\": \"<azureml.automl.runtime.shared.model_wrappers.SparseNormalizer object at 0x7fdd651e2b00\", \"primary_metric\": 0.7860554, \"best_metric\": 0.80802292}, {\"run_id\": \"AutoML_4650437b-1121-4754-b1dc-0f194ec52deb_9\", \"run_number\": 14, \"metric\": null, \"status\": \"Completed\", \"run_type\": \"azureml.scriptrun\", \"training_percent\": \"100\", \"start_time\": \"2021-02-08T16:34:31.1598Z\", \"end_time\": \"2021-02-08T16:35:39.265361Z\", \"created_time\": \"2021-02-08T16:34:17.341514Z\", \"created_time_dt\": \"2021-02-08T16:34:17.341514Z\", \"duration\": \"0:01:21\", \"iteration\": \"9\", \"goal\": \"accuracy_max\", \"run_name\": \"SparseNormalizer, XGBoostClassifier\", \"run_properties\": \"<azureml.automl.runtime.shared.model_wrappers.SparseNormalizer object at 0x7fd7b599a160\", \"primary_metric\": 0.78510029, \"best_metric\": 0.80802292}, {\"run_id\": \"AutoML_4650437b-1121-4754-b1dc-0f194ec52deb_11\", \"run_number\": 15, \"metric\": null, \"status\": \"Completed\", \"run_type\": \"azureml.scriptrun\", \"training_percent\": \"100\", \"start_time\": \"2021-02-08T16:35:51.764041Z\", \"end_time\": \"2021-02-08T16:37:01.188518Z\", \"created_time\": \"2021-02-08T16:35:34.277006Z\", \"created_time_dt\": \"2021-02-08T16:35:34.277006Z\", \"duration\": \"0:01:26\", \"iteration\": \"11\", \"goal\": \"accuracy_max\", \"run_name\": \"StandardScalerWrapper, RandomForest\", \"run_properties\": \"<azureml.automl.runtime.shared.model_wrappers.StandardScalerWrapper object at 0x7fe0d4643198\", \"primary_metric\": 0.79560649, \"best_metric\": 0.80802292}, {\"run_id\": \"AutoML_4650437b-1121-4754-b1dc-0f194ec52deb_10\", \"run_number\": 16, \"metric\": null, \"status\": \"Completed\", \"run_type\": \"azureml.scriptrun\", \"training_percent\": \"100\", \"start_time\": \"2021-02-08T16:35:51.301586Z\", \"end_time\": \"2021-02-08T16:37:01.609021Z\", \"created_time\": \"2021-02-08T16:35:34.465645Z\", \"created_time_dt\": \"2021-02-08T16:35:34.465645Z\", \"duration\": \"0:01:27\", \"iteration\": \"10\", \"goal\": \"accuracy_max\", \"run_name\": \"RobustScaler, SVM\", \"run_properties\": \"copy=True, quantile_range=[10, 90], with_centering=True,\\n             with_scaling=True\", \"primary_metric\": 0.67812798, \"best_metric\": 0.80802292}, {\"run_id\": \"AutoML_4650437b-1121-4754-b1dc-0f194ec52deb_12\", \"run_number\": 17, \"metric\": null, \"status\": \"Completed\", \"run_type\": \"azureml.scriptrun\", \"training_percent\": \"100\", \"start_time\": \"2021-02-08T16:35:50.86662Z\", \"end_time\": \"2021-02-08T16:37:01.281278Z\", \"created_time\": \"2021-02-08T16:35:38.581384Z\", \"created_time_dt\": \"2021-02-08T16:35:38.581384Z\", \"duration\": \"0:01:22\", \"iteration\": \"12\", \"goal\": \"accuracy_max\", \"run_name\": \"SparseNormalizer, LightGBM\", \"run_properties\": \"<azureml.automl.runtime.shared.model_wrappers.SparseNormalizer object at 0x7f6ef1871cc0\", \"primary_metric\": 0.80324737, \"best_metric\": 0.80802292}, {\"run_id\": \"AutoML_4650437b-1121-4754-b1dc-0f194ec52deb_14\", \"run_number\": 18, \"metric\": null, \"status\": \"Completed\", \"run_type\": \"azureml.scriptrun\", \"training_percent\": \"100\", \"start_time\": \"2021-02-08T16:35:55.340998Z\", \"end_time\": \"2021-02-08T16:36:57.819399Z\", \"created_time\": \"2021-02-08T16:35:43.693023Z\", \"created_time_dt\": \"2021-02-08T16:35:43.693023Z\", \"duration\": \"0:01:14\", \"iteration\": \"14\", \"goal\": \"accuracy_max\", \"run_name\": \"StandardScalerWrapper, XGBoostClassifier\", \"run_properties\": \"<azureml.automl.runtime.shared.model_wrappers.StandardScalerWrapper object at 0x7fd3d334e9b0\", \"primary_metric\": 0.78892073, \"best_metric\": 0.80802292}, {\"run_id\": \"AutoML_4650437b-1121-4754-b1dc-0f194ec52deb_13\", \"run_number\": 19, \"metric\": null, \"status\": \"Completed\", \"run_type\": \"azureml.scriptrun\", \"training_percent\": \"100\", \"start_time\": \"2021-02-08T16:35:56.813772Z\", \"end_time\": \"2021-02-08T16:36:59.004432Z\", \"created_time\": \"2021-02-08T16:35:43.889926Z\", \"created_time_dt\": \"2021-02-08T16:35:43.889926Z\", \"duration\": \"0:01:15\", \"iteration\": \"13\", \"goal\": \"accuracy_max\", \"run_name\": \"StandardScalerWrapper, LightGBM\", \"run_properties\": \"<azureml.automl.runtime.shared.model_wrappers.StandardScalerWrapper object at 0x7ffb089517f0\", \"primary_metric\": 0.78987584, \"best_metric\": 0.80802292}, {\"run_id\": \"AutoML_4650437b-1121-4754-b1dc-0f194ec52deb_15\", \"run_number\": 20, \"metric\": null, \"status\": \"Completed\", \"run_type\": \"azureml.scriptrun\", \"training_percent\": \"100\", \"start_time\": \"2021-02-08T16:37:19.043997Z\", \"end_time\": \"2021-02-08T16:38:29.75831Z\", \"created_time\": \"2021-02-08T16:36:59.622251Z\", \"created_time_dt\": \"2021-02-08T16:36:59.622251Z\", \"duration\": \"0:01:30\", \"iteration\": \"15\", \"goal\": \"accuracy_max\", \"run_name\": \"MaxAbsScaler, ExtremeRandomTrees\", \"run_properties\": \"copy=True\", \"primary_metric\": 0.80229226, \"best_metric\": 0.80802292}, {\"run_id\": \"AutoML_4650437b-1121-4754-b1dc-0f194ec52deb_16\", \"run_number\": 21, \"metric\": null, \"status\": \"Completed\", \"run_type\": \"azureml.scriptrun\", \"training_percent\": \"100\", \"start_time\": \"2021-02-08T16:37:21.422913Z\", \"end_time\": \"2021-02-08T16:38:26.656185Z\", \"created_time\": \"2021-02-08T16:37:06.118823Z\", \"created_time_dt\": \"2021-02-08T16:37:06.118823Z\", \"duration\": \"0:01:20\", \"iteration\": \"16\", \"goal\": \"accuracy_max\", \"run_name\": \"MaxAbsScaler, ExtremeRandomTrees\", \"run_properties\": \"copy=True\", \"primary_metric\": 0.79274117, \"best_metric\": 0.80802292}, {\"run_id\": \"AutoML_4650437b-1121-4754-b1dc-0f194ec52deb_18\", \"run_number\": 22, \"metric\": null, \"status\": \"Completed\", \"run_type\": \"azureml.scriptrun\", \"training_percent\": \"100\", \"start_time\": \"2021-02-08T16:37:19.563815Z\", \"end_time\": \"2021-02-08T16:38:26.966549Z\", \"created_time\": \"2021-02-08T16:37:06.130758Z\", \"created_time_dt\": \"2021-02-08T16:37:06.130758Z\", \"duration\": \"0:01:20\", \"iteration\": \"18\", \"goal\": \"accuracy_max\", \"run_name\": \"RobustScaler, LightGBM\", \"run_properties\": \"copy=True, quantile_range=[10, 90], with_centering=True,\\n             with_scaling=True\", \"primary_metric\": 0.80229226, \"best_metric\": 0.80802292}, {\"run_id\": \"AutoML_4650437b-1121-4754-b1dc-0f194ec52deb_17\", \"run_number\": 23, \"metric\": null, \"status\": \"Completed\", \"run_type\": \"azureml.scriptrun\", \"training_percent\": \"100\", \"start_time\": \"2021-02-08T16:37:19.194172Z\", \"end_time\": \"2021-02-08T16:38:37.08868Z\", \"created_time\": \"2021-02-08T16:37:06.572122Z\", \"created_time_dt\": \"2021-02-08T16:37:06.572122Z\", \"duration\": \"0:01:30\", \"iteration\": \"17\", \"goal\": \"accuracy_max\", \"run_name\": \"StandardScalerWrapper, RandomForest\", \"run_properties\": \"<azureml.automl.runtime.shared.model_wrappers.StandardScalerWrapper object at 0x7f5a960bac50\", \"primary_metric\": 0.79560649, \"best_metric\": 0.80802292}, {\"run_id\": \"AutoML_4650437b-1121-4754-b1dc-0f194ec52deb_19\", \"run_number\": 24, \"metric\": null, \"status\": \"Completed\", \"run_type\": \"azureml.scriptrun\", \"training_percent\": \"100\", \"start_time\": \"2021-02-08T16:37:20.433865Z\", \"end_time\": \"2021-02-08T16:38:33.299328Z\", \"created_time\": \"2021-02-08T16:37:06.125454Z\", \"created_time_dt\": \"2021-02-08T16:37:06.125454Z\", \"duration\": \"0:01:27\", \"iteration\": \"19\", \"goal\": \"accuracy_max\", \"run_name\": \"SparseNormalizer, XGBoostClassifier\", \"run_properties\": \"<azureml.automl.runtime.shared.model_wrappers.SparseNormalizer object at 0x7fe42ea03048\", \"primary_metric\": 0.7965616, \"best_metric\": 0.80802292}, {\"run_id\": \"AutoML_4650437b-1121-4754-b1dc-0f194ec52deb_21\", \"run_number\": 25, \"metric\": null, \"status\": \"Completed\", \"run_type\": \"azureml.scriptrun\", \"training_percent\": \"100\", \"start_time\": \"2021-02-08T16:38:40.629691Z\", \"end_time\": \"2021-02-08T16:39:55.70771Z\", \"created_time\": \"2021-02-08T16:38:28.643457Z\", \"created_time_dt\": \"2021-02-08T16:38:28.643457Z\", \"duration\": \"0:01:27\", \"iteration\": \"21\", \"goal\": \"accuracy_max\", \"run_name\": \"StandardScalerWrapper, LightGBM\", \"run_properties\": \"<azureml.automl.runtime.shared.model_wrappers.StandardScalerWrapper object at 0x7faa52c77828\", \"primary_metric\": 0.80133715, \"best_metric\": 0.80802292}, {\"run_id\": \"AutoML_4650437b-1121-4754-b1dc-0f194ec52deb_20\", \"run_number\": 26, \"metric\": null, \"status\": \"Completed\", \"run_type\": \"azureml.scriptrun\", \"training_percent\": \"100\", \"start_time\": \"2021-02-08T16:38:41.007653Z\", \"end_time\": \"2021-02-08T16:39:43.607581Z\", \"created_time\": \"2021-02-08T16:38:28.684548Z\", \"created_time_dt\": \"2021-02-08T16:38:28.684548Z\", \"duration\": \"0:01:14\", \"iteration\": \"20\", \"goal\": \"accuracy_max\", \"run_name\": \"StandardScalerWrapper, LightGBM\", \"run_properties\": \"<azureml.automl.runtime.shared.model_wrappers.StandardScalerWrapper object at 0x7f9db08eecc0\", \"primary_metric\": 0.79465138, \"best_metric\": 0.80802292}, {\"run_id\": \"AutoML_4650437b-1121-4754-b1dc-0f194ec52deb_22\", \"run_number\": 27, \"metric\": null, \"status\": \"Completed\", \"run_type\": \"azureml.scriptrun\", \"training_percent\": \"100\", \"start_time\": \"2021-02-08T16:38:42.914294Z\", \"end_time\": \"2021-02-08T16:39:43.075886Z\", \"created_time\": \"2021-02-08T16:38:32.363975Z\", \"created_time_dt\": \"2021-02-08T16:38:32.363975Z\", \"duration\": \"0:01:10\", \"iteration\": \"22\", \"goal\": \"accuracy_max\", \"run_name\": \"MinMaxScaler, LightGBM\", \"run_properties\": \"copy=True, feature_range=(0, 1\", \"primary_metric\": 0.78414518, \"best_metric\": 0.80802292}, {\"run_id\": \"AutoML_4650437b-1121-4754-b1dc-0f194ec52deb_23\", \"run_number\": 28, \"metric\": null, \"status\": \"Completed\", \"run_type\": \"azureml.scriptrun\", \"training_percent\": \"100\", \"start_time\": \"2021-02-08T16:38:48.131516Z\", \"end_time\": \"2021-02-08T16:39:52.651382Z\", \"created_time\": \"2021-02-08T16:38:36.14246Z\", \"created_time_dt\": \"2021-02-08T16:38:36.14246Z\", \"duration\": \"0:01:16\", \"iteration\": \"23\", \"goal\": \"accuracy_max\", \"run_name\": \"SparseNormalizer, LightGBM\", \"run_properties\": \"<azureml.automl.runtime.shared.model_wrappers.SparseNormalizer object at 0x7f9a1de6ae48\", \"primary_metric\": 0.80897803, \"best_metric\": 0.80897803}, {\"run_id\": \"AutoML_4650437b-1121-4754-b1dc-0f194ec52deb_24\", \"run_number\": 29, \"metric\": null, \"status\": \"Completed\", \"run_type\": \"azureml.scriptrun\", \"training_percent\": \"100\", \"start_time\": \"2021-02-08T16:38:50.828985Z\", \"end_time\": \"2021-02-08T16:39:49.797117Z\", \"created_time\": \"2021-02-08T16:38:39.253524Z\", \"created_time_dt\": \"2021-02-08T16:38:39.253524Z\", \"duration\": \"0:01:10\", \"iteration\": \"24\", \"goal\": \"accuracy_max\", \"run_name\": \"MaxAbsScaler, ExtremeRandomTrees\", \"run_properties\": \"copy=True\", \"primary_metric\": 0.76408787, \"best_metric\": 0.80897803}, {\"run_id\": \"AutoML_4650437b-1121-4754-b1dc-0f194ec52deb_25\", \"run_number\": 30, \"metric\": null, \"status\": \"Completed\", \"run_type\": \"azureml.scriptrun\", \"training_percent\": \"100\", \"start_time\": \"2021-02-08T16:39:59.666737Z\", \"end_time\": \"2021-02-08T16:41:05.5344Z\", \"created_time\": \"2021-02-08T16:39:47.09238Z\", \"created_time_dt\": \"2021-02-08T16:39:47.09238Z\", \"duration\": \"0:01:18\", \"iteration\": \"25\", \"goal\": \"accuracy_max\", \"run_name\": \"SparseNormalizer, XGBoostClassifier\", \"run_properties\": \"<azureml.automl.runtime.shared.model_wrappers.SparseNormalizer object at 0x7fa3969462b0\", \"primary_metric\": 0.61795606, \"best_metric\": 0.80897803}, {\"run_id\": \"AutoML_4650437b-1121-4754-b1dc-0f194ec52deb_26\", \"run_number\": 31, \"metric\": null, \"status\": \"Completed\", \"run_type\": \"azureml.scriptrun\", \"training_percent\": \"100\", \"start_time\": \"2021-02-08T16:39:58.3956Z\", \"end_time\": \"2021-02-08T16:41:07.472082Z\", \"created_time\": \"2021-02-08T16:39:47.231381Z\", \"created_time_dt\": \"2021-02-08T16:39:47.231381Z\", \"duration\": \"0:01:20\", \"iteration\": \"26\", \"goal\": \"accuracy_max\", \"run_name\": \"StandardScalerWrapper, ExtremeRandomTrees\", \"run_properties\": \"<azureml.automl.runtime.shared.model_wrappers.StandardScalerWrapper object at 0x7fe0bd905828\", \"primary_metric\": 0.78223496, \"best_metric\": 0.80897803}, {\"run_id\": \"AutoML_4650437b-1121-4754-b1dc-0f194ec52deb_27\", \"run_number\": 32, \"metric\": null, \"status\": \"Completed\", \"run_type\": \"azureml.scriptrun\", \"training_percent\": \"100\", \"start_time\": \"2021-02-08T16:40:03.853053Z\", \"end_time\": \"2021-02-08T16:41:17.076316Z\", \"created_time\": \"2021-02-08T16:39:52.649009Z\", \"created_time_dt\": \"2021-02-08T16:39:52.649009Z\", \"duration\": \"0:01:24\", \"iteration\": \"27\", \"goal\": \"accuracy_max\", \"run_name\": \"StandardScalerWrapper, XGBoostClassifier\", \"run_properties\": \"<azureml.automl.runtime.shared.model_wrappers.StandardScalerWrapper object at 0x7f54dd860f98\", \"primary_metric\": 0.81184336, \"best_metric\": 0.81184336}, {\"run_id\": \"AutoML_4650437b-1121-4754-b1dc-0f194ec52deb_28\", \"run_number\": 33, \"metric\": null, \"status\": \"Completed\", \"run_type\": \"azureml.scriptrun\", \"training_percent\": \"100\", \"start_time\": \"2021-02-08T16:40:10.852284Z\", \"end_time\": \"2021-02-08T16:42:23.000948Z\", \"created_time\": \"2021-02-08T16:39:57.769667Z\", \"created_time_dt\": \"2021-02-08T16:39:57.769667Z\", \"duration\": \"0:02:25\", \"iteration\": \"28\", \"goal\": \"accuracy_max\", \"run_name\": \"RobustScaler, ExtremeRandomTrees\", \"run_properties\": \"copy=True, quantile_range=[25, 75], with_centering=True,\\n             with_scaling=False\", \"primary_metric\": 0.78510029, \"best_metric\": 0.81184336}, {\"run_id\": \"AutoML_4650437b-1121-4754-b1dc-0f194ec52deb_29\", \"run_number\": 34, \"metric\": null, \"status\": \"Completed\", \"run_type\": \"azureml.scriptrun\", \"training_percent\": \"100\", \"start_time\": \"2021-02-08T16:40:08.497712Z\", \"end_time\": \"2021-02-08T16:41:15.390151Z\", \"created_time\": \"2021-02-08T16:39:57.920678Z\", \"created_time_dt\": \"2021-02-08T16:39:57.920678Z\", \"duration\": \"0:01:17\", \"iteration\": \"29\", \"goal\": \"accuracy_max\", \"run_name\": \"StandardScalerWrapper, GradientBoosting\", \"run_properties\": \"<azureml.automl.runtime.shared.model_wrappers.StandardScalerWrapper object at 0x7f1252e084e0\", \"primary_metric\": 0.79560649, \"best_metric\": 0.81184336}, {\"run_id\": \"AutoML_4650437b-1121-4754-b1dc-0f194ec52deb_30\", \"run_number\": 35, \"metric\": null, \"status\": \"Completed\", \"run_type\": \"azureml.scriptrun\", \"training_percent\": \"100\", \"start_time\": \"2021-02-08T16:41:26.567714Z\", \"end_time\": \"2021-02-08T16:43:29.58534Z\", \"created_time\": \"2021-02-08T16:41:09.198699Z\", \"created_time_dt\": \"2021-02-08T16:41:09.198699Z\", \"duration\": \"0:02:20\", \"iteration\": \"30\", \"goal\": \"accuracy_max\", \"run_name\": \"MinMaxScaler, LightGBM\", \"run_properties\": \"copy=True, feature_range=(0, 1\", \"primary_metric\": 0.80420248, \"best_metric\": 0.81184336}, {\"run_id\": \"AutoML_4650437b-1121-4754-b1dc-0f194ec52deb_31\", \"run_number\": 36, \"metric\": null, \"status\": \"Completed\", \"run_type\": \"azureml.scriptrun\", \"training_percent\": \"100\", \"start_time\": \"2021-02-08T16:41:26.570261Z\", \"end_time\": \"2021-02-08T16:42:32.660056Z\", \"created_time\": \"2021-02-08T16:41:14.405204Z\", \"created_time_dt\": \"2021-02-08T16:41:14.405204Z\", \"duration\": \"0:01:18\", \"iteration\": \"31\", \"goal\": \"accuracy_max\", \"run_name\": \"MinMaxScaler, RandomForest\", \"run_properties\": \"copy=True, feature_range=(0, 1\", \"primary_metric\": 0.79369628, \"best_metric\": 0.81184336}, {\"run_id\": \"AutoML_4650437b-1121-4754-b1dc-0f194ec52deb_32\", \"run_number\": 37, \"metric\": null, \"status\": \"Completed\", \"run_type\": \"azureml.scriptrun\", \"training_percent\": \"100\", \"start_time\": \"2021-02-08T16:41:34.957347Z\", \"end_time\": \"2021-02-08T16:42:38.990158Z\", \"created_time\": \"2021-02-08T16:41:19.067858Z\", \"created_time_dt\": \"2021-02-08T16:41:19.067858Z\", \"duration\": \"0:01:19\", \"iteration\": \"32\", \"goal\": \"accuracy_max\", \"run_name\": \"StandardScalerWrapper, XGBoostClassifier\", \"run_properties\": \"<azureml.automl.runtime.shared.model_wrappers.StandardScalerWrapper object at 0x7fdaee2980f0\", \"primary_metric\": 0.8061127, \"best_metric\": 0.81184336}, {\"run_id\": \"AutoML_4650437b-1121-4754-b1dc-0f194ec52deb_33\", \"run_number\": 38, \"metric\": null, \"status\": \"Completed\", \"run_type\": \"azureml.scriptrun\", \"training_percent\": \"100\", \"start_time\": \"2021-02-08T16:41:30.692916Z\", \"end_time\": \"2021-02-08T16:43:20.145415Z\", \"created_time\": \"2021-02-08T16:41:19.19666Z\", \"created_time_dt\": \"2021-02-08T16:41:19.19666Z\", \"duration\": \"0:02:00\", \"iteration\": \"33\", \"goal\": \"accuracy_max\", \"run_name\": \"MinMaxScaler, RandomForest\", \"run_properties\": \"copy=True, feature_range=(0, 1\", \"primary_metric\": 0.78701051, \"best_metric\": 0.81184336}, {\"run_id\": \"AutoML_4650437b-1121-4754-b1dc-0f194ec52deb_34\", \"run_number\": 39, \"metric\": null, \"status\": \"Completed\", \"run_type\": \"azureml.scriptrun\", \"training_percent\": \"100\", \"start_time\": \"2021-02-08T16:42:40.764306Z\", \"end_time\": \"2021-02-08T16:43:56.859205Z\", \"created_time\": \"2021-02-08T16:42:25.911396Z\", \"created_time_dt\": \"2021-02-08T16:42:25.911396Z\", \"duration\": \"0:01:30\", \"iteration\": \"34\", \"goal\": \"accuracy_max\", \"run_name\": \"RobustScaler, RandomForest\", \"run_properties\": \"copy=True, quantile_range=[25, 75], with_centering=True,\\n             with_scaling=True\", \"primary_metric\": 0.79274117, \"best_metric\": 0.81184336}, {\"run_id\": \"AutoML_4650437b-1121-4754-b1dc-0f194ec52deb_35\", \"run_number\": 40, \"metric\": null, \"status\": \"Completed\", \"run_type\": \"azureml.scriptrun\", \"training_percent\": \"100\", \"start_time\": \"2021-02-08T16:42:50.425252Z\", \"end_time\": \"2021-02-08T16:43:55.811781Z\", \"created_time\": \"2021-02-08T16:42:37.107787Z\", \"created_time_dt\": \"2021-02-08T16:42:37.107787Z\", \"duration\": \"0:01:18\", \"iteration\": \"35\", \"goal\": \"accuracy_max\", \"run_name\": \"SparseNormalizer, XGBoostClassifier\", \"run_properties\": \"<azureml.automl.runtime.shared.model_wrappers.SparseNormalizer object at 0x7f2dd40c6860\", \"primary_metric\": 0.79178606, \"best_metric\": 0.81184336}, {\"run_id\": \"AutoML_4650437b-1121-4754-b1dc-0f194ec52deb_36\", \"run_number\": 41, \"metric\": null, \"status\": \"Completed\", \"run_type\": \"azureml.scriptrun\", \"training_percent\": \"100\", \"start_time\": \"2021-02-08T16:42:54.453976Z\", \"end_time\": \"2021-02-08T16:43:57.313843Z\", \"created_time\": \"2021-02-08T16:42:42.517546Z\", \"created_time_dt\": \"2021-02-08T16:42:42.517546Z\", \"duration\": \"0:01:14\", \"iteration\": \"36\", \"goal\": \"accuracy_max\", \"run_name\": \"StandardScalerWrapper, ExtremeRandomTrees\", \"run_properties\": \"<azureml.automl.runtime.shared.model_wrappers.StandardScalerWrapper object at 0x7fb0e40f8b00\", \"primary_metric\": 0.75167144, \"best_metric\": 0.81184336}, {\"run_id\": \"AutoML_4650437b-1121-4754-b1dc-0f194ec52deb_37\", \"run_number\": 42, \"metric\": null, \"status\": \"Completed\", \"run_type\": \"azureml.scriptrun\", \"training_percent\": \"100\", \"start_time\": \"2021-02-08T16:43:41.739071Z\", \"end_time\": \"2021-02-08T16:44:51.572932Z\", \"created_time\": \"2021-02-08T16:43:22.511863Z\", \"created_time_dt\": \"2021-02-08T16:43:22.511863Z\", \"duration\": \"0:01:29\", \"iteration\": \"37\", \"goal\": \"accuracy_max\", \"run_name\": \"RobustScaler, ExtremeRandomTrees\", \"run_properties\": \"copy=True, quantile_range=[25, 75], with_centering=True,\\n             with_scaling=True\", \"primary_metric\": 0.79465138, \"best_metric\": 0.81184336}, {\"run_id\": \"AutoML_4650437b-1121-4754-b1dc-0f194ec52deb_38\", \"run_number\": 43, \"metric\": null, \"status\": \"Completed\", \"run_type\": \"azureml.scriptrun\", \"training_percent\": \"100\", \"start_time\": \"2021-02-08T16:43:46.257066Z\", \"end_time\": \"2021-02-08T16:44:54.156322Z\", \"created_time\": \"2021-02-08T16:43:32.871419Z\", \"created_time_dt\": \"2021-02-08T16:43:32.871419Z\", \"duration\": \"0:01:21\", \"iteration\": \"38\", \"goal\": \"accuracy_max\", \"run_name\": \"MinMaxScaler, LightGBM\", \"run_properties\": \"copy=True, feature_range=(0, 1\", \"primary_metric\": 0.80993314, \"best_metric\": 0.81184336}, {\"run_id\": \"AutoML_4650437b-1121-4754-b1dc-0f194ec52deb_39\", \"run_number\": 44, \"metric\": null, \"status\": \"Completed\", \"run_type\": \"azureml.scriptrun\", \"training_percent\": \"100\", \"start_time\": \"2021-02-08T16:44:10.820091Z\", \"end_time\": \"2021-02-08T16:45:13.317786Z\", \"created_time\": \"2021-02-08T16:43:59.84267Z\", \"created_time_dt\": \"2021-02-08T16:43:59.84267Z\", \"duration\": \"0:01:13\", \"iteration\": \"39\", \"goal\": \"accuracy_max\", \"run_name\": \"StandardScalerWrapper, XGBoostClassifier\", \"run_properties\": \"<azureml.automl.runtime.shared.model_wrappers.StandardScalerWrapper object at 0x7f3f301b2588\", \"primary_metric\": 0.79274117, \"best_metric\": 0.81184336}, {\"run_id\": \"AutoML_4650437b-1121-4754-b1dc-0f194ec52deb_40\", \"run_number\": 45, \"metric\": null, \"status\": \"Completed\", \"run_type\": \"azureml.scriptrun\", \"training_percent\": \"100\", \"start_time\": \"2021-02-08T16:44:12.739898Z\", \"end_time\": \"2021-02-08T16:45:21.339458Z\", \"created_time\": \"2021-02-08T16:43:59.992536Z\", \"created_time_dt\": \"2021-02-08T16:43:59.992536Z\", \"duration\": \"0:01:21\", \"iteration\": \"40\", \"goal\": \"accuracy_max\", \"run_name\": \"MinMaxScaler, KNN\", \"run_properties\": \"copy=True, feature_range=(0, 1\", \"primary_metric\": 0.78701051, \"best_metric\": 0.81184336}, {\"run_id\": \"AutoML_4650437b-1121-4754-b1dc-0f194ec52deb_41\", \"run_number\": 46, \"metric\": null, \"status\": \"Completed\", \"run_type\": \"azureml.scriptrun\", \"training_percent\": \"100\", \"start_time\": \"2021-02-08T16:44:17.630927Z\", \"end_time\": \"2021-02-08T16:45:19.365745Z\", \"created_time\": \"2021-02-08T16:44:04.987974Z\", \"created_time_dt\": \"2021-02-08T16:44:04.987974Z\", \"duration\": \"0:01:14\", \"iteration\": \"41\", \"goal\": \"accuracy_max\", \"run_name\": \"StandardScalerWrapper, XGBoostClassifier\", \"run_properties\": \"<azureml.automl.runtime.shared.model_wrappers.StandardScalerWrapper object at 0x7f4af502b860\", \"primary_metric\": 0.8061127, \"best_metric\": 0.81184336}, {\"run_id\": \"AutoML_4650437b-1121-4754-b1dc-0f194ec52deb_42\", \"run_number\": 47, \"metric\": null, \"status\": \"Canceled\", \"run_type\": \"azureml.scriptrun\", \"training_percent\": \"100\", \"start_time\": \"2021-02-08T16:45:06.405367Z\", \"end_time\": \"2021-02-08T16:45:35.427774Z\", \"created_time\": \"2021-02-08T16:44:54.594298Z\", \"created_time_dt\": \"2021-02-08T16:44:54.594298Z\", \"duration\": \"0:00:40\", \"iteration\": \"42\", \"goal\": null, \"run_name\": \"Canceled\", \"run_properties\": null}, {\"run_id\": \"AutoML_4650437b-1121-4754-b1dc-0f194ec52deb_43\", \"run_number\": 48, \"metric\": null, \"status\": \"Canceled\", \"run_type\": \"azureml.scriptrun\", \"training_percent\": \"100\", \"start_time\": \"2021-02-08T16:45:10.372911Z\", \"end_time\": \"2021-02-08T16:45:34.023203Z\", \"created_time\": \"2021-02-08T16:44:59.301087Z\", \"created_time_dt\": \"2021-02-08T16:44:59.301087Z\", \"duration\": \"0:00:34\", \"iteration\": \"43\", \"goal\": null, \"run_name\": \"Canceled\", \"run_properties\": null}, {\"run_id\": \"AutoML_4650437b-1121-4754-b1dc-0f194ec52deb_44\", \"run_number\": 49, \"metric\": null, \"status\": \"Canceled\", \"run_type\": \"azureml.scriptrun\", \"training_percent\": \"100\", \"start_time\": \"2021-02-08T16:45:16.019266Z\", \"end_time\": \"2021-02-08T16:45:36.65792Z\", \"created_time\": \"2021-02-08T16:45:16.019266Z\", \"created_time_dt\": \"2021-02-08T16:45:16.019266Z\", \"duration\": \"0:00:20\", \"iteration\": \"44\", \"goal\": null, \"run_name\": \"Canceled\", \"run_properties\": null}, {\"run_id\": \"AutoML_4650437b-1121-4754-b1dc-0f194ec52deb_45\", \"run_number\": 50, \"metric\": null, \"status\": \"Canceled\", \"run_type\": \"azureml.scriptrun\", \"training_percent\": \"100\", \"start_time\": \"2021-02-08T16:45:22.641083Z\", \"end_time\": \"2021-02-08T16:45:28.536092Z\", \"created_time\": \"2021-02-08T16:45:22.641083Z\", \"created_time_dt\": \"2021-02-08T16:45:22.641083Z\", \"duration\": \"0:00:05\", \"iteration\": \"45\", \"goal\": null, \"run_name\": \"Canceled\", \"run_properties\": null}, {\"run_id\": \"AutoML_4650437b-1121-4754-b1dc-0f194ec52deb_46\", \"run_number\": 51, \"metric\": null, \"status\": \"Completed\", \"run_type\": \"azureml.scriptrun\", \"training_percent\": \"100\", \"start_time\": \"2021-02-08T16:45:52.150516Z\", \"end_time\": \"2021-02-08T16:47:42.711172Z\", \"created_time\": \"2021-02-08T16:45:38.119642Z\", \"created_time_dt\": \"2021-02-08T16:45:38.119642Z\", \"duration\": \"0:02:04\", \"iteration\": \"46\", \"goal\": \"accuracy_max\", \"run_name\": \"VotingEnsemble\", \"run_properties\": \"classification_labels=None,\\n                              estimators=[('27',\\n                                           Pipeline(memory=None,\\n                                                    steps=[('standardscalerwrapper',\\n                                                            <azureml.automl.runtime.shared.model_wrappers.StandardScalerWrapper object at 0x7ff9992f9940>\", \"primary_metric\": 0.8252149, \"best_metric\": 0.8252149}, {\"run_id\": \"AutoML_4650437b-1121-4754-b1dc-0f194ec52deb_47\", \"run_number\": 52, \"metric\": null, \"status\": \"Completed\", \"run_type\": \"azureml.scriptrun\", \"training_percent\": \"100\", \"start_time\": \"2021-02-08T16:45:52.210595Z\", \"end_time\": \"2021-02-08T16:47:42.755305Z\", \"created_time\": \"2021-02-08T16:45:38.800675Z\", \"created_time_dt\": \"2021-02-08T16:45:38.800675Z\", \"duration\": \"0:02:03\", \"iteration\": \"47\", \"goal\": \"accuracy_max\", \"run_name\": \"StackEnsemble\", \"run_properties\": \"base_learners=[('27',\\n                                        Pipeline(memory=None,\\n                                                 steps=[('standardscalerwrapper',\\n                                                         <azureml.automl.runtime.shared.model_wrappers.StandardScalerWrapper object at 0x7f48b87f5d68>\", \"primary_metric\": 0.81661891, \"best_metric\": 0.8252149}], \"children_metrics\": {\"categories\": [0], \"series\": {\"AUC_micro\": [{\"categories\": [\"0\", \"1\", \"2\", \"3\", \"4\", \"5\", \"6\", \"7\", \"8\", \"9\", \"10\", \"11\", \"12\", \"13\", \"14\", \"15\", \"16\", \"17\", \"18\", \"19\", \"20\", \"21\", \"22\", \"23\", \"24\", \"25\", \"26\", \"27\", \"28\", \"29\", \"30\", \"31\", \"32\", \"33\", \"34\", \"35\", \"36\", \"37\", \"38\", \"39\", \"40\", \"41\", \"46\", \"47\"], \"mode\": \"markers\", \"name\": \"AUC_micro\", \"stepped\": false, \"type\": \"scatter\", \"data\": [0.8704444134284612, 0.885578388792648, 0.8641472565906684, 0.8626420691674671, 0.8684685128474587, 0.8549245627430535, 0.8698478118679924, 0.8473630484697717, 0.8570701389972166, 0.8605594371146378, 0.6962750716332379, 0.8692703672383643, 0.8670837404181139, 0.8559645104172654, 0.8574614877272492, 0.8679594858279763, 0.8657865425297548, 0.8654909784539262, 0.8660738964923659, 0.8566185827702565, 0.8585534327851714, 0.8639885277351308, 0.8451381077878398, 0.8764788466432952, 0.8563695426693269, 0.617956064947469, 0.8639091633073619, 0.8730716496580487, 0.86628735943602, 0.8559891407569177, 0.867704972318235, 0.8635397082125763, 0.8751132311447908, 0.8584549114265619, 0.8591171938927705, 0.8589146777667397, 0.8402175132661746, 0.8690377473638694, 0.8682523131993989, 0.8602693464476209, 0.8318076206270885, 0.8787065240296331, 0.8801350837294714, 0.8829018918837557]}, {\"categories\": [\"0\", \"1\", \"2\", \"3\", \"4\", \"5\", \"6\", \"7\", \"8\", \"9\", \"10\", \"11\", \"12\", \"13\", \"14\", \"15\", \"16\", \"17\", \"18\", \"19\", \"20\", \"21\", \"22\", \"23\", \"24\", \"25\", \"26\", \"27\", \"28\", \"29\", \"30\", \"31\", \"32\", \"33\", \"34\", \"35\", \"36\", \"37\", \"38\", \"39\", \"40\", \"41\", \"46\", \"47\"], \"mode\": \"lines\", \"name\": \"AUC_micro_max\", \"stepped\": true, \"type\": \"scatter\", \"data\": [0.8704444134284612, 0.885578388792648, 0.885578388792648, 0.885578388792648, 0.885578388792648, 0.885578388792648, 0.885578388792648, 0.885578388792648, 0.885578388792648, 0.885578388792648, 0.885578388792648, 0.885578388792648, 0.885578388792648, 0.885578388792648, 0.885578388792648, 0.885578388792648, 0.885578388792648, 0.885578388792648, 0.885578388792648, 0.885578388792648, 0.885578388792648, 0.885578388792648, 0.885578388792648, 0.885578388792648, 0.885578388792648, 0.885578388792648, 0.885578388792648, 0.885578388792648, 0.885578388792648, 0.885578388792648, 0.885578388792648, 0.885578388792648, 0.885578388792648, 0.885578388792648, 0.885578388792648, 0.885578388792648, 0.885578388792648, 0.885578388792648, 0.885578388792648, 0.885578388792648, 0.885578388792648, 0.885578388792648, 0.885578388792648, 0.885578388792648]}], \"f1_score_macro\": [{\"categories\": [\"0\", \"1\", \"2\", \"3\", \"4\", \"5\", \"6\", \"7\", \"8\", \"9\", \"10\", \"11\", \"12\", \"13\", \"14\", \"15\", \"16\", \"17\", \"18\", \"19\", \"20\", \"21\", \"22\", \"23\", \"24\", \"25\", \"26\", \"27\", \"28\", \"29\", \"30\", \"31\", \"32\", \"33\", \"34\", \"35\", \"36\", \"37\", \"38\", \"39\", \"40\", \"41\", \"46\", \"47\"], \"mode\": \"markers\", \"name\": \"f1_score_macro\", \"stepped\": false, \"type\": \"scatter\", \"data\": [0.7703578865954945, 0.7886104338170347, 0.7733350572690094, 0.783976438857477, 0.7816819831008467, 0.7655163942934133, 0.7812930280704808, 0.7753087099972232, 0.7661476986207404, 0.7668354770566846, 0.5151336880252729, 0.7794295197691993, 0.7843108385481946, 0.7761297510172896, 0.7673781757847252, 0.7820229268051211, 0.7762043019509249, 0.7759572368197477, 0.7841709041458379, 0.7769413850899864, 0.7771177312670314, 0.7826844708532487, 0.7440021779725289, 0.7900493143026516, 0.7541277210838349, 0.3819228523840639, 0.759059434144596, 0.7979950874264127, 0.7604131169564351, 0.7832985696679646, 0.7831056777355881, 0.7764581597804984, 0.7879994118530137, 0.7689006255060858, 0.7809825892746781, 0.773211228046903, 0.7437198800700214, 0.7817358085516631, 0.7929790953506343, 0.7797700990256207, 0.7717100348413259, 0.7867780598290514, 0.8070152855658822, 0.7993238977242868]}, {\"categories\": [\"0\", \"1\", \"2\", \"3\", \"4\", \"5\", \"6\", \"7\", \"8\", \"9\", \"10\", \"11\", \"12\", \"13\", \"14\", \"15\", \"16\", \"17\", \"18\", \"19\", \"20\", \"21\", \"22\", \"23\", \"24\", \"25\", \"26\", \"27\", \"28\", \"29\", \"30\", \"31\", \"32\", \"33\", \"34\", \"35\", \"36\", \"37\", \"38\", \"39\", \"40\", \"41\", \"46\", \"47\"], \"mode\": \"lines\", \"name\": \"f1_score_macro_max\", \"stepped\": true, \"type\": \"scatter\", \"data\": [0.7703578865954945, 0.7886104338170347, 0.7886104338170347, 0.7886104338170347, 0.7886104338170347, 0.7886104338170347, 0.7886104338170347, 0.7886104338170347, 0.7886104338170347, 0.7886104338170347, 0.7886104338170347, 0.7886104338170347, 0.7886104338170347, 0.7886104338170347, 0.7886104338170347, 0.7886104338170347, 0.7886104338170347, 0.7886104338170347, 0.7886104338170347, 0.7886104338170347, 0.7886104338170347, 0.7886104338170347, 0.7886104338170347, 0.7900493143026516, 0.7900493143026516, 0.7900493143026516, 0.7900493143026516, 0.7979950874264127, 0.7979950874264127, 0.7979950874264127, 0.7979950874264127, 0.7979950874264127, 0.7979950874264127, 0.7979950874264127, 0.7979950874264127, 0.7979950874264127, 0.7979950874264127, 0.7979950874264127, 0.7979950874264127, 0.7979950874264127, 0.7979950874264127, 0.7979950874264127, 0.8070152855658822, 0.8070152855658822]}], \"matthews_correlation\": [{\"categories\": [\"0\", \"1\", \"2\", \"3\", \"4\", \"5\", \"6\", \"7\", \"8\", \"9\", \"10\", \"11\", \"12\", \"13\", \"14\", \"15\", \"16\", \"17\", \"18\", \"19\", \"20\", \"21\", \"22\", \"23\", \"24\", \"25\", \"26\", \"27\", \"28\", \"29\", \"30\", \"31\", \"32\", \"33\", \"34\", \"35\", \"36\", \"37\", \"38\", \"39\", \"40\", \"41\", \"46\", \"47\"], \"mode\": \"markers\", \"name\": \"matthews_correlation\", \"stepped\": false, \"type\": \"scatter\", \"data\": [0.5440028669916473, 0.5869092880764009, 0.5539825593174648, 0.5731860528796533, 0.5664405681244904, 0.5322026412902697, 0.5645672301803302, 0.5626678274026413, 0.5377200579784969, 0.5386016069866116, 0.1905082618253298, 0.5616773977070252, 0.5757108935575345, 0.5531115153257075, 0.5538339639477738, 0.5770740830972008, 0.5589686933589513, 0.5645862411486829, 0.5751503135304609, 0.5604237994752583, 0.5602434751178494, 0.5745266704535843, 0.5406683364088487, 0.588162153735939, 0.5110303697151106, 0.0, 0.5389441727946698, 0.5992480223417003, 0.5477295745873493, 0.568108692567351, 0.5775658122674637, 0.5631888071279062, 0.5828427730346988, 0.5446656848175061, 0.5646711515548054, 0.5578236246844713, 0.4953817267569168, 0.5650122660774933, 0.591216331283199, 0.5607073598248288, 0.5449378653548794, 0.5819568260307467, 0.6242785013234131, 0.605578226390148]}, {\"categories\": [\"0\", \"1\", \"2\", \"3\", \"4\", \"5\", \"6\", \"7\", \"8\", \"9\", \"10\", \"11\", \"12\", \"13\", \"14\", \"15\", \"16\", \"17\", \"18\", \"19\", \"20\", \"21\", \"22\", \"23\", \"24\", \"25\", \"26\", \"27\", \"28\", \"29\", \"30\", \"31\", \"32\", \"33\", \"34\", \"35\", \"36\", \"37\", \"38\", \"39\", \"40\", \"41\", \"46\", \"47\"], \"mode\": \"lines\", \"name\": \"matthews_correlation_max\", \"stepped\": true, \"type\": \"scatter\", \"data\": [0.5440028669916473, 0.5869092880764009, 0.5869092880764009, 0.5869092880764009, 0.5869092880764009, 0.5869092880764009, 0.5869092880764009, 0.5869092880764009, 0.5869092880764009, 0.5869092880764009, 0.5869092880764009, 0.5869092880764009, 0.5869092880764009, 0.5869092880764009, 0.5869092880764009, 0.5869092880764009, 0.5869092880764009, 0.5869092880764009, 0.5869092880764009, 0.5869092880764009, 0.5869092880764009, 0.5869092880764009, 0.5869092880764009, 0.588162153735939, 0.588162153735939, 0.588162153735939, 0.588162153735939, 0.5992480223417003, 0.5992480223417003, 0.5992480223417003, 0.5992480223417003, 0.5992480223417003, 0.5992480223417003, 0.5992480223417003, 0.5992480223417003, 0.5992480223417003, 0.5992480223417003, 0.5992480223417003, 0.5992480223417003, 0.5992480223417003, 0.5992480223417003, 0.5992480223417003, 0.6242785013234131, 0.6242785013234131]}], \"AUC_macro\": [{\"categories\": [\"0\", \"1\", \"2\", \"3\", \"4\", \"5\", \"6\", \"7\", \"8\", \"9\", \"10\", \"11\", \"12\", \"13\", \"14\", \"15\", \"16\", \"17\", \"18\", \"19\", \"20\", \"21\", \"22\", \"23\", \"24\", \"25\", \"26\", \"27\", \"28\", \"29\", \"30\", \"31\", \"32\", \"33\", \"34\", \"35\", \"36\", \"37\", \"38\", \"39\", \"40\", \"41\", \"46\", \"47\"], \"mode\": \"markers\", \"name\": \"AUC_macro\", \"stepped\": false, \"type\": \"scatter\", \"data\": [0.8536678514349534, 0.8678531479143805, 0.8437330131498131, 0.8423016500552035, 0.8542616714549894, 0.8376900067540188, 0.852428903546417, 0.8159295792377815, 0.8365041651068185, 0.8422872289487172, 0.6168074756784434, 0.8497086997323052, 0.847325517706997, 0.8364945258577037, 0.8322673854061087, 0.8471385914430547, 0.8476095708131157, 0.8412245239942999, 0.8416994731488137, 0.8335759476539213, 0.8391215746498037, 0.8414269254590026, 0.8333421824660793, 0.856293318639513, 0.8428669109839113, 0.5, 0.8455031766802992, 0.8548108898630903, 0.8425470052677776, 0.8401450768059324, 0.8469471798631224, 0.8423848892318572, 0.8556154488063624, 0.8371004757079955, 0.8378489570252946, 0.8384744503800713, 0.8307881224314825, 0.8544493492846739, 0.8490754044291187, 0.8336931458168779, 0.815631234329525, 0.8561637810461566, 0.866218113731304, 0.8664204850045719]}, {\"categories\": [\"0\", \"1\", \"2\", \"3\", \"4\", \"5\", \"6\", \"7\", \"8\", \"9\", \"10\", \"11\", \"12\", \"13\", \"14\", \"15\", \"16\", \"17\", \"18\", \"19\", \"20\", \"21\", \"22\", \"23\", \"24\", \"25\", \"26\", \"27\", \"28\", \"29\", \"30\", \"31\", \"32\", \"33\", \"34\", \"35\", \"36\", \"37\", \"38\", \"39\", \"40\", \"41\", \"46\", \"47\"], \"mode\": \"lines\", \"name\": \"AUC_macro_max\", \"stepped\": true, \"type\": \"scatter\", \"data\": [0.8536678514349534, 0.8678531479143805, 0.8678531479143805, 0.8678531479143805, 0.8678531479143805, 0.8678531479143805, 0.8678531479143805, 0.8678531479143805, 0.8678531479143805, 0.8678531479143805, 0.8678531479143805, 0.8678531479143805, 0.8678531479143805, 0.8678531479143805, 0.8678531479143805, 0.8678531479143805, 0.8678531479143805, 0.8678531479143805, 0.8678531479143805, 0.8678531479143805, 0.8678531479143805, 0.8678531479143805, 0.8678531479143805, 0.8678531479143805, 0.8678531479143805, 0.8678531479143805, 0.8678531479143805, 0.8678531479143805, 0.8678531479143805, 0.8678531479143805, 0.8678531479143805, 0.8678531479143805, 0.8678531479143805, 0.8678531479143805, 0.8678531479143805, 0.8678531479143805, 0.8678531479143805, 0.8678531479143805, 0.8678531479143805, 0.8678531479143805, 0.8678531479143805, 0.8678531479143805, 0.8678531479143805, 0.8678531479143805]}], \"precision_score_weighted\": [{\"categories\": [\"0\", \"1\", \"2\", \"3\", \"4\", \"5\", \"6\", \"7\", \"8\", \"9\", \"10\", \"11\", \"12\", \"13\", \"14\", \"15\", \"16\", \"17\", \"18\", \"19\", \"20\", \"21\", \"22\", \"23\", \"24\", \"25\", \"26\", \"27\", \"28\", \"29\", \"30\", \"31\", \"32\", \"33\", \"34\", \"35\", \"36\", \"37\", \"38\", \"39\", \"40\", \"41\", \"46\", \"47\"], \"mode\": \"markers\", \"name\": \"precision_score_weighted\", \"stepped\": false, \"type\": \"scatter\", \"data\": [0.7859357439862147, 0.8087665135888517, 0.7923046929769209, 0.800669938974026, 0.7965874164897669, 0.7797635532003041, 0.7953352156851312, 0.7980061333413455, 0.783888869356653, 0.7840735334655783, 0.5198568504838852, 0.7943536979455638, 0.8024951982577505, 0.7895983073848192, 0.7970626442990424, 0.8053909678422876, 0.7944284463576219, 0.7993685712521293, 0.802169207028717, 0.7949882373770599, 0.7948347260794283, 0.8027767293392741, 0.8026281084267479, 0.8087732560505131, 0.7702930733949435, 0.38192625676308073, 0.7901466659455686, 0.812268093195813, 0.797046238789285, 0.7969466328334395, 0.8049537838960599, 0.797842668425163, 0.8058317056023988, 0.7877368887234866, 0.795634629762048, 0.7959560668817515, 0.7644937670680169, 0.7953845911092419, 0.8091802057129911, 0.7933015912603896, 0.7858922202590531, 0.8058819565769877, 0.8267018585346695, 0.8166191154906448]}, {\"categories\": [\"0\", \"1\", \"2\", \"3\", \"4\", \"5\", \"6\", \"7\", \"8\", \"9\", \"10\", \"11\", \"12\", \"13\", \"14\", \"15\", \"16\", \"17\", \"18\", \"19\", \"20\", \"21\", \"22\", \"23\", \"24\", \"25\", \"26\", \"27\", \"28\", \"29\", \"30\", \"31\", \"32\", \"33\", \"34\", \"35\", \"36\", \"37\", \"38\", \"39\", \"40\", \"41\", \"46\", \"47\"], \"mode\": \"lines\", \"name\": \"precision_score_weighted_max\", \"stepped\": true, \"type\": \"scatter\", \"data\": [0.7859357439862147, 0.8087665135888517, 0.8087665135888517, 0.8087665135888517, 0.8087665135888517, 0.8087665135888517, 0.8087665135888517, 0.8087665135888517, 0.8087665135888517, 0.8087665135888517, 0.8087665135888517, 0.8087665135888517, 0.8087665135888517, 0.8087665135888517, 0.8087665135888517, 0.8087665135888517, 0.8087665135888517, 0.8087665135888517, 0.8087665135888517, 0.8087665135888517, 0.8087665135888517, 0.8087665135888517, 0.8087665135888517, 0.8087732560505131, 0.8087732560505131, 0.8087732560505131, 0.8087732560505131, 0.812268093195813, 0.812268093195813, 0.812268093195813, 0.812268093195813, 0.812268093195813, 0.812268093195813, 0.812268093195813, 0.812268093195813, 0.812268093195813, 0.812268093195813, 0.812268093195813, 0.812268093195813, 0.812268093195813, 0.812268093195813, 0.812268093195813, 0.8267018585346695, 0.8267018585346695]}], \"norm_macro_recall\": [{\"categories\": [\"0\", \"1\", \"2\", \"3\", \"4\", \"5\", \"6\", \"7\", \"8\", \"9\", \"10\", \"11\", \"12\", \"13\", \"14\", \"15\", \"16\", \"17\", \"18\", \"19\", \"20\", \"21\", \"22\", \"23\", \"24\", \"25\", \"26\", \"27\", \"28\", \"29\", \"30\", \"31\", \"32\", \"33\", \"34\", \"35\", \"36\", \"37\", \"38\", \"39\", \"40\", \"41\", \"46\", \"47\"], \"mode\": \"markers\", \"name\": \"norm_macro_recall\", \"stepped\": false, \"type\": \"scatter\", \"data\": [0.5327753463109004, 0.5605241314855711, 0.5337052864087727, 0.5555751180167864, 0.5663896428255872, 0.5260836422177413, 0.568785797557498, 0.5328229554169738, 0.5201715017129588, 0.5239868804343714, 0.18381976446492576, 0.5496162237407282, 0.5542279888296057, 0.5496138904437775, 0.5208504209692569, 0.5484712317665333, 0.5435308913179059, 0.537908917797746, 0.5551103435118511, 0.540981530845708, 0.5426751824642754, 0.5518080187669573, 0.4642924979356378, 0.5643514760797709, 0.519031059878881, 0.0, 0.5044088024834662, 0.588882878760573, 0.5038168254106902, 0.5658637170370339, 0.5481085987980591, 0.5436175425821892, 0.561873344520979, 0.5275707882792208, 0.5625223914427067, 0.5334299672352334, 0.5057622441481789, 0.5624672527287996, 0.5736907307033899, 0.5574501891628976, 0.538845352176012, 0.558720122940136, 0.5955614799654503, 0.5837261368959425]}, {\"categories\": [\"0\", \"1\", \"2\", \"3\", \"4\", \"5\", \"6\", \"7\", \"8\", \"9\", \"10\", \"11\", \"12\", \"13\", \"14\", \"15\", \"16\", \"17\", \"18\", \"19\", \"20\", \"21\", \"22\", \"23\", \"24\", \"25\", \"26\", \"27\", \"28\", \"29\", \"30\", \"31\", \"32\", \"33\", \"34\", \"35\", \"36\", \"37\", \"38\", \"39\", \"40\", \"41\", \"46\", \"47\"], \"mode\": \"lines\", \"name\": \"norm_macro_recall_max\", \"stepped\": true, \"type\": \"scatter\", \"data\": [0.5327753463109004, 0.5605241314855711, 0.5605241314855711, 0.5605241314855711, 0.5663896428255872, 0.5663896428255872, 0.568785797557498, 0.568785797557498, 0.568785797557498, 0.568785797557498, 0.568785797557498, 0.568785797557498, 0.568785797557498, 0.568785797557498, 0.568785797557498, 0.568785797557498, 0.568785797557498, 0.568785797557498, 0.568785797557498, 0.568785797557498, 0.568785797557498, 0.568785797557498, 0.568785797557498, 0.568785797557498, 0.568785797557498, 0.568785797557498, 0.568785797557498, 0.588882878760573, 0.588882878760573, 0.588882878760573, 0.588882878760573, 0.588882878760573, 0.588882878760573, 0.588882878760573, 0.588882878760573, 0.588882878760573, 0.588882878760573, 0.588882878760573, 0.588882878760573, 0.588882878760573, 0.588882878760573, 0.588882878760573, 0.5955614799654503, 0.5955614799654503]}], \"average_precision_score_micro\": [{\"categories\": [\"0\", \"1\", \"2\", \"3\", \"4\", \"5\", \"6\", \"7\", \"8\", \"9\", \"10\", \"11\", \"12\", \"13\", \"14\", \"15\", \"16\", \"17\", \"18\", \"19\", \"20\", \"21\", \"22\", \"23\", \"24\", \"25\", \"26\", \"27\", \"28\", \"29\", \"30\", \"31\", \"32\", \"33\", \"34\", \"35\", \"36\", \"37\", \"38\", \"39\", \"40\", \"41\", \"46\", \"47\"], \"mode\": \"markers\", \"name\": \"average_precision_score_micro\", \"stepped\": false, \"type\": \"scatter\", \"data\": [0.863666599473822, 0.876507107561335, 0.8453923744908926, 0.8522568708456241, 0.8603121183584053, 0.8417093759256727, 0.8622175287641575, 0.8306172637343053, 0.8453685196018138, 0.8501875129850879, 0.6628734241803709, 0.8568370264696584, 0.849863258157073, 0.8391971040022727, 0.8321648730456398, 0.8577165486984191, 0.8561770547628079, 0.8538253142870874, 0.8568899359347967, 0.8429094195487412, 0.843079213717044, 0.8556010869719562, 0.8180355548507915, 0.8654771685923671, 0.8495358452144394, 0.5729482242893462, 0.8442133531913548, 0.8554841926481508, 0.8483532215985603, 0.8381152581490876, 0.8544709022469767, 0.845129841120929, 0.8605492886153313, 0.8451219774985036, 0.8383243280096769, 0.8333711352163548, 0.8308735054195013, 0.8554749055332103, 0.8510213844185203, 0.8381909167913008, 0.8024883275205216, 0.8672461956578288, 0.8634494401385941, 0.8714032893345453]}, {\"categories\": [\"0\", \"1\", \"2\", \"3\", \"4\", \"5\", \"6\", \"7\", \"8\", \"9\", \"10\", \"11\", \"12\", \"13\", \"14\", \"15\", \"16\", \"17\", \"18\", \"19\", \"20\", \"21\", \"22\", \"23\", \"24\", \"25\", \"26\", \"27\", \"28\", \"29\", \"30\", \"31\", \"32\", \"33\", \"34\", \"35\", \"36\", \"37\", \"38\", \"39\", \"40\", \"41\", \"46\", \"47\"], \"mode\": \"lines\", \"name\": \"average_precision_score_micro_max\", \"stepped\": true, \"type\": \"scatter\", \"data\": [0.863666599473822, 0.876507107561335, 0.876507107561335, 0.876507107561335, 0.876507107561335, 0.876507107561335, 0.876507107561335, 0.876507107561335, 0.876507107561335, 0.876507107561335, 0.876507107561335, 0.876507107561335, 0.876507107561335, 0.876507107561335, 0.876507107561335, 0.876507107561335, 0.876507107561335, 0.876507107561335, 0.876507107561335, 0.876507107561335, 0.876507107561335, 0.876507107561335, 0.876507107561335, 0.876507107561335, 0.876507107561335, 0.876507107561335, 0.876507107561335, 0.876507107561335, 0.876507107561335, 0.876507107561335, 0.876507107561335, 0.876507107561335, 0.876507107561335, 0.876507107561335, 0.876507107561335, 0.876507107561335, 0.876507107561335, 0.876507107561335, 0.876507107561335, 0.876507107561335, 0.876507107561335, 0.876507107561335, 0.876507107561335, 0.876507107561335]}], \"f1_score_weighted\": [{\"categories\": [\"0\", \"1\", \"2\", \"3\", \"4\", \"5\", \"6\", \"7\", \"8\", \"9\", \"10\", \"11\", \"12\", \"13\", \"14\", \"15\", \"16\", \"17\", \"18\", \"19\", \"20\", \"21\", \"22\", \"23\", \"24\", \"25\", \"26\", \"27\", \"28\", \"29\", \"30\", \"31\", \"32\", \"33\", \"34\", \"35\", \"36\", \"37\", \"38\", \"39\", \"40\", \"41\", \"46\", \"47\"], \"mode\": \"markers\", \"name\": \"f1_score_weighted\", \"stepped\": false, \"type\": \"scatter\", \"data\": [0.7854079241439006, 0.8038003129381203, 0.7890627338551351, 0.7985165758104268, 0.7936916923343696, 0.7799719677025054, 0.792622139011793, 0.7920563409668399, 0.7824183988507655, 0.7822623959975598, 0.5794009843580021, 0.7936480039738036, 0.7995214231036281, 0.7893366179601221, 0.7837557130924505, 0.7976574173003064, 0.7904832243429804, 0.791471868265066, 0.799002306910879, 0.7926942149301414, 0.7918995968855214, 0.7977117674246313, 0.7680553069194497, 0.8050648553525761, 0.7658674967368387, 0.47206642512681, 0.7762647602400099, 0.8105110242409833, 0.7781282249723085, 0.7955639864728786, 0.7992045344462206, 0.7908434190940263, 0.802734614570623, 0.7841264438452523, 0.7929092539866227, 0.7883992464536318, 0.7542831747727075, 0.7942932325103796, 0.8070727532685829, 0.7924710827705721, 0.7857384464670876, 0.8020292353818176, 0.8211065624723607, 0.8133383655839012]}, {\"categories\": [\"0\", \"1\", \"2\", \"3\", \"4\", \"5\", \"6\", \"7\", \"8\", \"9\", \"10\", \"11\", \"12\", \"13\", \"14\", \"15\", \"16\", \"17\", \"18\", \"19\", \"20\", \"21\", \"22\", \"23\", \"24\", \"25\", \"26\", \"27\", \"28\", \"29\", \"30\", \"31\", \"32\", \"33\", \"34\", \"35\", \"36\", \"37\", \"38\", \"39\", \"40\", \"41\", \"46\", \"47\"], \"mode\": \"lines\", \"name\": \"f1_score_weighted_max\", \"stepped\": true, \"type\": \"scatter\", \"data\": [0.7854079241439006, 0.8038003129381203, 0.8038003129381203, 0.8038003129381203, 0.8038003129381203, 0.8038003129381203, 0.8038003129381203, 0.8038003129381203, 0.8038003129381203, 0.8038003129381203, 0.8038003129381203, 0.8038003129381203, 0.8038003129381203, 0.8038003129381203, 0.8038003129381203, 0.8038003129381203, 0.8038003129381203, 0.8038003129381203, 0.8038003129381203, 0.8038003129381203, 0.8038003129381203, 0.8038003129381203, 0.8038003129381203, 0.8050648553525761, 0.8050648553525761, 0.8050648553525761, 0.8050648553525761, 0.8105110242409833, 0.8105110242409833, 0.8105110242409833, 0.8105110242409833, 0.8105110242409833, 0.8105110242409833, 0.8105110242409833, 0.8105110242409833, 0.8105110242409833, 0.8105110242409833, 0.8105110242409833, 0.8105110242409833, 0.8105110242409833, 0.8105110242409833, 0.8105110242409833, 0.8211065624723607, 0.8211065624723607]}], \"f1_score_micro\": [{\"categories\": [\"0\", \"1\", \"2\", \"3\", \"4\", \"5\", \"6\", \"7\", \"8\", \"9\", \"10\", \"11\", \"12\", \"13\", \"14\", \"15\", \"16\", \"17\", \"18\", \"19\", \"20\", \"21\", \"22\", \"23\", \"24\", \"25\", \"26\", \"27\", \"28\", \"29\", \"30\", \"31\", \"32\", \"33\", \"34\", \"35\", \"36\", \"37\", \"38\", \"39\", \"40\", \"41\", \"46\", \"47\"], \"mode\": \"markers\", \"name\": \"f1_score_micro\", \"stepped\": false, \"type\": \"scatter\", \"data\": [0.7879656160458453, 0.8080229226361032, 0.792741165234002, 0.801337153772684, 0.7936962750716332, 0.781279847182426, 0.7917860553963706, 0.7975167144221585, 0.7860553963705826, 0.7851002865329514, 0.6781279847182425, 0.7956064947468958, 0.8032473734479465, 0.7898758357211079, 0.7889207258834766, 0.8022922636103152, 0.792741165234002, 0.7956064947468958, 0.8022922636103152, 0.7965616045845273, 0.7946513849092645, 0.801337153772684, 0.7841451766953199, 0.8089780324737346, 0.7640878701050621, 0.617956064947469, 0.7822349570200573, 0.8118433619866284, 0.7851002865329512, 0.7956064947468958, 0.8042024832855779, 0.7936962750716333, 0.8061127029608404, 0.787010506208214, 0.792741165234002, 0.7917860553963706, 0.7516714422158549, 0.7946513849092646, 0.8099331423113657, 0.7927411652340018, 0.787010506208214, 0.8061127029608405, 0.8252148997134672, 0.816618911174785]}, {\"categories\": [\"0\", \"1\", \"2\", \"3\", \"4\", \"5\", \"6\", \"7\", \"8\", \"9\", \"10\", \"11\", \"12\", \"13\", \"14\", \"15\", \"16\", \"17\", \"18\", \"19\", \"20\", \"21\", \"22\", \"23\", \"24\", \"25\", \"26\", \"27\", \"28\", \"29\", \"30\", \"31\", \"32\", \"33\", \"34\", \"35\", \"36\", \"37\", \"38\", \"39\", \"40\", \"41\", \"46\", \"47\"], \"mode\": \"lines\", \"name\": \"f1_score_micro_max\", \"stepped\": true, \"type\": \"scatter\", \"data\": [0.7879656160458453, 0.8080229226361032, 0.8080229226361032, 0.8080229226361032, 0.8080229226361032, 0.8080229226361032, 0.8080229226361032, 0.8080229226361032, 0.8080229226361032, 0.8080229226361032, 0.8080229226361032, 0.8080229226361032, 0.8080229226361032, 0.8080229226361032, 0.8080229226361032, 0.8080229226361032, 0.8080229226361032, 0.8080229226361032, 0.8080229226361032, 0.8080229226361032, 0.8080229226361032, 0.8080229226361032, 0.8080229226361032, 0.8089780324737346, 0.8089780324737346, 0.8089780324737346, 0.8089780324737346, 0.8118433619866284, 0.8118433619866284, 0.8118433619866284, 0.8118433619866284, 0.8118433619866284, 0.8118433619866284, 0.8118433619866284, 0.8118433619866284, 0.8118433619866284, 0.8118433619866284, 0.8118433619866284, 0.8118433619866284, 0.8118433619866284, 0.8118433619866284, 0.8118433619866284, 0.8252148997134672, 0.8252148997134672]}], \"AUC_weighted\": [{\"categories\": [\"0\", \"1\", \"2\", \"3\", \"4\", \"5\", \"6\", \"7\", \"8\", \"9\", \"10\", \"11\", \"12\", \"13\", \"14\", \"15\", \"16\", \"17\", \"18\", \"19\", \"20\", \"21\", \"22\", \"23\", \"24\", \"25\", \"26\", \"27\", \"28\", \"29\", \"30\", \"31\", \"32\", \"33\", \"34\", \"35\", \"36\", \"37\", \"38\", \"39\", \"40\", \"41\", \"46\", \"47\"], \"mode\": \"markers\", \"name\": \"AUC_weighted\", \"stepped\": false, \"type\": \"scatter\", \"data\": [0.8536678514349533, 0.8678531479143805, 0.8437330131498131, 0.8423016500552035, 0.8542616714549894, 0.8376900067540188, 0.852428903546417, 0.8159295792377815, 0.8365041651068185, 0.8422872289487172, 0.6168074756784435, 0.8497086997323055, 0.8473255177069969, 0.8364945258577037, 0.8322673854061087, 0.8471385914430547, 0.8476095708131158, 0.8412245239942999, 0.8416994731488137, 0.8335759476539213, 0.8391215746498037, 0.8414269254590026, 0.8333421824660793, 0.856293318639513, 0.8428669109839113, 0.5, 0.8455031766802992, 0.8548108898630903, 0.8425470052677776, 0.8401450768059324, 0.8469471798631224, 0.8423848892318574, 0.8556154488063624, 0.8371004757079955, 0.8378489570252946, 0.8384744503800713, 0.8307881224314824, 0.8544493492846739, 0.8490754044291187, 0.8336931458168779, 0.815631234329525, 0.8561637810461568, 0.8662181137313042, 0.8664204850045719]}, {\"categories\": [\"0\", \"1\", \"2\", \"3\", \"4\", \"5\", \"6\", \"7\", \"8\", \"9\", \"10\", \"11\", \"12\", \"13\", \"14\", \"15\", \"16\", \"17\", \"18\", \"19\", \"20\", \"21\", \"22\", \"23\", \"24\", \"25\", \"26\", \"27\", \"28\", \"29\", \"30\", \"31\", \"32\", \"33\", \"34\", \"35\", \"36\", \"37\", \"38\", \"39\", \"40\", \"41\", \"46\", \"47\"], \"mode\": \"lines\", \"name\": \"AUC_weighted_max\", \"stepped\": true, \"type\": \"scatter\", \"data\": [0.8536678514349533, 0.8678531479143805, 0.8678531479143805, 0.8678531479143805, 0.8678531479143805, 0.8678531479143805, 0.8678531479143805, 0.8678531479143805, 0.8678531479143805, 0.8678531479143805, 0.8678531479143805, 0.8678531479143805, 0.8678531479143805, 0.8678531479143805, 0.8678531479143805, 0.8678531479143805, 0.8678531479143805, 0.8678531479143805, 0.8678531479143805, 0.8678531479143805, 0.8678531479143805, 0.8678531479143805, 0.8678531479143805, 0.8678531479143805, 0.8678531479143805, 0.8678531479143805, 0.8678531479143805, 0.8678531479143805, 0.8678531479143805, 0.8678531479143805, 0.8678531479143805, 0.8678531479143805, 0.8678531479143805, 0.8678531479143805, 0.8678531479143805, 0.8678531479143805, 0.8678531479143805, 0.8678531479143805, 0.8678531479143805, 0.8678531479143805, 0.8678531479143805, 0.8678531479143805, 0.8678531479143805, 0.8678531479143805]}], \"precision_score_micro\": [{\"categories\": [\"0\", \"1\", \"2\", \"3\", \"4\", \"5\", \"6\", \"7\", \"8\", \"9\", \"10\", \"11\", \"12\", \"13\", \"14\", \"15\", \"16\", \"17\", \"18\", \"19\", \"20\", \"21\", \"22\", \"23\", \"24\", \"25\", \"26\", \"27\", \"28\", \"29\", \"30\", \"31\", \"32\", \"33\", \"34\", \"35\", \"36\", \"37\", \"38\", \"39\", \"40\", \"41\", \"46\", \"47\"], \"mode\": \"markers\", \"name\": \"precision_score_micro\", \"stepped\": false, \"type\": \"scatter\", \"data\": [0.7879656160458453, 0.8080229226361032, 0.792741165234002, 0.801337153772684, 0.7936962750716332, 0.781279847182426, 0.7917860553963706, 0.7975167144221585, 0.7860553963705826, 0.7851002865329514, 0.6781279847182425, 0.7956064947468958, 0.8032473734479465, 0.7898758357211079, 0.7889207258834766, 0.8022922636103152, 0.7927411652340018, 0.7956064947468958, 0.8022922636103152, 0.7965616045845273, 0.7946513849092645, 0.801337153772684, 0.7841451766953199, 0.8089780324737345, 0.7640878701050621, 0.617956064947469, 0.7822349570200573, 0.8118433619866284, 0.7851002865329512, 0.7956064947468958, 0.8042024832855779, 0.7936962750716333, 0.8061127029608404, 0.787010506208214, 0.7927411652340018, 0.7917860553963706, 0.7516714422158549, 0.7946513849092646, 0.8099331423113657, 0.792741165234002, 0.787010506208214, 0.8061127029608405, 0.8252148997134672, 0.816618911174785]}, {\"categories\": [\"0\", \"1\", \"2\", \"3\", \"4\", \"5\", \"6\", \"7\", \"8\", \"9\", \"10\", \"11\", \"12\", \"13\", \"14\", \"15\", \"16\", \"17\", \"18\", \"19\", \"20\", \"21\", \"22\", \"23\", \"24\", \"25\", \"26\", \"27\", \"28\", \"29\", \"30\", \"31\", \"32\", \"33\", \"34\", \"35\", \"36\", \"37\", \"38\", \"39\", \"40\", \"41\", \"46\", \"47\"], \"mode\": \"lines\", \"name\": \"precision_score_micro_max\", \"stepped\": true, \"type\": \"scatter\", \"data\": [0.7879656160458453, 0.8080229226361032, 0.8080229226361032, 0.8080229226361032, 0.8080229226361032, 0.8080229226361032, 0.8080229226361032, 0.8080229226361032, 0.8080229226361032, 0.8080229226361032, 0.8080229226361032, 0.8080229226361032, 0.8080229226361032, 0.8080229226361032, 0.8080229226361032, 0.8080229226361032, 0.8080229226361032, 0.8080229226361032, 0.8080229226361032, 0.8080229226361032, 0.8080229226361032, 0.8080229226361032, 0.8080229226361032, 0.8089780324737345, 0.8089780324737345, 0.8089780324737345, 0.8089780324737345, 0.8118433619866284, 0.8118433619866284, 0.8118433619866284, 0.8118433619866284, 0.8118433619866284, 0.8118433619866284, 0.8118433619866284, 0.8118433619866284, 0.8118433619866284, 0.8118433619866284, 0.8118433619866284, 0.8118433619866284, 0.8118433619866284, 0.8118433619866284, 0.8118433619866284, 0.8252148997134672, 0.8252148997134672]}], \"precision_score_macro\": [{\"categories\": [\"0\", \"1\", \"2\", \"3\", \"4\", \"5\", \"6\", \"7\", \"8\", \"9\", \"10\", \"11\", \"12\", \"13\", \"14\", \"15\", \"16\", \"17\", \"18\", \"19\", \"20\", \"21\", \"22\", \"23\", \"24\", \"25\", \"26\", \"27\", \"28\", \"29\", \"30\", \"31\", \"32\", \"33\", \"34\", \"35\", \"36\", \"37\", \"38\", \"39\", \"40\", \"41\", \"46\", \"47\"], \"mode\": \"markers\", \"name\": \"precision_score_macro\", \"stepped\": false, \"type\": \"scatter\", \"data\": [0.7778292651817117, 0.8073870581234374, 0.787650767438579, 0.7957426534367382, 0.7833669062751404, 0.7692261345114156, 0.7802317508701077, 0.797206593847957, 0.7780006751995665, 0.7769572520049085, 0.4707353457542023, 0.7870382360991536, 0.7991022343138289, 0.7783491643304075, 0.7955423841991184, 0.8039868832290388, 0.7876456703524021, 0.7967161782432859, 0.7980712406692172, 0.7904117576224284, 0.7893283400932599, 0.7993242512271301, 0.8152891752612943, 0.8065925259751436, 0.75157803022686, 0.3089780324737345, 0.7887496496907693, 0.8049986118682938, 0.7988156054867138, 0.7852347323119647, 0.8044221836104928, 0.7922620300762694, 0.8023986288873086, 0.7813601882462243, 0.7834971615398315, 0.7921397835273384, 0.7426209795707699, 0.783848528647507, 0.804732290871938, 0.78203323030659, 0.7756079298148757, 0.8032572014510325, 0.8273361883995524, 0.8142126981992582]}, {\"categories\": [\"0\", \"1\", \"2\", \"3\", \"4\", \"5\", \"6\", \"7\", \"8\", \"9\", \"10\", \"11\", \"12\", \"13\", \"14\", \"15\", \"16\", \"17\", \"18\", \"19\", \"20\", \"21\", \"22\", \"23\", \"24\", \"25\", \"26\", \"27\", \"28\", \"29\", \"30\", \"31\", \"32\", \"33\", \"34\", \"35\", \"36\", \"37\", \"38\", \"39\", \"40\", \"41\", \"46\", \"47\"], \"mode\": \"lines\", \"name\": \"precision_score_macro_max\", \"stepped\": true, \"type\": \"scatter\", \"data\": [0.7778292651817117, 0.8073870581234374, 0.8073870581234374, 0.8073870581234374, 0.8073870581234374, 0.8073870581234374, 0.8073870581234374, 0.8073870581234374, 0.8073870581234374, 0.8073870581234374, 0.8073870581234374, 0.8073870581234374, 0.8073870581234374, 0.8073870581234374, 0.8073870581234374, 0.8073870581234374, 0.8073870581234374, 0.8073870581234374, 0.8073870581234374, 0.8073870581234374, 0.8073870581234374, 0.8073870581234374, 0.8152891752612943, 0.8152891752612943, 0.8152891752612943, 0.8152891752612943, 0.8152891752612943, 0.8152891752612943, 0.8152891752612943, 0.8152891752612943, 0.8152891752612943, 0.8152891752612943, 0.8152891752612943, 0.8152891752612943, 0.8152891752612943, 0.8152891752612943, 0.8152891752612943, 0.8152891752612943, 0.8152891752612943, 0.8152891752612943, 0.8152891752612943, 0.8152891752612943, 0.8273361883995524, 0.8273361883995524]}], \"balanced_accuracy\": [{\"categories\": [\"0\", \"1\", \"2\", \"3\", \"4\", \"5\", \"6\", \"7\", \"8\", \"9\", \"10\", \"11\", \"12\", \"13\", \"14\", \"15\", \"16\", \"17\", \"18\", \"19\", \"20\", \"21\", \"22\", \"23\", \"24\", \"25\", \"26\", \"27\", \"28\", \"29\", \"30\", \"31\", \"32\", \"33\", \"34\", \"35\", \"36\", \"37\", \"38\", \"39\", \"40\", \"41\", \"46\", \"47\"], \"mode\": \"markers\", \"name\": \"balanced_accuracy\", \"stepped\": false, \"type\": \"scatter\", \"data\": [0.7663876731554501, 0.7802620657427856, 0.7668526432043864, 0.7777875590083932, 0.7831948214127937, 0.7630418211088706, 0.7843928987787491, 0.7664114777084868, 0.7600857508564793, 0.7619934402171857, 0.5919098822324629, 0.7748081118703641, 0.7771139944148029, 0.7748069452218888, 0.7604252104846285, 0.7742356158832667, 0.771765445658953, 0.7689544588988729, 0.7775551717559255, 0.770490765422854, 0.7713375912321377, 0.7759040093834786, 0.732146248967819, 0.7821757380398854, 0.7595155299394406, 0.5, 0.752204401241733, 0.7944414393802864, 0.7519084127053451, 0.7829318585185169, 0.7740542993990296, 0.7718087712910946, 0.7809366722604896, 0.7637853941396103, 0.7812611957213532, 0.7667149836176167, 0.7528811220740894, 0.7812336263643997, 0.786845365351695, 0.7787250945814487, 0.7694226760880061, 0.7793600614700681, 0.7977807399827253, 0.7918630684479714]}, {\"categories\": [\"0\", \"1\", \"2\", \"3\", \"4\", \"5\", \"6\", \"7\", \"8\", \"9\", \"10\", \"11\", \"12\", \"13\", \"14\", \"15\", \"16\", \"17\", \"18\", \"19\", \"20\", \"21\", \"22\", \"23\", \"24\", \"25\", \"26\", \"27\", \"28\", \"29\", \"30\", \"31\", \"32\", \"33\", \"34\", \"35\", \"36\", \"37\", \"38\", \"39\", \"40\", \"41\", \"46\", \"47\"], \"mode\": \"lines\", \"name\": \"balanced_accuracy_max\", \"stepped\": true, \"type\": \"scatter\", \"data\": [0.7663876731554501, 0.7802620657427856, 0.7802620657427856, 0.7802620657427856, 0.7831948214127937, 0.7831948214127937, 0.7843928987787491, 0.7843928987787491, 0.7843928987787491, 0.7843928987787491, 0.7843928987787491, 0.7843928987787491, 0.7843928987787491, 0.7843928987787491, 0.7843928987787491, 0.7843928987787491, 0.7843928987787491, 0.7843928987787491, 0.7843928987787491, 0.7843928987787491, 0.7843928987787491, 0.7843928987787491, 0.7843928987787491, 0.7843928987787491, 0.7843928987787491, 0.7843928987787491, 0.7843928987787491, 0.7944414393802864, 0.7944414393802864, 0.7944414393802864, 0.7944414393802864, 0.7944414393802864, 0.7944414393802864, 0.7944414393802864, 0.7944414393802864, 0.7944414393802864, 0.7944414393802864, 0.7944414393802864, 0.7944414393802864, 0.7944414393802864, 0.7944414393802864, 0.7944414393802864, 0.7977807399827253, 0.7977807399827253]}], \"weighted_accuracy\": [{\"categories\": [\"0\", \"1\", \"2\", \"3\", \"4\", \"5\", \"6\", \"7\", \"8\", \"9\", \"10\", \"11\", \"12\", \"13\", \"14\", \"15\", \"16\", \"17\", \"18\", \"19\", \"20\", \"21\", \"22\", \"23\", \"24\", \"25\", \"26\", \"27\", \"28\", \"29\", \"30\", \"31\", \"32\", \"33\", \"34\", \"35\", \"36\", \"37\", \"38\", \"39\", \"40\", \"41\", \"46\", \"47\"], \"mode\": \"markers\", \"name\": \"weighted_accuracy\", \"stepped\": false, \"type\": \"scatter\", \"data\": [0.8071732841121863, 0.8328467405870117, 0.8158830311848536, 0.8224106390623843, 0.8030614289244241, 0.7975360391633025, 0.7983488600748271, 0.8253086606232255, 0.8092011873904476, 0.8057326314829959, 0.7553307728941098, 0.8141831508058327, 0.8265817049556734, 0.8033130058356646, 0.8145464792090554, 0.8273935897199993, 0.8115209208708407, 0.8194746465559709, 0.824421567910823, 0.8197970050209785, 0.8155036475945227, 0.8241041848964232, 0.830596530247436, 0.8329016240145327, 0.7681107885069035, 0.7233423881241151, 0.8091672262473649, 0.8274343226751101, 0.8148983602133429, 0.8069363330741567, 0.831120310753524, 0.8133958570554717, 0.8286044132693103, 0.807796271456279, 0.8030286822574508, 0.8143027349713119, 0.7505424030799661, 0.8066396813184818, 0.8305516902094282, 0.805267691666186, 0.8026561622103651, 0.8299873765361493, 0.8497131923334388, 0.8387402536052662]}, {\"categories\": [\"0\", \"1\", \"2\", \"3\", \"4\", \"5\", \"6\", \"7\", \"8\", \"9\", \"10\", \"11\", \"12\", \"13\", \"14\", \"15\", \"16\", \"17\", \"18\", \"19\", \"20\", \"21\", \"22\", \"23\", \"24\", \"25\", \"26\", \"27\", \"28\", \"29\", \"30\", \"31\", \"32\", \"33\", \"34\", \"35\", \"36\", \"37\", \"38\", \"39\", \"40\", \"41\", \"46\", \"47\"], \"mode\": \"lines\", \"name\": \"weighted_accuracy_max\", \"stepped\": true, \"type\": \"scatter\", \"data\": [0.8071732841121863, 0.8328467405870117, 0.8328467405870117, 0.8328467405870117, 0.8328467405870117, 0.8328467405870117, 0.8328467405870117, 0.8328467405870117, 0.8328467405870117, 0.8328467405870117, 0.8328467405870117, 0.8328467405870117, 0.8328467405870117, 0.8328467405870117, 0.8328467405870117, 0.8328467405870117, 0.8328467405870117, 0.8328467405870117, 0.8328467405870117, 0.8328467405870117, 0.8328467405870117, 0.8328467405870117, 0.8328467405870117, 0.8329016240145327, 0.8329016240145327, 0.8329016240145327, 0.8329016240145327, 0.8329016240145327, 0.8329016240145327, 0.8329016240145327, 0.8329016240145327, 0.8329016240145327, 0.8329016240145327, 0.8329016240145327, 0.8329016240145327, 0.8329016240145327, 0.8329016240145327, 0.8329016240145327, 0.8329016240145327, 0.8329016240145327, 0.8329016240145327, 0.8329016240145327, 0.8497131923334388, 0.8497131923334388]}], \"average_precision_score_macro\": [{\"categories\": [\"0\", \"1\", \"2\", \"3\", \"4\", \"5\", \"6\", \"7\", \"8\", \"9\", \"10\", \"11\", \"12\", \"13\", \"14\", \"15\", \"16\", \"17\", \"18\", \"19\", \"20\", \"21\", \"22\", \"23\", \"24\", \"25\", \"26\", \"27\", \"28\", \"29\", \"30\", \"31\", \"32\", \"33\", \"34\", \"35\", \"36\", \"37\", \"38\", \"39\", \"40\", \"41\", \"46\", \"47\"], \"mode\": \"markers\", \"name\": \"average_precision_score_macro\", \"stepped\": false, \"type\": \"scatter\", \"data\": [0.8498630991374253, 0.8626483091697338, 0.834145488742774, 0.8426029722086659, 0.8482694306813326, 0.8273433272881712, 0.8478380284163679, 0.8097106516450744, 0.8298997404961274, 0.8348950394308008, 0.6113095396984992, 0.8469755142797365, 0.8429825464122075, 0.8276031462895896, 0.8078952155377165, 0.8443083920667606, 0.8424953780415535, 0.8368909110392767, 0.8390876767390442, 0.8245383833921412, 0.8361559902240963, 0.8401307492288979, 0.8213952491417821, 0.8520304091093885, 0.8379720342025633, 0.5, 0.8316600444027871, 0.8400694783702098, 0.8304156070101235, 0.8365390494654464, 0.8441753408019973, 0.8333226746041967, 0.8467384114932663, 0.8312847256980987, 0.8317987576086768, 0.8188217972705454, 0.8225954026657535, 0.841768968146777, 0.8396791170653607, 0.8131141017076907, 0.7867663793929701, 0.8490694609074939, 0.8584670928806548, 0.8595852276846268]}, {\"categories\": [\"0\", \"1\", \"2\", \"3\", \"4\", \"5\", \"6\", \"7\", \"8\", \"9\", \"10\", \"11\", \"12\", \"13\", \"14\", \"15\", \"16\", \"17\", \"18\", \"19\", \"20\", \"21\", \"22\", \"23\", \"24\", \"25\", \"26\", \"27\", \"28\", \"29\", \"30\", \"31\", \"32\", \"33\", \"34\", \"35\", \"36\", \"37\", \"38\", \"39\", \"40\", \"41\", \"46\", \"47\"], \"mode\": \"lines\", \"name\": \"average_precision_score_macro_max\", \"stepped\": true, \"type\": \"scatter\", \"data\": [0.8498630991374253, 0.8626483091697338, 0.8626483091697338, 0.8626483091697338, 0.8626483091697338, 0.8626483091697338, 0.8626483091697338, 0.8626483091697338, 0.8626483091697338, 0.8626483091697338, 0.8626483091697338, 0.8626483091697338, 0.8626483091697338, 0.8626483091697338, 0.8626483091697338, 0.8626483091697338, 0.8626483091697338, 0.8626483091697338, 0.8626483091697338, 0.8626483091697338, 0.8626483091697338, 0.8626483091697338, 0.8626483091697338, 0.8626483091697338, 0.8626483091697338, 0.8626483091697338, 0.8626483091697338, 0.8626483091697338, 0.8626483091697338, 0.8626483091697338, 0.8626483091697338, 0.8626483091697338, 0.8626483091697338, 0.8626483091697338, 0.8626483091697338, 0.8626483091697338, 0.8626483091697338, 0.8626483091697338, 0.8626483091697338, 0.8626483091697338, 0.8626483091697338, 0.8626483091697338, 0.8626483091697338, 0.8626483091697338]}], \"recall_score_macro\": [{\"categories\": [\"0\", \"1\", \"2\", \"3\", \"4\", \"5\", \"6\", \"7\", \"8\", \"9\", \"10\", \"11\", \"12\", \"13\", \"14\", \"15\", \"16\", \"17\", \"18\", \"19\", \"20\", \"21\", \"22\", \"23\", \"24\", \"25\", \"26\", \"27\", \"28\", \"29\", \"30\", \"31\", \"32\", \"33\", \"34\", \"35\", \"36\", \"37\", \"38\", \"39\", \"40\", \"41\", \"46\", \"47\"], \"mode\": \"markers\", \"name\": \"recall_score_macro\", \"stepped\": false, \"type\": \"scatter\", \"data\": [0.7663876731554501, 0.7802620657427856, 0.7668526432043864, 0.7777875590083932, 0.7831948214127937, 0.7630418211088706, 0.7843928987787491, 0.7664114777084868, 0.7600857508564793, 0.7619934402171857, 0.5919098822324629, 0.7748081118703641, 0.7771139944148029, 0.7748069452218888, 0.7604252104846285, 0.7742356158832667, 0.771765445658953, 0.7689544588988729, 0.7775551717559255, 0.770490765422854, 0.7713375912321377, 0.7759040093834786, 0.732146248967819, 0.7821757380398854, 0.7595155299394406, 0.5, 0.752204401241733, 0.7944414393802864, 0.7519084127053451, 0.7829318585185169, 0.7740542993990296, 0.7718087712910946, 0.7809366722604896, 0.7637853941396103, 0.7812611957213532, 0.7667149836176167, 0.7528811220740894, 0.7812336263643997, 0.786845365351695, 0.7787250945814487, 0.7694226760880061, 0.7793600614700681, 0.7977807399827253, 0.7918630684479714]}, {\"categories\": [\"0\", \"1\", \"2\", \"3\", \"4\", \"5\", \"6\", \"7\", \"8\", \"9\", \"10\", \"11\", \"12\", \"13\", \"14\", \"15\", \"16\", \"17\", \"18\", \"19\", \"20\", \"21\", \"22\", \"23\", \"24\", \"25\", \"26\", \"27\", \"28\", \"29\", \"30\", \"31\", \"32\", \"33\", \"34\", \"35\", \"36\", \"37\", \"38\", \"39\", \"40\", \"41\", \"46\", \"47\"], \"mode\": \"lines\", \"name\": \"recall_score_macro_max\", \"stepped\": true, \"type\": \"scatter\", \"data\": [0.7663876731554501, 0.7802620657427856, 0.7802620657427856, 0.7802620657427856, 0.7831948214127937, 0.7831948214127937, 0.7843928987787491, 0.7843928987787491, 0.7843928987787491, 0.7843928987787491, 0.7843928987787491, 0.7843928987787491, 0.7843928987787491, 0.7843928987787491, 0.7843928987787491, 0.7843928987787491, 0.7843928987787491, 0.7843928987787491, 0.7843928987787491, 0.7843928987787491, 0.7843928987787491, 0.7843928987787491, 0.7843928987787491, 0.7843928987787491, 0.7843928987787491, 0.7843928987787491, 0.7843928987787491, 0.7944414393802864, 0.7944414393802864, 0.7944414393802864, 0.7944414393802864, 0.7944414393802864, 0.7944414393802864, 0.7944414393802864, 0.7944414393802864, 0.7944414393802864, 0.7944414393802864, 0.7944414393802864, 0.7944414393802864, 0.7944414393802864, 0.7944414393802864, 0.7944414393802864, 0.7977807399827253, 0.7977807399827253]}], \"log_loss\": [{\"categories\": [\"0\", \"1\", \"2\", \"3\", \"4\", \"5\", \"6\", \"7\", \"8\", \"9\", \"10\", \"11\", \"12\", \"13\", \"14\", \"15\", \"16\", \"17\", \"18\", \"19\", \"20\", \"21\", \"22\", \"23\", \"24\", \"25\", \"26\", \"27\", \"28\", \"29\", \"30\", \"31\", \"32\", \"33\", \"34\", \"35\", \"36\", \"37\", \"38\", \"39\", \"40\", \"41\", \"46\", \"47\"], \"mode\": \"markers\", \"name\": \"log_loss\", \"stepped\": false, \"type\": \"scatter\", \"data\": [0.4998363352915116, 0.4311231554949873, 0.4621536605120456, 0.46703968957891234, 0.46210306175250465, 0.5570034315021054, 0.45940342983172927, 0.4785439415903798, 0.4770386595004256, 0.4966055440968242, 0.6040947605503932, 0.4593211160126795, 0.45597199127189136, 0.4760580616506657, 0.5081883518066995, 0.45342096690617445, 0.46115400388526323, 0.4586290575875025, 0.4577677706075818, 0.49892374441598425, 0.47513958912194737, 0.4628576210441415, 0.5204600146363089, 0.44362564874144744, 0.4850160884015888, 0.6652200018691167, 0.4607970893479136, 0.49097392595226097, 0.4592740848841354, 0.4767829096507801, 0.4634070164989219, 0.46232203916225395, 0.4955292698592184, 0.47130364855328494, 0.4679073390787569, 0.4760086518420124, 0.5130267421513094, 0.49250241649171783, 0.45712112308501673, 0.5102599243615348, 2.167531697396272, 0.48449175666132005, 0.46469129830966766, 0.4371218871210502]}, {\"categories\": [\"0\", \"1\", \"2\", \"3\", \"4\", \"5\", \"6\", \"7\", \"8\", \"9\", \"10\", \"11\", \"12\", \"13\", \"14\", \"15\", \"16\", \"17\", \"18\", \"19\", \"20\", \"21\", \"22\", \"23\", \"24\", \"25\", \"26\", \"27\", \"28\", \"29\", \"30\", \"31\", \"32\", \"33\", \"34\", \"35\", \"36\", \"37\", \"38\", \"39\", \"40\", \"41\", \"46\", \"47\"], \"mode\": \"lines\", \"name\": \"log_loss_min\", \"stepped\": true, \"type\": \"scatter\", \"data\": [0.4998363352915116, 0.4311231554949873, 0.4311231554949873, 0.4311231554949873, 0.4311231554949873, 0.4311231554949873, 0.4311231554949873, 0.4311231554949873, 0.4311231554949873, 0.4311231554949873, 0.4311231554949873, 0.4311231554949873, 0.4311231554949873, 0.4311231554949873, 0.4311231554949873, 0.4311231554949873, 0.4311231554949873, 0.4311231554949873, 0.4311231554949873, 0.4311231554949873, 0.4311231554949873, 0.4311231554949873, 0.4311231554949873, 0.4311231554949873, 0.4311231554949873, 0.4311231554949873, 0.4311231554949873, 0.4311231554949873, 0.4311231554949873, 0.4311231554949873, 0.4311231554949873, 0.4311231554949873, 0.4311231554949873, 0.4311231554949873, 0.4311231554949873, 0.4311231554949873, 0.4311231554949873, 0.4311231554949873, 0.4311231554949873, 0.4311231554949873, 0.4311231554949873, 0.4311231554949873, 0.4311231554949873, 0.4311231554949873]}], \"recall_score_micro\": [{\"categories\": [\"0\", \"1\", \"2\", \"3\", \"4\", \"5\", \"6\", \"7\", \"8\", \"9\", \"10\", \"11\", \"12\", \"13\", \"14\", \"15\", \"16\", \"17\", \"18\", \"19\", \"20\", \"21\", \"22\", \"23\", \"24\", \"25\", \"26\", \"27\", \"28\", \"29\", \"30\", \"31\", \"32\", \"33\", \"34\", \"35\", \"36\", \"37\", \"38\", \"39\", \"40\", \"41\", \"46\", \"47\"], \"mode\": \"markers\", \"name\": \"recall_score_micro\", \"stepped\": false, \"type\": \"scatter\", \"data\": [0.7879656160458453, 0.8080229226361032, 0.792741165234002, 0.801337153772684, 0.7936962750716332, 0.781279847182426, 0.7917860553963706, 0.7975167144221585, 0.7860553963705826, 0.7851002865329514, 0.6781279847182425, 0.7956064947468958, 0.8032473734479465, 0.7898758357211079, 0.7889207258834766, 0.8022922636103152, 0.7927411652340018, 0.7956064947468958, 0.8022922636103152, 0.7965616045845273, 0.7946513849092645, 0.801337153772684, 0.7841451766953199, 0.8089780324737345, 0.7640878701050621, 0.617956064947469, 0.7822349570200573, 0.8118433619866284, 0.7851002865329512, 0.7956064947468958, 0.8042024832855779, 0.7936962750716333, 0.8061127029608404, 0.787010506208214, 0.7927411652340018, 0.7917860553963706, 0.7516714422158549, 0.7946513849092646, 0.8099331423113657, 0.792741165234002, 0.787010506208214, 0.8061127029608405, 0.8252148997134672, 0.816618911174785]}, {\"categories\": [\"0\", \"1\", \"2\", \"3\", \"4\", \"5\", \"6\", \"7\", \"8\", \"9\", \"10\", \"11\", \"12\", \"13\", \"14\", \"15\", \"16\", \"17\", \"18\", \"19\", \"20\", \"21\", \"22\", \"23\", \"24\", \"25\", \"26\", \"27\", \"28\", \"29\", \"30\", \"31\", \"32\", \"33\", \"34\", \"35\", \"36\", \"37\", \"38\", \"39\", \"40\", \"41\", \"46\", \"47\"], \"mode\": \"lines\", \"name\": \"recall_score_micro_max\", \"stepped\": true, \"type\": \"scatter\", \"data\": [0.7879656160458453, 0.8080229226361032, 0.8080229226361032, 0.8080229226361032, 0.8080229226361032, 0.8080229226361032, 0.8080229226361032, 0.8080229226361032, 0.8080229226361032, 0.8080229226361032, 0.8080229226361032, 0.8080229226361032, 0.8080229226361032, 0.8080229226361032, 0.8080229226361032, 0.8080229226361032, 0.8080229226361032, 0.8080229226361032, 0.8080229226361032, 0.8080229226361032, 0.8080229226361032, 0.8080229226361032, 0.8080229226361032, 0.8089780324737345, 0.8089780324737345, 0.8089780324737345, 0.8089780324737345, 0.8118433619866284, 0.8118433619866284, 0.8118433619866284, 0.8118433619866284, 0.8118433619866284, 0.8118433619866284, 0.8118433619866284, 0.8118433619866284, 0.8118433619866284, 0.8118433619866284, 0.8118433619866284, 0.8118433619866284, 0.8118433619866284, 0.8118433619866284, 0.8118433619866284, 0.8252148997134672, 0.8252148997134672]}], \"recall_score_weighted\": [{\"categories\": [\"0\", \"1\", \"2\", \"3\", \"4\", \"5\", \"6\", \"7\", \"8\", \"9\", \"10\", \"11\", \"12\", \"13\", \"14\", \"15\", \"16\", \"17\", \"18\", \"19\", \"20\", \"21\", \"22\", \"23\", \"24\", \"25\", \"26\", \"27\", \"28\", \"29\", \"30\", \"31\", \"32\", \"33\", \"34\", \"35\", \"36\", \"37\", \"38\", \"39\", \"40\", \"41\", \"46\", \"47\"], \"mode\": \"markers\", \"name\": \"recall_score_weighted\", \"stepped\": false, \"type\": \"scatter\", \"data\": [0.7879656160458453, 0.8080229226361032, 0.792741165234002, 0.801337153772684, 0.7936962750716332, 0.781279847182426, 0.7917860553963706, 0.7975167144221585, 0.7860553963705826, 0.7851002865329514, 0.6781279847182425, 0.7956064947468958, 0.8032473734479465, 0.7898758357211079, 0.7889207258834766, 0.8022922636103152, 0.7927411652340018, 0.7956064947468958, 0.8022922636103152, 0.7965616045845273, 0.7946513849092645, 0.801337153772684, 0.7841451766953199, 0.8089780324737345, 0.7640878701050621, 0.617956064947469, 0.7822349570200573, 0.8118433619866284, 0.7851002865329512, 0.7956064947468958, 0.8042024832855779, 0.7936962750716333, 0.8061127029608404, 0.787010506208214, 0.7927411652340018, 0.7917860553963706, 0.7516714422158549, 0.7946513849092646, 0.8099331423113657, 0.792741165234002, 0.787010506208214, 0.8061127029608405, 0.8252148997134672, 0.816618911174785]}, {\"categories\": [\"0\", \"1\", \"2\", \"3\", \"4\", \"5\", \"6\", \"7\", \"8\", \"9\", \"10\", \"11\", \"12\", \"13\", \"14\", \"15\", \"16\", \"17\", \"18\", \"19\", \"20\", \"21\", \"22\", \"23\", \"24\", \"25\", \"26\", \"27\", \"28\", \"29\", \"30\", \"31\", \"32\", \"33\", \"34\", \"35\", \"36\", \"37\", \"38\", \"39\", \"40\", \"41\", \"46\", \"47\"], \"mode\": \"lines\", \"name\": \"recall_score_weighted_max\", \"stepped\": true, \"type\": \"scatter\", \"data\": [0.7879656160458453, 0.8080229226361032, 0.8080229226361032, 0.8080229226361032, 0.8080229226361032, 0.8080229226361032, 0.8080229226361032, 0.8080229226361032, 0.8080229226361032, 0.8080229226361032, 0.8080229226361032, 0.8080229226361032, 0.8080229226361032, 0.8080229226361032, 0.8080229226361032, 0.8080229226361032, 0.8080229226361032, 0.8080229226361032, 0.8080229226361032, 0.8080229226361032, 0.8080229226361032, 0.8080229226361032, 0.8080229226361032, 0.8089780324737345, 0.8089780324737345, 0.8089780324737345, 0.8089780324737345, 0.8118433619866284, 0.8118433619866284, 0.8118433619866284, 0.8118433619866284, 0.8118433619866284, 0.8118433619866284, 0.8118433619866284, 0.8118433619866284, 0.8118433619866284, 0.8118433619866284, 0.8118433619866284, 0.8118433619866284, 0.8118433619866284, 0.8118433619866284, 0.8118433619866284, 0.8252148997134672, 0.8252148997134672]}], \"average_precision_score_weighted\": [{\"categories\": [\"0\", \"1\", \"2\", \"3\", \"4\", \"5\", \"6\", \"7\", \"8\", \"9\", \"10\", \"11\", \"12\", \"13\", \"14\", \"15\", \"16\", \"17\", \"18\", \"19\", \"20\", \"21\", \"22\", \"23\", \"24\", \"25\", \"26\", \"27\", \"28\", \"29\", \"30\", \"31\", \"32\", \"33\", \"34\", \"35\", \"36\", \"37\", \"38\", \"39\", \"40\", \"41\", \"46\", \"47\"], \"mode\": \"markers\", \"name\": \"average_precision_score_weighted\", \"stepped\": false, \"type\": \"scatter\", \"data\": [0.8577584361582775, 0.869844220208552, 0.8414794526933583, 0.8500969408749596, 0.8556362673915698, 0.8358034039874935, 0.8549023965343396, 0.8137084626073722, 0.8374052309946128, 0.8429268067126943, 0.6337938021482211, 0.8533229233509942, 0.8488603483442732, 0.8349075489354539, 0.8165373867328656, 0.8509944758676324, 0.8493092699406853, 0.8430073144848388, 0.8446917695411683, 0.8319443334137891, 0.8426128715315508, 0.8459783551325297, 0.8275906588458191, 0.8590707845311809, 0.845419644056492, 0.5279403836312236, 0.8390221305219865, 0.8467555802220467, 0.8376801222753848, 0.8431801167980314, 0.8505685754375141, 0.8406426182531329, 0.852820936997877, 0.8385181286858853, 0.8377461386902568, 0.8266765544318307, 0.8301196758868068, 0.8477529563989972, 0.8466484958990007, 0.8209655701185273, 0.7994101319946129, 0.8541274091549109, 0.86468034255607, 0.8660453514402157]}, {\"categories\": [\"0\", \"1\", \"2\", \"3\", \"4\", \"5\", \"6\", \"7\", \"8\", \"9\", \"10\", \"11\", \"12\", \"13\", \"14\", \"15\", \"16\", \"17\", \"18\", \"19\", \"20\", \"21\", \"22\", \"23\", \"24\", \"25\", \"26\", \"27\", \"28\", \"29\", \"30\", \"31\", \"32\", \"33\", \"34\", \"35\", \"36\", \"37\", \"38\", \"39\", \"40\", \"41\", \"46\", \"47\"], \"mode\": \"lines\", \"name\": \"average_precision_score_weighted_max\", \"stepped\": true, \"type\": \"scatter\", \"data\": [0.8577584361582775, 0.869844220208552, 0.869844220208552, 0.869844220208552, 0.869844220208552, 0.869844220208552, 0.869844220208552, 0.869844220208552, 0.869844220208552, 0.869844220208552, 0.869844220208552, 0.869844220208552, 0.869844220208552, 0.869844220208552, 0.869844220208552, 0.869844220208552, 0.869844220208552, 0.869844220208552, 0.869844220208552, 0.869844220208552, 0.869844220208552, 0.869844220208552, 0.869844220208552, 0.869844220208552, 0.869844220208552, 0.869844220208552, 0.869844220208552, 0.869844220208552, 0.869844220208552, 0.869844220208552, 0.869844220208552, 0.869844220208552, 0.869844220208552, 0.869844220208552, 0.869844220208552, 0.869844220208552, 0.869844220208552, 0.869844220208552, 0.869844220208552, 0.869844220208552, 0.869844220208552, 0.869844220208552, 0.869844220208552, 0.869844220208552]}], \"accuracy\": [{\"categories\": [\"0\", \"1\", \"2\", \"3\", \"4\", \"5\", \"6\", \"7\", \"8\", \"9\", \"10\", \"11\", \"12\", \"13\", \"14\", \"15\", \"16\", \"17\", \"18\", \"19\", \"20\", \"21\", \"22\", \"23\", \"24\", \"25\", \"26\", \"27\", \"28\", \"29\", \"30\", \"31\", \"32\", \"33\", \"34\", \"35\", \"36\", \"37\", \"38\", \"39\", \"40\", \"41\", \"46\", \"47\"], \"mode\": \"markers\", \"name\": \"accuracy\", \"stepped\": false, \"type\": \"scatter\", \"data\": [0.7879656160458453, 0.8080229226361032, 0.792741165234002, 0.801337153772684, 0.7936962750716332, 0.781279847182426, 0.7917860553963706, 0.7975167144221585, 0.7860553963705826, 0.7851002865329514, 0.6781279847182425, 0.7956064947468958, 0.8032473734479465, 0.7898758357211079, 0.7889207258834766, 0.8022922636103152, 0.7927411652340018, 0.7956064947468958, 0.8022922636103152, 0.7965616045845273, 0.7946513849092645, 0.801337153772684, 0.7841451766953199, 0.8089780324737345, 0.7640878701050621, 0.617956064947469, 0.7822349570200573, 0.8118433619866284, 0.7851002865329512, 0.7956064947468958, 0.8042024832855779, 0.7936962750716333, 0.8061127029608404, 0.787010506208214, 0.7927411652340018, 0.7917860553963706, 0.7516714422158549, 0.7946513849092646, 0.8099331423113657, 0.792741165234002, 0.787010506208214, 0.8061127029608405, 0.8252148997134672, 0.816618911174785]}, {\"categories\": [\"0\", \"1\", \"2\", \"3\", \"4\", \"5\", \"6\", \"7\", \"8\", \"9\", \"10\", \"11\", \"12\", \"13\", \"14\", \"15\", \"16\", \"17\", \"18\", \"19\", \"20\", \"21\", \"22\", \"23\", \"24\", \"25\", \"26\", \"27\", \"28\", \"29\", \"30\", \"31\", \"32\", \"33\", \"34\", \"35\", \"36\", \"37\", \"38\", \"39\", \"40\", \"41\", \"46\", \"47\"], \"mode\": \"lines\", \"name\": \"accuracy_max\", \"stepped\": true, \"type\": \"scatter\", \"data\": [0.7879656160458453, 0.8080229226361032, 0.8080229226361032, 0.8080229226361032, 0.8080229226361032, 0.8080229226361032, 0.8080229226361032, 0.8080229226361032, 0.8080229226361032, 0.8080229226361032, 0.8080229226361032, 0.8080229226361032, 0.8080229226361032, 0.8080229226361032, 0.8080229226361032, 0.8080229226361032, 0.8080229226361032, 0.8080229226361032, 0.8080229226361032, 0.8080229226361032, 0.8080229226361032, 0.8080229226361032, 0.8080229226361032, 0.8089780324737345, 0.8089780324737345, 0.8089780324737345, 0.8089780324737345, 0.8118433619866284, 0.8118433619866284, 0.8118433619866284, 0.8118433619866284, 0.8118433619866284, 0.8118433619866284, 0.8118433619866284, 0.8118433619866284, 0.8118433619866284, 0.8118433619866284, 0.8118433619866284, 0.8118433619866284, 0.8118433619866284, 0.8118433619866284, 0.8118433619866284, 0.8252148997134672, 0.8252148997134672]}]}, \"metricName\": null, \"primaryMetricName\": \"accuracy\", \"showLegend\": false}, \"run_metrics\": [{\"name\": \"experiment_status\", \"run_id\": \"AutoML_4650437b-1121-4754-b1dc-0f194ec52deb\", \"categories\": [0, 1, 2, 3, 4, 5, 6, 7, 8, 9, 10, 11, 12, 13], \"series\": [{\"data\": [\"DatasetEvaluation\", \"FeaturesGeneration\", \"DatasetFeaturization\", \"DatasetFeaturizationCompleted\", \"DatasetCrossValidationSplit\", \"ModelSelection\", \"BestRunExplainModel\", \"ModelExplanationDataSetSetup\", \"PickSurrogateModel\", \"EngineeredFeatureExplanations\", \"EngineeredFeatureExplanations\", \"RawFeaturesExplanations\", \"RawFeaturesExplanations\", \"BestRunExplainModel\"]}]}, {\"name\": \"experiment_status_description\", \"run_id\": \"AutoML_4650437b-1121-4754-b1dc-0f194ec52deb\", \"categories\": [0, 1, 2, 3, 4, 5, 6, 7, 8, 9, 10, 11, 12, 13], \"series\": [{\"data\": [\"Gathering dataset statistics.\", \"Generating features for the dataset.\", \"Beginning to fit featurizers and featurize the dataset.\", \"Completed fit featurizers and featurizing the dataset.\", \"Generating individually featurized CV splits.\", \"Beginning model selection.\", \"Best run model explanations started\", \"Model explanations data setup completed\", \"Choosing LightGBM as the surrogate model for explanations\", \"Computation of engineered features started\", \"Computation of engineered features completed\", \"Computation of raw features started\", \"Computation of raw features completed\", \"Best run model explanations completed\"]}]}, {\"name\": \"precision_score_macro\", \"run_id\": \"AutoML_4650437b-1121-4754-b1dc-0f194ec52deb\", \"categories\": [0], \"series\": [{\"data\": [0.8273361883995524]}]}, {\"name\": \"matthews_correlation\", \"run_id\": \"AutoML_4650437b-1121-4754-b1dc-0f194ec52deb\", \"categories\": [0], \"series\": [{\"data\": [0.6242785013234131]}]}, {\"name\": \"weighted_accuracy\", \"run_id\": \"AutoML_4650437b-1121-4754-b1dc-0f194ec52deb\", \"categories\": [0], \"series\": [{\"data\": [0.8497131923334388]}]}, {\"name\": \"precision_score_micro\", \"run_id\": \"AutoML_4650437b-1121-4754-b1dc-0f194ec52deb\", \"categories\": [0], \"series\": [{\"data\": [0.8252148997134672]}]}, {\"name\": \"norm_macro_recall\", \"run_id\": \"AutoML_4650437b-1121-4754-b1dc-0f194ec52deb\", \"categories\": [0], \"series\": [{\"data\": [0.5955614799654503]}]}, {\"name\": \"f1_score_micro\", \"run_id\": \"AutoML_4650437b-1121-4754-b1dc-0f194ec52deb\", \"categories\": [0], \"series\": [{\"data\": [0.8252148997134672]}]}, {\"name\": \"precision_score_weighted\", \"run_id\": \"AutoML_4650437b-1121-4754-b1dc-0f194ec52deb\", \"categories\": [0], \"series\": [{\"data\": [0.8267018585346695]}]}, {\"name\": \"AUC_weighted\", \"run_id\": \"AutoML_4650437b-1121-4754-b1dc-0f194ec52deb\", \"categories\": [0], \"series\": [{\"data\": [0.8662181137313042]}]}, {\"name\": \"average_precision_score_micro\", \"run_id\": \"AutoML_4650437b-1121-4754-b1dc-0f194ec52deb\", \"categories\": [0], \"series\": [{\"data\": [0.8634494401385941]}]}, {\"name\": \"AUC_macro\", \"run_id\": \"AutoML_4650437b-1121-4754-b1dc-0f194ec52deb\", \"categories\": [0], \"series\": [{\"data\": [0.866218113731304]}]}, {\"name\": \"recall_score_macro\", \"run_id\": \"AutoML_4650437b-1121-4754-b1dc-0f194ec52deb\", \"categories\": [0], \"series\": [{\"data\": [0.7977807399827253]}]}, {\"name\": \"recall_score_weighted\", \"run_id\": \"AutoML_4650437b-1121-4754-b1dc-0f194ec52deb\", \"categories\": [0], \"series\": [{\"data\": [0.8252148997134672]}]}, {\"name\": \"f1_score_macro\", \"run_id\": \"AutoML_4650437b-1121-4754-b1dc-0f194ec52deb\", \"categories\": [0], \"series\": [{\"data\": [0.8070152855658822]}]}, {\"name\": \"average_precision_score_weighted\", \"run_id\": \"AutoML_4650437b-1121-4754-b1dc-0f194ec52deb\", \"categories\": [0], \"series\": [{\"data\": [0.86468034255607]}]}, {\"name\": \"balanced_accuracy\", \"run_id\": \"AutoML_4650437b-1121-4754-b1dc-0f194ec52deb\", \"categories\": [0], \"series\": [{\"data\": [0.7977807399827253]}]}, {\"name\": \"AUC_micro\", \"run_id\": \"AutoML_4650437b-1121-4754-b1dc-0f194ec52deb\", \"categories\": [0], \"series\": [{\"data\": [0.8801350837294714]}]}, {\"name\": \"log_loss\", \"run_id\": \"AutoML_4650437b-1121-4754-b1dc-0f194ec52deb\", \"categories\": [0], \"series\": [{\"data\": [0.46469129830966766]}]}, {\"name\": \"f1_score_weighted\", \"run_id\": \"AutoML_4650437b-1121-4754-b1dc-0f194ec52deb\", \"categories\": [0], \"series\": [{\"data\": [0.8211065624723607]}]}, {\"name\": \"recall_score_micro\", \"run_id\": \"AutoML_4650437b-1121-4754-b1dc-0f194ec52deb\", \"categories\": [0], \"series\": [{\"data\": [0.8252148997134672]}]}, {\"name\": \"accuracy\", \"run_id\": \"AutoML_4650437b-1121-4754-b1dc-0f194ec52deb\", \"categories\": [0], \"series\": [{\"data\": [0.8252148997134672]}]}, {\"name\": \"average_precision_score_macro\", \"run_id\": \"AutoML_4650437b-1121-4754-b1dc-0f194ec52deb\", \"categories\": [0], \"series\": [{\"data\": [0.8584670928806548]}]}], \"run_logs\": \"\\nRun is completed.\", \"graph\": {}, \"widget_settings\": {\"childWidgetDisplay\": \"popup\", \"send_telemetry\": false, \"log_level\": \"INFO\", \"sdk_version\": \"1.20.0\"}, \"loading\": false}"
     },
     "metadata": {},
     "output_type": "display_data"
    },
    {
     "data": {
      "text/plain": [
       "{'runId': 'AutoML_4650437b-1121-4754-b1dc-0f194ec52deb',\n",
       " 'target': 'notebook138164',\n",
       " 'status': 'Completed',\n",
       " 'startTimeUtc': '2021-02-08T16:28:21.479984Z',\n",
       " 'endTimeUtc': '2021-02-08T16:47:58.055551Z',\n",
       " 'properties': {'num_iterations': '1000',\n",
       "  'training_type': 'TrainFull',\n",
       "  'acquisition_function': 'EI',\n",
       "  'primary_metric': 'accuracy',\n",
       "  'train_split': '0',\n",
       "  'acquisition_parameter': '0',\n",
       "  'num_cross_validation': None,\n",
       "  'target': 'notebook138164',\n",
       "  'AMLSettingsJsonString': '{\"path\":null,\"name\":\"automl-experiment-1\",\"subscription_id\":\"1b944a9b-fdae-4f97-aeb1-b7eea0beac53\",\"resource_group\":\"aml-quickstarts-138164\",\"workspace_name\":\"quick-starts-ws-138164\",\"region\":\"southcentralus\",\"compute_target\":\"notebook138164\",\"spark_service\":null,\"azure_service\":\"remote\",\"many_models\":false,\"pipeline_fetch_max_batch_size\":1,\"iterations\":1000,\"primary_metric\":\"accuracy\",\"task_type\":\"classification\",\"data_script\":null,\"validation_size\":0.0,\"n_cross_validations\":null,\"y_min\":null,\"y_max\":null,\"num_classes\":null,\"featurization\":\"auto\",\"_ignore_package_version_incompatibilities\":false,\"is_timeseries\":false,\"max_cores_per_iteration\":1,\"max_concurrent_iterations\":5,\"iteration_timeout_minutes\":null,\"mem_in_mb\":null,\"enforce_time_on_windows\":false,\"experiment_timeout_minutes\":20,\"experiment_exit_score\":null,\"whitelist_models\":null,\"blacklist_algos\":[\"TensorFlowLinearClassifier\",\"TensorFlowDNN\"],\"supported_models\":[\"SVM\",\"KNN\",\"LightGBM\",\"AveragedPerceptronClassifier\",\"DecisionTree\",\"LogisticRegression\",\"LinearSVM\",\"XGBoostClassifier\",\"SGD\",\"BernoulliNaiveBayes\",\"ExtremeRandomTrees\",\"RandomForest\",\"TensorFlowLinearClassifier\",\"MultinomialNaiveBayes\",\"TensorFlowDNN\",\"GradientBoosting\"],\"auto_blacklist\":true,\"blacklist_samples_reached\":false,\"exclude_nan_labels\":true,\"verbosity\":20,\"_debug_log\":\"azureml_automl.log\",\"show_warnings\":false,\"model_explainability\":true,\"service_url\":null,\"sdk_url\":null,\"sdk_packages\":null,\"enable_onnx_compatible_models\":false,\"enable_split_onnx_featurizer_estimator_models\":false,\"vm_type\":\"STANDARD_DS3_V2\",\"telemetry_verbosity\":20,\"send_telemetry\":true,\"enable_dnn\":false,\"scenario\":\"SDK-1.13.0\",\"environment_label\":null,\"force_text_dnn\":false,\"enable_feature_sweeping\":true,\"enable_early_stopping\":true,\"early_stopping_n_iters\":10,\"metrics\":null,\"enable_ensembling\":true,\"enable_stack_ensembling\":true,\"ensemble_iterations\":15,\"enable_tf\":false,\"enable_subsampling\":null,\"subsample_seed\":null,\"enable_nimbusml\":false,\"enable_streaming\":false,\"force_streaming\":false,\"track_child_runs\":true,\"allowed_private_models\":[],\"label_column_name\":\"survived\",\"weight_column_name\":null,\"cv_split_column_names\":null,\"enable_local_managed\":false,\"_local_managed_run_id\":null,\"cost_mode\":1,\"lag_length\":0,\"metric_operation\":\"maximize\",\"preprocess\":true}',\n",
       "  'DataPrepJsonString': '{\\\\\"training_data\\\\\": \\\\\"{\\\\\\\\\\\\\"blocks\\\\\\\\\\\\\": [{\\\\\\\\\\\\\"id\\\\\\\\\\\\\": \\\\\\\\\\\\\"4b3c0626-b94c-4925-9e04-cfbd0a6779ef\\\\\\\\\\\\\", \\\\\\\\\\\\\"type\\\\\\\\\\\\\": \\\\\\\\\\\\\"Microsoft.DPrep.GetDatastoreFilesBlock\\\\\\\\\\\\\", \\\\\\\\\\\\\"arguments\\\\\\\\\\\\\": {\\\\\\\\\\\\\"datastores\\\\\\\\\\\\\": [{\\\\\\\\\\\\\"datastoreName\\\\\\\\\\\\\": \\\\\\\\\\\\\"workspaceblobstore\\\\\\\\\\\\\", \\\\\\\\\\\\\"path\\\\\\\\\\\\\": \\\\\\\\\\\\\"data/prepared.csv\\\\\\\\\\\\\", \\\\\\\\\\\\\"resourceGroup\\\\\\\\\\\\\": \\\\\\\\\\\\\"aml-quickstarts-138164\\\\\\\\\\\\\", \\\\\\\\\\\\\"subscription\\\\\\\\\\\\\": \\\\\\\\\\\\\"1b944a9b-fdae-4f97-aeb1-b7eea0beac53\\\\\\\\\\\\\", \\\\\\\\\\\\\"workspaceName\\\\\\\\\\\\\": \\\\\\\\\\\\\"quick-starts-ws-138164\\\\\\\\\\\\\"}]}, \\\\\\\\\\\\\"localData\\\\\\\\\\\\\": {}, \\\\\\\\\\\\\"isEnabled\\\\\\\\\\\\\": true, \\\\\\\\\\\\\"name\\\\\\\\\\\\\": null, \\\\\\\\\\\\\"annotation\\\\\\\\\\\\\": null}, {\\\\\\\\\\\\\"id\\\\\\\\\\\\\": \\\\\\\\\\\\\"024fa740-9586-4270-b614-2b85fd90df9b\\\\\\\\\\\\\", \\\\\\\\\\\\\"type\\\\\\\\\\\\\": \\\\\\\\\\\\\"Microsoft.DPrep.ParseDelimitedBlock\\\\\\\\\\\\\", \\\\\\\\\\\\\"arguments\\\\\\\\\\\\\": {\\\\\\\\\\\\\"columnHeadersMode\\\\\\\\\\\\\": 3, \\\\\\\\\\\\\"fileEncoding\\\\\\\\\\\\\": 0, \\\\\\\\\\\\\"handleQuotedLineBreaks\\\\\\\\\\\\\": false, \\\\\\\\\\\\\"preview\\\\\\\\\\\\\": false, \\\\\\\\\\\\\"separator\\\\\\\\\\\\\": \\\\\\\\\\\\\",\\\\\\\\\\\\\", \\\\\\\\\\\\\"skipRows\\\\\\\\\\\\\": 0, \\\\\\\\\\\\\"skipRowsMode\\\\\\\\\\\\\": 0}, \\\\\\\\\\\\\"localData\\\\\\\\\\\\\": {}, \\\\\\\\\\\\\"isEnabled\\\\\\\\\\\\\": true, \\\\\\\\\\\\\"name\\\\\\\\\\\\\": null, \\\\\\\\\\\\\"annotation\\\\\\\\\\\\\": null}, {\\\\\\\\\\\\\"id\\\\\\\\\\\\\": \\\\\\\\\\\\\"6f8826a4-e07e-40d5-94ba-25d8affc9140\\\\\\\\\\\\\", \\\\\\\\\\\\\"type\\\\\\\\\\\\\": \\\\\\\\\\\\\"Microsoft.DPrep.DropColumnsBlock\\\\\\\\\\\\\", \\\\\\\\\\\\\"arguments\\\\\\\\\\\\\": {\\\\\\\\\\\\\"columns\\\\\\\\\\\\\": {\\\\\\\\\\\\\"type\\\\\\\\\\\\\": 0, \\\\\\\\\\\\\"details\\\\\\\\\\\\\": {\\\\\\\\\\\\\"selectedColumns\\\\\\\\\\\\\": [\\\\\\\\\\\\\"Path\\\\\\\\\\\\\"]}}}, \\\\\\\\\\\\\"localData\\\\\\\\\\\\\": {}, \\\\\\\\\\\\\"isEnabled\\\\\\\\\\\\\": true, \\\\\\\\\\\\\"name\\\\\\\\\\\\\": null, \\\\\\\\\\\\\"annotation\\\\\\\\\\\\\": null}, {\\\\\\\\\\\\\"id\\\\\\\\\\\\\": \\\\\\\\\\\\\"4acd413a-39ae-4038-bc38-7ae4bfc6ab37\\\\\\\\\\\\\", \\\\\\\\\\\\\"type\\\\\\\\\\\\\": \\\\\\\\\\\\\"Microsoft.DPrep.SetColumnTypesBlock\\\\\\\\\\\\\", \\\\\\\\\\\\\"arguments\\\\\\\\\\\\\": {\\\\\\\\\\\\\"columnConversion\\\\\\\\\\\\\": [{\\\\\\\\\\\\\"column\\\\\\\\\\\\\": {\\\\\\\\\\\\\"type\\\\\\\\\\\\\": 2, \\\\\\\\\\\\\"details\\\\\\\\\\\\\": {\\\\\\\\\\\\\"selectedColumn\\\\\\\\\\\\\": \\\\\\\\\\\\\"pclass\\\\\\\\\\\\\"}}, \\\\\\\\\\\\\"typeProperty\\\\\\\\\\\\\": 3}, {\\\\\\\\\\\\\"column\\\\\\\\\\\\\": {\\\\\\\\\\\\\"type\\\\\\\\\\\\\": 2, \\\\\\\\\\\\\"details\\\\\\\\\\\\\": {\\\\\\\\\\\\\"selectedColumn\\\\\\\\\\\\\": \\\\\\\\\\\\\"age\\\\\\\\\\\\\"}}, \\\\\\\\\\\\\"typeProperty\\\\\\\\\\\\\": 3}, {\\\\\\\\\\\\\"column\\\\\\\\\\\\\": {\\\\\\\\\\\\\"type\\\\\\\\\\\\\": 2, \\\\\\\\\\\\\"details\\\\\\\\\\\\\": {\\\\\\\\\\\\\"selectedColumn\\\\\\\\\\\\\": \\\\\\\\\\\\\"sibsp\\\\\\\\\\\\\"}}, \\\\\\\\\\\\\"typeProperty\\\\\\\\\\\\\": 3}, {\\\\\\\\\\\\\"column\\\\\\\\\\\\\": {\\\\\\\\\\\\\"type\\\\\\\\\\\\\": 2, \\\\\\\\\\\\\"details\\\\\\\\\\\\\": {\\\\\\\\\\\\\"selectedColumn\\\\\\\\\\\\\": \\\\\\\\\\\\\"parch\\\\\\\\\\\\\"}}, \\\\\\\\\\\\\"typeProperty\\\\\\\\\\\\\": 3}, {\\\\\\\\\\\\\"column\\\\\\\\\\\\\": {\\\\\\\\\\\\\"type\\\\\\\\\\\\\": 2, \\\\\\\\\\\\\"details\\\\\\\\\\\\\": {\\\\\\\\\\\\\"selectedColumn\\\\\\\\\\\\\": \\\\\\\\\\\\\"fare\\\\\\\\\\\\\"}}, \\\\\\\\\\\\\"typeProperty\\\\\\\\\\\\\": 3}, {\\\\\\\\\\\\\"column\\\\\\\\\\\\\": {\\\\\\\\\\\\\"type\\\\\\\\\\\\\": 2, \\\\\\\\\\\\\"details\\\\\\\\\\\\\": {\\\\\\\\\\\\\"selectedColumn\\\\\\\\\\\\\": \\\\\\\\\\\\\"age_NA\\\\\\\\\\\\\"}}, \\\\\\\\\\\\\"typeProperty\\\\\\\\\\\\\": 3}, {\\\\\\\\\\\\\"column\\\\\\\\\\\\\": {\\\\\\\\\\\\\"type\\\\\\\\\\\\\": 2, \\\\\\\\\\\\\"details\\\\\\\\\\\\\": {\\\\\\\\\\\\\"selectedColumn\\\\\\\\\\\\\": \\\\\\\\\\\\\"fare_NA\\\\\\\\\\\\\"}}, \\\\\\\\\\\\\"typeProperty\\\\\\\\\\\\\": 3}, {\\\\\\\\\\\\\"column\\\\\\\\\\\\\": {\\\\\\\\\\\\\"type\\\\\\\\\\\\\": 2, \\\\\\\\\\\\\"details\\\\\\\\\\\\\": {\\\\\\\\\\\\\"selectedColumn\\\\\\\\\\\\\": \\\\\\\\\\\\\"sex_male\\\\\\\\\\\\\"}}, \\\\\\\\\\\\\"typeProperty\\\\\\\\\\\\\": 3}, {\\\\\\\\\\\\\"column\\\\\\\\\\\\\": {\\\\\\\\\\\\\"type\\\\\\\\\\\\\": 2, \\\\\\\\\\\\\"details\\\\\\\\\\\\\": {\\\\\\\\\\\\\"selectedColumn\\\\\\\\\\\\\": \\\\\\\\\\\\\"cabin_Missing\\\\\\\\\\\\\"}}, \\\\\\\\\\\\\"typeProperty\\\\\\\\\\\\\": 3}, {\\\\\\\\\\\\\"column\\\\\\\\\\\\\": {\\\\\\\\\\\\\"type\\\\\\\\\\\\\": 2, \\\\\\\\\\\\\"details\\\\\\\\\\\\\": {\\\\\\\\\\\\\"selectedColumn\\\\\\\\\\\\\": \\\\\\\\\\\\\"cabin_Rare\\\\\\\\\\\\\"}}, \\\\\\\\\\\\\"typeProperty\\\\\\\\\\\\\": 3}, {\\\\\\\\\\\\\"column\\\\\\\\\\\\\": {\\\\\\\\\\\\\"type\\\\\\\\\\\\\": 2, \\\\\\\\\\\\\"details\\\\\\\\\\\\\": {\\\\\\\\\\\\\"selectedColumn\\\\\\\\\\\\\": \\\\\\\\\\\\\"embarked_Q\\\\\\\\\\\\\"}}, \\\\\\\\\\\\\"typeProperty\\\\\\\\\\\\\": 3}, {\\\\\\\\\\\\\"column\\\\\\\\\\\\\": {\\\\\\\\\\\\\"type\\\\\\\\\\\\\": 2, \\\\\\\\\\\\\"details\\\\\\\\\\\\\": {\\\\\\\\\\\\\"selectedColumn\\\\\\\\\\\\\": \\\\\\\\\\\\\"embarked_Rare\\\\\\\\\\\\\"}}, \\\\\\\\\\\\\"typeProperty\\\\\\\\\\\\\": 3}, {\\\\\\\\\\\\\"column\\\\\\\\\\\\\": {\\\\\\\\\\\\\"type\\\\\\\\\\\\\": 2, \\\\\\\\\\\\\"details\\\\\\\\\\\\\": {\\\\\\\\\\\\\"selectedColumn\\\\\\\\\\\\\": \\\\\\\\\\\\\"embarked_S\\\\\\\\\\\\\"}}, \\\\\\\\\\\\\"typeProperty\\\\\\\\\\\\\": 3}, {\\\\\\\\\\\\\"column\\\\\\\\\\\\\": {\\\\\\\\\\\\\"type\\\\\\\\\\\\\": 2, \\\\\\\\\\\\\"details\\\\\\\\\\\\\": {\\\\\\\\\\\\\"selectedColumn\\\\\\\\\\\\\": \\\\\\\\\\\\\"title_Mr\\\\\\\\\\\\\"}}, \\\\\\\\\\\\\"typeProperty\\\\\\\\\\\\\": 3}, {\\\\\\\\\\\\\"column\\\\\\\\\\\\\": {\\\\\\\\\\\\\"type\\\\\\\\\\\\\": 2, \\\\\\\\\\\\\"details\\\\\\\\\\\\\": {\\\\\\\\\\\\\"selectedColumn\\\\\\\\\\\\\": \\\\\\\\\\\\\"title_Mrs\\\\\\\\\\\\\"}}, \\\\\\\\\\\\\"typeProperty\\\\\\\\\\\\\": 3}, {\\\\\\\\\\\\\"column\\\\\\\\\\\\\": {\\\\\\\\\\\\\"type\\\\\\\\\\\\\": 2, \\\\\\\\\\\\\"details\\\\\\\\\\\\\": {\\\\\\\\\\\\\"selectedColumn\\\\\\\\\\\\\": \\\\\\\\\\\\\"title_Rare\\\\\\\\\\\\\"}}, \\\\\\\\\\\\\"typeProperty\\\\\\\\\\\\\": 3}, {\\\\\\\\\\\\\"column\\\\\\\\\\\\\": {\\\\\\\\\\\\\"type\\\\\\\\\\\\\": 2, \\\\\\\\\\\\\"details\\\\\\\\\\\\\": {\\\\\\\\\\\\\"selectedColumn\\\\\\\\\\\\\": \\\\\\\\\\\\\"survived\\\\\\\\\\\\\"}}, \\\\\\\\\\\\\"typeProperty\\\\\\\\\\\\\": 2}]}, \\\\\\\\\\\\\"localData\\\\\\\\\\\\\": {}, \\\\\\\\\\\\\"isEnabled\\\\\\\\\\\\\": true, \\\\\\\\\\\\\"name\\\\\\\\\\\\\": null, \\\\\\\\\\\\\"annotation\\\\\\\\\\\\\": null}], \\\\\\\\\\\\\"inspectors\\\\\\\\\\\\\": [], \\\\\\\\\\\\\"meta\\\\\\\\\\\\\": {\\\\\\\\\\\\\"savedDatasetId\\\\\\\\\\\\\": \\\\\\\\\\\\\"95ab181e-60b0-4faf-8909-700ecdced95e\\\\\\\\\\\\\", \\\\\\\\\\\\\"datasetType\\\\\\\\\\\\\": \\\\\\\\\\\\\"tabular\\\\\\\\\\\\\", \\\\\\\\\\\\\"subscriptionId\\\\\\\\\\\\\": \\\\\\\\\\\\\"1b944a9b-fdae-4f97-aeb1-b7eea0beac53\\\\\\\\\\\\\", \\\\\\\\\\\\\"workspaceId\\\\\\\\\\\\\": \\\\\\\\\\\\\"f5b1679e-ca5d-4ea5-a056-44d7c40d9a11\\\\\\\\\\\\\", \\\\\\\\\\\\\"workspaceLocation\\\\\\\\\\\\\": \\\\\\\\\\\\\"southcentralus\\\\\\\\\\\\\"}}\\\\\", \\\\\"activities\\\\\": 0}',\n",
       "  'EnableSubsampling': None,\n",
       "  'runTemplate': 'AutoML',\n",
       "  'azureml.runsource': 'automl',\n",
       "  'display_task_type': 'classification',\n",
       "  'dependencies_versions': '{\"azureml-widgets\": \"1.20.0\", \"azureml-train\": \"1.20.0\", \"azureml-train-restclients-hyperdrive\": \"1.20.0\", \"azureml-train-core\": \"1.20.0\", \"azureml-train-automl\": \"1.20.0\", \"azureml-train-automl-runtime\": \"1.20.0\", \"azureml-train-automl-client\": \"1.20.0\", \"azureml-tensorboard\": \"1.20.0\", \"azureml-telemetry\": \"1.20.0\", \"azureml-sdk\": \"1.20.0\", \"azureml-samples\": \"0+unknown\", \"azureml-pipeline\": \"1.20.0\", \"azureml-pipeline-steps\": \"1.20.0\", \"azureml-pipeline-core\": \"1.20.0\", \"azureml-opendatasets\": \"1.20.0\", \"azureml-model-management-sdk\": \"1.0.1b6.post1\", \"azureml-mlflow\": \"1.20.0.post1\", \"azureml-interpret\": \"1.20.0\", \"azureml-explain-model\": \"1.20.0\", \"azureml-defaults\": \"1.20.0\", \"azureml-dataset-runtime\": \"1.20.0\", \"azureml-dataprep\": \"2.7.3\", \"azureml-dataprep-rslex\": \"1.5.0\", \"azureml-dataprep-native\": \"27.0.0\", \"azureml-datadrift\": \"1.20.0\", \"azureml-core\": \"1.20.0\", \"azureml-contrib-services\": \"1.20.0\", \"azureml-contrib-server\": \"1.20.0\", \"azureml-contrib-reinforcementlearning\": \"1.20.0\", \"azureml-contrib-pipeline-steps\": \"1.20.0\", \"azureml-contrib-notebook\": \"1.20.0\", \"azureml-contrib-interpret\": \"1.20.0\", \"azureml-contrib-gbdt\": \"1.20.0\", \"azureml-contrib-fairness\": \"1.20.0\", \"azureml-contrib-dataset\": \"1.20.0\", \"azureml-cli-common\": \"1.20.0\", \"azureml-automl-runtime\": \"1.20.0\", \"azureml-automl-core\": \"1.20.0\", \"azureml-accel-models\": \"1.20.0\"}',\n",
       "  '_aml_system_scenario_identification': 'Remote.Parent',\n",
       "  'ClientType': 'SDK',\n",
       "  'environment_cpu_name': 'AzureML-AutoML',\n",
       "  'environment_cpu_label': 'prod',\n",
       "  'environment_gpu_name': 'AzureML-AutoML-GPU',\n",
       "  'environment_gpu_label': 'prod',\n",
       "  'root_attribution': 'automl',\n",
       "  'attribution': 'AutoML',\n",
       "  'Orchestrator': 'AutoML',\n",
       "  'CancelUri': 'https://southcentralus.experiments.azureml.net/jasmine/v1.0/subscriptions/1b944a9b-fdae-4f97-aeb1-b7eea0beac53/resourceGroups/aml-quickstarts-138164/providers/Microsoft.MachineLearningServices/workspaces/quick-starts-ws-138164/experimentids/82401cde-a352-4795-8ae0-6d884aa16305/cancel/AutoML_4650437b-1121-4754-b1dc-0f194ec52deb',\n",
       "  'ClientSdkVersion': '1.21.0',\n",
       "  'snapshotId': '00000000-0000-0000-0000-000000000000',\n",
       "  'SetupRunId': 'AutoML_4650437b-1121-4754-b1dc-0f194ec52deb_setup',\n",
       "  'SetupRunContainerId': 'dcid.AutoML_4650437b-1121-4754-b1dc-0f194ec52deb_setup',\n",
       "  'FeaturizationRunJsonPath': 'featurizer_container.json',\n",
       "  'FeaturizationRunId': 'AutoML_4650437b-1121-4754-b1dc-0f194ec52deb_featurize',\n",
       "  'ProblemInfoJsonString': '{\"dataset_num_categorical\": 0, \"is_sparse\": false, \"subsampling\": false, \"dataset_classes\": 2, \"dataset_features\": 16, \"dataset_samples\": 1047, \"single_frequency_class_detected\": false}',\n",
       "  'ModelExplainRunId': 'AutoML_4650437b-1121-4754-b1dc-0f194ec52deb_ModelExplain'},\n",
       " 'inputDatasets': [{'dataset': {'id': '95ab181e-60b0-4faf-8909-700ecdced95e'}, 'consumptionDetails': {'type': 'RunInput', 'inputName': 'training_data', 'mechanism': 'Direct'}}],\n",
       " 'outputDatasets': [],\n",
       " 'logFiles': {},\n",
       " 'submittedBy': 'ODL_User 138164'}"
      ]
     },
     "execution_count": 24,
     "metadata": {},
     "output_type": "execute_result"
    }
   ],
   "source": [
    "#Additional Run Details\n",
    "from azureml.widgets import RunDetails\n",
    "\n",
    "RunDetails(automl_run).show()\n",
    "\n",
    "# wait for completion\n",
    "automl_run.wait_for_completion()"
   ]
  },
  {
   "cell_type": "code",
   "execution_count": 25,
   "metadata": {
    "collapsed": true,
    "gather": {
     "logged": 1612803039483
    },
    "jupyter": {
     "outputs_hidden": false,
     "source_hidden": false
    },
    "nteract": {
     "transient": {
      "deleting": false
     }
    }
   },
   "outputs": [
    {
     "name": "stderr",
     "output_type": "stream",
     "text": [
      "WARNING:root:The version of the SDK does not match the version the model was trained on.\n",
      "WARNING:root:The consistency in the result may not be guaranteed.\n",
      "WARNING:root:Package:azureml-automl-core, training version:1.21.0, current version:1.20.0\n",
      "Package:azureml-automl-runtime, training version:1.21.0, current version:1.20.0\n",
      "Package:azureml-core, training version:1.21.0.post1, current version:1.20.0\n",
      "Package:azureml-dataprep, training version:2.8.2, current version:2.7.3\n",
      "Package:azureml-dataprep-native, training version:28.0.0, current version:27.0.0\n",
      "Package:azureml-dataprep-rslex, training version:1.6.0, current version:1.5.0\n",
      "Package:azureml-dataset-runtime, training version:1.21.0, current version:1.20.0\n",
      "Package:azureml-defaults, training version:1.21.0, current version:1.20.0\n",
      "Package:azureml-interpret, training version:1.21.0, current version:1.20.0\n",
      "Package:azureml-pipeline-core, training version:1.21.0, current version:1.20.0\n",
      "Package:azureml-telemetry, training version:1.21.0, current version:1.20.0\n",
      "Package:azureml-train-automl-client, training version:1.21.0, current version:1.20.0\n",
      "Package:azureml-train-automl-runtime, training version:1.21.0, current version:1.20.0\n",
      "WARNING:root:Please ensure the version of your local conda dependencies match the version on which your model was trained in order to properly retrieve your model.\n"
     ]
    },
    {
     "data": {
      "text/plain": [
       "(Run(Experiment: automl-experiment-1,\n",
       " Id: AutoML_4650437b-1121-4754-b1dc-0f194ec52deb_46,\n",
       " Type: azureml.scriptrun,\n",
       " Status: Completed),\n",
       " Pipeline(memory=None,\n",
       "          steps=[('datatransformer',\n",
       "                  DataTransformer(enable_dnn=None, enable_feature_sweeping=None,\n",
       "                                  feature_sweeping_config=None,\n",
       "                                  feature_sweeping_timeout=None,\n",
       "                                  featurization_config=None, force_text_dnn=None,\n",
       "                                  is_cross_validation=None,\n",
       "                                  is_onnx_compatible=None, logger=None,\n",
       "                                  observer=None, task=None, working_dir=None)),\n",
       "                 ('prefittedsoftvotingclassifier',...\n",
       "                                                                                                reg_lambda=1.7708333333333335,\n",
       "                                                                                                scale_pos_weight=1,\n",
       "                                                                                                seed=None,\n",
       "                                                                                                silent=None,\n",
       "                                                                                                subsample=1,\n",
       "                                                                                                tree_method='auto',\n",
       "                                                                                                verbose=-10,\n",
       "                                                                                                verbosity=0))],\n",
       "                                                                      verbose=False))],\n",
       "                                                flatten_transform=None,\n",
       "                                                weights=[0.07692307692307693,\n",
       "                                                         0.07692307692307693,\n",
       "                                                         0.15384615384615385,\n",
       "                                                         0.15384615384615385,\n",
       "                                                         0.07692307692307693,\n",
       "                                                         0.07692307692307693,\n",
       "                                                         0.15384615384615385,\n",
       "                                                         0.07692307692307693,\n",
       "                                                         0.15384615384615385]))],\n",
       "          verbose=False))"
      ]
     },
     "execution_count": 25,
     "metadata": {},
     "output_type": "execute_result"
    }
   ],
   "source": [
    "#Get generic outputs from the automl_run\n",
    "automl_run.get_output()\n"
   ]
  },
  {
   "cell_type": "code",
   "execution_count": 26,
   "metadata": {
    "collapsed": true,
    "gather": {
     "logged": 1612803063173
    },
    "jupyter": {
     "outputs_hidden": false,
     "source_hidden": false
    },
    "nteract": {
     "transient": {
      "deleting": false
     }
    }
   },
   "outputs": [
    {
     "name": "stderr",
     "output_type": "stream",
     "text": [
      "WARNING:root:The version of the SDK does not match the version the model was trained on.\n",
      "WARNING:root:The consistency in the result may not be guaranteed.\n",
      "WARNING:root:Package:azureml-automl-core, training version:1.21.0, current version:1.20.0\n",
      "Package:azureml-automl-runtime, training version:1.21.0, current version:1.20.0\n",
      "Package:azureml-core, training version:1.21.0.post1, current version:1.20.0\n",
      "Package:azureml-dataprep, training version:2.8.2, current version:2.7.3\n",
      "Package:azureml-dataprep-native, training version:28.0.0, current version:27.0.0\n",
      "Package:azureml-dataprep-rslex, training version:1.6.0, current version:1.5.0\n",
      "Package:azureml-dataset-runtime, training version:1.21.0, current version:1.20.0\n",
      "Package:azureml-defaults, training version:1.21.0, current version:1.20.0\n",
      "Package:azureml-interpret, training version:1.21.0, current version:1.20.0\n",
      "Package:azureml-pipeline-core, training version:1.21.0, current version:1.20.0\n",
      "Package:azureml-telemetry, training version:1.21.0, current version:1.20.0\n",
      "Package:azureml-train-automl-client, training version:1.21.0, current version:1.20.0\n",
      "Package:azureml-train-automl-runtime, training version:1.21.0, current version:1.20.0\n",
      "WARNING:root:Please ensure the version of your local conda dependencies match the version on which your model was trained in order to properly retrieve your model.\n"
     ]
    },
    {
     "name": "stdout",
     "output_type": "stream",
     "text": [
      "Best AutoML run:  Run(Experiment: automl-experiment-1,\n",
      "Id: AutoML_4650437b-1121-4754-b1dc-0f194ec52deb_46,\n",
      "Type: azureml.scriptrun,\n",
      "Status: Completed)\n",
      "Best AutoML model : Pipeline(memory=None,\n",
      "         steps=[('datatransformer',\n",
      "                 DataTransformer(enable_dnn=None, enable_feature_sweeping=None,\n",
      "                                 feature_sweeping_config=None,\n",
      "                                 feature_sweeping_timeout=None,\n",
      "                                 featurization_config=None, force_text_dnn=None,\n",
      "                                 is_cross_validation=None,\n",
      "                                 is_onnx_compatible=None, logger=None,\n",
      "                                 observer=None, task=None, working_dir=None)),\n",
      "                ('prefittedsoftvotingclassifier',...\n",
      "                                                                                               reg_lambda=1.7708333333333335,\n",
      "                                                                                               scale_pos_weight=1,\n",
      "                                                                                               seed=None,\n",
      "                                                                                               silent=None,\n",
      "                                                                                               subsample=1,\n",
      "                                                                                               tree_method='auto',\n",
      "                                                                                               verbose=-10,\n",
      "                                                                                               verbosity=0))],\n",
      "                                                                     verbose=False))],\n",
      "                                               flatten_transform=None,\n",
      "                                               weights=[0.07692307692307693,\n",
      "                                                        0.07692307692307693,\n",
      "                                                        0.15384615384615385,\n",
      "                                                        0.15384615384615385,\n",
      "                                                        0.07692307692307693,\n",
      "                                                        0.07692307692307693,\n",
      "                                                        0.15384615384615385,\n",
      "                                                        0.07692307692307693,\n",
      "                                                        0.15384615384615385]))],\n",
      "         verbose=False)\n",
      "Best_model name:  AutoML4650437b146\n"
     ]
    },
    {
     "data": {
      "text/plain": [
       "{'runTemplate': 'automl_child',\n",
       " 'pipeline_id': '__AutoML_Ensemble__',\n",
       " 'pipeline_spec': '{\"pipeline_id\":\"__AutoML_Ensemble__\",\"objects\":[{\"module\":\"azureml.train.automl.ensemble\",\"class_name\":\"Ensemble\",\"spec_class\":\"sklearn\",\"param_args\":[],\"param_kwargs\":{\"automl_settings\":\"{\\'task_type\\':\\'classification\\',\\'primary_metric\\':\\'accuracy\\',\\'verbosity\\':20,\\'ensemble_iterations\\':15,\\'is_timeseries\\':False,\\'name\\':\\'automl-experiment-1\\',\\'compute_target\\':\\'notebook138164\\',\\'subscription_id\\':\\'1b944a9b-fdae-4f97-aeb1-b7eea0beac53\\',\\'region\\':\\'southcentralus\\',\\'spark_service\\':None}\",\"ensemble_run_id\":\"AutoML_4650437b-1121-4754-b1dc-0f194ec52deb_46\",\"experiment_name\":\"automl-experiment-1\",\"workspace_name\":\"quick-starts-ws-138164\",\"subscription_id\":\"1b944a9b-fdae-4f97-aeb1-b7eea0beac53\",\"resource_group_name\":\"aml-quickstarts-138164\"}}]}',\n",
       " 'training_percent': '100',\n",
       " 'predicted_cost': None,\n",
       " 'iteration': '46',\n",
       " '_aml_system_scenario_identification': 'Remote.Child',\n",
       " '_azureml.ComputeTargetType': 'amlcompute',\n",
       " 'ContentSnapshotId': '476c59f0-370d-4771-b37a-fa67b0989579',\n",
       " 'ProcessInfoFile': 'azureml-logs/process_info.json',\n",
       " 'ProcessStatusFile': 'azureml-logs/process_status.json',\n",
       " 'run_template': 'automl_child',\n",
       " 'run_preprocessor': '',\n",
       " 'run_algorithm': 'VotingEnsemble',\n",
       " 'conda_env_data_location': 'aml://artifact/ExperimentRun/dcid.AutoML_4650437b-1121-4754-b1dc-0f194ec52deb_46/outputs/conda_env_v_1_0_0.yml',\n",
       " 'model_data_location': 'aml://artifact/ExperimentRun/dcid.AutoML_4650437b-1121-4754-b1dc-0f194ec52deb_46/outputs/model.pkl',\n",
       " 'model_size_on_disk': '750158',\n",
       " 'scoring_data_location': 'aml://artifact/ExperimentRun/dcid.AutoML_4650437b-1121-4754-b1dc-0f194ec52deb_46/outputs/scoring_file_v_1_0_0.py',\n",
       " 'model_exp_support': 'True',\n",
       " 'pipeline_graph_version': '1.0.0',\n",
       " 'model_name': 'AutoML4650437b146',\n",
       " 'staticProperties': '{}',\n",
       " 'score': '0.8252148997134672',\n",
       " 'run_properties': \"classification_labels=None,\\n                              estimators=[('27',\\n                                           Pipeline(memory=None,\\n                                                    steps=[('standardscalerwrapper',\\n                                                            <azureml.automl.runtime.shared.model_wrappers.StandardScalerWrapper object at 0x7ff9992f9940>\",\n",
       " 'pipeline_script': '{\"pipeline_id\":\"__AutoML_Ensemble__\",\"objects\":[{\"module\":\"azureml.train.automl.ensemble\",\"class_name\":\"Ensemble\",\"spec_class\":\"sklearn\",\"param_args\":[],\"param_kwargs\":{\"automl_settings\":\"{\\'task_type\\':\\'classification\\',\\'primary_metric\\':\\'accuracy\\',\\'verbosity\\':20,\\'ensemble_iterations\\':15,\\'is_timeseries\\':False,\\'name\\':\\'automl-experiment-1\\',\\'compute_target\\':\\'notebook138164\\',\\'subscription_id\\':\\'1b944a9b-fdae-4f97-aeb1-b7eea0beac53\\',\\'region\\':\\'southcentralus\\',\\'spark_service\\':None}\",\"ensemble_run_id\":\"AutoML_4650437b-1121-4754-b1dc-0f194ec52deb_46\",\"experiment_name\":\"automl-experiment-1\",\"workspace_name\":\"quick-starts-ws-138164\",\"subscription_id\":\"1b944a9b-fdae-4f97-aeb1-b7eea0beac53\",\"resource_group_name\":\"aml-quickstarts-138164\"}}]}',\n",
       " 'training_type': 'MeanCrossValidation',\n",
       " 'num_classes': '',\n",
       " 'framework': 'sklearn',\n",
       " 'fit_time': '31',\n",
       " 'goal': 'accuracy_max',\n",
       " 'class_labels': '',\n",
       " 'primary_metric': 'accuracy',\n",
       " 'errors': '{}',\n",
       " 'onnx_model_resource': '{}',\n",
       " 'error_code': '',\n",
       " 'failure_reason': '',\n",
       " 'feature_skus': 'automatedml_sdk_guardrails',\n",
       " 'dependencies_versions': '{\"azureml-train-automl-runtime\": \"1.21.0\", \"azureml-train-automl-client\": \"1.21.0\", \"azureml-telemetry\": \"1.21.0\", \"azureml-pipeline-core\": \"1.21.0\", \"azureml-model-management-sdk\": \"1.0.1b6.post1\", \"azureml-interpret\": \"1.21.0\", \"azureml-defaults\": \"1.21.0\", \"azureml-dataset-runtime\": \"1.21.0\", \"azureml-dataprep\": \"2.8.2\", \"azureml-dataprep-rslex\": \"1.6.0\", \"azureml-dataprep-native\": \"28.0.0\", \"azureml-core\": \"1.21.0.post1\", \"azureml-automl-runtime\": \"1.21.0\", \"azureml-automl-core\": \"1.21.0\"}',\n",
       " 'num_cores': '4',\n",
       " 'num_logical_cores': '4',\n",
       " 'peak_memory_usage': '556860',\n",
       " 'vm_configuration': 'Intel(R) Xeon(R) Platinum 8171M CPU @ 2.60GHz',\n",
       " 'core_hours': '0.010441846944444444'}"
      ]
     },
     "execution_count": 26,
     "metadata": {},
     "output_type": "execute_result"
    }
   ],
   "source": [
    "#Get the best model outputs\n",
    "best_automl_run, best_model = automl_run.get_output()\n",
    "\n",
    "\n",
    "# Retrieve the best automl run model\n",
    "print('Best AutoML run: ', best_automl_run)\n",
    "print('Best AutoML model :', best_model)\n",
    "\n",
    "# get best model and display properties\n",
    "model_name = best_automl_run.properties['model_name']\n",
    "print('Best_model name: ', model_name)\n",
    "\n",
    "# display all the properties of the best model\n",
    "best_automl_run.get_properties()"
   ]
  },
  {
   "cell_type": "code",
   "execution_count": 27,
   "metadata": {
    "collapsed": true,
    "gather": {
     "logged": 1612803097305
    },
    "jupyter": {
     "outputs_hidden": false,
     "source_hidden": false
    },
    "nteract": {
     "transient": {
      "deleting": false
     }
    }
   },
   "outputs": [
    {
     "name": "stdout",
     "output_type": "stream",
     "text": [
      "AutoML_4650437b-1121-4754-b1dc-0f194ec52deb_46\n"
     ]
    }
   ],
   "source": [
    "#Get the best model id\n",
    "print(best_automl_run.id)"
   ]
  },
  {
   "cell_type": "code",
   "execution_count": 28,
   "metadata": {
    "collapsed": true,
    "gather": {
     "logged": 1612803119090
    },
    "jupyter": {
     "outputs_hidden": false,
     "source_hidden": false
    },
    "nteract": {
     "transient": {
      "deleting": false
     }
    }
   },
   "outputs": [
    {
     "data": {
      "text/plain": [
       "['best_automl_model.pkl']"
      ]
     },
     "execution_count": 28,
     "metadata": {},
     "output_type": "execute_result"
    }
   ],
   "source": [
    "#Save the best AutoML model\n",
    "\n",
    "import joblib\n",
    "\n",
    "joblib.dump(best_model, 'best_automl_model.pkl')"
   ]
  },
  {
   "cell_type": "code",
   "execution_count": 29,
   "metadata": {
    "gather": {
     "logged": 1612803144972
    }
   },
   "outputs": [
    {
     "name": "stdout",
     "output_type": "stream",
     "text": [
      "Registering model best-titanicMLmodel\n",
      "AutoML RunID: \tAutoML_4650437b-1121-4754-b1dc-0f194ec52deb\n"
     ]
    }
   ],
   "source": [
    "# register best AutoML model for future deployment\n",
    "\n",
    "from azureml.core.model import Model\n",
    "description = 'AutoML Model trained on the titanic dataset'\n",
    "tags = {'area': 'data science beginners', 'type': 'classification'}\n",
    "\n",
    "automl_model = Model.register(workspace =ws,\n",
    "                              model_name = 'best-titanicMLmodel',\n",
    "                              model_path = 'best_automl_model.pkl',\n",
    "                             description = description, tags = tags)\n",
    "\n",
    "print('AutoML RunID: ', automl_run.id, sep='\\t')"
   ]
  },
  {
   "cell_type": "code",
   "execution_count": null,
   "metadata": {},
   "outputs": [],
   "source": [
    "#Prepare deploying of the model as a web service\n",
    "from azureml.core.model import InferenceConfig\n",
    "from azureml.core.webservice import AciWebservice\n",
    "from azureml.core import Environment\n",
    "from azureml.core.model import Model\n",
    "from azureml.core.conda_dependencies import CondaDependencies\n"
   ]
  },
  {
   "cell_type": "code",
   "execution_count": 53,
   "metadata": {
    "collapsed": true,
    "gather": {
     "logged": 1612806348039
    },
    "jupyter": {
     "outputs_hidden": false,
     "source_hidden": false
    },
    "nteract": {
     "transient": {
      "deleting": false
     }
    }
   },
   "outputs": [],
   "source": [
    "#Setup Environment\n",
    "env = Environment.get(workspace=ws, name='AzureML-AutoML')"
   ]
  },
  {
   "cell_type": "code",
   "execution_count": 54,
   "metadata": {
    "collapsed": true,
    "gather": {
     "logged": 1612806352240
    },
    "jupyter": {
     "outputs_hidden": false,
     "source_hidden": false
    },
    "nteract": {
     "transient": {
      "deleting": false
     }
    }
   },
   "outputs": [
    {
     "name": "stdout",
     "output_type": "stream",
     "text": [
      "packages channels:\n",
      "- anaconda\n",
      "- conda-forge\n",
      "- pytorch\n",
      "dependencies:\n",
      "- python=3.6.2\n",
      "- pip=20.2.4\n",
      "- pip:\n",
      "  - azureml-core==1.21.0.post1\n",
      "  - azureml-pipeline-core==1.21.0\n",
      "  - azureml-telemetry==1.21.0\n",
      "  - azureml-defaults==1.21.0\n",
      "  - azureml-interpret==1.21.0\n",
      "  - azureml-automl-core==1.21.0\n",
      "  - azureml-automl-runtime==1.21.0\n",
      "  - azureml-train-automl-client==1.21.0\n",
      "  - azureml-train-automl-runtime==1.21.0.post1\n",
      "  - azureml-dataset-runtime==1.21.0\n",
      "  - inference-schema\n",
      "  - py-cpuinfo==5.0.0\n",
      "  - boto3==1.15.18\n",
      "  - botocore==1.18.18\n",
      "- numpy~=1.18.0\n",
      "- scikit-learn==0.22.1\n",
      "- pandas~=0.25.0\n",
      "- py-xgboost<=0.90\n",
      "- fbprophet==0.5\n",
      "- holidays==0.9.11\n",
      "- setuptools-git\n",
      "- psutil>5.0.0,<6.0.0\n",
      "name: azureml_7ade26eb614f97df8030bc480da59236\n",
      "\n"
     ]
    }
   ],
   "source": [
    "#Chekc environment dependencies\n",
    "print(\"packages\", env.python.conda_dependencies.serialize_to_string())"
   ]
  },
  {
   "cell_type": "code",
   "execution_count": 55,
   "metadata": {
    "collapsed": true,
    "gather": {
     "logged": 1612806374855
    },
    "jupyter": {
     "outputs_hidden": false,
     "source_hidden": false
    },
    "nteract": {
     "transient": {
      "deleting": false
     }
    }
   },
   "outputs": [],
   "source": [
    "#setup the inference and aci config\n",
    "inference_config = InferenceConfig(entry_script='score.py', environment=env)\n",
    "aci_config = AciWebservice.deploy_configuration(cpu_cores=1, memory_gb=4, enable_app_insights=True, auth_enabled=True)\n"
   ]
  },
  {
   "cell_type": "code",
   "execution_count": 56,
   "metadata": {
    "collapsed": true,
    "gather": {
     "logged": 1612806525913
    },
    "jupyter": {
     "outputs_hidden": false,
     "source_hidden": false
    },
    "nteract": {
     "transient": {
      "deleting": false
     }
    }
   },
   "outputs": [
    {
     "name": "stdout",
     "output_type": "stream",
     "text": [
      "Tips: You can try get_logs(): https://aka.ms/debugimage#dockerlog or local deployment: https://aka.ms/debugimage#debug-locally to debug if deployment takes longer than 10 minutes.\n",
      "Running..........................\n",
      "Succeeded\n",
      "ACI service creation operation finished, operation \"Succeeded\"\n"
     ]
    }
   ],
   "source": [
    "#Deploy\n",
    "service_name = 'my-ml-service'\n",
    "\n",
    "model = Model(ws,name='best-titanicMLmodel')\n",
    "service = Model.deploy(workspace=ws,\n",
    "                       name=service_name,\n",
    "                       models=[model],\n",
    "                       inference_config=inference_config,\n",
    "                       deployment_config=aci_config,\n",
    "                       overwrite=True)\n",
    "\n",
    "service.wait_for_deployment(show_output=True)"
   ]
  },
  {
   "cell_type": "code",
   "execution_count": 57,
   "metadata": {
    "collapsed": true,
    "gather": {
     "logged": 1612806543093
    },
    "jupyter": {
     "outputs_hidden": false,
     "source_hidden": false
    },
    "nteract": {
     "transient": {
      "deleting": false
     }
    }
   },
   "outputs": [
    {
     "data": {
      "text/plain": [
       "'/usr/sbin/nginx: /azureml-envs/azureml_7ade26eb614f97df8030bc480da59236/lib/libcrypto.so.1.0.0: no version information available (required by /usr/sbin/nginx)\\n/usr/sbin/nginx: /azureml-envs/azureml_7ade26eb614f97df8030bc480da59236/lib/libcrypto.so.1.0.0: no version information available (required by /usr/sbin/nginx)\\n/usr/sbin/nginx: /azureml-envs/azureml_7ade26eb614f97df8030bc480da59236/lib/libssl.so.1.0.0: no version information available (required by /usr/sbin/nginx)\\n/usr/sbin/nginx: /azureml-envs/azureml_7ade26eb614f97df8030bc480da59236/lib/libssl.so.1.0.0: no version information available (required by /usr/sbin/nginx)\\n/usr/sbin/nginx: /azureml-envs/azureml_7ade26eb614f97df8030bc480da59236/lib/libssl.so.1.0.0: no version information available (required by /usr/sbin/nginx)\\n2021-02-08T17:48:34,348471553+00:00 - iot-server/run \\n2021-02-08T17:48:34,349282809+00:00 - rsyslog/run \\n2021-02-08T17:48:34,350975325+00:00 - nginx/run \\n2021-02-08T17:48:34,350966925+00:00 - gunicorn/run \\nrsyslogd: /azureml-envs/azureml_7ade26eb614f97df8030bc480da59236/lib/libuuid.so.1: no version information available (required by rsyslogd)\\nEdgeHubConnectionString and IOTEDGE_IOTHUBHOSTNAME are not set. Exiting...\\n2021-02-08T17:48:34,487749744+00:00 - iot-server/finish 1 0\\n2021-02-08T17:48:34,489299551+00:00 - Exit code 1 is normal. Not restarting iot-server.\\nStarting gunicorn 19.9.0\\nListening at: http://127.0.0.1:31311 (12)\\nUsing worker: sync\\nworker timeout is set to 300\\nBooting worker with pid: 42\\nSPARK_HOME not set. Skipping PySpark Initialization.\\nGenerating new fontManager, this may take some time...\\nInitializing logger\\n2021-02-08 17:48:35,671 | root | INFO | Starting up app insights client\\n2021-02-08 17:48:35,671 | root | INFO | Starting up request id generator\\n2021-02-08 17:48:35,672 | root | INFO | Starting up app insight hooks\\n2021-02-08 17:48:35,672 | root | INFO | Invoking user\\'s init function\\nFound model:\\nTrue\\n2021-02-08 17:48:38,066 | root | INFO | Users\\'s init has completed successfully\\n2021-02-08 17:48:38,071 | root | INFO | Skipping middleware: dbg_model_info as it\\'s not enabled.\\n2021-02-08 17:48:38,071 | root | INFO | Skipping middleware: dbg_resource_usage as it\\'s not enabled.\\n2021-02-08 17:48:38,072 | root | INFO | Scoring timeout is found from os.environ: 60000 ms\\n2021-02-08 17:48:41,421 | root | INFO | Swagger file not present\\n2021-02-08 17:48:41,421 | root | INFO | 404\\n127.0.0.1 - - [08/Feb/2021:17:48:41 +0000] \"GET /swagger.json HTTP/1.0\" 404 19 \"-\" \"Go-http-client/1.1\"\\n2021-02-08 17:48:45,555 | root | INFO | Swagger file not present\\n2021-02-08 17:48:45,555 | root | INFO | 404\\n127.0.0.1 - - [08/Feb/2021:17:48:45 +0000] \"GET /swagger.json HTTP/1.0\" 404 19 \"-\" \"Go-http-client/1.1\"\\n'"
      ]
     },
     "execution_count": 57,
     "metadata": {},
     "output_type": "execute_result"
    }
   ],
   "source": [
    "service.get_logs()"
   ]
  },
  {
   "cell_type": "code",
   "execution_count": 58,
   "metadata": {
    "gather": {
     "logged": 1612806554530
    }
   },
   "outputs": [
    {
     "name": "stdout",
     "output_type": "stream",
     "text": [
      "Healthy\n",
      "scoring URI: http://87897773-cb15-40d5-ba0d-ba8285d8f467.southcentralus.azurecontainer.io/score\n",
      "Swagger URI: http://87897773-cb15-40d5-ba0d-ba8285d8f467.southcentralus.azurecontainer.io/swagger.json\n",
      "Primary Authentication Key: iBX2glUB3xcahOndX5AW62WoVbRiDcIZ\n"
     ]
    }
   ],
   "source": [
    "# print service state\n",
    "print(service.state)\n",
    "# print scoring URI\n",
    "print('scoring URI: ' + service.scoring_uri)\n",
    "# print Swagger URI\n",
    "print('Swagger URI: ' + service.swagger_uri)\n",
    "# retrieve authentication keys\n",
    "primary, secondary = service.get_keys()\n",
    "# print primary authenticaton key\n",
    "print('Primary Authentication Key: ' + primary)"
   ]
  },
  {
   "cell_type": "code",
   "execution_count": 59,
   "metadata": {
    "collapsed": true,
    "gather": {
     "logged": 1612806747921
    },
    "jupyter": {
     "outputs_hidden": false,
     "source_hidden": false
    },
    "nteract": {
     "transient": {
      "deleting": false
     }
    }
   },
   "outputs": [],
   "source": [
    "#Store the uri's in variables:\n",
    "\n",
    "scoring_uri = 'http://87897773-cb15-40d5-ba0d-ba8285d8f467.southcentralus.azurecontainer.io/score'\n",
    "\n",
    "key = 'iBX2glUB3xcahOndX5AW62WoVbRiDcIZ'"
   ]
  },
  {
   "cell_type": "code",
   "execution_count": 66,
   "metadata": {
    "gather": {
     "logged": 1612814619158
    }
   },
   "outputs": [
    {
     "name": "stdout",
     "output_type": "stream",
     "text": [
      "Classification Prediction: [0]\n",
      "Classification Prediction: [1]\n"
     ]
    }
   ],
   "source": [
    "#let's test requests:\n",
    "import json\n",
    "import requests\n",
    "\n",
    "scoring_uri = scoring_uri\n",
    "key = key\n",
    "\n",
    "headers = {'Content-Type':'application/json'}\n",
    "headers['Authorization'] = f'Bearer {key}'\n",
    "\n",
    "\n",
    "test_data = json.dumps({'data':[{\n",
    "    'pclass': 0.8419164182590155,\n",
    "    'age': -0.34907541344456255,\n",
    "    'sibsp': -0.47908676070718687,\n",
    "    'parch': -0.444999501816175,\n",
    "    'fare': -0.4902404567566683,\n",
    "    'age_NA': -0.5014319838391105,\n",
    "    'fare_NA': -0.027650063180466557,\n",
    "    'sex_male': 0.743496915331831,\n",
    "    'cabin_Missing': 0.5393765119990418,\n",
    "    'cabin_Rare': -0.42592011250734235,\n",
    "    'embarked_Q': -0.32204029159373954,\n",
    "    'embarked_Rare': -0.03911805059269843,\n",
    "    'embarked_S': 0.6573935670276714,\n",
    "    'title_Mr': 0.8525918887485938,\n",
    "    'title_Mrs': -0.42592011250734235,\n",
    "    'title_Rare': -0.27494677157229536\n",
    "    }\n",
    "    ]\n",
    "        })\n",
    "\n",
    "test_data2 = json.dumps({'data':[{\n",
    "    'pclass': -15460978645168200,\n",
    "    'age': 0.8912042887450313,\n",
    "    'sibsp': -0.47908676070718687,\n",
    "    'parch': -0.444999501816175,\n",
    "    'fare': 19569900306355100,\n",
    "    'age_NA': -0.5014319838391105,\n",
    "    'fare_NA': -0.027650063180466557,\n",
    "    'sex_male': -13449954927569300,\n",
    "    'cabin_Missing': -18539924853119600,\n",
    "    'cabin_Rare': 23478581326275300,\n",
    "    'embarked_Q': -0.32204029159373954,\n",
    "    'embarked_Rare': -0.03911805059269843,\n",
    "    'embarked_S': -15211587854766800,\n",
    "    'title_Mr': -11728941046668400,\n",
    "    'title_Mrs': -0.42592011250734235,\n",
    "    'title_Rare': -0.27494677157229536\n",
    "\n",
    "    }\n",
    "    ]\n",
    "        })\n",
    "\n",
    "\n",
    "response1 = requests.post(scoring_uri, data=test_data, headers=headers)\n",
    "response2 = requests.post(scoring_uri, data=test_data2, headers=headers)\n",
    "\n",
    "print(\"Classification Prediction:\",response1.text)\n",
    "print(\"Classification Prediction:\",response2.text)"
   ]
  },
  {
   "cell_type": "code",
   "execution_count": 64,
   "metadata": {
    "collapsed": true,
    "gather": {
     "logged": 1612811909768
    },
    "jupyter": {
     "outputs_hidden": false,
     "source_hidden": false
    },
    "nteract": {
     "transient": {
      "deleting": false
     }
    }
   },
   "outputs": [
    {
     "name": "stdout",
     "output_type": "stream",
     "text": [
      "packages channels:\n",
      "- anaconda\n",
      "- conda-forge\n",
      "- pytorch\n",
      "dependencies:\n",
      "- python=3.6.2\n",
      "- pip=20.2.4\n",
      "- pip:\n",
      "  - azureml-core==1.21.0.post1\n",
      "  - azureml-pipeline-core==1.21.0\n",
      "  - azureml-telemetry==1.21.0\n",
      "  - azureml-defaults==1.21.0\n",
      "  - azureml-interpret==1.21.0\n",
      "  - azureml-automl-core==1.21.0\n",
      "  - azureml-automl-runtime==1.21.0\n",
      "  - azureml-train-automl-client==1.21.0\n",
      "  - azureml-train-automl-runtime==1.21.0.post1\n",
      "  - azureml-dataset-runtime==1.21.0\n",
      "  - inference-schema\n",
      "  - py-cpuinfo==5.0.0\n",
      "  - boto3==1.15.18\n",
      "  - botocore==1.18.18\n",
      "- numpy~=1.18.0\n",
      "- scikit-learn==0.22.1\n",
      "- pandas~=0.25.0\n",
      "- py-xgboost<=0.90\n",
      "- fbprophet==0.5\n",
      "- holidays==0.9.11\n",
      "- setuptools-git\n",
      "- psutil>5.0.0,<6.0.0\n",
      "name: azureml_7ade26eb614f97df8030bc480da59236\n",
      "\n"
     ]
    }
   ],
   "source": [
    "#get the environment Details and stored them into a file:\n",
    "f = open(\"env.yml\", \"w\")\n",
    "f.write(env.python.conda_dependencies.serialize_to_string())\n",
    "f.close()\n",
    "\n",
    "print(\"packages\", env.python.conda_dependencies.serialize_to_string())"
   ]
  },
  {
   "cell_type": "code",
   "execution_count": null,
   "metadata": {
    "collapsed": true,
    "jupyter": {
     "outputs_hidden": false,
     "source_hidden": false
    },
    "nteract": {
     "transient": {
      "deleting": false
     }
    }
   },
   "outputs": [],
   "source": [
    "#Delete Service:\n",
    "service.delete()"
   ]
  },
  {
   "cell_type": "markdown",
   "metadata": {},
   "source": [
    "\n",
    "\n"
   ]
  }
 ],
 "metadata": {
  "kernel_info": {
   "name": "python3"
  },
  "kernelspec": {
   "display_name": "Python 3",
   "language": "python",
   "name": "python3"
  },
  "language_info": {
   "codemirror_mode": {
    "name": "ipython",
    "version": 3
   },
   "file_extension": ".py",
   "mimetype": "text/x-python",
   "name": "python",
   "nbconvert_exporter": "python",
   "pygments_lexer": "ipython3",
   "version": "3.8.3"
  },
  "nteract": {
   "version": "nteract-front-end@1.0.0"
  }
 },
 "nbformat": 4,
 "nbformat_minor": 2
}
